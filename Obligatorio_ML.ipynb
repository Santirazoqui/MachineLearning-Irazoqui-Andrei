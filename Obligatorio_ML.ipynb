{
  "nbformat": 4,
  "nbformat_minor": 0,
  "metadata": {
    "colab": {
      "provenance": []
    },
    "kernelspec": {
      "name": "python3",
      "display_name": "Python 3"
    },
    "language_info": {
      "name": "python"
    }
  },
  "cells": [
    {
      "cell_type": "code",
      "execution_count": 2,
      "metadata": {
        "id": "auJ2yClw527_"
      },
      "outputs": [],
      "source": [
        "import numpy as np\n",
        "import pandas as pd\n",
        "import matplotlib as mpl\n",
        "import matplotlib.pyplot as plt\n",
        "import seaborn as sns\n",
        "from scipy.stats.mstats import winsorize\n",
        "from google.colab import drive, files\n",
        "import io"
      ]
    },
    {
      "cell_type": "code",
      "source": [
        "train = pd.read_csv('train.csv')\n",
        "test = pd.read_csv('test_without_label.csv') ##Este no es el test que se usa para entrenar."
      ],
      "metadata": {
        "id": "iWGBDO-h62PG"
      },
      "execution_count": 3,
      "outputs": []
    },
    {
      "cell_type": "markdown",
      "source": [
        "# 1. Análisis de datos\n"
      ],
      "metadata": {
        "id": "EaSn9P3RGCUT"
      }
    },
    {
      "cell_type": "code",
      "source": [
        "train.columns"
      ],
      "metadata": {
        "id": "K-PB6FVgGBWu",
        "outputId": "d9580aea-ec82-46b7-93f0-1caeb5e5d39c",
        "colab": {
          "base_uri": "https://localhost:8080/"
        }
      },
      "execution_count": 4,
      "outputs": [
        {
          "output_type": "execute_result",
          "data": {
            "text/plain": [
              "Index(['id', 'tweet', 'label'], dtype='object')"
            ]
          },
          "metadata": {},
          "execution_count": 4
        }
      ]
    },
    {
      "cell_type": "code",
      "source": [
        "train.info"
      ],
      "metadata": {
        "id": "9kCuHh-8Gc2v",
        "outputId": "173dd88e-dc15-46bf-9769-30f77d7d96c1",
        "colab": {
          "base_uri": "https://localhost:8080/"
        }
      },
      "execution_count": 13,
      "outputs": [
        {
          "output_type": "execute_result",
          "data": {
            "text/plain": [
              "<bound method DataFrame.info of         id                                              tweet label\n",
              "0        1  Chinese converting to Islam after realising th...  fake\n",
              "1        2  11 out of 13 people (from the Diamond Princess...  fake\n",
              "2        3  COVID-19 Is Caused By A Bacterium, Not Virus A...  fake\n",
              "3        4  Mike Pence in RNC speech praises Donald Trump’...  fake\n",
              "4        5  6/10 Sky's @EdConwaySky explains the latest #C...  real\n",
              "...    ...                                                ...   ...\n",
              "8555  8556  A tiger tested positive for COVID-19 please st...  fake\n",
              "8556  8557  ???Autopsies prove that COVID-19 is??� a blood...  fake\n",
              "8557  8558  _A post claims a COVID-19 vaccine has already ...  fake\n",
              "8558  8559  Aamir Khan Donate 250 Cr. In PM Relief Cares Fund  fake\n",
              "8559  8560  It has been 93 days since the last case of COV...  real\n",
              "\n",
              "[8560 rows x 3 columns]>"
            ]
          },
          "metadata": {},
          "execution_count": 13
        }
      ]
    },
    {
      "cell_type": "code",
      "source": [
        "##confirmar nulos train.isnull().mean()"
      ],
      "metadata": {
        "id": "dITxvz01vr_L"
      },
      "execution_count": null,
      "outputs": []
    },
    {
      "cell_type": "markdown",
      "source": [
        "## Transformamos los datos en String:"
      ],
      "metadata": {
        "id": "w0qgIwXBtWNm"
      }
    },
    {
      "cell_type": "code",
      "source": [
        "train['id'] = train['id'].astype(str)\n",
        "train['tweet'] = train['tweet'].astype(str)\n",
        "train['label'] = train['label'].astype(str)\n",
        "##train['short_description'] = train['short_description'].astype(str)"
      ],
      "metadata": {
        "id": "PkEO6_NmeiCd"
      },
      "execution_count": null,
      "outputs": []
    },
    {
      "cell_type": "markdown",
      "source": [
        "## Información interesante del df:"
      ],
      "metadata": {
        "id": "dKdrWOzmwE0I"
      }
    },
    {
      "cell_type": "code",
      "source": [
        "sns.displot(train[\"label\"]);\n",
        "plt.title(\"label distribution\");"
      ],
      "metadata": {
        "id": "3sKnExMAeNkl",
        "outputId": "20ffdc29-006f-43da-bae7-73aa7e2ba9e6",
        "colab": {
          "base_uri": "https://localhost:8080/",
          "height": 385
        }
      },
      "execution_count": 12,
      "outputs": [
        {
          "output_type": "display_data",
          "data": {
            "text/plain": [
              "<Figure size 360x360 with 1 Axes>"
            ],
            "image/png": "[encoded data removed]"
          },
          "metadata": {
            "needs_background": "light"
          }
        }
      ]
    },
    {
      "cell_type": "code",
      "source": [
        "##Si pandas_profiling funciona mal:\n",
        "##!pip install pandas-profiling==2.7.1\n",
        "##!pip install https://github.com/pandas-profiling/pandas-profiling/archive/master.zip"
      ],
      "metadata": {
        "id": "YDw46SHYtnhL"
      },
      "execution_count": null,
      "outputs": []
    },
    {
      "cell_type": "code",
      "source": [
        "from pandas_profiling import ProfileReport\n",
        "\n",
        "profile = ProfileReport(train)\n",
        "\n",
        "profile"
      ],
      "metadata": {
        "id": "ELJSZvD6eN30"
      },
      "execution_count": null,
      "outputs": []
    },
    {
      "cell_type": "markdown",
      "source": [
        "### Sacamos el Id reptido\n"
      ],
      "metadata": {
        "id": "myo6GrEGyeXT"
      }
    },
    {
      "cell_type": "code",
      "source": [
        "train.drop(['id'], axis=1)\n",
        "train.set_index(\"id\", inplace = True)"
      ],
      "metadata": {
        "id": "aTtT3wl_ydiZ"
      },
      "execution_count": 17,
      "outputs": []
    },
    {
      "cell_type": "code",
      "source": [
        "train"
      ],
      "metadata": {
        "id": "yNn9vYrWy4xU",
        "outputId": "a5c24bb5-df35-4194-9759-bad32ca547ba",
        "colab": {
          "base_uri": "https://localhost:8080/",
          "height": 455
        }
      },
      "execution_count": 41,
      "outputs": [
        {
          "output_type": "execute_result",
          "data": {
            "text/plain": [
              "                                                  tweet label\n",
              "id                                                           \n",
              "1     Chinese converting to Islam after realising th...  fake\n",
              "2     11 out of 13 people (from the Diamond Princess...  fake\n",
              "3     COVID-19 Is Caused By A Bacterium, Not Virus A...  fake\n",
              "4     Mike Pence in RNC speech praises Donald Trump’...  fake\n",
              "5     6/10 Sky's @EdConwaySky explains the latest #C...  real\n",
              "...                                                 ...   ...\n",
              "8556  A tiger tested positive for COVID-19 please st...  fake\n",
              "8557  ???Autopsies prove that COVID-19 is??� a blood...  fake\n",
              "8558  _A post claims a COVID-19 vaccine has already ...  fake\n",
              "8559  Aamir Khan Donate 250 Cr. In PM Relief Cares Fund  fake\n",
              "8560  It has been 93 days since the last case of COV...  real\n",
              "\n",
              "[8560 rows x 2 columns]"
            ],
            "text/html": [
              "\n",
              "  <div id=\"df-af3eee32-f075-4951-aa66-3a51e683717b\">\n",
              "    <div class=\"colab-df-container\">\n",
              "      <div>\n",
              "<style scoped>\n",
              "    .dataframe tbody tr th:only-of-type {\n",
              "        vertical-align: middle;\n",
              "    }\n",
              "\n",
              "    .dataframe tbody tr th {\n",
              "        vertical-align: top;\n",
              "    }\n",
              "\n",
              "    .dataframe thead th {\n",
              "        text-align: right;\n",
              "    }\n",
              "</style>\n",
              "<table border=\"1\" class=\"dataframe\">\n",
              "  <thead>\n",
              "    <tr style=\"text-align: right;\">\n",
              "      <th></th>\n",
              "      <th>tweet</th>\n",
              "      <th>label</th>\n",
              "    </tr>\n",
              "    <tr>\n",
              "      <th>id</th>\n",
              "      <th></th>\n",
              "      <th></th>\n",
              "    </tr>\n",
              "  </thead>\n",
              "  <tbody>\n",
              "    <tr>\n",
              "      <th>1</th>\n",
              "      <td>Chinese converting to Islam after realising th...</td>\n",
              "      <td>fake</td>\n",
              "    </tr>\n",
              "    <tr>\n",
              "      <th>2</th>\n",
              "      <td>11 out of 13 people (from the Diamond Princess...</td>\n",
              "      <td>fake</td>\n",
              "    </tr>\n",
              "    <tr>\n",
              "      <th>3</th>\n",
              "      <td>COVID-19 Is Caused By A Bacterium, Not Virus A...</td>\n",
              "      <td>fake</td>\n",
              "    </tr>\n",
              "    <tr>\n",
              "      <th>4</th>\n",
              "      <td>Mike Pence in RNC speech praises Donald Trump’...</td>\n",
              "      <td>fake</td>\n",
              "    </tr>\n",
              "    <tr>\n",
              "      <th>5</th>\n",
              "      <td>6/10 Sky's @EdConwaySky explains the latest #C...</td>\n",
              "      <td>real</td>\n",
              "    </tr>\n",
              "    <tr>\n",
              "      <th>...</th>\n",
              "      <td>...</td>\n",
              "      <td>...</td>\n",
              "    </tr>\n",
              "    <tr>\n",
              "      <th>8556</th>\n",
              "      <td>A tiger tested positive for COVID-19 please st...</td>\n",
              "      <td>fake</td>\n",
              "    </tr>\n",
              "    <tr>\n",
              "      <th>8557</th>\n",
              "      <td>???Autopsies prove that COVID-19 is??� a blood...</td>\n",
              "      <td>fake</td>\n",
              "    </tr>\n",
              "    <tr>\n",
              "      <th>8558</th>\n",
              "      <td>_A post claims a COVID-19 vaccine has already ...</td>\n",
              "      <td>fake</td>\n",
              "    </tr>\n",
              "    <tr>\n",
              "      <th>8559</th>\n",
              "      <td>Aamir Khan Donate 250 Cr. In PM Relief Cares Fund</td>\n",
              "      <td>fake</td>\n",
              "    </tr>\n",
              "    <tr>\n",
              "      <th>8560</th>\n",
              "      <td>It has been 93 days since the last case of COV...</td>\n",
              "      <td>real</td>\n",
              "    </tr>\n",
              "  </tbody>\n",
              "</table>\n",
              "<p>8560 rows × 2 columns</p>\n",
              "</div>\n",
              "      <button class=\"colab-df-convert\" onclick=\"convertToInteractive('df-af3eee32-f075-4951-aa66-3a51e683717b')\"\n",
              "              title=\"Convert this dataframe to an interactive table.\"\n",
              "              style=\"display:none;\">\n",
              "        \n",
              "  <svg xmlns=\"http://www.w3.org/2000/svg\" height=\"24px\"viewBox=\"0 0 24 24\"\n",
              "       width=\"24px\">\n",
              "    <path d=\"M0 0h24v24H0V0z\" fill=\"none\"/>\n",
              "    <path d=\"M18.56 5.44l.94 2.06.94-2.06 2.06-.94-2.06-.94-.94-2.06-.94 2.06-2.06.94zm-11 1L8.5 8.5l.94-2.06 2.06-.94-2.06-.94L8.5 2.5l-.94 2.06-2.06.94zm10 10l.94 2.06.94-2.06 2.06-.94-2.06-.94-.94-2.06-.94 2.06-2.06.94z\"/><path d=\"M17.41 7.96l-1.37-1.37c-.4-.4-.92-.59-1.43-.59-.52 0-1.04.2-1.43.59L10.3 9.45l-7.72 7.72c-.78.78-.78 2.05 0 2.83L4 21.41c.39.39.9.59 1.41.59.51 0 1.02-.2 1.41-.59l7.78-7.78 2.81-2.81c.8-.78.8-2.07 0-2.86zM5.41 20L4 18.59l7.72-7.72 1.47 1.35L5.41 20z\"/>\n",
              "  </svg>\n",
              "      </button>\n",
              "      \n",
              "  <style>\n",
              "    .colab-df-container {\n",
              "      display:flex;\n",
              "      flex-wrap:wrap;\n",
              "      gap: 12px;\n",
              "    }\n",
              "\n",
              "    .colab-df-convert {\n",
              "      background-color: #E8F0FE;\n",
              "      border: none;\n",
              "      border-radius: 50%;\n",
              "      cursor: pointer;\n",
              "      display: none;\n",
              "      fill: #1967D2;\n",
              "      height: 32px;\n",
              "      padding: 0 0 0 0;\n",
              "      width: 32px;\n",
              "    }\n",
              "\n",
              "    .colab-df-convert:hover {\n",
              "      background-color: #E2EBFA;\n",
              "      box-shadow: 0px 1px 2px rgba(60, 64, 67, 0.3), 0px 1px 3px 1px rgba(60, 64, 67, 0.15);\n",
              "      fill: #174EA6;\n",
              "    }\n",
              "\n",
              "    [theme=dark] .colab-df-convert {\n",
              "      background-color: #3B4455;\n",
              "      fill: #D2E3FC;\n",
              "    }\n",
              "\n",
              "    [theme=dark] .colab-df-convert:hover {\n",
              "      background-color: #434B5C;\n",
              "      box-shadow: 0px 1px 3px 1px rgba(0, 0, 0, 0.15);\n",
              "      filter: drop-shadow(0px 1px 2px rgba(0, 0, 0, 0.3));\n",
              "      fill: #FFFFFF;\n",
              "    }\n",
              "  </style>\n",
              "\n",
              "      <script>\n",
              "        const buttonEl =\n",
              "          document.querySelector('#df-af3eee32-f075-4951-aa66-3a51e683717b button.colab-df-convert');\n",
              "        buttonEl.style.display =\n",
              "          google.colab.kernel.accessAllowed ? 'block' : 'none';\n",
              "\n",
              "        async function convertToInteractive(key) {\n",
              "          const element = document.querySelector('#df-af3eee32-f075-4951-aa66-3a51e683717b');\n",
              "          const dataTable =\n",
              "            await google.colab.kernel.invokeFunction('convertToInteractive',\n",
              "                                                     [key], {});\n",
              "          if (!dataTable) return;\n",
              "\n",
              "          const docLinkHtml = 'Like what you see? Visit the ' +\n",
              "            '<a target=\"_blank\" href=https://colab.research.google.com/notebooks/data_table.ipynb>data table notebook</a>'\n",
              "            + ' to learn more about interactive tables.';\n",
              "          element.innerHTML = '';\n",
              "          dataTable['output_type'] = 'display_data';\n",
              "          await google.colab.output.renderOutput(dataTable, element);\n",
              "          const docLink = document.createElement('div');\n",
              "          docLink.innerHTML = docLinkHtml;\n",
              "          element.appendChild(docLink);\n",
              "        }\n",
              "      </script>\n",
              "    </div>\n",
              "  </div>\n",
              "  "
            ]
          },
          "metadata": {},
          "execution_count": 41
        }
      ]
    },
    {
      "cell_type": "code",
      "source": [
        "## Agregar columnas y sacar largo de string\n",
        "##train['Tweet lenght'] = train[\"tweet\"].str.len()\n",
        "##train.columns.append(\"Length\", int);"
      ],
      "metadata": {
        "id": "keiajmFGzPhN"
      },
      "execution_count": 42,
      "outputs": []
    },
    {
      "cell_type": "code",
      "source": [],
      "metadata": {
        "id": "37VdD69p4Y-4"
      },
      "execution_count": null,
      "outputs": []
    },
    {
      "cell_type": "markdown",
      "source": [
        "# 2. Train y Validation"
      ],
      "metadata": {
        "id": "_l5gR2I2xkEA"
      }
    },
    {
      "cell_type": "code",
      "source": [
        "from sklearn.model_selection import train_test_split\n",
        "\n",
        "X_train, X_test, Y_train, Y_test = train_test_split(\n",
        "    train.drop('label', axis=1),\n",
        "    train['label'],\n",
        "    test_size=(1.0/3), random_state=42)\n",
        "\n",
        "print(f'X_Data shape = {train.shape}')\n",
        "print(f'X_train shape = {X_train.shape}\\n{X_train.head()}\\n------------------------')\n",
        "print(f'Y_train shape = {Y_train.shape}\\n{Y_train.head()}\\n------------------------')\n",
        "print(f'X_test shape = {X_test.shape}\\n{X_test.head()}\\n------------------------')\n",
        "print(f'Y_test shape = {Y_test.shape}\\n{Y_test.head()}')"
      ],
      "metadata": {
        "id": "iJm7QNdVxoAK",
        "outputId": "583793d0-f352-488e-f212-d3f80de82b48",
        "colab": {
          "base_uri": "https://localhost:8080/"
        }
      },
      "execution_count": 39,
      "outputs": [
        {
          "output_type": "stream",
          "name": "stdout",
          "text": [
            "X_Data shape = (8560, 2)\n",
            "X_train shape = (5706, 1)\n",
            "                                                  tweet\n",
            "id                                                     \n",
            "5685  #IndiaFightsCorona: 📍Guidelines for phased re-...\n",
            "2927  @ImDanThompson No. This is exactly how it was ...\n",
            "5900  Jenny McCarthy Develops Covid-19 Vaccine https...\n",
            "6670  RT @WHO: Airborne #COVID19 transmission can oc...\n",
            "1936  Officials release edited coronavirus reopening...\n",
            "------------------------\n",
            "Y_train shape = (5706,)\n",
            "id\n",
            "5685    real\n",
            "2927    fake\n",
            "5900    fake\n",
            "6670    real\n",
            "1936    fake\n",
            "Name: label, dtype: object\n",
            "------------------------\n",
            "X_test shape = (2854, 1)\n",
            "                                                  tweet\n",
            "id                                                     \n",
            "6365  Since then the large number of meatpacking out...\n",
            "4410  Help stop the domino chain of #COVID19 infecti...\n",
            "4396  @ImTheRealDMac @lowerthetemp In some places it...\n",
            "8495  Our daily update is published. We’ve now track...\n",
            "2606  Seen those pictures of dolphins and swans retu...\n",
            "------------------------\n",
            "Y_test shape = (2854,)\n",
            "id\n",
            "6365    real\n",
            "4410    real\n",
            "4396    real\n",
            "8495    real\n",
            "2606    fake\n",
            "Name: label, dtype: object\n"
          ]
        }
      ]
    },
    {
      "cell_type": "code",
      "source": [
        "#https://www.geeksforgeeks.org/stratified-k-fold-cross-validation/\n",
        "\n",
        "\n",
        "\n",
        "##skf= StratifiedKFold(5, shuffle=true,random_state=1)\n",
        "##cross_val_score(clf,x_clf,y_clf,cv=skf,scoring='accuracy')"
      ],
      "metadata": {
        "id": "KVeGB0Dg3bMd"
      },
      "execution_count": null,
      "outputs": []
    },
    {
      "cell_type": "markdown",
      "source": [
        "# 3. Preprocesamiento básico"
      ],
      "metadata": {
        "id": "PSSJSvM3AnuB"
      }
    },
    {
      "cell_type": "code",
      "source": [],
      "metadata": {
        "id": "QMQoBCiMArA_"
      },
      "execution_count": null,
      "outputs": []
    }
  ]
}