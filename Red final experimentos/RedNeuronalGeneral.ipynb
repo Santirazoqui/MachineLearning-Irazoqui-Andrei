{
  "cells": [
    {
      "cell_type": "code",
      "execution_count": 1,
      "metadata": {
        "id": "auJ2yClw527_"
      },
      "outputs": [],
      "source": [
        "import numpy as np\n",
        "import pandas as pd\n",
        "import matplotlib as mpl\n",
        "import matplotlib.pyplot as plt\n",
        "import seaborn as sns\n",
        "from scipy.stats.mstats import winsorize\n",
        "from google.colab import drive, files\n",
        "import io"
      ]
    },
    {
      "cell_type": "markdown",
      "source": [
        "# Cargar datos y dividir dataset"
      ],
      "metadata": {
        "id": "rBFpCmouf3Z9"
      }
    },
    {
      "cell_type": "code",
      "source": [
        "from tensorflow.random import set_seed\n",
        "set_seed(234730)"
      ],
      "metadata": {
        "id": "iRskxHDSvIB1"
      },
      "execution_count": 201,
      "outputs": []
    },
    {
      "cell_type": "code",
      "source": [
        "from google.colab import drive\n",
        "drive.mount('/content/drive')\n",
        "train = pd.read_csv(\"/content/drive/MyDrive/train.csv\")\n",
        "test = pd.read_csv(\"/content/drive/MyDrive/test_without_label.csv\")"
      ],
      "metadata": {
        "id": "EDu6L8kKvMio",
        "colab": {
          "base_uri": "https://localhost:8080/"
        },
        "outputId": "f0fd692e-565e-41cc-e0cb-3af4387e60b1"
      },
      "execution_count": 202,
      "outputs": [
        {
          "output_type": "stream",
          "name": "stdout",
          "text": [
            "Drive already mounted at /content/drive; to attempt to forcibly remount, call drive.mount(\"/content/drive\", force_remount=True).\n"
          ]
        }
      ]
    },
    {
      "cell_type": "code",
      "source": [
        "train['id'] = train['id'].astype(str)\n",
        "train['tweet'] = train['tweet'].astype(str)\n",
        "train['label'] = train['label'].astype(str)"
      ],
      "metadata": {
        "id": "8bBGRjnTxdsG"
      },
      "execution_count": 203,
      "outputs": []
    },
    {
      "cell_type": "code",
      "source": [
        "train.drop(['id'], axis=1)\n",
        "train.set_index(\"id\", inplace = True)"
      ],
      "metadata": {
        "id": "XwO2hMspxjLi"
      },
      "execution_count": 204,
      "outputs": []
    },
    {
      "cell_type": "code",
      "source": [
        "from sklearn.preprocessing import LabelEncoder\n",
        "label_encoder = LabelEncoder()\n",
        "# parseo de category\n",
        "train[['label']] = train[['label']].apply(lambda col: label_encoder.fit_transform(col))"
      ],
      "metadata": {
        "id": "yI7GxIR9W6xB"
      },
      "execution_count": 205,
      "outputs": []
    },
    {
      "cell_type": "markdown",
      "source": [
        "# Stopwords, lemmatize, punctuacion\n",
        "Hay muchas palabras que estan repetidas como \"august\", \"august,\", \"august.\", \"august:\", etc. Para resolver esto vamos a sacar la punctuación antes de hacer el lemmatizer. Por ahora vamos a dejar algunos símbolos como los \"#\", quizas los hastags pueden tener información importante.\n",
        "\n",
        "Como en el órden de ejecución del CountVectorizer primero se hace el lemmatizing,  no podemos ponerlo en las stop words. Por lo tanto lo vamos a hacer en el mismo método de lemmatizing."
      ],
      "metadata": {
        "id": "fv52mEwudEkW"
      }
    },
    {
      "cell_type": "code",
      "source": [
        "from sklearn.feature_extraction.text import TfidfVectorizer\n",
        "from nltk.stem import WordNetLemmatizer\n",
        "import nltk\n",
        "\n",
        "nltk.download('wordnet')\n",
        "Lemmatizer = WordNetLemmatizer()\n",
        "#analyzer = CountVectorizer().build_analyzer()\n",
        "\n",
        "from zipfile import ZipFile\n",
        "file_loc = '/root/nltk_data/corpora/wordnet.zip'\n",
        "with ZipFile(file_loc, 'r') as z:\n",
        "  z.extractall('/root/nltk_data/corpora/')"
      ],
      "metadata": {
        "id": "q_vBq9se2qMb",
        "colab": {
          "base_uri": "https://localhost:8080/"
        },
        "outputId": "63a45d06-0bbb-4bcc-df32-091e73c3baac"
      },
      "execution_count": 239,
      "outputs": [
        {
          "output_type": "stream",
          "name": "stderr",
          "text": [
            "[nltk_data] Downloading package wordnet to /root/nltk_data...\n",
            "[nltk_data]   Package wordnet is already up-to-date!\n"
          ]
        }
      ]
    },
    {
      "cell_type": "code",
      "source": [
        "#₹$€\n",
        "All_punct = '''!()-–—•…[]{};:'\"“”‘’\\,<>./?%^&*_~'''\n",
        "#Separators ='₹$€'\n",
        "#CountVectorizer con stopwords de Natural Language Toolkit\n",
        "nltk.download('stopwords')\n",
        "emojis = \"💺🔑💚ℹ️↗️⏺️🔽▪️◾▶️☎️☑☺⚖️⛪✅✈✉️✔️❄️❌❌❗❤️➡➡️�🆕￼🆙🌍🌐🏠🏪🏥🏫👇👉👉🏾👨🧑🧒👩⚕️💉💊📃📈📉📍📏📢📨📺🔰🔴🔹️🕌🕐🕖🕘🕗😷🙏🚶♀️🛡️🟢🤔😖😱😎😢😞😧😣😅😂🙄🤱🏿🥼🧤🧪📱🙊📣🇿🇲🌎🌎🌏🍔🎧💦🐍🐕👀👍👏👦👧👦🙌🚍🚎🚓🚨🚫🟠🟡🥡🥫🦟🧑🧔🧫🧬\"\n",
        "\n",
        "def is_Not_Link(word):\n",
        "  return word[0:4] != \"http\"\n",
        "\n",
        "def remove_Punctuation(doc_split):\n",
        "  for i in range(len(doc_split)):\n",
        "    word = doc_split[i];\n",
        "    if is_Not_Link(word):\n",
        "      for elements in word:\n",
        "        if elements in All_punct:\n",
        "          word = word.replace(elements, \"\")\n",
        "          doc_split[i] = word\n",
        "  return doc_split\n",
        "\n",
        "def remove_Stopwords(doc_split):\n",
        "  doc_with_Stopwords = doc_split.copy();\n",
        "  for i in range(len(doc_split)):\n",
        "    word = doc_split[i];\n",
        "    if word in nltk.corpus.stopwords.words('english'):\n",
        "      doc_with_Stopwords.remove(word);\n",
        "\n",
        "  return doc_with_Stopwords\n",
        "\n",
        "def separate_Emojis(doc_split):\n",
        "  doc_with_Emojis = doc_split.copy();\n",
        "  for i in range(len(doc_split)):\n",
        "    word = doc_split[i];\n",
        "    for elements in word:\n",
        "        if elements in emojis:\n",
        "          doc_with_Emojis.append(elements)\n",
        "          word = word.replace(elements, \"\")\n",
        "          doc_with_Emojis[i] = word\n",
        "  return doc_with_Emojis"
      ],
      "metadata": {
        "colab": {
          "base_uri": "https://localhost:8080/"
        },
        "id": "XV02dxaTsbyP",
        "outputId": "5e1f1350-2f96-4320-dc36-e96f3bd58c8c"
      },
      "execution_count": 240,
      "outputs": [
        {
          "output_type": "stream",
          "name": "stderr",
          "text": [
            "[nltk_data] Downloading package stopwords to /root/nltk_data...\n",
            "[nltk_data]   Package stopwords is already up-to-date!\n"
          ]
        }
      ]
    },
    {
      "cell_type": "code",
      "source": [
        "arabic = ['आँकड़ा', 'इस', 'कर', 'करने', 'के', 'को', 'ख़त्म', 'छोटी', 'जड़', 'ज़रूरी', 'जाएगा।', 'देश', 'पार', 'बहुत', 'में', 'लिए', 'सावधानियाँ', 'सी', 'से', 'हफ़्ते', 'हमारे', 'है']\n",
        "chinese = ['監獄絕食抗議', '被監視居住']"
      ],
      "metadata": {
        "id": "l_dhgk-eeEjG"
      },
      "execution_count": 241,
      "outputs": []
    },
    {
      "cell_type": "code",
      "source": [
        "def remove_Foreign_Languages(doc_split):\n",
        "  doc_without_Languages = doc_split.copy();\n",
        "  for i in range(len(doc_split)):\n",
        "    word = doc_split[i];\n",
        "    if (word in arabic) or (word in chinese):\n",
        "      doc_without_Languages.remove(word);\n",
        "\n",
        "  return doc_without_Languages"
      ],
      "metadata": {
        "id": "NJl_4_Lie_BF"
      },
      "execution_count": 242,
      "outputs": []
    },
    {
      "cell_type": "code",
      "source": [
        "def new_analyzer(doc):\n",
        "  doc_split = doc.split();\n",
        "  doc_split = remove_Punctuation(doc_split);\n",
        "  doc_split = separate_Emojis(doc_split);\n",
        "  doc_split = remove_Stopwords(doc_split);\n",
        "  doc_split = remove_Foreign_Languages(doc_split);\n",
        "  return (Lemmatizer.lemmatize(w.lower()) for w in doc_split);\n",
        "\n",
        "nltk.download('omw-1.4')"
      ],
      "metadata": {
        "colab": {
          "base_uri": "https://localhost:8080/"
        },
        "id": "CmPnRp0XecV9",
        "outputId": "1971ad59-4489-4b08-9afc-171ff272a731"
      },
      "execution_count": 243,
      "outputs": [
        {
          "output_type": "stream",
          "name": "stderr",
          "text": [
            "[nltk_data] Downloading package omw-1.4 to /root/nltk_data...\n",
            "[nltk_data]   Package omw-1.4 is already up-to-date!\n"
          ]
        },
        {
          "output_type": "execute_result",
          "data": {
            "text/plain": [
              "True"
            ]
          },
          "metadata": {},
          "execution_count": 243
        }
      ]
    },
    {
      "cell_type": "code",
      "source": [
        "All_punct[5]"
      ],
      "metadata": {
        "colab": {
          "base_uri": "https://localhost:8080/",
          "height": 35
        },
        "id": "LjwlU1sLVx4e",
        "outputId": "2cd5eeea-ebd2-4031-f3fb-0620dc25d340"
      },
      "execution_count": 244,
      "outputs": [
        {
          "output_type": "execute_result",
          "data": {
            "text/plain": [
              "'—'"
            ],
            "application/vnd.google.colaboratory.intrinsic+json": {
              "type": "string"
            }
          },
          "metadata": {},
          "execution_count": 244
        }
      ]
    },
    {
      "cell_type": "markdown",
      "source": [
        "# Ingenieria de atributos"
      ],
      "metadata": {
        "id": "sReTyoQ6OFv3"
      }
    },
    {
      "cell_type": "code",
      "source": [
        "letters = \"abcdefghijklmnñopqrstuvwxyz\"\n",
        "def contarLetras(row):\n",
        "  count = 0;\n",
        "  for letter in row['tweet']:\n",
        "    if letter in letters:\n",
        "      count = count +1;\n",
        "  return count\n",
        "\n",
        "def contarCovid(row):\n",
        "  count = 0;\n",
        "  if \"covid\" in row['tweet']:\n",
        "    return 1\n",
        "  return 0\n",
        "\n",
        "def contarHashtags(row):\n",
        "  count = 0;\n",
        "  for letter in row['tweet']:\n",
        "    if letter == \"#\":\n",
        "      count = count +1;\n",
        "  return count * 10\n",
        "\n",
        "emojis = \"💺🔑💚ℹ️↗️⏺️🔽▪️◾▶️☎️☑☺⚖️⛪✅✈✉️✔️❄️❌❌❗❤️➡➡️�🆕🆙🌍🌐🏠🏪🏥🏫👇👉👉🏾👨🧑🧒👩⚕️💉💊📃📈📉📍📏📢📨📺🔰🔴🔹️🕌🕐🕖🕘🕗😷🙏🚶♀️🛡️🟢🤔😖😱😎😢😞😧😣😅😂🙄🤱🏿🥼🧤🧪📱🙊📣🇿🇲🌎🌎🌏🍔🎧💦🐍🐕👀👍👏👦👧👦🙌🚍🚎🚓🚨🚫🟠🟡🥡🥫🦟🧑🧔🧫🧬\"\n",
        "def contarEmojis(row):\n",
        "  count = 0;\n",
        "  for letter in row['tweet']:\n",
        "    if letter in emojis:\n",
        "      count = count + 1\n",
        "  return count"
      ],
      "metadata": {
        "id": "71xXnfVT0dKE"
      },
      "execution_count": 245,
      "outputs": []
    },
    {
      "cell_type": "code",
      "source": [
        "train['largoDocumento'] = train.tweet.str.len()\n",
        "train['CantidadPalabras'] = train.apply(lambda row : len(row['tweet'].split()), axis=1)\n",
        "train['cantidad de letras'] = train.apply(lambda row : contarLetras(row), axis=1)\n",
        "train['cantidad de covid'] = train.apply(lambda row : contarLetras(row), axis=1)\n",
        "train['cantidad de hashtag'] = train.apply(lambda row : contarHashtags(row), axis=1)\n",
        "train['cantidad de emojis'] = train.apply(lambda row : contarEmojis(row), axis=1)"
      ],
      "metadata": {
        "id": "3dGgC6kpOX52"
      },
      "execution_count": 246,
      "outputs": []
    },
    {
      "cell_type": "markdown",
      "source": [
        "# Train / Validation\n",
        "Al final de la ingeniería dividimoms en train y validation"
      ],
      "metadata": {
        "id": "lJcxI3B8Pv7c"
      }
    },
    {
      "cell_type": "code",
      "source": [
        "from sklearn.model_selection import train_test_split\n",
        "\n",
        "X_train, X_validation, Y_train, Y_validation = train_test_split(\n",
        "    train.drop('label', axis=1),\n",
        "    train['label'],\n",
        "    test_size=(1.0/3), random_state=42)"
      ],
      "metadata": {
        "id": "FXppDGXJxsy2"
      },
      "execution_count": 247,
      "outputs": []
    },
    {
      "cell_type": "markdown",
      "source": [
        "## Fit"
      ],
      "metadata": {
        "id": "1Sqi2438Ibd5"
      }
    },
    {
      "cell_type": "code",
      "source": [
        "TF_IDF_Vectorizer = TfidfVectorizer(analyzer=new_analyzer, max_features=15000)\n",
        "bag_of_words = TF_IDF_Vectorizer.fit(X_train[\"tweet\"])\n",
        "bag_of_words_fitted = bag_of_words\n",
        "print(bag_of_words.get_feature_names())"
      ],
      "metadata": {
        "colab": {
          "base_uri": "https://localhost:8080/"
        },
        "id": "-aBmH9uJtACD",
        "outputId": "d90135dc-a10b-41f5-8aab-3167d6c9591f"
      },
      "execution_count": 248,
      "outputs": [
        {
          "output_type": "stream",
          "name": "stdout",
          "text": [
            "['', '#', '##3600mg', '#1', '#2', '#2020presidentialelection', '#21dayschallenge', '#21dayslockdown', '#251', '#46', '#a', '#ableg', '#achristmascarol', '#acog2020', '#active', '#activecases', '#actnow', '#acuteflaccidmyelitis', '#afaracare', '#afoolat60', '#ahmedabad', '#airline', '#aliens', '#allergies', '#alllivesmatter', '#alzheimers', '#amazon', '#america', '#amitabhbachchan', '#andhrapradesh', '#anteater', '#antibiotics', '#aoc', '#apocalypse', '#appeal', '#area', '#arrestfauci', '#arrestgates', '#arunachalpradesh', '#arvindkejriwal', '#asco20', '#ashas', '#asians', '#asymptomatic', '#athens', '#auspol', '#autism', '#autoimmune', '#avifavir', '#aworldindisorder', '#azimpremji', '#backtoschool', '#bacteria', '#bailout', '#bankerhaipolicenahi', '#baptism', '#barackobama', '#baseball', '#basketball', '#be', '#beatncds', '#beer', '#bengali', '#berniesanders', '#bharatbiotech', '#bigpharmapuppets', '#bihar', '#binaxnow', '#bioweapon', '#boycottchineseproduct', '#boycottmadeinchina', '#breakfast', '#breakin', '#breaking', '#breakinghot', '#breastfeed', '#bronxzoo', '#brooklyn', '#buddhism', '#bulls', '#burgerking', '#burglars', '#burrgate', '#business', '#c19', '#californ', '#california', '#canada', '#cancelcacsexams', '#cancer', '#cardiotwitter', '#caregivers', '#carona', '#cases', '#cashewchicken', '#ccc19', '#ccp', '#ccpvirus', '#cdc', '#cdcgrandrounds', '#cdctravelnotice', '#cdnpoli', '#cdntv', '#celebrities', '#cerb', '#chandigarh', '#charleslieber', '#cheating', '#chennai', '#chenqiushi', '#children', '#china', '#china@drtedros', '#chinacoronavirus', '#chinaindiafaceoff', '#chinese', '#chinesecommunistparty', '#chinesevirus', '#chloroquine', '#christmas', '#cia', '#classof2020', '#clinicaltrials', '#clinicians', '#codecheck', '#coevolution', '#coexistence', '#colorado', '#computers', '#connecticut', '#conspiracy', '#conspiracytheories', '#contacttracing', '#containmentzones', '#convalescent', '#cornavirusfacts', '#corona', '#coronabeer', '#coronacheck', '#coronainpakistan', '#coronaoutbreak', '#coronaupdate', '#coronaupdates', '#coronaupdatesindia', '#coronaupdatesinindia', '#coronavacccine', '#coronavaccine', '#coronavirus', '#coronaviruscanada', '#coronavirusfacts', '#coronavirusincontext', '#coronavirusindia', '#coronaviruslockdown', '#coronavirusoutbreak', '#coronaviruspandemic', '#coronavirustruth', '#coronavirusupdate', '#coronavirusupdates', '#coronavirususa', '#coronawarriors', '#coronawatch', '#coronil', '#corononavirus', '#coronovirus', '#corruption', '#covax', '#covaxin', '#covaxine', '#covid', '#covid1', '#covid19', '#covid19@drtedros', '#covid19affected', '#covid19asserts', '#covid19associated', '#covid19india', '#covid19like', '#covid19my', '#covid19nc', '#covid19nigeria', '#covid19nz', '#covid19pakistan', '#covid19pandemic', '#covid19related', '#covid19science', '#covid19toronto', '#covid19updates', '#covid19vaccine', '#covid2019', '#covidactnow', '#covidcanada', '#covidindiaseva', '#covidlockdown', '#covidpandemic', '#covidstopswithme', '#covidtesting', '#covidupdate', '#covidupdates', '#covidview', '#covidwarriors', '#covidwarriortips', '#covidー19', '#cowurinesteambar', '#cpd', '#criminals', '#crook', '#cruise', '#cruiseships', '#cure', '#curfewinindia', '#dallascowboys', '#data', '#datoscoronavirus', '#day2lockdown', '#dearicaitake', '#death', '#defense', '#delhi', '#delhifightscorona', '#dementia', '#democrats', '#denmark', '#dexamethasone', '#dialysis', '#diapers', '#dictatorship', '#disease', '#diseasedetective', '#disinfectant', '#disney', '#dna', '#domesticviolence', '#donaldtrump', '#doortodoordeworming', '#doublingrate', '#doyourpart', '#dranthonyfauci', '#drugs', '#duckdynasty', '#dyk', '#ears', '#easyoff', '#ebolavirus', '#echinacea', '#economy', '#eha2020', '#eidaladha', '#elonmusk', '#endtb', '#epass', '#epidemic', '#erscongress', '#esccongress', '#essentialworker', '#eular2020', '#evin', '#evinindia', '#exercise', '#facebook', '#facecover', '#facemask', '#facemasks', '#factcheck', '#factchecking', '#factsmatter', '#fake', '#fakenews', '#fakenewsalert', '#families', '#family', '#famine', '#fangbin', '#faq', '#fatality', '#fatalityrate', '#fauci', '#favipiravir', '#fbi', '#fda', '#febreeze', '#feelbetter', '#feeling', '#fidelcastro', '#fightagainstcoronavirus', '#fightflu', '#firefighters', '#fitness', '#flattenthecurve', '#flight', '#florida', '#flu', '#foghornleghorn', '#food', '#foodsafety', '#foodshortages', '#footballamerican', '#ford', '#fourthofjuly', '#foxnews', '#freedom', '#friendship', '#fullyimmunizeeverychild', '#fun', '#gandhinagar', '#gaumutrsteaming', '#gautambuddhnagar', '#germs', '#ghaziabad', '#globalwarming', '#god', '#godelhiites', '#goingbust', '#golf', '#government', '#governor', '#goyabeans', '#grafitti', '#great', '#greece🇬🇷', '#groupies', '#gujarat', '#gujaratcoronaupdate', '#gurugram', '#guyana', '#hairstylist', '#hallmark', '#hamburger', '#hands', '#handwashing', '#hantavirus', '#harrymaguire', '#harvarduniversity', '#haryana', '#hcp', '#hcps', '#hcq', '#health', '#healthcare', '#healthequity', '#healthforall', '#healthoverexams', '#healthworkers', '#healthy', '#healthylife', '#heartattacks', '#heat', '#heidiklum', '#heneryhawk', '#himachalpradesh', '#hit2equity', '#hitsolutions', '#hiv', '#hoarding', '#hockey', '#hollywood', '#homeisolation', '#homelessness', '#homemade', '#homeopathic', '#homequarantine', '#hongkongs', '#howwehospitalist', '#huaweiwatchgt2', '#hurricane', '#hurricanelaura', '#hydroxychloroquine', '#hypertension', '#ibs', '#icairespondnow', '#icmrfightscovid19', '#icu', '#igot', '#illegalimmigrants', '#immunesystem', '#immunity', '#immunitybooster', '#immunizationforall', '#impeachment', '#importantinformation', '#incontext', '#india', '#indiafightscirona', '#indiafightscorona', '#indiafightscoronavirus', '#indiafightscovid19', '#indiawillwin', '#indigo', '#infections', '#inflammation', '#ingenuity', '#institutionalquarantine', '#introvert', '#ireland', '#irony', '#istandwithmashpee', '#italy', '#iud', '#jamalkhashoggi', '#japan', '#jaredkushner', '#jarkhand', '#jennymccarthy', '#jharkhand', '#jlo', '#jobs', '#johntravolta', '#josephbiden', '#journalist', '#kag', '#kano', '#karakaxlist', '#karnataka', '#karnatakas', '#kayburley', '#keeppushing', '#keithholdskeytovirusvaccine', '#kerala', '#kidneytransplant', '#kids', '#killingvirus', '#kishanganj', '#kitchen', '#knowthefacts', '#kolkataairport', '#laborday', '#lachupacabra', '#lakshadweep', '#language', '#laura', '#lcsm', '#lego', '#lgbtquarantine', '#lies', '#life', '#list', '#livelife', '#lockdown', '#lockdown2', '#lockdown21', '#lockdown4', '#lockdownextension', '#lockdownnow', '#lockdownquery', '#london', '#louisiana', '#lucknow', '#lysol', '#madhyapradesh', '#maga', '#maharashtra', '#maharastra', '#mailinvoting', '#mainbhinewschecker', '#majorleaguebaseball', '#makhi', '#malaria', '#malnutrition', '#malpractice', '#manafort', '#manipur', '#marchmadness', '#marijuana', '#mascot', '#mask', '#maskingforafriend', '#maskonnaija', '#masks', '#mauritius', '#mayans', '#meat', '#media', '#medical', '#medicaldoctor', '#medicines', '#medtwitter', '#mentalhealth', '#mergecaexamsjulyandnov', '#metformin', '#metro', '#metrobackontrack', '#mexico', '#michigan', '#minnesota', '#miraclesoftrueworship', '#missiles', '#missionkarmayog', '#mitchmcconnell', '#mizoram', '#modicovidaddress', '#modigovtfailed', '#modijipostponejeeneet', '#money', '#moneylaundering', '#morningmotivation', '#mother', '#mouthwash', '#movies', '#mrna', '#msvirtual2020', '#mumbai', '#muradabad', '#n95', '#nagpur', '#nails', '#nancypelosi', '#napoleon', '#nashville', '#nba', '#ncdcinthenews', '#ncdclabnetwork', '#ncdcrrt', '#ncdcteam', '#ncdhhs', '#ncpol', '#nepotism', '#newhampshire', '#news', '#newschecker', '#newsinphoto', '#newssatire', '#newyork', '#newyorkcity', '#newyorktimes', '#newzealand', '#nhl', '#nigeria', '#nigerian', '#nigerians', '#noahsark', '#noida', '#norway', '#notdying4wallstreet', '#notmypresident', '#novel', '#nursinghome', '#nyc', '#obamagate', '#obesewomen', '#oct1stprotest', '#odisha', '#odishafightscorona', '#office', '#officialsecretsact', '#ohio', '#olympicgames', '#online', '#onpoli', '#opthalmology', '#orlando', '#oslo', '#panamacanal', '#pandas', '#pandemic', '#panic', '#panicbuying', '#parasites', '#parent', '#parents', '#patientzero', '#pcrtest', '#peepingtom', '#philrobertson', '#physicaldistance', '#physique', '#pibfactcheck', '#placebopills', '#plandemic', '#plasmatherapy', '#plastic', '#pmqs', '#pmsby', '#poker', '#politicalcorrectness', '#politicians', '#politics', '#pope', '#potsales', '#potus', '#ppe', '#prep', '#prescriptions', '#preventcovid19', '#prevention', '#prioritycovidresearch', '#privacy', '#propaganda', '#property', '#prostatecancer', '#ptfcovid19', '#pti', '#pui', '#qanda', '#quarantine', '#queens', '#rackets', '#rajahthan', '#rajasthan', '#rapidantigentest', '#rc70afro', '#recession', '#recoveryrate', '#religion', '#remdesivir', '#remedy', '#rentfreezenow', '#reopeningsafely', '#reopensafely', '#republicans', '#research', '#revolutionnow', '#rheaarrested', '#rice', '#richardnixon', '#ridge', '#rnc2020', '#roadtrips', '#rockandrollvaccine', '#rollingstones', '#rollingstonevaccineforcv', '#rpharmcoronavir', '#rtpcr', '#russia', '#russiaeverywhere', '#russianvaccine', '#russie', '#sacrifice', '#safe', '#safetyfirst', '#sally', '#sam2020', '#santa', '#sarscov2', '#satire', '#saturdaynightfever', '#saudiarabia', '#school', '#schoolsreopening', '#schwabeindia', '#science', '#seanhannity', '#selfcare', '#selfisolation', '#sens', '#sepsis', '#sex', '#sexyteens', '#share', '#sheep', '#sickness', '#simoncowell', '#sitamarhi', '#slowthespread', '#smallpox', '#smartnews', '#socialdistance', '#socialdistancing', '#sofi2020', '#sofiavergara', '#southcarolina', '#southdelhi', '#spain', '#spokesman', '#sponsors', '#sport', '#sports', '#springst', '#sputnikv', '#stayalert', '#stayathome', '#stayathomesavelives', '#stayhealthy', '#stayhome', '#stayhomestaysafe', '#staysafe', '#staystrong', '#std', '#stds', '#stevenseagal', '#stimuluschecks', '#stop', '#stopthespread', '#stopthespreadofcorona', '#strategicreserve', '#stress', '#strokes', '#suicide', '#summer', '#sunbathing', '#swasthabharat', '#swedish', '#symptomatic', '#t1d', '#takeaction', '#takebreaks', '#takeresponsibility', '#takeresponsibilty', '#tamilnadu', '#tan', '#tb', '#teamoffivemillion', '#tech', '#telangana', '#telemedicine', '#televangelist', '#telugunews', '#teravolt', '#testing', '#tests', '#texas', '#thailand🇹🇭', '#thane', '#thankshealthheroes', '#thedevil', '#thenewnormal', '#thesun', '#thewiderwiserview', '#tigers', '#time', '#tipsadvice', '#togetheralone', '#toilet', '#toiletpaper', '#toiletrollhorders', '#tomhanks', '#travel', '#trinitybellwoodspark', '#tripura', '#trophywife', '#trump2020', '#trumpcouldhavesavedvalet', '#trumppressconf', '#trumpsjealousofobama', '#trumpuniversity', '#tsunami', '#tuberculosis', '#tuesdaylive', '#tuesdaymotivation', '#tulsatrumprally', '#tv', '#tīmarimamiriona', '#ufo', '#uighurs', '#un75', '#unemployment', '#unga', '#unitednations', '#unlock1', '#unlock2', '#unlock3', '#unlock3guidelines', '#unlock4', '#unlock4guidelines', '#update', '#uruguay', '#usa', '#uttarpradesh', '#uva', '#uvc', '#uvdisinfection', '#uvlamp', '#uvled', '#uvlight', '#uvsolution', '#vacation', '#vaccine', '#vaccines', '#vaccineswork', '#vadodara', '#vegan', '#vermont', '#vicepresidentmikepence', '#vicpol', '#viral', '#viralvideo', '#virtualconferenceafrica', '#virus', '#viruses', '#visualabstract', '#vitamind', '#vladimirputin', '#war', '#warcrimes', '#warning', '#warnings', '#washington', '#waterpistols', '#wear', '#wearafacemask', '#wearamask', '#weather', '#weneedthedenominator', '#westbengal', '#westvirginia', '#wha73', '#wha74', '#whatsapp', '#whitehouse', '#whitesupremacy', '#who', '#whoimpact', '#wildfire', '#wildfires', '#williambarr', '#williambryan', '#woodwardtapes', '#wor', '#work', '#workfromhome', '#worldbreastfeedingweek', '#worldmaskweek', '#worldmosquitoday', '#worldzoonosesday', '#worried', '#wtd20', '#wuhan', '#wuhancoronavirus', '#wuhaninstituteofvirologylaboratory', '#wuhanviruspandemic', '#xijinping', '#yavatmal', '#yourviewtv', '#zhangzhan', '#zoodirector', '#張展', '#陳秋實', '$$', '$1', '$1+', '$100', '$1000', '$10000', '$100b', '$1200', '$17', '$17500', '$2000', '$200m', '$225+m', '$2340', '$25', '$26000', '$2m', '$3', '$340', '$37', '$370', '$38', '$3800000', '$4', '$451', '$472', '$5', '$5$100', '$50', '$54', '$61', '$63400', '$700', '$750', '$7trn', '$8', '$abt', '$millions', '+', '+1', '+10000', '+40', '+918507885079', '+ozone', '+ve', '0', '0054', '006', '01', '0106', '01072020', '014', '02', '03', '03323412600', '04', '0400', '05', '0528', '06', '062454254', '0625', '063661060', '06512490104', '07', '0700', '0710', '075', '079', '08', '0800', '0805', '082', '085', '0881911', '09', '0900', '0910', '0920', '0930', '093020408', '0940', '0950', '1', '10', '100', '100+', '1000', '1000+', '10000', '10000+', '100000', '100000+', '1000000', '10001100000', '1000190000', '100046', '1000bed', '1002', '1003299', '100407', '1006615', '1008', '1009976', '100bed', '100k', '101', '1010', '1010824', '1011', '1013', '1013964', '1013refund', '101468', '1015', '10162', '1016920', '1017754', '1018', '101951', '102', '1022', '1023', '10238', '1025', '103', '10315', '1037', '10382', '103945', '104', '1040', '10436', '10456', '1046470', '10487', '10492', '105', '1054', '1055', '10569', '1056am', '1057', '10576', '10578', '105l', '106', '1061', '1064', '1067', '107', '1070', '1073', '1074', '1076', '1078', '108', '10801', '108082', '1088', '109', '1090', '109071', '1091', '10929', '10946', '1095', '1098621', '10am', '10borno', '10days', '10fct', '10k', '10k40k', '10m', '10pm', '10th', '10x', '11', '110', '1100', '11000', '110000', '110000+', '11069', '1107', '11092', '111', '1110', '1115', '1118043', '112', '1120', '112000', '1121', '1125', '1126', '1129756', '113', '1130', '1130pm', '1136', '114', '1141', '1143', '1144', '11458', '1148', '1149', '1149960', '115', '1150', '115000', '115000+', '11516', '1153', '1154', '1155', '1155pm', '1159', '1159pm', '116', '1160', '1165', '1166', '11665', '1169', '117', '1170', '1170000', '1172', '1172179', '1176', '1178', '118', '1180', '118000', '1182', '11828', '1184', '11844', '1186', '118984', '118k', '119', '1190', '1192', '1194', '1195', '1198', '11edo', '11fct', '11katsina', '11ogun', '11oyo', '11pm', '11th', '12', '120', '120+', '1200', '12000', '120000', '1206', '1206806', '1209', '12108', '1212', '1215', '1217', '1218', '1219', '1219\\u200b\\u2063', '12233', '1225', '122pm', '123', '1230', '1236', '12373', '124', '1242020', '1249', '125', '12500', '1252', '1253', '12546', '12547', '1258', '1259', '126', '1261', '1267', '1267658', '1271', '128', '12801', '1282215', '129', '1293\\u200b', '1299', '12borno', '12fct', '12k+', '12l', '12point', '12sokoto', '12story', '12th', '12yobe', '13', '130', '130000', '130792', '130billion', '131', '1315', '1316', '13175', '131lagos', '132', '1320', '1326', '133', '1339', '133lagos', '134', '1341', '13419', '1344', '13447', '135', '135000+', '1351', '1353', '135k', '1363', '1365', '1366', '13671', '1368', '137', '1371', '137385', '1376', '1378\\u200b', '137k', '138', '1380', '138521', '138k', '139', '13989', '139lagos', '13borno', '13kaduna', '13m', '13ogun', '13plateau', '13th', '13yobe', '14', '140', '1400', '14000', '140000', '140000+', '1401', '1408', '140k', '1411', '14139', '1416', '142', '1421', '1425', '1427', '1428', '1429', '143', '143000', '1431', '1433', '1441', '1442', '1444', '1447', '144910', '145', '1452', '1455', '1458', '145k', '146', '1461', '1462', '1464', '1465', '14663', '1466918', '1468', '1469', '147', '1472', '148', '1480884', '1481', '1482', '14821', '1485', '1489', '149', '1492\\u2063', '1494\\u2063', '1497\\u2063', '1498', '1499', '14day', '14hour', '14jigawa', '14plateau', '14th', '14yearold', '14zamfara', '15', '15+', '150', '1500', '15000', '150000', '15001100000', '15001110000', '1503', '1504', '15042', '1504\\u2063', '151', '1510', '1519', '152020', '1524', '1529', '152k', '1530', '153118', '153504', '1535743', '154', '155', '15500', '1551', '1556138', '15568', '155k', '156', '15604', '1561', '157', '1573159', '158', '15882', '159', '1594', '15jigawa', '15k', '15kaduna', '15katsina', '15lac', '15minute', '15plateau', '15th', '16', '16+', '160', '160+', '16000', '1600mg', '1604609', '16085', '161', '16151', '162', '163', '164', '1641', '165', '16502', '1651', '16513', '16559', '166', '1668', '167', '16729', '1691', '16947', '1695982', '16jigawa', '16k', '16kafter', '16m', '16rivers', '16th', '16yearold', '17', '170', '17000', '17071', '171', '17123', '17148', '1715', '172', '1726', '1726k', '173', '1734', '17374', '174', '1741', '175', '1751555', '1754', '17583', '176', '177', '17735', '177lagos', '178', '178000', '1782', '179', '179220', '179lagos', '17th', '17x', '18', '1800', '1800+', '18000', '1800313444222', '18009855990', '182', '182020', '1822', '1828', '183', '1831', '18371', '183lagos', '184', '1841', '1844', '18480', '185', '185000', '18521', '18595', '186', '1861', '1864', '18667205721', '187', '1872', '1874', '18744', '18764', '1878', '188', '188k', '189', '18bauchi', '18k', '18kaduna', '18monthold', '18sokoto', '18th', '19', '19+', '190', '19000', '19004', '190326\\u2063', '19066', '1907', '191', '1911', '19147', '1918', '1919842', '192', '19270', '19295', '193', '19323', '1934', '193k', '194', '19423', '19453', '19476', '195', '1952', '1953', '19565', '196000', '197', '1970', '197084', '1973', '1974', '1977779', '19808', '1981', '1984', '1986', '1988', '1990', '1994', '19bauchi', '19k', '19th', '19zamfara', '1adamawa', '1akwa', '1anambra', '1b', '1bauchi', '1bayelsa', '1benue', '1borno', '1edo', '1enugu', '1fct', '1gombe', '1kaduna', '1kebbi', '1kg', '1m', '1nasarawa', '1niger', '1ondo', '1oyo', '1plateau', '1pm', '1rivers', '1sokoto', '1st', '1wear', '1yr', '1zamfara', '1⃣', '1🧒per💺policy', '2', '2+', '20', '200', '2000', '20000', '200000', '20001115000', '20001135000', '20001140000', '2001', '2003', '2004', '2005', '2005@vijayrupanibjp', '2007', '2008', '20087', '2009', '200k', '200k+', '2010', '2011', '20111', '2012', '2013', '2014', '201415', '20146', '2015', '2016', '2017', '2018', '2019', '201920', '2019s', '202', '2020', '20200918', '202021', '2020s', '2021', '2022', '2023', '20244', '2027', '20294', '2030', '204', '2042', '2047', '205', '2050', '2057', '206', '20663', '2068', '207', '207000', '2079', '20795', '20801', '20919', '2096', '209613\\u2063', '20k', '20kaduna', '20th', '21', '210', '21000', '2104', '211', '2116', '211k', '212', '21240', '213', '21371', '214', '215', '21500', '21575', '2159', '215k', '216', '2174', '2182', '219', '2190', '2193', '2194', '2199', '21day', '21fct', '21k', '21st', '22', '2200', '22000', '220k', '221', '22149351', '222', '2224', '223', '22303', '223937', '223k', '224', '225', '2250', '226', '227', '2280566', '228148', '229', '22fct', '22k', '22katsina', '22nd', '22\\u200b', '23', '230', '2307', '230718', '230pm', '2311', '232', '233', '2338035', '23387171', '2341', '23497', '235', '235374', '2355', '23682', '237', '237k', '238', '2383664', '2385', '239', '2396637', '23k', '23k+', '23ogun', '23rd', '23second', '23yearold', '24', '2400', '2401', '2404585', '24077', '24106535', '242', '2420', '2425', '243838\\u2063', '244', '245', '2450', '24545', '2461190', '246216', '2467758', '247', '2473', '2481', '249', '2490125', '2490127', '2490128', '2492', '2497', '24h', '24hrs', '24k', '24ogun', '24th', '24x7', '24×7', '24\\u200b', '25', '250', '2500', '2500+', '25000', '2500000', '252', '2523771', '253', '253190', '2540', '254000', '25574', '2558', '2560', '25694', '257', '2570', '2575', '2583948', '25edo', '25k', '25ogun', '25th', '25\\u200b', '26', '26000', '260k', '261', '2621', '2627c', '263156', '2635', '2644', '2647663', '2648998', '2649', '265', '265k', '266', '266796', '26685', '267', '267435', '268', '26802', '26845688', '269', '2697', '2699', '26th', '27', '270', '2700', '27000', '270000', '2702742', '2704', '27110', '2713933', '271690', '27287', '273', '2733', '2736', '27450', '2746', '2756', '27564', '275k', '276', '27694416', '2774801', '278872', '2789', '279', '2792', '2794', '279k', '27th', '27with', '28', '28000', '281', '2816', '281609', '282', '282263', '282511', '2839882', '285', '28500', '2856', '28615', '286174', '2867', '2868', '287', '28711', '288', '289', '2893', '28edo', '28k', '28kano', '28oyo', '28th', '28yearold', '29', '2900', '29000', '291994', '292000', '2922', '29286', '294', '294k', '2950', '296', '2964', '29648', '29676', '29687', '2970492', '29879', '299', '29k', '29kano', '29th', '29yearold', '2adamawa', '2akwa', '2anambra', '2bauchi', '2brilliant', '2delta', '2edo', '2enugu', '2gombe', '2if', '2inches', '2k', '2kwara', '2m', '2nasarawa', '2nd', '2ndlowest', '2niger', '2ondo', '2pm', '2rivers', '2stay', '2x', '2yobe', '2\\u200b', '3', '30', '300', '3000', '30000', '300000', '30004000day', '30041400', '30062020', '3007', '300k', '3015103', '3020', '30249', '302k', '303000', '3035', '3037151', '303k', '3044940', '3048', '3051', '306', '3067', '307', '30748', '30920', '30941264', '30c', '30k', '30kano', '30second', '30th', '31', '31020', '31032021', '3105', '3106348', '3107223', '311', '311121', '31142', '3122', '313', '313000', '3137', '3140', '3145', '315', '31520', '31585', '3167323', '317', '31720', '3172319b1', '318', '3180865', '318k', '3194', '31k', '31oyo', '31st', '32', '3200', '32020', '321', '32165', '322', '323', '32320', '3234474', '324', '32430', '325', '32558', '326971', '328', '329', '32kano', '32yearold', '33', '330', '3300', '3310234', '331146', '33153', '33186', '3319', '332', '333', '3330', '3343', '3354', '3359', '33620', '337', '338', '3387500', '3387948', '339', '3395', '3398844', '33world', '33yr', '34', '340', '34000', '342', '343', '34309', '3445', '345', '34654', '347', '348822', '34k', '34oyo', '35', '350', '3500', '35000', '35001', '3526', '35292220', '3535', '354', '3542663', '355', '3573', '358', '35840', '3590', '35902137', '35998', '35jigawa', '35k', '36', '360000', '360k', '361', '362', '3624196', '363', '364', '366', '36703', '36827520', '36834', '368432\\u2063', '3691166', '3696', '36985', '36l', '37', '3701', '3702595', '3703', '3704', '371', '371125', '373', '37304', '37651512', '3772', '3778', '3779', '378', '3780107', '37885', '378k', '379', '3793', '379k', '37k', '38', '380', '380k', '381', '382', '3826', '384', '385', '3853406', '38576510', '385936', '3859399', '386', '387', '387435', '389', '38945', '3899', '38k', '39', '3912', '3918', '392', '392756', '393', '3936747', '3942360', '39477848', '39539', '396', '3968', '396k', '3978', '3989', '399', '3991', '3992', '39k', '39lagos', '3abia', '3akwa', '3anambra', '3bauchi', '3borno', '3delta', '3edo', '3fct', '3kaduna', '3katsina', '3kwara', '3m', '3nasarawa', '3niger', '3oyo', '3pointers', '3rd', '3rivers', '3sokoto', '3ts', '3wash', '3x', '3\\u2063', '3⃣we', '4', '40', '400', '4000', '40000', '400000', '4003', '400500', '4006', '400k', '4014', '4019', '402000', '4023179', '4025079', '403', '404', '4040', '404k', '405000', '40532', '407', '409032', '40k', '41', '410', '4112551', '411932', '41297', '414', '4140', '415283', '41552', '416', '41638', '416924', '417', '41804', '418810', '41k', '42', '420', '4208431', '420k', '421', '4211\\u2063\\u2063\\u2063\\u2063', '422000', '42208', '4225', '42307914', '4236', '424719', '4249', '425', '4255', '4261', '426776', '42689', '427', '4279', '428', '42922', '429643', '429664', '42k', '43', '430', '4300', '43000', '4303', '4303043', '430700', '43151', '4322', '43231', '43324834', '43334', '433k', '435', '43537', '436', '43610', '4367436', '437', '4370128', '438', '4380', '4384', '438720', '4396', '4396399', '43998', '43k', '43lagos', '44', '44000', '44035', '44088', '44129', '441k', '4420', '4422', '44430', '4453', '4468', '44890', '449', '4497867', '44jigawa', '44k', '45', '450', '4500', '45000', '452', '45244', '4530', '453923', '453k', '454', '4546', '455', '45509380', '4555', '456', '4560', '456227', '4562414', '4563', '457', '457377', '457k', '4587613', '4589', '45k', '46', '460', '4600', '460067', '46121', '46131', '4619', '461k', '462', '462590', '4641', '46577', '4659984', '465k', '46679145', '4674987', '4687', '469', '46kano', '47', '4700', '470469', '4735', '475', '4752', '4754356', '475k', '477909', '47872', '47980', '47k', '48', '48000', '481', '48116', '484', '484068', '48431', '48445', '4845', '4846427', '485', '486', '48674', '486943', '487', '488', '4889', '48900', '48k', '49', '490', '49000', '4911140293', '4926', '4927', '492k', '494481', '49485', '49551507', '496k', '497', '499', '49k', '49katsina', '4adamawa', '4am', '4bauchi', '4borno', '4c', '4ebonyi', '4ekiti', '4imo', '4jigawa', '4kaduna', '4nasarawa', '4niger', '4ogun', '4pm', '4pmet', '4sokoto', '4th', '4x', '5', '50', '500', '5000', '50000', '50000+', '500000', '500k', '500th', '501', '5020', '502705', '503', '50488', '5057', '506', '5064', '5080', '508k', '50k', '51', '510', '51000', '5118253', '511k', '5126', '51304', '5136', '5162', '517', '51706', '5178', '518', '518k', '519', '519388', '5194', '51b', '52', '5214677', '522', '5220', '52227', '523', '524', '5246', '525', '525430', '528', '52934433', '52k', '53', '5300', '5302', '531', '5313', '5321', '533', '53322', '534', '53879', '53k', '54', '5400619', '54008', '541', '5417', '542', '5423', '544', '5445', '54587', '5487580', '54905', '54k', '54m', '55', '550', '55000', '550000', '55160', '553', '5542', '55456', '555', '556', '55632', '558', '55k', '55kano', '56', '560', '56017', '561', '56110', '56177', '5621', '5623', '563000', '56383', '56478', '566', '56604', '567', '568', '569k', '56k', '57', '571', '57145', '572', '57239428', '5731', '5734', '5735', '57437', '575', '57542', '5783', '57937', '57k', '58', '580', '582020', '58390', '584k', '586k', '587', '58lagos', '59', '590', '5900', '591', '591k', '593', '59449', '595', '5955', '5959', '5967', '598778', '59k', '5adamawa', '5day', '5fct', '5g', '5gombe', '5k', '5kaduna', '5katsina', '5kebbi', '5ogun', '5oyo', '5plateau', '5th', '5x', '5years', '6', '6+', '60', '600', '6000', '60000', '60091', '600k', '600pm', '601', '60177', '603k', '60472', '606', '60710', '6077', '609917', '60k', '61', '610', '611', '6113', '6114', '611k', '613', '6136', '614', '61529', '61572343', '616', '61700', '6178', '618k', '619', '619088', '62', '620000', '621', '621400', '62282', '624', '62538', '62550', '626', '626667', '627', '628', '6286', '6297', '62k', '62l', '63', '6307', '631', '63231', '63498', '635', '636', '63631', '637', '6370', '637k', '638', '63k', '64', '640', '640000', '6401', '6423', '643k', '64469', '645', '646400', '648k', '64k', '64kano', '65', '65+', '65000', '65081', '65288', '654', '656', '6568', '6581', '658k', '65k', '66', '661', '663', '6631', '664949', '665', '66500', '66550', '6666', '667', '66746', '6680', '669', '6698', '66k', '67', '6704', '6718', '6730', '67376', '675', '675k', '6762', '677422', '68', '680', '68000', '680000@drtedros', '681k', '6832', '684', '68584', '6878', '6879', '689', '69', '690', '692k', '6938', '694k', '695', '69561', '696k', '697070', '6borno', '6ft+', '6gombe', '6jigawa', '6k', '6k+', '6months', '6ogun', '6oyo', '6plateau', '6pm', '6th', '6⃣', '7', '70', '700', '7000', '70000', '700000', '700087', '70009000', '700k', '7016', '7038', '7040', '704348', '705am', '70626', '7072', '707267', '7077', '7091', '70cr', '70k', '71', '710', '7103', '710771', '7109', '710am', '7126', '713k', '713this', '714', '7150', '7153', '716', '716k', '717pm', '719320\\u200b', '719364', '71k', '72', '720', '720362', '720k', '7211', '721k', '723', '724k', '725991', '7261', '7283', '7287', '73', '73000', '7318', '731k', '732835', '733449', '7338', '733k', '735704', '735k', '737', '73890', '73923', '739k', '73k', '74', '740', '740321', '7406', '74082', '740k', '742023', '7421', '74270', '743k', '744', '745', '746', '7485', '7491', '749k', '75', '7500', '75000', '750808', '752424', '7526', '7527', '753', '7534', '7565', '758', '758k', '759', '7592', '75k', '76', '7617', '762', '7624', '76271', '7628', '762k', '763', '7630', '763k', '764', '7647', '765302', '766', '7663', '766626', '766k', '7681', '769', '7694', '7698', '769k', '77', '7707', '7709', '771', '772', '7723', '772k', '7732', '77472', '775', '776', '7765', '7774', '777k', '778', '7788', '779', '779000', '77k', '78', '780', '780000', '781975', '7828', '78343', '7853', '78586', '785996', '786', '7864', '7886', '789', '79', '79000', '791', '7928', '7929', '7950', '796', '7968', '797', '79722', '798k', '7borno', '7day', '7fct', '7k', '7kaduna', '7kwara', '7ogun', '7pm', '7taraba', '7th', '8', '80', '800', '8000', '8000+', '80000', '800000', '800k', '801', '8012', '803552', '8068', '807460', '80776', '80789', '8086', '81', '81000', '8125', '81533', '815538', '818629', '819k', '82', '820', '82066', '821', '82287', '823992', '824', '82961', '82lagos', '83', '8300', '8303', '8316', '83198', '831k', '83311', '83347', '8344', '83600', '836k', '837', '839467', '83and', '84', '840k', '84372', '845', '846278', '846395', '848420', '84k', '85', '85000', '85000+', '852k', '855', '85619', '856k', '857258', '858', '85859', '8592', '8599', '86', '86073', '862320', '8625', '863', '864469', '86508', '867', '8671', '86752', '868', '86927', '86961', '87', '87000', '872', '873', '87374', '87604', '878', '87882', '879', '88', '881', '883', '8838', '884', '889', '88935', '88lagos', '89', '8953', '896', '897', '89706', '897394', '89746', '897k', '89852', '899864', '8am', '8borno', '8gombe', '8kano', '8katsina', '8kwara', '8niger', '8oyo', '8pm6am', '8th', '9', '90', '900', '9000', '90000', '90000+', '9001130', '900185000', '90020', '901', '902', '903k', '909', '91', '910', '910853', '911', '912', '91261', '916', '9172020', '9178', '92', '9210', '924000', '924637', '924998', '925383', '9257', '927', '9286', '93', '930', '9302', '930k', '930pm', '934', '94', '941', '943480', '94352', '944854', '945', '9470', '95', '951', '95735', '958316', '95l', '95lagos', '96', '960', '9628', '963', '966', '966382', '968', '968377', '97', '972', '973', '973175', '9746', '975861', '977', '978500', '97k', '98', '981', '985', '9855', '986598', '986k', '99', '990061', '99031', '990deduction', '99104', '992', '995933', '996', '997', '998', '999', '9991', '9am', '9amp12', '9borno', '9ebonyi', '9fct', '9kaduna', '9katsina', '9ogun', '9oyo', '9rivers', '9th', '9th16th', '=', '=89700000', '@', '@04051952n', '@1000frolly', '@20manny07', '@3ghtweets', '@4523i5', '@aadajoli', '@aaiofficial', '@aajtak', '@aamaadmiparty', '@aamctoday', '@abbottnews', '@abcfactcheck', '@abcmediawatch', '@abledoc', '@abpnews', '@acoss', '@adamjkucharski', '@adammccu', '@africacdc', '@aiimsnewdelhi', '@aintropy', '@airnewsalerts', '@aitonline', '@ajdlinux', '@ajenglish', '@alamerqld', '@alanlcit', '@alaskadhss', '@alcoholchangeuk', '@alexharv074', '@alexismadrigal', '@alexkx3', '@alexmahadevan', '@alikodangotefdn', '@alistairhaimes', '@alykatzz', '@amermedicalassn', '@amtrehan', '@amysherman1', '@anak2422anak', '@andrewlawrence', '@andyspecht', '@angieholan', '@angierasmussen', '@ani', '@anidigital', '@anjan1588', '@anjanaomkashyap', '@annagconnell', '@antonioguterres', '@appalachia100', '@apple', '@aqtime', '@archillect', '@arielbogle', '@ariellesophia', '@arifleischer', '@arisetv', '@arthurcaplan', '@arvindersoin', '@arvindkejriwal', '@asantos24', '@ashishkjha', '@ashishskynews', '@ashokepandit', '@ashoswai', '@ashwinikchoubey', '@aslavitt', '@asxgold', '@atlantic', '@ayushmanhwcs', '@ballouxfrancois', '@bananenrijperij', '@bancheneproduct', '@banjelope', '@bankofamerica', '@barbarajdurkin', '@barda', '@bbcnews', '@belladonamodels', '@bendepear', '@benfordham', '@benzorn', '@bepdelta', '@bethrigby', '@bharatbiotech', '@biharhealthdept', '@billdmccarthy', '@biocomca', '@biomedj', '@bkum2000', '@blackie', '@bloombergquint', '@boomlivein', '@borisjohnson', '@brikeilarcnn', '@brittajewell', '@brknman', '@broomeinwelly', '@brucelambert', '@bsybjp', '@buffalotracedhd', '@butchthorne', '@c4etech', '@caalkeshkasliwa', '@canada', '@captshaktilumba', '@careeningspace', '@carlhan30554840', '@carlosdelrio7', '@carolhakios', '@cassandragoldie', '@cd', '@cdc', '@cdcdirector', '@cdcemergency', '@cdcenvironment', '@cdcflu', '@cdcglobal', '@cdcgov', '@cdcheartstroke', '@cdchivaids', '@cdcinjury', '@cdcmmwr', '@cdctb', '@cdctravel', '@cebmoxford', '@ceccgov', '@cepivaccines', '@cernovich', '@chaddystacksdfs', '@chancine', '@changeorgindia', '@channelstv', '@charliekirk11', '@chicagosmayor', '@chikwei', '@childrensphila', '@chinweochu', '@chrisfairchild', '@chrisgulli', '@chrismartenson', '@chrissytn1', '@cjtjgeol', '@climatekids2', '@cmofficeup', '@cmoguj', '@cmohry', '@cmomaharashtra', '@cmsgov', '@cnbc', '@cnbcafrica', '@cnn', '@cnni', '@cnnnews18', '@coimmunity', '@collectorjamngr', '@colleenkraftmd', '@columbiamed', '@conceptualjames', '@connectgeeta', '@conservvoice', '@contactkdsg', '@couchmaria', '@covid19crusher', '@covid19nccc', '@covid19tracking', '@covidactnow', '@covidindiaseva', '@covidnewsbymib', '@cre8d', '@cryptowalter', '@csirind', '@csogok', '@ctbergstrom', '@ctrevettnzh', '@cybertiiger', '@cyborgnot', '@dallasbarnett3', '@damienhamilto17', '@dandiemann', '@danforestnc', '@danielandrewsmp', '@danielleiwood', '@danielsierra81', '@dardedar', '@data4blacklives', '@daveman19802', '@dawntj90', '@dbaerwald1', '@dbtindiabirac', '@ddindialive', '@ddnewslive', '@deborahzinger', '@deepaltrevedie', '@dekoustav', '@delegatestewart', '@delibrolawrence', '@deplorabledebrn', '@depsechargan', '@dfiduk', '@dgpgujarat', '@dharmen46587056', '@dhscgovuk', '@dhswi', '@digdougftw', '@dlandthebeard', '@dmiliband', '@domsinainyc', '@dougburgum', '@dovmichaeli', '@dpfunke', '@dpkpillay12', '@dralisanders', '@drashwathcn', '@drccostelloe', '@drdoindia', '@drellie', '@dreoehanire', '@drharshvardhan', '@drhvoffice', '@dribram', '@drinkaware', '@drjitendrasingh', '@drjohnm', '@drjohnwhyte', '@drmamora', '@drnancymcdc', '@drsamirbhatt', '@drsanjaygupta', '@drsourabhkp', '@drtedros', '@drtomfrieden', '@dunsanyjack', '@dwagswpb', '@dwildemuth', '@econstandard', '@edconwaysky', '@edinburghuni', '@elijahschaffer', '@ellencutch', '@elsieilori', '@elsieilorifor', '@emmawehipeihana', '@ericcolson', '@esmo', '@eucommission', '@euecho', '@factchecknet', '@factchecknets', '@faheemyounus', '@familiafeeling', '@fao', '@fatherbob', '@fauntleroy1934', '@fema', '@feynmanfreaky', '@flaxter', '@fmohnigeria', '@followlasg', '@fox5atlanta', '@foxnews', '@foxnewssundays', '@frasernelson', '@free67847229', '@ftwrharry', '@g', '@g0leary', '@g20org', '@gaonconnection', '@garnerforest', '@garysaintdooley', '@gavi', '@gavinnewsom', '@georgetown', '@geraintmeysydd', '@ghs', '@github', '@gladysb', '@globalhlthtwit', '@globaltimesnews', '@globuleaks', '@godblsmnymkr', '@govlarryhogan', '@govmurphy', '@govricketts', '@govrondesantis', '@govsisolak', '@govtofimostate', '@govwhitmer', '@gracieluann24', '@grahamscooke', '@gretchenwhitmer', '@gtg46338929', '@guardian', '@gunarockya', '@gv9195', '@hackingdata', '@harvardgh', '@harvardmed', '@he11totheno', '@healthwiremedia', '@healthyfla', '@hedgeyedj', '@heymanitshayden', '@hhsash', '@hhsgov', '@hmoindia', '@hollywoodcurry', '@homer4k', '@hopkinscdhs', '@hselive', '@htservadac', '@huntsonmark', '@iamadunnii', '@iammisstrees', '@ianuragthakur', '@ibergwiesel', '@icahnmountsinai', '@icmr', '@icmrdelhi', '@icmrdelhis', '@icmrnirrh', '@icmrniv', '@icphhomeless', '@idorigatti', '@ifad', '@ihstowers', '@imdanthompson', '@imperialcollege', '@imperialem', '@imperialjidea', '@inconvenienttr5', '@independent', '@india', '@indiainguyana', '@indiatv', '@indsupremecourt', '@infointerest', '@ingrahamangle', '@iprnewsradio', '@ismmskidney', '@jabalpursafety', '@jacindaardern', '@jackwestmd', '@jamesdsteinberg', '@jamesgross', '@jbalsich', '@jburnmurdoch', '@jc1381a', '@jcoasco', '@jdeely', '@jdmaresco', '@jennymikakos', '@jhuber', '@jimcramer', '@jimdtweet', '@jjmalina', '@jmcstarbug', '@jninstitute', '@joebiden', '@joewasserman', '@johnabrahamclub', '@johnkubie', '@johnpavlovitz', '@johnshopkinsepi', '@jonashworth', '@joncraig', '@joshtpm', '@joyannreid', '@jsolomonreports', '@jsssms', '@julie34479', '@justinhart', '@justintrudeau', '@kagashley', '@kamathgurudutt', '@kanganateam', '@karluskap', '@kayburley', '@kcpubhealth', '@kctaz', '@kdhauck', '@keirstarmer', '@keirstarmers', '@kenyaphysicians', '@kevinfurr', '@kevinlyfather', '@kff', '@khaleesyd', '@khaliahhh', '@khnews', '@khoneyfordstats', '@kikimarfat', '@kitchencone', '@kitmalthouse', '@kmccready', '@kmedved', '@knsmoh', '@krisbeknowin', '@krisparag1', '@ktwopines', '@kytheanticomguy', '@lastwordwilliam', '@latimeralder', '@lbgoodnessgrows', '@lifescihiggins', '@lolageek', '@lshtm', '@lsmoh', '@lsunder1', '@ltgrusselhonore', '@luvhopecourage', '@lynnrahn1', '@madavidj', '@mahesh10816', '@malarianomoreuk', '@mamataofficial', '@mandilovell', '@mantralayaroom', '@marakont', '@marshablackburn', '@martindaubney', '@marvinbrite', '@mathguy7', '@matthancock', '@mazjobrani', '@mbiegovtnz', '@mbuhari', '@mcuban', '@medbennett', '@medscape', '@methodsmanmd', '@mexiwi', '@mhfwgoup', '@michaelminalab', '@microsoft', '@midorik0a', '@mikedel21893959', '@mikehixenbaugh', '@mikejgallant', '@minhealthnz', '@minhealthnz\\u2063', '@ministrywcd', '@mkehealth', '@mlasudhakar', '@mmaniac90', '@mmmhappiness1', '@moayush', '@mocagoi', '@modiji', '@moh', '@mohfwindia', '@mohit0175', '@morris1k', '@mountsinairmti', '@mrcoutbreak', '@mrdelvan', '@msisodia', '@mskatemcd', '@mumbaipolice', '@mumbaipolice@rajputramesh', '@mumbaiyb', '@munchbunch87', '@mvankerkhove', '@mybmcs', '@mygovindia', '@myogiadityanath', '@myyogiadityanath', '@n3113n', '@nagatrooper', '@narendramodi', '@narvuntien', '@nastysurf', '@nataleedesotell', '@nataliehats', '@natesilver538', '@nature', '@nbpaustralia', '@ncdcgov', '@ndgov', '@ndmaindia', '@nealkhosla', '@neilferguson', '@nfidvaccines', '@nickapalmer', '@nickcradio', '@nicprnoida', '@nigeducation', '@nigeriafeltp', '@nighealthwatch', '@nih', '@nihrresearchsupported', '@niosh', '@nitiaayog', '@njdeptofhealth', '@nmhheartdoc', '@no2wind', '@noahpinion', '@norcalpunkman', '@normanbrennan', '@novakglobal', '@nresearchnews', '@nsitharaman', '@ntanewsnow', '@nvgovernment', '@nypostより', '@nytimes', '@nytscience', '@odoylecharlotte', '@officeofut', '@officialaitlive', '@officialdmrc', '@officialosgfng', '@omarkelly', '@ons', '@ooaswaho', '@osmosismed', '@osprey0', '@outofthedarkage', '@over400ppm', '@p', '@pabloperguz', '@pallavivedic', '@pantherman45', '@paprikalady', '@pathogenscribe', '@paulmromer', '@paulpauwaert', '@pawan90311', '@peatapann', '@peterjwalker', '@peterwa97559477', '@peterzeihan', '@phillyinquirer', '@piabizlaw', '@pibhomeaffairs', '@pibindia', '@pibmumbai', '@pjpaton', '@pmoindia', '@pnouvellet', '@politifact', '@politifactnc', '@politifacttexas', '@politifactwisc', '@pommylee', '@potus', '@prakashjavdekar', '@pratimbose', '@presssec', '@prisonplanet', '@pritipatel', '@profakinabayomi', '@profbhargava', '@profkarolsikora', '@profsushmagupta', '@projectlincoln', '@ptamom7', '@ptfcovid19', '@ptinews', '@qanda', '@questdiag', '@raffi', '@ranaayyub', '@randpaul', '@ranudhillon', '@rapidtests', '@rashlessdoctor', '@ravenrider2020', '@ravikundurthi', '@realdonaldtrump', '@realdonaldtrumps', '@reckedrik', '@redcross', '@renukajain6', '@rglobalism', '@ribbleboy15', '@riccigeri', '@riccisergienko', '@ricksheatcool', '@ridgeonsunday', '@rightsindia', '@rijpew', '@riktheozfrog', '@rmack2x', '@robchandigarh', '@robertbuckland', '@robertsfinkle', '@roboskis', '@robreiner', '@rosannarago', '@rosnovsky', '@roviir', '@roypentland', '@rspathania', '@rushhourp', '@rustyaway', '@sadhvipragyamp', '@saketgokhale', '@salaambaalakngo', '@saleyhaahsan', '@samarjeetn', '@sangeeta0312', '@sbrown6262', '@scaramangi', '@scclemons', '@sciencemagazine', '@scottgottliebmd', '@senatorkapengas', '@sentomcotton', '@septateneuf', '@shaskell12', '@shelby58617786', '@shevanthin', '@silentdeserts', '@sjforkids', '@skynews', '@skynewsbreak', '@skynewsmichelle', '@smileygirl19683', '@soapituphard', '@sophyridgesky', '@sormasopen', '@spavis', '@speakerpelosi', '@srbachchan', '@sreesub', '@srileyidd', '@ssfarouk', '@statedept', '@statnews', '@stepheneglen', '@stevefda', '@stjeffreystodd', '@stormsignalsa', '@suesensus', '@surgeongeneral', '@susankilfoy', '@suzanneevans1', '@swannyqld', '@tackinfl', '@tamazonx', '@tangerinelaw', '@tatahealth', '@tazyas', '@teamtrump', '@teddysmom1', '@thatamartya', '@theatlantic', '@thecityny', '@thecyberdagger', '@thedisproof', '@thefauxy', '@thehill', '@theicai', '@thejohnabraham', '@thelancet', '@thepolldude', '@therealstoryplz', '@therealtruther', '@thereidout', '@theworrygames', '@thinksaboutit', '@thirdeyeblind9', '@thyrocare', '@tlowdon', '@tomaspueyo', '@tony80554056', '@tonybaldeagle', '@tqmka', '@trvrb', '@tuckercarlson', '@tvcconnect', '@twang0518', '@twt2abhi', '@uklabour', '@undark', '@undiction', '@undp', '@unicef', '@unicefindia', '@unicefmedia', '@uninindia', '@uniofoxford', '@unipadova', '@univcordoba', '@unreliefchief', '@upgovt', '@uressien', '@usaid', '@usatoday', '@usfda', '@usponline', '@vaccineepi', '@veryvirology', '@vetsree', '@vicrollison', '@vinguptamd', '@vinlew', '@viruswatch2021', '@vmaledew', '@vonderleyen', '@vp', '@wacotrib', '@wadepthealth', '@wapflondon', '@washingtonpost', '@wbur', '@weare54gene', '@webmd', '@wevotedtoleave', '@wfp', '@wgrz', '@wh', '@whatsapp', '@whitwyatt', '@who', '@whoafro', '@whophilippines', '@whos', '@whosearo', '@wionews', '@wolfiecindy', '@wordpressdotcom', '@worldhealthorg2', '@wvumediacollege', '@xanderarmstrong', '@xpressbengaluru', '@yahoo', '@yashuahawkeye', '@yatezy84', '@yayitsrob', '@yogrishiramdev', '@yorkshirebri', '@youtube', '@youyanggu', '@ywoga', '@zeenews', '@zevdr', 'a', 'aa', 'aaj', 'aamir', 'aampe', 'aampes', 'aap', 'ab', 'ababa', 'abacha', 'abakaliki', 'abandon', 'abandoned', 'abating', 'abbasi', 'abbott', 'abdicated', 'abdul', 'abdulaziz', 'abhigyan', 'abia', 'abia1', 'abia10', 'abia11', 'abia14', 'abia15', 'abia2', 'abia20', 'abia23', 'abia28', 'abia31', 'abia48', 'abia5', 'abia6', 'abia7', 'abia8', 'abia9', 'abide', 'ability', 'able', 'aboard', 'abortion', 'abound', 'about', 'aboveinflation', 'abraham', 'abruptly', 'abscbn', 'absence', 'absent', 'absentee', 'absolute', 'absolutely', 'absorb', 'abubakar', 'abuja', 'abundantly', 'abused', 'abysmal', 'ac', 'academic', 'academy', 'acalabrutinib', 'acc', 'accelerate', 'accelerates', 'accelerating', 'acceleration', 'accelerator', 'accelerator@drtedros', 'accept', 'acceptable', 'accepted', 'access', 'access@drtedros', 'accessibility', 'accessible', 'accident', 'accidental', 'accidentally', 'accommodation', 'accompanies', 'accompany', 'accompanying', 'according', 'accordingly', 'account', 'accountable', 'accounted', 'accounting', 'accredited', 'accunalysis', 'accuracy', 'accurate', 'accurately', 'accuse', 'accused', 'accusing', 'ace2', 'acetylcysteine', 'ache', 'achievable', 'achieve', 'achievement', 'achieves', 'achieving', 'acid', 'acidosis', 'acknowledge', 'acquire', 'acquired', 'acronym', 'across', 'act', 'actaccelerator', 'acting', 'action', 'activated', 'activates', 'activation', 'active', 'actively', 'active\\u2063', 'activist', 'activity', 'actor', 'actress', 'actual', 'actually', 'acute', 'ad', 'ad5ncov', 'adaab', 'adamawa', 'adamawa1', 'adamawa10', 'adamawa11', 'adamawa2', 'adamawa21', 'adamawa23', 'adamawa25', 'adamawa3', 'adamawa4', 'adamawa5', 'adamawa7', 'adaptable', 'adapted', 'add', 'added', 'adding', 'addis', 'addition', 'additional', 'additionally', 'additive', 'address', 'addressing', 'adeline', 'adequate', 'adequately', 'adf', 'adhaan', 'adhanom', 'adhere', 'adherence', 'adhering', 'adhesive', 'adiabo', 'aditya', 'adjust', 'adjusted', 'adjusting', 'adjustment', 'adjusts', 'admin', 'administer', 'administered', 'administration', 'administrator', 'admins', 'admission', 'admit', 'admited', 'admits', 'admittance', 'admitted', 'admitting', 'adolescent', 'adolescents@drtedros', 'adopted', 'adoption', 'adtd', 'adult', 'advance', 'advanced', 'advantage', 'adventure', 'adverse', 'advertisement', 'advice', 'adviced', 'advise', 'advised', 'adviser', 'advises', 'advising', 'advisor', 'advisory', 'advocacy', 'advocate', 'aerobridges', 'aerosol', 'afaik', 'affair', 'affect', 'affected', 'affecting', 'afffecting', 'affiliated', 'afford', 'affordable', 'afm', 'afp', 'afraid', 'afresh', 'africa', 'african', 'africathe', 'africa🇦', 'afriglobal', 'after', 'afterhours', 'afternoon', 'afterwards', 'ag', 'again', 'again@drtedros', 'against', 'againtoday', 'agarwal', 'age', 'aged', 'agedcare', 'agency', 'agenda', 'agent', 'agewise', 'aggregate', 'aggregated', 'aggregation', 'aggression', 'aggressive', 'aggressively', 'agniveer', 'ago', 'agowe', 'agra', 'agree', 'agreed', 'agreement', 'agrees', 'aground', 'ahead', 'ahmadu', 'ahmedabad', 'ai', 'aid', 'aide', 'aiding', 'aidthousands', 'aiims', 'ailment', 'aim', 'aimed', 'aimim', 'air', 'airborne', 'aire', 'aired', 'airflow', 'airing', 'airline', 'airport', 'airspace', 'airway', 'ak', 'aka', 'akbar', 'akira', 'akl', 'akwa', 'al', 'ala', 'alabama', 'alaikum', 'alameda', 'alappuzha', 'alarm', 'alarming', 'alaska', 'alassalah', 'alazhar', 'albany', 'albendazole', 'alberta', 'alberto', 'album', 'album30', 'alcohol', 'alcoholbased', 'aldi', 'aled', 'alegre', 'alert', 'alerted', 'alertness', 'alfa', 'alfa2b', 'alfa2b565', 'algeria', 'algerian', 'ali', 'alien', 'alive', 'alkaline', 'all', 'allah', 'allahu', 'alledegedly', 'allegation', 'alleged', 'allegedly', 'allegheny', 'allergic', 'allergy', 'alleviate', 'allhttpstcomufdaoexiq', 'allocation', 'allow', 'allowance', 'allowed', 'allowing', 'allows', 'alltime', 'ally', 'almost', 'alone', 'along', 'alongside', 'alphons', 'already', 'alsalatu', 'also', 'alsolike', 'alsounder', 'alt', 'alter', 'altered', 'alternate', 'alternative', 'although', 'alumnus', 'always', 'alyoubi', 'am', 'amal', 'amatitlán', 'amazing', 'amazon', 'amazona', 'ambiguous', 'ambitious', 'ambulance', 'amd', 'america', 'american', 'americold', 'amid', 'amidst', 'aminu', 'amish', 'amit', 'amitabh', 'among', 'amongst', 'amount', 'amounting', 'amoxi', 'amp', 'amplified', 'amplitude', 'amusement', 'an', 'anaesthesia', 'analyse', 'analysing', 'analysis', 'analyst', 'analytics', 'anambra', 'anambra1', 'anambra13', 'anambra17', 'anambra2', 'anambra20', 'anambra21', 'anambra3', 'anambra7', 'anambra8', 'anand', 'anant', 'anchor', 'and', 'and100', 'anddodge', 'anderson', 'andhra', 'andor', 'andrew', 'andrey', 'android', 'andry', 'andré', 'andy', 'angel', 'angela', 'angeles', 'anger', 'angiotensinconverting', 'angry', 'anil', 'animal', 'anistons', 'announce', 'announced', 'announcement', 'announces', 'announcing', 'annoying', 'annoyingly', 'annual', 'annually', 'anonymously', 'another', 'ansari', 'answer', 'answered', 'antenna', 'anthem', 'anthony', 'anti', 'antibiotic', 'antiblackness', 'antibody', 'antichinese', 'anticipated', 'anticoagulant', 'anticorona', 'anticoronavirus', 'anticovid', 'antidote', 'antifa', 'antigen', 'antihistamine', 'antiinflammatories', 'antimalaria', 'antimalarial', 'antipandemic', 'antiparasitic', 'antiracist', 'antiseptic', 'antivaccine', 'antivaxxers', 'antiviral', 'antivirus', 'antonio', 'anttibiotics', 'anxiety', 'anxiousness', 'any', 'anybody', 'anymore', 'anyone', 'anything', 'anytime', 'anyway', 'anyways', 'anywhere', 'aoc', 'apa', 'apart', 'api', 'apocalyptic', 'apolog', 'apologise', 'apologises', 'apologising', 'apologizes', 'apology', 'app', 'appalling', 'apparently', 'appeal', 'appealed', 'appear', 'appeared', 'appearing', 'appears', 'appendix', 'applaud', 'applauded', 'applause', 'apple', 'application', 'applied', 'applies', 'apply', 'applying', 'appointed', 'appointment', 'appoints', 'appraisal', 'appreciate', 'apprises', 'approach', 'approached', 'approaching', 'appropriate', 'approval', 'approved', 'approves', 'approx', 'approximately', 'apps', 'apr', 'april', 'aprilearly', 'apron', 'apronax', 'apturi', 'aquino', 'ar', 'arab', 'arabia', 'arbidol', 'archie', 'archived', 'ardern', 'ards', 'are', 'are341', 'area', 'arent', 'argar', 'argentina', 'argentine', 'argentinian', 'arguably', 'argue', 'argued', 'argues', 'arif', 'arise', 'arisen', 'ariseswhere', 'arizona', 'arizonan', 'arkansas', 'arlene', 'arm', 'armed', 'army', 'arogya', 'aroha', 'arora', 'around', 'arrange', 'arranged', 'arrangement', 'arrest', 'arrested', 'arresting', 'arrival', 'arrive', 'arrived', 'arriving', 'arse', 'arsehole', 'arsenicum', 'art', 'arthritis', 'article', 'artifact', 'artificial', 'artificially', 'artiste', 'artois', 'arvind', 'as', 'asaduddin', 'ash', 'asha', 'ashamed', 'ashley', 'ashworth', 'asia', 'asian', 'aside', 'ask', 'askd', 'asked', 'asking', 'asks', 'asleep', 'aspect', 'aspirin', 'aspirine', 'asprin', 'ass', 'assalamu', 'assam', 'assaulting', 'assemble', 'assembly', 'assertion', 'asserts', 'assessment', 'assign', 'assigned', 'assigning', 'assigns', 'assist', 'assistance', 'assistant', 'assisted', 'assisting', 'assoc', 'associate', 'associated', 'association', 'assume', 'assuming', 'assumption', 'assured', 'assures', 'assuring', 'asthma', 'astonishingly', 'astounding', 'astrazeneca', 'astrologer', 'astute', 'asunción', 'asymmetry', 'asympt', 'asymptomatic', 'at', 'atampt', 'athlete', 'athome', 'atishi', 'atlanta', 'ator', 'atrisk', 'attack', 'attacked', 'attacking', 'attempt', 'attempted', 'attempting', 'attend', 'attendance', 'attended', 'attendee', 'attending', 'attention', 'attitude', 'attorney', 'attract', 'attractive', 'attributable', 'attribute', 'attributed', 'atul', 'auckland', 'aucklandbased', 'auckland\\u200b', 'auckland\\u2063', 'auckland⠀', 'audi', 'audience', 'audio', 'aug', 'augmentation', 'august', 'augusto', 'aung', 'aunt', 'aurangaba', 'aurangabad', 'aussie', 'australia', 'australian', 'authenticity', 'author', 'authoritarian', 'authoritie', 'authority', 'authorization', 'authorized', 'authorizes', 'autism', 'autohemotherapy', 'autoimmunity', 'automated', 'automatically', 'autopsy', 'avail', 'availability', 'available', 'availing', 'avenue', 'average', 'averaged', 'averaging', 'avg', 'avian', 'avifavir', 'avigan', 'aviganfavipiravir', 'avoid', 'avoidable', 'avoiding', 'aw', 'await', 'awaiting', 'award', 'awarded', 'aware', 'awareness', 'away', 'awho', 'axel', 'ayodhya', 'aytac', 'aytu', 'ayurveda', 'ayurvedic', 'ayush', 'ayushman', 'az', 'azcafltx', 'azim', 'azithromycin', 'azithromycindoxycycline', 'b', 'b1', 'baap', 'baba', 'baby', 'bacchan', 'bachchan', 'back', 'backbone', 'backdate', 'backend', 'backfill', 'backhand', 'backlog', 'backlogged', 'backlogit', 'backtoback', 'backtrack', 'backtracked', 'backwards', 'bacon', 'bacteria', 'bacteriaeating', 'bacterial', 'bacterium', 'bad', 'badly', 'badminton', 'badusha', 'bag', 'bagh', 'bahia', 'baijal', 'bail', 'bailed', 'bailout', 'bajaav', 'bajao', 'bakersfield', 'bakery', 'baking', 'bakker', 'balance', 'balanced', 'balancing', 'balasubrahmanyams', 'ball', 'ballisticmissile', 'balloon', 'bame', 'ban', 'bandhugan', 'bandwagon', 'bangalore', 'bangladesh', 'banish', 'bank', 'banknote', 'bankrupt', 'banned', 'banner', 'banning', 'banwarilal', 'baptism', 'bar', 'barack', 'barak', 'barcelona', 'bardhaman', 'bare', 'barely', 'bargain', 'barmer', 'baroda', 'baroness', 'barotrauma', 'barr', 'barranquilla', 'barrier', 'barsclubs', 'base', 'baseball', 'based', 'baseless', 'baseline', 'bashed', 'basic', 'basically', 'basis', 'basis@drtedros', 'basketball', 'bat', 'batching', 'bath', 'batman', 'batspangolins', 'battle', 'battled', 'bauchi', 'bauchi1', 'bauchi10', 'bauchi11', 'bauchi13', 'bauchi15', 'bauchi17', 'bauchi19', 'bauchi2', 'bauchi25', 'bauchi3', 'bauchi36', 'bauchi4', 'bauchi5', 'bauchi6', 'bauchi69', 'bauchi7', 'bauchi8', 'bauchi9', 'bay', 'bayelsa1', 'bayelsa11', 'bayelsa13', 'bayelsa14', 'bayelsa17', 'bayelsa23', 'bayelsa25', 'bayelsa27', 'bayelsa3', 'bayelsa54', 'bayelsa6', 'bayelsa7', 'bayelsa8', 'bayelsa9', 'bayero', 'bazar', 'bbc', 'bbibpcorv', 'bc', 'bcg', 'bcoz', 'bd', 'be', 'beach', 'bean', 'bear', 'beard', 'bearing', 'beast', 'beat', 'beaten', 'beating', 'beautician', 'beautiful', 'became', 'because', 'become', 'becomes', 'becoming', 'becoz', 'bed', 'bedroom', 'beef', 'been', 'beer', 'beet', 'before', 'began', 'begin', 'beginning', 'begun', 'behavior', 'behaviour', 'behind', 'beijing', 'being', 'belarus', 'belgian', 'belgium', 'belief', 'believe', 'believed', 'believing', 'belize', 'bellends', 'bello', 'belong', 'belongs', 'below', 'belsky', 'belt', 'ben', 'benchmark', 'bendigo', 'beneath', 'beneficiary', 'benefit', 'benefited', 'bengal', 'bengali', 'bent', 'benue', 'benue1', 'benue2', 'benue21', 'benue24', 'benue3', 'benue32', 'benue4', 'benue43', 'benue5', 'benzalkonium', 'bereaved', 'bereavement', 'berejiklians', 'berger', 'berlin', 'berry', 'bersani', 'beshear', 'besides', 'best', 'bet', 'betacoronaviruses', 'betadine', 'better', 'bettiah', 'between', 'beverage', 'beware', 'beyond', 'bezgate', 'bfast', 'bhabhi', 'bhagalpur', 'bhagwants', 'bhan', 'bharat', 'bharath', 'bhi', 'bhima', 'bhopal', 'bhopals', 'bicarbonate', 'bidding', 'biden', 'bidens', 'bidensoetoro', 'bidensooetoro', 'bidhuri', 'big', 'bigger', 'biggest', 'bihar', 'biil', 'bilateral', 'biliary', 'bill', 'billiion', 'billion', 'billionaire', 'bima', 'binaxnow', 'bind', 'binding', 'bio', 'bioengineered', 'biological', 'biologist', 'biology', 'biomagnetism', 'biomedical', 'biopharma', 'biosafety', 'bioscience', 'biosecurity', 'bioshield', 'biotech', 'bioweapon', 'bird', 'birnin', 'birth', 'birthday', 'birx', 'biscuit', 'bit', 'bite', 'bitter', 'bizarre', 'bjp', 'bjprun', 'bjps', 'black', 'blackled', 'blackpool', 'bladder', 'blame', 'blamed', 'blarney', 'blasio', 'blatantly', 'bleach', 'bleachbased', 'bleak', 'bless', 'blessed', 'blindingly', 'blindly', 'blindlyfollowing', 'block', 'blocked', 'blocking', 'blog', 'blogger', 'blood', 'bloodbrain', 'blooded', 'bloodletting', 'bloomfield', 'blow', 'blowing', 'blue', 'bluff', 'bmc', 'bmj', 'bo', 'board', 'boast', 'boasting', 'boat', 'bob', 'bobby', 'body', 'bogotá', 'bogy', 'boiled', 'boiling', 'bolivar', 'bolivia', 'bolivian', 'bollywood', 'bollywoof', 'bolsonaro', 'bolton', 'bomb', 'bombed', 'bon', 'bone', 'bong', 'bonhomme', 'bonus', 'book', 'booking', 'bookmark', 'boom', 'boone', 'boost', 'boosted', 'booster', 'bootsontheground', 'border', 'boris', 'born', 'borne', 'borno', 'borno1', 'borno11', 'borno12', 'borno13', 'borno14', 'borno17', 'borno19', 'borno2', 'borno21', 'borno26', 'borno30', 'borno4', 'borno5', 'borno6', 'borno7', 'borno8', 'borno9', 'borrowed', 'bos', 'bossle', 'boston', 'bosé', 'botafogos', 'botch', 'both', 'bother', 'bothso', 'bottle', 'bottled', 'bottleneck', 'bottom', 'bottomed', 'boucher', 'bought', 'bounce', 'bound', 'boundary', 'bowl', 'box', 'boy', 'boyacá', 'brace', 'braced', 'brad', 'brahman', 'brahmin', 'brain', 'branch', 'brand', 'brandnew', 'brandolino', 'brave', 'brazailian', 'brazil', 'brazilian', 'brazilnow', 'breached', 'bread', 'break', 'breakdown', 'breaker', 'breakfast', 'breaking', 'breakthroug', 'breakthrough', 'breast', 'breastfeed', 'breastfeed@drtedros', 'breastfeeding', 'breath', 'breathe', 'breathing', 'breathlessness', 'breed', 'brewed', 'brexit', 'brian', 'bribe', 'bribed', 'brick', 'bridge', 'briefed', 'briefing', 'bright', 'brighten', 'brilliant', 'bring', 'bringing', 'brings', 'brink', 'briones', 'brisbane', 'brit', 'britain', 'british', 'briton', 'brl', 'broad', 'broad10', 'broadcast', 'broaden', 'broader', 'broadest', 'broadly', 'broadscale', 'broiler', 'broke', 'broken', 'broking', 'bronx', 'brooklyn', 'brother', 'brought', 'brownsville', 'bruno', 'brush', 'brute', 'btk', 'bu', 'bubble', 'bubonic', 'bucaramanga', 'buck', 'buddhist', 'budget', 'buenaventura', 'buenos', 'buffet', 'bug', 'buhari', 'build', 'building', 'built', 'bulgaria', 'bulk', 'bull', 'bullet', 'bulletin', 'bullfight', 'bullfighter', 'bullshit', 'bump', 'bumper', 'bunch', 'bundle', 'bunker', 'bunkum', 'burden', 'bureau', 'burecrat', 'burger', 'burglar', 'burial', 'buried', 'burka', 'burn', 'burned', 'burnham', 'burning', 'burr', 'bury', 'burying', 'bus', 'busey', 'business', 'businessman', 'buster', 'busy', 'busy😖', 'but', 'butand', 'butbecause', 'buttar', 'buy', 'buyer', 'buying', 'buyutikum', 'by', 'byer', 'byoblu', 'bypass', 'bypassed', 'byrti', 'c', 'c19', 'ca', 'caba', 'caballero', 'cabbage', 'cabellos', 'cabinet', 'cable', 'cached', 'cadila', 'caesarean', 'cahill', 'cain', 'cake', 'calahorra', 'calculate', 'calculating', 'calendar', 'cali', 'calibrated', 'calif', 'california', 'californiavirginia', 'call', 'called', 'caller', 'calling', 'calm', 'calmly', 'cambridge', 'came', 'camel', 'camila', 'camilla', 'camp', 'campaign', 'camper', 'campos', 'campus', 'can', 'canada', 'canadian', 'canal', 'cancel', 'canceled', 'cancellation', 'cancelled', 'cancer', 'candidate', 'candidates@drtedros', 'candle', 'cane', 'canedsupport', 'canine', 'cannon', 'cannot', 'cansinos', 'cant', 'capacity', 'capital', 'capitalism', 'capsule', 'captain', 'caption', 'captivity', 'capture', 'captured', 'capturing', 'caput', 'car', 'carabinieri', 'carbon', 'card', 'cardboard', 'cardiac', 'cardio', 'cardiology', 'cardiovascular', 'care', 'career', 'careful', 'carefully', 'caregiver', 'careless', 'caretaker', 'cargo', 'caring', 'carl', 'carlos', 'carlson', 'carlsons', 'carolina', 'carona', 'carpet', 'carping', 'carrefour', 'carried', 'carrier', 'carry', 'carrying', 'cart', 'cartagena', 'cartel', 'casaulty', 'case', 'casebycase', 'casefatality', 'caseload', 'casemanagement', 'cases+cureddischargedmigrated+deaths', 'cases+deaths', 'cases19', 'casesstill', 'casestill', 'cases\\u2063', 'case\\u2063', 'cash', 'cashew', 'cast', 'caste', 'casteism', 'casting', 'casual', 'casualty', 'cat', 'catalyst', 'catastrophe', 'catc', 'catch', 'catching', 'categorically', 'category', 'catfish', 'cattle', 'cauca', 'caught', 'cause', 'caused', 'causing', 'caution', 'cautioning', 'cautious', 'cautious@drtedros', 'caveat', 'caveated', 'cavity', 'cbac', 'cbc', 'cbse', 'cc', 'cccs', 'ccp', 'ccpamp', 'ccps', 'cctv', 'cdc', 'cdcapproved', 'cdu', 'ce', 'ceará', 'cease', 'cede', 'ceiling', 'celaá', 'celcius', 'celebrate', 'celebrated', 'celebrating', 'celebration', 'celebratory', 'celebrity', 'cell', 'cemetery', 'censor', 'censored', 'census', 'cent', 'center', 'centerstage', 'central', 'centre', 'centreled', 'centre😱', 'century', 'ceo', 'cerebral', 'ceremonial', 'ceremony', 'certain', 'certainly', 'certificate', 'certified', 'cessation', 'cfr', 'cghs', 'chaand', 'chain', 'chair', 'chairman', 'chairmant', 'chalisa', 'challenge', 'challenging', 'chamber', 'championing', 'chan', 'chanakya', 'chance', 'chancellor', 'chandigarh', 'chandrabhaga', 'chang', 'change', 'changed', 'changeover', 'changer', 'changing', 'channel', 'channelled', 'chant', 'chaos', 'chaotic', 'character', 'characterised', 'characteristic', 'charge', 'charged', 'charging', 'charity', 'charles', 'charm', 'chart', 'charter', 'chase', 'chat', 'chatbot', 'chatbots', 'cheap', 'cheaper', 'cheat', 'cheated', 'cheb', 'check', 'checked', 'checken', 'checker', 'checking', 'checkout', 'checkup', 'cheek', 'cheer', 'cheering', 'cheesburger', 'chemical', 'chemicalwarfare', 'chemist', 'chemistry', 'chemo', 'chemotherapy', 'chen', 'cheque', 'cherrypicked', 'cherrypicks', 'chest', 'chhattisgarh', 'chicago', 'chicken', 'chicomvirus', 'chidambaram', 'chief', 'child', 'childcare', 'childhood', 'childrens', 'childshealth', 'chile', 'chill', 'chin', 'china', 'chinatown', 'chinda', 'chinese', 'chip', 'chiquitos', 'chirayu', 'chlorhexidine', 'chloride', 'chlorine', 'chlorite', 'chloroquine', 'chloroquinehydroxychloroquine', 'chloroxylenol', 'chmp', 'choice', 'choke', 'cholera', 'choose', 'choosing', 'chopped', 'chorley', 'chose', 'chosen', 'chouhan', 'chow', 'chris', 'christ', 'christchurch', 'christian', 'christine', 'christopher', 'chromolaena', 'chronic', 'chuck', 'chunk', 'chupacabra', 'church', 'chyna', 'cientists', 'cigar', 'cigarette', 'cinema', 'circle', 'circuit', 'circulate', 'circulated', 'circulates', 'circulating', 'circulation', 'circumstance', 'circus', 'cite', 'cited', 'citing', 'citizen', 'citrus', 'city', 'citylevel', 'citywide', 'civil', 'civilization', 'ciyal', 'clad', 'claim', 'claimed', 'claiming', 'claire', 'clara', 'clarification', 'clarified', 'clarifies', 'clarify', 'clarity', 'clashed', 'class', 'classic', 'classified', 'classroom', 'clause', 'clean', 'cleaner', 'cleanest', 'cleaning', 'clear', 'clearance', 'cleared', 'clearly', 'clemson', 'clever', 'click', 'clicking', 'client', 'climate', 'climb', 'climbing', 'clinic', 'clinical', 'clinically', 'clinician', 'clinton', 'clip', 'clipon', 'clique', 'clive', 'clo2', 'clock', 'clooney', 'clorox', 'close', 'closed', 'closed\\u2063', 'closely', 'closer', 'closest', 'closing', 'closure', 'clot', 'cloth', 'clothes', 'clothesline', 'club', 'clue', 'cluster', 'clusters\\u2063', 'clusters\\u2063\\u2063\\u2063\\u2063', 'cluster\\u2063', 'clutching', 'clínicas', 'cm', 'cn', 'cnbc', 'cnn', 'cnns', 'cns', 'cnt', 'co', 'coa', 'coach', 'coaching', 'coagulopathy', 'coast', 'coat', 'coauthor', 'cobas', 'cobbled', 'cobey', 'cobr', 'cobra', 'coca', 'cocaine', 'code', 'codechecking', 'coded', 'codelevel', 'coffee', 'coffin', 'cohen', 'cohort', 'coin', 'coincidence', 'coinfected', 'coinfection', 'cointrirs', 'cola', 'cold', 'colder', 'coldlike', 'coleen', 'colfax', 'collaboration', 'collaborative', 'collapse', 'collapsed', 'collapsing', 'collated', 'collates', 'colleague', 'collect', 'collected', 'collecting', 'collection', 'collective', 'collectively', 'collector', 'college', 'collegerelated', 'collide', 'collins', 'colloidal', 'colombia', 'colombian', 'colombo', 'colony', 'color', 'colorado', 'colored', 'colour', 'columbia', 'column', 'comatose', 'combat', 'combating', 'combination', 'combine', 'combined', 'combo', 'come', 'comeback', 'comedian', 'comedk', 'coming', 'command', 'commemorate', 'commemorative', 'commenced', 'commensurate', 'comment', 'commercial', 'commission', 'commissioner', 'commit', 'commitment', 'commitment@drtedros', 'commits', 'committed', 'committee', 'committing', 'commodity', 'commodore', 'common', 'commonly', 'comms', 'communal', 'communicate', 'communicated', 'communicating', 'communication', 'communist', 'communitiesis', 'community', 'communitybased', 'communitywide', 'commute', 'comorbidities', 'company', 'companybranded', 'comparable', 'comparatively', 'compare', 'compared', 'comparing', 'comparison', 'compassionate', 'compatible', 'compelling', 'compensated', 'competition', 'competitive', 'competitor', 'compilation', 'compile', 'compiled', 'compiles', 'complacent', 'complain', 'complaint', 'complete', 'completed', 'completely', 'completes', 'completing', 'completion', 'complex', 'complexity', 'compliance', 'compliant', 'complicated', 'complication', 'complicit', 'comply', 'complying', 'component', 'compose', 'compound', 'comprehensive', 'comprehensively', 'comprehensiveness', 'comprising', 'compromise', 'compromising', 'compulsory', 'compute', 'computer', 'computing', 'concentrated', 'concentrating', 'concentration', 'concern', 'concerned', 'concerning', 'concert', 'concerted', 'concluded', 'conclusion', 'conclusive', 'concoction', 'concordance', 'concrete', 'condemned', 'condition', 'conditioner', 'conditioning', 'conduct', 'conducted', 'conducting', 'conestyle', 'confederate', 'conference', 'confers', 'confidence', 'confident', 'confinement', 'confirm', 'confirmation', 'confirmed', 'confirming', 'confirms', 'confiscated', 'confiscating', 'confiscation', 'confounding', 'confuse', 'confused', 'confusing', 'confusion', 'congestion', 'congolese', 'congrats', 'congratulating', 'congregate', 'congregation', 'congress', 'congressman', 'conjecture', 'connect', 'connected', 'connecticut', 'connecting', 'connection', 'connived2defendthemselves', 'consecutive', 'consensus', 'consent', 'consequence', 'conservative', 'conserve', 'conserved', 'consider', 'considerable', 'considerably', 'consideration', 'considered', 'considering', 'considers', 'consist', 'consistency', 'consistent', 'consistently', 'consisting', 'consists', 'consortium', 'conspiraciesfake', 'conspiracy', 'constant', 'constantly', 'constituent', 'constitute', 'constituted', 'constitutes', 'constrained', 'constraint', 'constructed', 'construction', 'consult', 'consultant', 'consultation', 'consulted', 'consume', 'consumed', 'consumer', 'consuming', 'consumption', 'cont', 'contact', 'contacted', 'contacted\\u2063', 'contacting', 'contagion', 'contagious', 'contain', 'container', 'containing', 'containment', 'contains', 'contaminated', 'conte', 'contempl', 'content', 'contest', 'contest@drtedros', 'context', 'contin', 'continent', 'continue', 'continued', 'continues', 'continuing', 'continuity', 'continuous', 'continuously', 'contr', 'contraception', 'contract', 'contracted', 'contracting', 'contradiction', 'contrary', 'contribute', 'contributed', 'contributes', 'contributing', 'contribution', 'control', 'control@drtedros', 'controllable', 'controlled', 'controller', 'controlling', 'controllingtracking', 'controversial', 'controversy', 'convalescent', 'convened', 'convention', 'converge', 'conversation', 'conversion', 'convert', 'converted', 'converting', 'convicted', 'convince', 'cook', 'cooking', 'cooky', 'cool', 'cooling', 'cooly', 'cooper', 'cooperation', 'coordinate', 'coordinated', 'coordination', 'coordinator', 'cop', 'copayment', 'cope', 'copied', 'coping', 'coranavirus', 'core', 'corinavirus', 'corned', 'cornoavirus', 'coroanvirus', 'corona', 'coronacalled', 'coronacheck', 'coronacorner', 'coronary', 'coronation', 'coronavac', 'coronavirua', 'coronavirus', 'coronaviruses', 'coronavirusfree', 'coronavirusinduced', 'coronavirusinfected', 'coronavirusinfested', 'coronaviruslike', 'coronaviruspositive', 'coronavirusrelated', 'coronavirusthemed', 'coronavrus', 'coronawatch', 'coronil', 'coronilpost', 'coronilvati', 'corporate', 'corporation', 'corps', 'corpse', 'correct', 'corrected', 'correction', 'correctional', 'correctly', 'correctness', 'corrector', 'correlation', 'correspond', 'correspondent', 'corridor', 'corrientes', 'corticosteroid', 'cosara', 'cost', 'costco', 'costing', 'costly', 'cotton', 'couch', 'cough', 'coughing', 'could', 'couldnt', 'couldshould', 'council', 'count', 'counted', 'counter', 'counterpart', 'counting', 'countries@drtedros', 'country', 'county', 'couple', 'coupled', 'course', 'court', 'cov2', 'covax', 'covaxin', 'cover', 'coverage', 'covered', 'covering', 'covid', 'covid1', 'covid19', 'covid19nigeria', 'covid19related', 'covid19s', 'covid19\\u200b', 'covid19\\u2063', 'covidiots', 'covidnet', 'covidrelated', 'covidsafe', 'cow', 'cowdung', 'cr', 'crazy', 'cream', 'create', 'created', 'creating', 'credit', 'creeping', 'crematorium', 'creted', 'crew', 'cricket', 'crime', 'criminal', 'criminalized', 'crisis', 'cristiano', 'criterion', 'critical', 'critically', 'crore', 'cross', 'crossed', 'crossing', 'crowd', 'crowded', 'crown', 'crucial', 'cruise', 'cry', 'ct', 'cuba', 'cultural', 'cummings', 'cumulative', 'cumulatively', 'cunial', 'cuomo', 'cup', 'cupboard', 'curbside', 'cure', 'cured', 'cureddischargedmigrated', 'cureddischargedmigrated+active', 'curedrecovered', 'curfew', 'currency', 'current', 'currently', 'curve', 'customer', 'cut', 'cutting', 'cv', 'cv19', 'd', 'da', 'dad', 'dadar', 'daily', 'dakota', 'dallas', 'damage', 'damascus', 'dana', 'dancing', 'danger', 'dangerous', 'daniel', 'dark', 'dashboard', 'data', 'dataset', 'date', 'dating', 'daughter', 'david', 'dawood', 'dawson', 'day', 'dc', 'dcgi', 'de', 'dead', 'deadline', 'deadly', 'deal', 'dear', 'death', 'deathsmillion', 'debate', 'debt', 'debunk', 'debunked', 'debunking', 'decade', 'deceased', 'december', 'decent', 'decide', 'decided', 'deciding', 'decision', 'decisive', 'decisively', 'deck', 'declaration', 'declared', 'declares', 'decline', 'declined', 'declining', 'decontamination', 'decrease', 'decreased', 'decreasing', 'dedicated', 'deep', 'deeper', 'defeat', 'defeated', 'defeating', 'defence', 'defend', 'defense', 'defer', 'deficiency', 'definitely', 'definition', 'degree', 'dehradun', 'del', 'delaware', 'delay', 'delayed', 'deleted', 'delhi', 'deliver', 'delivered', 'delivering', 'delivery', 'delta', 'delta10', 'delta12', 'delta13', 'delta16', 'delta18', 'delta25', 'delta3', 'delta37', 'delta5', 'delta6', 'delta7', 'demand', 'demanding', 'democrat', 'democratic', 'demographic', 'demonstrated', 'demonstrating', 'demonstration', 'denial', 'denied', 'denies', 'denmark', 'densely', 'density', 'departing', 'department', 'departure', 'depend', 'depending', 'depends', 'deploy', 'deployed', 'depopulate', 'depressing', 'depression', 'depth', 'deputy', 'derived', 'dermatology', 'desai', 'desantis', 'describes', 'describing', 'description', 'deserves', 'design', 'designed', 'desired', 'despite', 'destination', 'destroy', 'destroyed', 'destroying', 'destroys', 'detail', 'detailed', 'detain', 'detect', 'detected', 'detection', 'detention', 'determine', 'determined', 'detroit', 'dettol', 'devastated', 'devastating', 'develop', 'developed', 'developer', 'developing', 'development', 'develops', 'devi', 'dewine', 'dexamethasone', 'dexamethsaone', 'dg', 'dhb', 'diabetes', 'diagnose', 'diagnosed', 'diagnosis', 'diagnostic', 'diagnostics', 'diamond', 'did', 'didnt', 'dido', 'die', 'died', 'difference', 'different', 'differently', 'difficult', 'difficulty', 'diffies', 'digital', 'dilution', 'dioxide', 'dip', 'direct', 'directed', 'direction', 'directive', 'directly', 'director', 'directorgeneral', 'directs', 'dirty', 'disappear', 'disaster', 'discard', 'discarded', 'discharge', 'discharged', 'discipline', 'discontinued', 'discover', 'discovered', 'discovers', 'discovery', 'discrepancy', 'discus', 'discussion', 'disease', 'disheveled', 'disinfect', 'disinfectant', 'disinfected', 'disinfecting', 'disinfection', 'disorder', 'disparity', 'disposable', 'disproportionately', 'disregard', 'disrupted', 'disruption', 'distance', 'distancing', 'distant', 'distraction', 'distribute', 'distributed', 'distributing', 'distribution', 'district', 'dive', 'diverse', 'diy', 'dma', 'dmk', 'dna', 'dnc', 'do', 'doc', 'doctor', 'doctored', 'document', 'documentary', 'documentation', 'doe', 'doesnt', 'dog', 'doha', 'dollar', 'domestic', 'dominic', 'donald', 'donate', 'donated', 'donates', 'donation', 'done', 'donor', 'dont', 'don´t', 'doomed', 'doomsday', 'door', 'doria', 'dos', 'dose', 'double', 'doubled', 'doubled@drtedros', 'doubling', 'doubt', 'doug', 'doused', 'down', 'download', 'downplayed', 'downward', 'downwards', 'dozen', 'dph', 'dr', 'drastically', 'draw', 'dressed', 'drew', 'drifting', 'drink', 'drinking', 'drive', 'driven', 'driver', 'driving', 'drone', 'drop', 'droplet', 'dropped', 'dropping', 'drove', 'drug', 'drunk', 'dry', 'dubai', 'dublin', 'duck', 'due', 'dump', 'dumped', 'dundee', 'duration', 'durham', 'during', 'dutch', 'duterte', 'duty', 'dy', 'dying', 'dyk', 'dynamic', 'e', 'each', 'eager', 'ear', 'earlier', 'early', 'earn', 'earth', 'ease', 'eased', 'easier', 'easily', 'easing', 'east', 'eastern', 'easy', 'eat', 'eating', 'ebola', 'ebonyi11', 'ebonyi17', 'ebonyi19', 'ebonyi3', 'ebonyi4', 'ebonyi9', 'ecmo', 'economic', 'economy', 'ecuador', 'ecuadorian', 'ed', 'editor', 'edo', 'edo1', 'edo13', 'edo17', 'edo19', 'edo2', 'edo22', 'edo23', 'edo3', 'edo6', 'edo7', 'edo8', 'educate', 'education', 'educational', 'edward', 'effect', 'effective', 'effectively', 'effectiveness', 'efficacious', 'efficacy', 'efficiency', 'efficient', 'efficiently', 'effort', 'eg', 'egyptian', 'eight', 'either', 'ekiti', 'ekiti1', 'ekiti2', 'ekiti3', 'ekiti4', 'ekiti6', 'ekiti8', 'ekiti9', 'el', 'elbow', 'elderly', 'elected', 'election', 'elective', 'electoral', 'electromagnetic', 'elevated', 'eligible', 'eliminate', 'eliminates', 'elimination', 'elizabeth', 'else', 'elsewhere', 'email', 'embrace', 'embracing', 'emerged', 'emergency', 'emerges', 'emerging', 'emirate', 'emission', 'emotionally', 'emphasis', 'emphasize', 'employed', 'employee', 'employment', 'empty', 'enable', 'enabled', 'enables', 'encourage', 'encouraged', 'encourages', 'encouraging', 'end', 'ended', 'ending', 'endorses', 'enema', 'enemy', 'enforce', 'enforced', 'enforcement', 'engage', 'engagement', 'engaging', 'engineered', 'engineering', 'england', 'english', 'enhanced', 'enjoy', 'enjoyed', 'enough', 'enrolled', 'enrollment', 'ensure', 'ensured', 'ensuring', 'enter', 'entered', 'entering', 'entire', 'entirely', 'entitled', 'entity', 'entrance', 'entry', 'enugu', 'enugu14', 'enugu15', 'enugu2', 'enugu25', 'enugu6', 'enugu7', 'enugu9', 'environmental', 'envoy', 'epidemic', 'epidemiological', 'epidemiologist', 'equipment', 'equitable', 'equity', 'equivalent', 'er', 'eradicate', 'erratic', 'erroneously', 'error', 'escape', 'especially', 'essential', 'established', 'establishes', 'estimate', 'estimated', 'et', 'etc', 'ethiopian', 'ethnic', 'ethnicity', 'eu', 'eucalyptus', 'euro', 'europe', 'european', 'evaluate', 'evaluation', 'evangelical', 'evangelicals', 'even', 'evening', 'event', 'eventually', 'ever', 'every', 'everybody', 'everyday', 'everyone', 'everyones', 'everything', 'everywhere', 'eviction', 'evidence', 'evil', 'evolution', 'evolves', 'ex', 'exact', 'exactly', 'exaggerated', 'exam', 'examination', 'examines', 'example', 'exceed', 'exceeded', 'exceeds', 'excellent', 'except', 'exception', 'exceptional', 'excerpt', 'excess', 'excessive', 'excited', 'exclusive', 'excuse', 'executive', 'exempt', 'exemption', 'exercise', 'exhausted', 'exist', 'existed', 'existing', 'exists', 'exosome', 'exotic', 'expand', 'expanded', 'expanding', 'expansion', 'expect', 'expected', 'expecting', 'expel', 'expelled', 'expensive', 'experience', 'experienced', 'experiencing', 'expert', 'explain', 'explained', 'explainer', 'explaining', 'explains', 'explanation', 'explosion', 'exponential', 'exponentially', 'export', 'exporting', 'exposed', 'exposure', 'expresident', 'expression', 'expressly', 'extend', 'extended', 'extending', 'extends', 'extension', 'extensive', 'extent', 'extra', 'extreme', 'extremely', 'extremist', 'eye', 'fabiflu', 'face', 'facebook', 'facemask', 'facilitate', 'facilitating', 'facilitation', 'facilities\\u200b\\u2063', 'facility', 'facing', 'fact', 'factcheck', 'factchecked', 'factchecking', 'factchecks', 'factor', 'factory', 'fad', 'fade', 'fail', 'failed', 'failing', 'fails', 'failure', 'fair', 'faith', 'fake', 'fall', 'fallen', 'falling', 'false', 'falsehood', 'fami', 'family', 'famous', 'fan', 'faq', 'far', 'farmer', 'fascinating', 'fascist', 'fashion', 'fast', 'faster', 'fastest', 'fatal', 'fatality', 'father', 'fatigue', 'fauccis', 'fauci', 'faucian', 'faucis', 'favipiravir', 'favor', 'fbi', 'fct', 'fct138', 'fct14', 'fct25', 'fct26', 'fct29', 'fct34', 'fct35', 'fct38', 'fct52', 'fct60', 'fda', 'fear', 'feature', 'feb', 'february', 'federal', 'feedback', 'feel', 'feeling', 'fell', 'fellowship', 'felony', 'felt', 'fema', 'female', 'fennel', 'ferguson', 'fernández', 'fever', 'fewer', 'fewest', 'fibrosis', 'fiction', 'field', 'fifth', 'fight', 'fighting', 'figure', 'figuring', 'file', 'filed', 'filipino', 'filled', 'film', 'filmed', 'filming', 'final', 'finalising', 'finally', 'finance', 'financial', 'financially', 'find', 'finding', 'fine', 'fined', 'finished', 'fire', 'firearm', 'fired', 'firing', 'first', 'fiscal', 'fish', 'fistbump', 'fit', 'fitness', 'five', 'fix', 'fixed', 'fixing', 'fl', 'fla', 'flag', 'flattened', 'flawed', 'flew', 'flight', 'floor', 'florida', 'flour', 'flouting', 'flu', 'flulike', 'fly', 'flying', 'focus', 'focused', 'focusing', 'focussed', 'folk', 'follow', 'followed', 'follower', 'following', 'follows', 'followup', 'food', 'foot', 'footage', 'football', 'for', 'forbade', 'force', 'forced', 'ford', 'forecast', 'foreign', 'foreigner', 'foreseeable', 'forever', 'forged', 'forget', 'forgotten', 'form', 'former', 'fortaleza', 'forward', 'fought', 'found', 'foundation', 'founder', 'four', 'fourmonth', 'fourteen', 'fourth', 'fox', 'fraction', 'framework', 'france', 'francis', 'fraud', 'free', 'freedom', 'freely', 'freeview', 'freezing', 'french', 'frequency', 'frequently', 'fresh', 'freshly', 'friday', 'friend', 'frm', 'from', 'front', 'frontline', 'frozen', 'fruit', 'frustration', 'ft', 'fuck', 'fuel', 'full', 'fully', 'function', 'functional', 'fund', 'fundamental', 'fundamentally', 'funded', 'funding', 'funeral', 'fungal', 'funneled', 'funny', 'furlough', 'future', 'ga', 'gain', 'galicia', 'gamcovidvac', 'game', 'gandhi', 'ganga', 'gap', 'gargle', 'gargling', 'garib', 'garlic', 'gate', 'gather', 'gathered', 'gathering', 'gave', 'gay', 'gear', 'gender', 'general', 'generally', 'generate', 'generated', 'generation', 'genetic', 'genexpert', 'genius', 'genocide', 'genomic', 'gentleman', 'genuine', 'geographical', 'george', 'georgia', 'gerais', 'germ', 'german', 'germany', 'get', 'getting', 'ghana', 'ghislaine', 'gift', 'gifted', 'gilead', 'ginger', 'girl', 'give', 'given', 'giving', 'glad', 'global', 'globally', 'globe', 'glove', 'go', 'goal', 'god', 'goi', 'going', 'gold', 'gombe', 'gombe1', 'gombe2', 'gombe21', 'gombe3', 'gombe30', 'gombe4', 'gombe5', 'gombe6', 'gone', 'gonna', 'good', 'goodbye', 'goodwill', 'google', 'gop', 'got', 'gotten', 'gourd', 'gov', 'gove', 'government', 'governor', 'govt', 'gowdy', 'gown', 'gp', 'gps', 'grade', 'graded', 'graduate', 'graf', 'grand', 'grandparent', 'grant', 'granted', 'graph', 'graphic', 'grateful', 'gratitude', 'grave', 'graveyard', 'great', 'greater', 'greatest', 'greatly', 'greece', 'green', 'grenons', 'gretchen', 'grieve', 'grim', 'grime', 'grocery', 'ground', 'groundbreaking', 'group', 'grow', 'growing', 'grown', 'growth', 'gt', 'gt70', 'gtgtgt', 'guarantee', 'guatemalan', 'guess', 'guest', 'guidance', 'guide', 'guideline', 'guidelinesnotifications', 'guinean', 'gujarat', 'gun', 'guy', 'gym', 'h', 'h1n1', 'ha', 'habit', 'hack', 'had', 'hadio', 'hadnt', 'hail', 'hair', 'hairdresser', 'haji', 'hajipur', 'half', 'hall', 'halt', 'hamster', 'hancock', 'hand', 'handed', 'handing', 'handle', 'handling', 'hangover', 'hank', 'hantavirus', 'happen', 'happened', 'happening', 'happens', 'happy', 'hard', 'harder', 'hardest', 'harding', 'hardship', 'hare', 'haripriya', 'harm', 'harmful', 'harmless', 'harris', 'harry', 'harvard', 'haryana', 'hasnt', 'hat', 'hate', 'hav', 'have', 'havent', 'having', 'hcq', 'he', 'head', 'headache', 'heading', 'headline', 'headquarters', 'headroom', 'headteacher', 'heal', 'health', 'healthcare', 'healthline', 'healthy', 'health\\u2063', 'hear', 'heard', 'hearing', 'heart', 'heat', 'heath', 'heavily', 'heavy', 'height', 'held', 'heleno', 'hell', 'hello', 'help', 'helped', 'helping', 'helpline', 'hence', 'her', 'herbal', 'herd', 'here', 'herman', 'hero', 'hhs', 'hi', 'hidden', 'hiding', 'high', 'higher', 'highest', 'highincome', 'highlight', 'highlighting', 'highly', 'highrisk', 'hill', 'hillary', 'hindu', 'hinted', 'his', 'hispanic', 'historic', 'historical', 'history', 'hit', 'hitting', 'hiv', 'hivaids', 'hmh', 'hoax', 'hold', 'holding', 'holiday', 'home', 'homeless', 'homemade', 'homeopathic', 'homeopathy', 'homeschooling', 'hon', 'honey', 'hong', 'honjo', 'honourable', 'honoured', 'hope', 'hopefully', 'hoping', 'hopkins', 'horizon', 'horny', 'horse', 'hosp', 'hospital', 'hospitalists', 'hospitality', 'hospitalization', 'hospitalizationsicu', 'hospitalized', 'hospitallevel', 'host', 'hosting', 'hot', 'hotel', 'hotline', 'hotspot', 'hour', 'house', 'household', 'housing', 'how', 'however', 'hr', 'https://t.co/03hguvcatu', 'https://t.co/1ato9qo0he', 'https://t.co/25nxirzawb.', 'https://t.co/2caogenfur', 'https://t.co/2l2qxh0m45', 'https://t.co/2rvg3dwbkt.', 'https://t.co/2xlf9mccft.', 'https://t.co/3lb8xsviva', 'https://t.co/4ku7nklzcq', 'https://t.co/4yblkisg6u', 'https://t.co/5l9jptglai', 'https://t.co/5rbbdr4r0u', 'https://t.co/6kydz6twwe', 'https://t.co/7c8w5pwnmp', 'https://t.co/98jmut3igq.', 'https://t.co/9jgwi7gszz', 'https://t.co/9zn2zytaud.', 'https://t.co/a36kao2nwa', 'https://t.co/adsrezpsfh', 'https://t.co/aiyoynmcus', 'https://t.co/apqxpndtq2', 'https://t.co/apswxjcfgw', 'https://t.co/b3qfvqwv7u', 'https://t.co/bzvndgpell', 'https://t.co/c0tikpeaju', 'https://t.co/c2ytwok7it', 'https://t.co/cs7uxqrrmn', 'https://t.co/cvqdye7lsb', 'https://t.co/dmfpoapmjw.', 'https://t.co/dmfpob7nbu.', 'https://t.co/dyojlfjhyd', 'https://t.co/e9cshsdhgy', 'https://t.co/ebclrcf6q3', 'https://t.co/eckw6gemjf', 'https://t.co/ewhzrrykvo', 'https://t.co/f6rtgrp6fe', 'https://t.co/f7bkftxkwc', 'https://t.co/f8twtytfvw', 'https://t.co/fadaeopahd', 'https://t.co/fbmsah20pg', 'https://t.co/fbzyq5mwng', 'https://t.co/fc2kzmgi5v', 'https://t.co/fc4ak6tyss', 'https://t.co/fc9vjdmlkn', 'https://t.co/fch0sk3mxr', 'https://t.co/fcj7uquv2k', 'https://t.co/fd0wvj8poy', 'https://t.co/fdky8dtgze', 'https://t.co/fdukyo2r60', 'https://t.co/fe1nxoafyf', 'https://t.co/fe2iixsrnh', 'https://t.co/fe6e7l6vf3', 'https://t.co/fegmdobt0q.', 'https://t.co/fejqpi2usl', 'https://t.co/feoauxk2sh', 'https://t.co/ff2clkj75p', 'https://t.co/ff6aoeyqyo', 'https://t.co/ffjbayfrwu', 'https://t.co/ffzg49lzsy', 'https://t.co/fgb1um5yia', 'https://t.co/fgsqlmknsf', 'https://t.co/fguiou9ocx', 'https://t.co/fh1gihbzmf', 'https://t.co/fhbenq7dh8', 'https://t.co/fhbxvurfi3', 'https://t.co/fhhkqfnsqf', 'https://t.co/fhn2dtr9o5', 'https://t.co/fihnbolfha', 'https://t.co/fimw82bw5j', 'https://t.co/fixtp4owsg', 'https://t.co/fjebfja7ue', 'https://t.co/fjjvyom9cu', 'https://t.co/fjmwknifyt', 'https://t.co/fjx27d97mw', 'https://t.co/fk3bsnj2nv', 'https://t.co/fk43aco3bk', 'https://t.co/fk67umijv0', 'https://t.co/fkcur2xiyx', 'https://t.co/fklg5szkct', 'https://t.co/fkqx9sl5x1', 'https://t.co/fkuf7lpgb1', 'https://t.co/fkw6dtg7ja', 'https://t.co/fld1w9v8be', 'https://t.co/fldrf9rlmn', 'https://t.co/flzwiqe4cl', 'https://t.co/fmeo2bn3ma', 'https://t.co/fmiss4o21t', 'https://t.co/fmly3uoese', 'https://t.co/fmu1izjoxf', 'https://t.co/fnaoqplbel', 'https://t.co/fomn3yfpv0', 'https://t.co/fovbu3ytzz', 'https://t.co/fovdvywk5n.', 'https://t.co/foymaf05nk', 'https://t.co/fp2qkqgau8', 'https://t.co/fpcdszklln', 'https://t.co/fpji8rr1ca', 'https://t.co/fpnnjcumsn', 'https://t.co/fpnqvo4pkr', 'https://t.co/fq75gaeclf', 'https://t.co/fqde3wbpvj', 'https://t.co/fqezaxa3p2', 'https://t.co/fqhg5m5xrn', 'https://t.co/fqnff7uthc', 'https://t.co/fqxfbs7x1g', 'https://t.co/fqxzvgwld9', 'https://t.co/frbsgczkhh', 'https://t.co/freh0aotrd', 'https://t.co/fsdgsipdmp', 'https://t.co/fsviahek5m', 'https://t.co/fswdbns7d4', 'https://t.co/ft6cgmampx', 'https://t.co/ft6cgmampx.', 'https://t.co/ft8kfntjka', 'https://t.co/ftca9h75oa', 'https://t.co/ftcppegcmz', 'https://t.co/ftefswsoho', 'https://t.co/ftpancwsvl', 'https://t.co/ftuook9et5', 'https://t.co/ftyffuhnjl', 'https://t.co/fudiofwvhc', 'https://t.co/fuqbumux30', 'https://t.co/fuqt2uqzwy', 'https://t.co/furgmzfqfq', 'https://t.co/fv9dnxmq9u', 'https://t.co/fvvjqlx0f7', 'https://t.co/fvzg1akx34', 'https://t.co/fwaqzjvtqt', 'https://t.co/fwbpmvluwr', 'https://t.co/fwecumsepp', 'https://t.co/fwxnj18rax', 'https://t.co/fx4rzxkisf', 'https://t.co/fxcaq0cj8w', 'https://t.co/fxefyr1wcs', 'https://t.co/fxhntokmnp', 'https://t.co/fxhntoslvr', 'https://t.co/fxjwcrccza', 'https://t.co/fxn0tdgga2', 'https://t.co/fxp7cpoadn', 'https://t.co/fxp7cq5lvl', 'https://t.co/fy4hx70hpl', 'https://t.co/fyqdtov0ru', 'https://t.co/fyqqnflgmt', 'https://t.co/fz4ogrshji.', 'https://t.co/fzbnhqbtb1', 'https://t.co/fzcfmgew39', 'https://t.co/fzfu8aqhtf', 'https://t.co/fzguxkfynk', 'https://t.co/fzsoxqp2k0', 'https://t.co/fztu1a8fuk', 'https://t.co/g09rluc4ye', 'https://t.co/g0ea6i4e4v', 'https://t.co/g0mi6wr79p', 'https://t.co/g14xh9gid9', 'https://t.co/g2pp3lwfgv', 'https://t.co/g2z10cchnb', 'https://t.co/g2z10cl6w3', 'https://t.co/g32a73zoog', 'https://t.co/g3bnfmyotn', 'https://t.co/g3dynzzapt', 'https://t.co/g3uidzr5sx', 'https://t.co/g45ejgwsbq', 'https://t.co/g4bsiwgnkr', 'https://t.co/g5frgvjd2f', 'https://t.co/g5fsw54ata', 'https://t.co/g5r6a1bbud', 'https://t.co/g5zoava7kg', 'https://t.co/g6bjx9skaf', 'https://t.co/g6gxfclpdh', 'https://t.co/g6nu3hz43p', 'https://t.co/g7iwr0idh2', 'https://t.co/g7seokvp1m', 'https://t.co/g7wsfwjdds.', 'https://t.co/g86t1djzho', 'https://t.co/g8bjultxgy', 'https://t.co/g8duiqxiwr.', 'https://t.co/g9r7axtgui', 'https://t.co/g9st0jqtex.', 'https://t.co/g9wgmgwrnx', 'https://t.co/g9xg06qim0', 'https://t.co/ga2u5k439x.', 'https://t.co/gatay941cy', 'https://t.co/gaxcvfklyx', 'https://t.co/gbbuczkwv0', 'https://t.co/gbshtm2ryb', 'https://t.co/gbtkc8eqfe', 'https://t.co/gbwy4uexur', 'https://t.co/gcetgdnfu6', 'https://t.co/gcw6z5lee5', 'https://t.co/gdfjrxcaua', 'https://t.co/gdfjrxl032', 'https://t.co/ged4pzv475', 'https://t.co/gegsgwpu6j', 'https://t.co/geh7dttbju', 'https://t.co/genbf1evlc', 'https://t.co/gf0ah3df8t', 'https://t.co/gfgam6dskh', 'https://t.co/gflece6cp5', 'https://t.co/gfma7e4qkf', 'https://t.co/ggcwl7oqdb', 'https://t.co/ggfi7pkgdr', 'https://t.co/ggipbvlrcv', 'https://t.co/ggjyvfjzrc', 'https://t.co/ggkcftiytx', 'https://t.co/ggpnzshipl', 'https://t.co/ggxvrnrtm3', 'https://t.co/gh3x7oulcn', 'https://t.co/ghdt5h81xy', 'https://t.co/ghmtivsnl1', 'https://t.co/ghxm0f2scv', 'https://t.co/gia6obrsrz', 'https://t.co/gialsrmmex', 'https://t.co/gialss3xd7', 'https://t.co/giqcafagck', 'https://t.co/gjhncfysuh', 'https://t.co/gjyydxkxxk', 'https://t.co/gkxgxuebvk', 'https://t.co/gkzv8vspcv', 'https://t.co/gkzv8vspcv.', 'https://t.co/gl8mkycbm9', 'https://t.co/gldutdl9fy', 'https://t.co/gleooiprtn', 'https://t.co/glmot1owei', 'https://t.co/glseyx2vdq', 'https://t.co/gm0zyr5nwr', 'https://t.co/gmjzjrgh3h', 'https://t.co/gmolux1uaq', 'https://t.co/gmuxovt2dh', 'https://t.co/gnmfbsgwue', 'https://t.co/gns6dtw0ak', 'https://t.co/gnvbb96u0e', 'https://t.co/goie2r04hz', 'https://t.co/gomcrbxi0n', 'https://t.co/gonub98qfb', 'https://t.co/gop9bfor0k', 'https://t.co/gou4ezknw1', 'https://t.co/gouos61y8u', 'https://t.co/gowytzsp0o', 'https://t.co/gp3lemn9de', 'https://t.co/gpoc5kogzr', 'https://t.co/gpqyw8gnx3', 'https://t.co/gptwvbklqr', 'https://t.co/gpwymqxeiv', 'https://t.co/gqd0wstkeo', 'https://t.co/gqkibmawpn', 'https://t.co/gqveo6zszw', 'https://t.co/gr1d3oipco', 'https://t.co/grkd6geufc', 'https://t.co/grpdchaisp', 'https://t.co/grvcvqlarp', 'https://t.co/grxipopygh', 'https://t.co/gsh9mslkzy', 'https://t.co/gtfhbpmxam', 'https://t.co/gu7jk6b1vp', 'https://t.co/gudbpy0x9d.', 'https://t.co/guo1q6kku8', 'https://t.co/gw4asvuost', 'https://t.co/gwfhy8c1k1', 'https://t.co/gwheewbb9s', 'https://t.co/gwhwaxy6qs', 'https://t.co/gwo9ri1hqk', 'https://t.co/gwtacoxqie', 'https://t.co/gwwomwo3da', 'https://t.co/gwyvlrsrjj', 'https://t.co/gxuqfxewxe', 'https://t.co/gyghkcibcb', 'https://t.co/gygogw1xaq', 'https://t.co/gywe4d6pp6', 'https://t.co/gz2dh4rdxm', 'https://t.co/gzr6yvxiim', 'https://t.co/gzzyuzhv9q', 'https://t.co/h14qdsgdio', 'https://t.co/h19f8daqis', 'https://t.co/h1gkuvtl4w', 'https://t.co/h1rtmixgcw', 'https://t.co/h1v6xjvtfq', 'https://t.co/h2uf26nxsr', 'https://t.co/h3ir0lrbvh', 'https://t.co/h3s2muzaee', 'https://t.co/h3vw0msetu', 'https://t.co/h4bobdsjsp', 'https://t.co/h4i12mflhl', 'https://t.co/h4yc6e8lob', 'https://t.co/h5ouywo9cj', 'https://t.co/h5pca1qzrs', 'https://t.co/h5r6igpma9', 'https://t.co/h6bnriqvop', 'https://t.co/h7ksbzfjkw', 'https://t.co/h7pqlafrxu', 'https://t.co/h7ur4y2f3t', 'https://t.co/h7zypgbf0r', 'https://t.co/h8mgjwdl7g', 'https://t.co/h8ns2gtd4x', 'https://t.co/h8ns2gtd4x.', 'https://t.co/h8s06ipxm0', 'https://t.co/h8td46ori5', 'https://t.co/h8tefvlh67', 'https://t.co/h90q5vwizq', 'https://t.co/h9obqjyxrm', 'https://t.co/h9sjid9vea', 'https://t.co/h9urdbsdxr', 'https://t.co/ha7dssglw0', 'https://t.co/hahvmq9kmw', 'https://t.co/hauaadvqy9', 'https://t.co/hb1es82rjm', 'https://t.co/hbnn32cafn', 'https://t.co/hbwvbu3vga', 'https://t.co/hc0c8iubo6', 'https://t.co/hcgwx8897g', 'https://t.co/hclvzmbhyl', 'https://t.co/hct53xhdah', 'https://t.co/hcuiptkg6y', 'https://t.co/hcvbhyvsmw', 'https://t.co/hd08bbpn3q', 'https://t.co/hd9qpqzj3o', 'https://t.co/he3qbyrufa', 'https://t.co/hezlh7u739', 'https://t.co/hfgslevlbd', 'https://t.co/hfhuvhkrvf', 'https://t.co/hfk5tdj9tq', 'https://t.co/hfsrxaaitq', 'https://t.co/hfyw98ytea', 'https://t.co/hg4o4aqz3x', 'https://t.co/hg51lmmodl', 'https://t.co/hgbx3yeq1z', 'https://t.co/hgi3yufkaw', 'https://t.co/hgq4p4v4wt', 'https://t.co/hgr7ffanyk', 'https://t.co/hgwrtd1hhr', 'https://t.co/hh13ebmgbe', 'https://t.co/hh2w5koj6c', 'https://t.co/hh6pdryswe', 'https://t.co/hhfwgw8xhy', 'https://t.co/hhrrsczwkq', 'https://t.co/hhvqf9zmc0', 'https://t.co/hi4yv0eiic', 'https://t.co/hiagiilrcu', 'https://t.co/hiwlgxmllr', 'https://t.co/hiwlntmpyb', 'https://t.co/hjevlde5vi', 'https://t.co/hjmhjhgc08', 'https://t.co/hjnqfoawk9', 'https://t.co/hjuj5purl6', 'https://t.co/hk3fctqqkb', 'https://t.co/hk3hpcwunx', 'https://t.co/hk8hrup8ay', 'https://t.co/hoonsq42zu', 'https://t.co/how3ie28gr', 'https://t.co/howhfx5wpe', 'https://t.co/hpjrxruyby', 'https://t.co/hpmlwpxd25', 'https://t.co/hpmmmgntef', 'https://t.co/hps6gkegld', 'https://t.co/hq4p8k1gjp', 'https://t.co/hqfr3zgppe', 'https://t.co/hqnkuvivo9', 'https://t.co/hqupmzcxb2', 'https://t.co/hrkwrgjvft', 'https://t.co/hrm84ewuuf', 'https://t.co/hrwqopfw4v', 'https://t.co/hs3rzaal1h', 'https://t.co/hs5vmi2xvb', 'https://t.co/hsdptrei1c', 'https://t.co/ht3jz5real', 'https://t.co/htekvgtx6r', 'https://t.co/htioaf5ihx', 'https://t.co/htiph2kxco', 'https://t.co/htkcd8wgpt', 'https://t.co/htlqsur4px', 'https://t.co/htohtdbl1p', 'https://t.co/htub0ajpy4', 'https://t.co/htysfnycad', 'https://t.co/htyv0ma5ta', 'https://t.co/htz96ulzq5', 'https://t.co/huarggc7ax', 'https://t.co/hudyelnd0m', 'https://t.co/hukbdqm35f', 'https://t.co/huntzrtqpb', 'https://t.co/hv5be1oaux', 'https://t.co/hvefzudjlh', 'https://t.co/hvhcyss3ps', 'https://t.co/hvhhi0nk9k', 'https://t.co/hvlgzocnky', 'https://t.co/hvq6onqigi', 'https://t.co/hvtcyihlz4', 'https://t.co/hvtcyizmqc', 'https://t.co/hvw3sfqa11', 'https://t.co/hw6mvljbp7', 'https://t.co/hx147ynwig', 'https://t.co/hx3je8i4wm', 'https://t.co/hx9qc4j2ol', 'https://t.co/hxrgvq8njn', 'https://t.co/hy1muplkpc', 'https://t.co/hyguincsem', 'https://t.co/hyszpf1mla', 'https://t.co/hzamkzfirk', 'https://t.co/hzge2ne9yu', 'https://t.co/hzh295yyj9', 'https://t.co/hzhcrprfn6.', 'https://t.co/hzxfkohttm', 'https://t.co/i0ble80y1i', 'https://t.co/i0ya5yftvz', 'https://t.co/i2hcrx0ahu', 'https://t.co/i36jcxbvij', 'https://t.co/i3kyyir03q', 'https://t.co/i3zpmdfeie', 'https://t.co/i4l8untf5a', 'https://t.co/i4zdaate9d', 'https://t.co/i5hng5qbkz', 'https://t.co/i5ifvttnf9', 'https://t.co/i5zo9bfugy', 'https://t.co/i6elcl0chz', 'https://t.co/i7aqjsrudh', 'https://t.co/i7gtdpgj5r', 'https://t.co/i84lydvvdh', 'https://t.co/i8sslwyrfy', 'https://t.co/i8yjjrnoth', 'https://t.co/i9bbzkvmkc', 'https://t.co/iagpi9ioqz', 'https://t.co/iazkwxgtik', 'https://t.co/ib4frxuxjd', 'https://t.co/ib7ckmch7x', 'https://t.co/ibeefhuzz7', 'https://t.co/ibf7ny6err', 'https://t.co/ibfmdnh3hi.', 'https://t.co/ibw5m0mdmc', 'https://t.co/ibxalvavtu.', 'https://t.co/ic6p6oh8rd', 'https://t.co/iccxh5vcee', 'https://t.co/ichoboxycy', 'https://t.co/icl1yfxkeg', 'https://t.co/icnwv0xffq', 'https://t.co/icqno0cimb', 'https://t.co/icr6oj4q1r.', 'https://t.co/icynft7evs', 'https://t.co/ie7kqshz2p', 'https://t.co/ieiebp7i7l', 'https://t.co/iejv2hyjkl', 'https://t.co/iekm99al3t', 'https://t.co/iepuxjl8ty', 'https://t.co/ierv2wlmmu', 'https://t.co/ierv2wubuw', 'https://t.co/if5pcoxd5l', 'https://t.co/ifdryzwafw', 'https://t.co/ifve1yv5y5', 'https://t.co/ig8zbi9p7b', 'https://t.co/igh6ua8oha.', 'https://t.co/igoehxgvrs', 'https://t.co/igrvslcawl', 'https://t.co/ih2irfg300.', 'https://t.co/ihbwco8lbl', 'https://t.co/iii0egbgzb', 'https://t.co/iiiwi5i2b1', 'https://t.co/iiwblhtvax', 'https://t.co/ijmzxjti2b', 'https://t.co/ikelewoqgl.', 'https://t.co/iki147iz2d', 'https://t.co/iksscmrxoz', 'https://t.co/ilegzrkpnt', 'https://t.co/ilssm6giwl', 'https://t.co/imojhnsrgm', 'https://t.co/imsab6eeba', 'https://t.co/imyencujrz', 'https://t.co/ingrle6njn', 'https://t.co/int4mcwqjg', 'https://t.co/inunhlpsg1', 'https://t.co/inzdx1lmrm', 'https://t.co/iocykpjsiz', 'https://t.co/ioqv5omdka.', 'https://t.co/ip0gahip7q.', 'https://t.co/ipuomiexvu', 'https://t.co/ipvwpjdtog', 'https://t.co/ipxcvwxhu2', 'https://t.co/iqhkcifprg', 'https://t.co/iqniamx1d6', 'https://t.co/iqntsfyso0.', 'https://t.co/ir2ice7lj5', 'https://t.co/ira6vstt1j', 'https://t.co/irh6e2hnj6', 'https://t.co/iriwfdz2xc', 'https://t.co/irm6dwhvyn', 'https://t.co/irokossks2', 'https://t.co/iryzrbzilu', 'https://t.co/isbyfxnv5a.', 'https://t.co/isjapui0ag', 'https://t.co/isomzyoepi', 'https://t.co/iswxjyqj9c', 'https://t.co/itagbmdxtb', 'https://t.co/itchlqzheu', 'https://t.co/ithjau9wmo', 'https://t.co/itiz9j6xu5', 'https://t.co/iuqu6milrq', 'https://t.co/ivhq2hfbok', 'https://t.co/ivhu3m1qnp', 'https://t.co/ivjqmes7yq', 'https://t.co/ivxdugybus', 'https://t.co/iw2ifktgg6', 'https://t.co/jkwwztfwss.', 'https://t.co/jkwwztxyhs.', 'https://t.co/jw9vsogjgo', 'https://t.co/jy6ojd1g7y', 'https://t.co/ktyazabu4m', 'https://t.co/kulxwpdc15.', 'https://t.co/kzncyfx70q', 'https://t.co/lcfch0fxct', 'https://t.co/lmiaablmji', 'https://t.co/lmr9xro4wi', 'https://t.co/lqlfumwmvu', 'https://t.co/lqlfunenns', 'https://t.co/lvzejloxmh.', 'https://t.co/lxwme4nubd.', 'https://t.co/mcp09udspe', 'https://t.co/mlj56qcw37.', 'https://t.co/mp3spdaktl', 'https://t.co/mpuji2yq0v', 'https://t.co/n4zdlimwkk', 'https://t.co/n6iwcmznbk', 'https://t.co/n8oor2o8ep', 'https://t.co/nyzlpjyfxm', 'https://t.co/opc8z4tnib', 'https://t.co/oz9kcdajij', 'https://t.co/pagzfxjnbi', 'https://t.co/pgxjssssu9', 'https://t.co/pqd1i8xgam', 'https://t.co/pzrmh3tkeq', 'https://t.co/pzrmh4bl5y', 'https://t.co/q1dtcxukin.', 'https://t.co/qqd0vxukr8', 'https://t.co/qrmflpkg0i', 'https://t.co/qs4e5vvpj9', 'https://t.co/qs5l3s0yfe', 'https://t.co/qsgkfqj5p4', 'https://t.co/qshrwi4wl6', 'https://t.co/qtmcgydkql', 'https://t.co/qudkgltmpz', 'https://t.co/qut7jutqe9', 'https://t.co/qv6qlvjhcg.', 'https://t.co/qvdcousvh0', 'https://t.co/qveevtktxp', 'https://t.co/qvg0q767nv', 'https://t.co/qwap6bq9zz', 'https://t.co/qwbw7lshmz', 'https://t.co/qwuqdjft1o', 'https://t.co/qwwazudzn7', 'https://t.co/qxmtdm9wiq', 'https://t.co/qxnveiqta1', 'https://t.co/qxrl0im4hj', 'https://t.co/qxwesswg4y', 'https://t.co/qya6tbtxeb', 'https://t.co/qya6tcby5j', 'https://t.co/qyjpwo3soz', 'https://t.co/qymgi29huz', 'https://t.co/qymhxyiqwx', 'https://t.co/qyrdw8nxqy', 'https://t.co/qzdr78e8xv', 'https://t.co/qztitzzvii', 'https://t.co/r02vbcsl2r', 'https://t.co/r0jh79y09e', 'https://t.co/r1kuh5ikon', 'https://t.co/r2m7ybdelj', 'https://t.co/r2ok4f9icn', 'https://t.co/r2z1e6agnj', 'https://t.co/r3s66hbfoh', 'https://t.co/r4hntneewd', 'https://t.co/r4qfhizdw5', 'https://t.co/r5eohsbycl', 'https://t.co/r5n1mhnung', 'https://t.co/r5ssfz6cdl', 'https://t.co/r7j5b1dxzu', 'https://t.co/r8ecxmfk32', 'https://t.co/r8tbtbrnhr', 'https://t.co/r94cjvfpv5', 'https://t.co/raipikpyrr', 'https://t.co/ravbt5tbqs', 'https://t.co/rayx3k0iiv', 'https://t.co/rbk1lnhhd9', 'https://t.co/rbrefuf3ng', 'https://t.co/rbtbbm5yrv', 'https://t.co/rc0t2zbtep', 'https://t.co/rd21gako6c', 'https://t.co/rd3jlyx3rr', 'https://t.co/rdh7cebcn6', 'https://t.co/rdkcvfbhus', 'https://t.co/re9k3kzmyr', 'https://t.co/recbkf4y1y', 'https://t.co/rf3kkuan5n', 'https://t.co/rfetmavs0n', 'https://t.co/rfior52i7c', 'https://t.co/rggosydyuy.', 'https://t.co/rggosymo30.', 'https://t.co/rgizhubt4m', 'https://t.co/rgjphg6lbv', 'https://t.co/rgjwhgpzxs', 'https://t.co/rgmowepkfe', 'https://t.co/rgrlm6uehn', 'https://t.co/rgsdd4sqji', 'https://t.co/rh0zzush1m', 'https://t.co/rh3k6hgxdi', 'https://t.co/rhyppzupsh', 'https://t.co/rihwnivq0v', 'https://t.co/rilqzu8wpe', 'https://t.co/riovdcjwjg', 'https://t.co/ripnkfiznh', 'https://t.co/rispgs7a2r', 'https://t.co/riwhg0ymbh', 'https://t.co/rixdibyger', 'https://t.co/rixuqqg0rw', 'https://t.co/rizerlnu0u', 'https://t.co/rjbavzcemu', 'https://t.co/rjdmlwsjes', 'https://t.co/rjiyanq1ls', 'https://t.co/rjmj4bbz5d', 'https://t.co/rjsbiy44zb', 'https://t.co/rjtssqlcwx', 'https://t.co/rkabyoe1ff', 'https://t.co/rkgcgfvqdo', 'https://t.co/rkph74hz3w', 'https://t.co/rkvudprnti', 'https://t.co/rkz60kruul', 'https://t.co/rl7gy6cduh', 'https://t.co/rlctuiciho', 'https://t.co/rlqnpjofj4', 'https://t.co/rmiw5kyivn', 'https://t.co/rmkexd7kbt', 'https://t.co/rmmtlauelo', 'https://t.co/rmwxxasf45', 'https://t.co/rn2iprohku', 'https://t.co/rnikdmjcgc', 'https://t.co/rnqvxpezex', 'https://t.co/rntngmikwd', 'https://t.co/roajwp9l5w', 'https://t.co/rohnmsghns', 'https://t.co/rohnxgct82', 'https://t.co/rpasvlstep', 'https://t.co/rpyxgp7f9u', 'https://t.co/rq2kx3g7va', 'https://t.co/rqhju0iw6a', 'https://t.co/rqk0amgomq', 'https://t.co/rqqovrljmp', 'https://t.co/rquofdxfve', 'https://t.co/rr0n19uyn3', 'https://t.co/rrc3okdf7j', 'https://t.co/rrj2fd2tgd', 'https://t.co/rrsgnu3roc', 'https://t.co/rs0b0v3doz', 'https://t.co/rsn6wibvue', 'https://t.co/rsrsv8ev2p', 'https://t.co/rt0zh41hpj', 'https://t.co/rt5rd9woga', 'https://t.co/rtcdrvolsy', 'https://t.co/ruh4gdrznb', 'https://t.co/runa9fdqc4', 'https://t.co/rv9clsg0ck', 'https://t.co/rvdweld9tk', 'https://t.co/rvxtbaihzg', 'https://t.co/rwfmgknu3h', 'https://t.co/rwfucymibx', 'https://t.co/rwiv73jrfz', 'https://t.co/rwnlwku0ls', 'https://t.co/rwqg9axeh6', 'https://t.co/rwqpwvfvty', 'https://t.co/rwsnz0ceu3', 'https://t.co/rxbvl9gep3', 'https://t.co/rxdfhltlq6', 'https://t.co/rxrifaemq6', 'https://t.co/ryivuowcui', 'https://t.co/ryivupdnss', 'https://t.co/rymzjhe70r', 'https://t.co/ryrgog5sxw', 'https://t.co/rzatsh87r4', 'https://t.co/rzctmeowo4', 'https://t.co/rzfiemnbix', 'https://t.co/rzpojp6od6', 'https://t.co/rzrktinhss', 'https://t.co/rzrterpjbt', 'https://t.co/rzwlycguud', 'https://t.co/rzxesqw0i7', 'https://t.co/s2byklkq0a', 'https://t.co/s2im77po4b', 'https://t.co/s2sgjeexfu', 'https://t.co/s313vrtmbv', 'https://t.co/s4dscsm7xx', 'https://t.co/s5aicxapng', 'https://t.co/s5kmrevxcm.', 'https://t.co/s6le1tsaoe', 'https://t.co/s6qw3y02f5', 'https://t.co/s7xzswtkib', 'https://t.co/s8keeonooj', 'https://t.co/s8keeovnxb.', 'https://t.co/s8lyn4fdlk', 'https://t.co/s95tioecwn', 'https://t.co/s9pxvfy9go', 'https://t.co/sabwfrccgb', 'https://t.co/sahjge3d51', 'https://t.co/sajutqcaew', 'https://t.co/saohve4eai', 'https://t.co/sap7crrcjg', 'https://t.co/sb0khellua.', 'https://t.co/sb5iq8s5tg', 'https://t.co/sb9hzyg2mk', 'https://t.co/sbhstsr1mh', 'https://t.co/sbhx4p907f', 'https://t.co/sbpcmusfzj', 'https://t.co/sbuxc4qtyx', 'https://t.co/sc39tje5xr', 'https://t.co/scq1bqpbxd', 'https://t.co/scyn5aasmv', 'https://t.co/sd4ct5z2ck', 'https://t.co/sd5peyonoo', 'https://t.co/sdaowt6qyg', 'https://t.co/sdmncvngfg', 'https://t.co/sdypxhrhrr', 'https://t.co/se9pmceckl.', 'https://t.co/sem7etf6qu', 'https://t.co/sf29fzoju8', 'https://t.co/sfmhzssd9e', 'https://t.co/sfwkersivu', 'https://t.co/sgncd2vawf', 'https://t.co/sgrrnbvcg7', 'https://t.co/sgwr7ghxjz', 'https://t.co/sgz6htnfqv', 'https://t.co/sh4hj0xusx', 'https://t.co/shg6q7lh91', 'https://t.co/shrvs5mmpu', 'https://t.co/shydnnkf82', 'https://t.co/sijdfztph0', 'https://t.co/sj1i95brwd', 'https://t.co/sjeh3nluef', 'https://t.co/sjf1as4zbg', 'https://t.co/sjk0rzmwwu', 'https://t.co/sjolikrsje', 'https://t.co/skd06he2ub', 'https://t.co/ske1qmbbfe', 'https://t.co/skrj6gnvkv', 'https://t.co/sl8ifp4ygb', 'https://t.co/sla5uwxncg', 'https://t.co/sldrvxxfcz', 'https://t.co/sldrvxxfcz.', 'https://t.co/sllc52m2mx', 'https://t.co/sllwxhk1ip', 'https://t.co/slpaevaopw', 'https://t.co/slxklkqg2g', 'https://t.co/sm3fmh0vok', 'https://t.co/smdujaa8i0', 'https://t.co/smqhswqt56', 'https://t.co/smrasvtxko', 'https://t.co/smxkjvutjw', 'https://t.co/sn2xynx6gp', 'https://t.co/snixym9wmm', 'https://t.co/snnjpdydwv', 'https://t.co/snxt5hrhqt', 'https://t.co/so8yfe2ael', 'https://t.co/sokmkzyezq.', 'https://t.co/sotvviqc40', 'https://t.co/soxssgdj4d', 'https://t.co/sp1mxkdnv6', 'https://t.co/sp9bq8ng6j', 'https://t.co/sqd1vmszly', 'https://t.co/sqxosteghu', 'https://t.co/sr3d9jcdib', 'https://t.co/sr8cu7in29', 'https://t.co/srruh7l26k', 'https://t.co/sslspaqfv8', 'https://t.co/ssvpzecxho', 'https://t.co/stby9wcp2i', 'https://t.co/stqzuvqsxg', 'https://t.co/sufmkbqvrw', 'https://t.co/sulditahvv', 'https://t.co/suxeenrkrp', 'https://t.co/sv9pldszyw', 'https://t.co/svjhdhhhss', 'https://t.co/svoidrif72', 'https://t.co/svre0kmf4w', 'https://t.co/sw0jhaq7ac', 'https://t.co/sw0jhb7i1k', 'https://t.co/swcqc3xlyj', 'https://t.co/swdxhngajn', 'https://t.co/swjnxtd1zg', 'https://t.co/swyqfbogvk', 'https://t.co/sxszcxq62l', 'https://t.co/sy3gn5dyr6', 'https://t.co/symuaghq8v', 'https://t.co/sysilcsith', 'https://t.co/sywstohk7b', 'https://t.co/sz3kyu7kvz', 'https://t.co/szddkye7rb', 'https://t.co/szdlv1kob6', 'https://t.co/szikq4myuq', 'https://t.co/szmvfrdl1x', 'https://t.co/szthiee6c4', 'https://t.co/szunxu6jg6', 'https://t.co/szuqqp7fqu', 'https://t.co/t1g5edrfkk', 'https://t.co/t2a0ysrsmf', 'https://t.co/t2ln4yooyn', 'https://t.co/t3hxfvgxgj', 'https://t.co/t3p9eyyjfd', 'https://t.co/t46mnkxe9c', 'https://t.co/t4cxmt3pck', 'https://t.co/t4nnvivhwh', 'https://t.co/t4rmicjmxk', 'https://t.co/t52mynzwpk', 'https://t.co/t5zpt6qcol', 'https://t.co/t6i4i8jzhg', 'https://t.co/t6s1hdb0mh', 'https://t.co/t74vftkofb', 'https://t.co/t7ik1906hv', 'https://t.co/t7v5vnff0j', 'https://t.co/tabjmco5ez', 'https://t.co/tanov2xuss', 'https://t.co/tatgqdl6l3', 'https://t.co/taxi37nzjw', 'https://t.co/tb1g42wghw', 'https://t.co/tbnxig7mey', 'https://t.co/tbpyuakvql', 'https://t.co/tc2nwx0hth', 'https://t.co/tcc2qbejky', 'https://t.co/tcm38i6wpe', 'https://t.co/tco1enk5jk', 'https://t.co/tcpn0k7kot.', 'https://t.co/tctgzmlywb', 'https://t.co/tcymomcqul', 'https://t.co/tdh87rbm3b', 'https://t.co/tdlmlbdlvk.', 'https://t.co/tdmqa6t2mn', 'https://t.co/tdyve0wdmn', 'https://t.co/tdztpcsq8y', 'https://t.co/teff0fi7ys', 'https://t.co/tefri8igot', 'https://t.co/tehuasgk0l', 'https://t.co/teq1p4cvp4', 'https://t.co/tf2fd4yskf', 'https://t.co/tfhpdvjsa9', 'https://t.co/tfsckou50j', 'https://t.co/tfummxsmzy', 'https://t.co/tfy9s186zr', 'https://t.co/tfzpdffyrc', 'https://t.co/tg1rvoezxs', 'https://t.co/tg2cktjskp', 'https://t.co/tg37vakede', 'https://t.co/tga4g4fzbf', 'https://t.co/tguw34cdjy', 'https://t.co/tgwbluv3lg', 'https://t.co/tgwcxm9uyy', 'https://t.co/tgys6ioryv', 'https://t.co/thb4fwhd0m', 'https://t.co/thlnxo4yfc', 'https://t.co/thnlkqvgop', 'https://t.co/thq8ms7ilt', 'https://t.co/tidupq6mbo', 'https://t.co/tijv32eltv', 'https://t.co/tinvxiehvx', 'https://t.co/tirm5nkalb', 'https://t.co/tizw3jwdbf', 'https://t.co/tjo9w5rre6', 'https://t.co/tjsinzqc9u', 'https://t.co/tjuqb7kmph', 'https://t.co/tkinu8jvyf', 'https://t.co/tkiuemc1ax', 'https://t.co/tklylbwhc5', 'https://t.co/tkm1v6act2', 'https://t.co/tkno3wmtxl', 'https://t.co/tkurp8lz0h', 'https://t.co/tkyxqyrnok', 'https://t.co/tl59tjvqj9', 'https://t.co/tlilhg9ogs.', 'https://t.co/tlua5u9q69', 'https://t.co/tlw5gup7hr', 'https://t.co/tme4omkrvt', 'https://t.co/tmmvou4rzd', 'https://t.co/tmtmc5cbia', 'https://t.co/tmxhftkhjn', 'https://t.co/tnpx5fnvg6.', 'https://t.co/tobfphyfmk', 'https://t.co/torjeoohnv', 'https://t.co/tpbnintiwc', 'https://t.co/tpd86dle42', 'https://t.co/tpuhogpvwt', 'https://t.co/tqpawlwjdz', 'https://t.co/tqtady78dh', 'https://t.co/tqufhmybf1', 'https://t.co/trc6wahohh', 'https://t.co/trjb0e9xpq', 'https://t.co/trkrj6xdbt', 'https://t.co/trrpktmquj', 'https://t.co/trtpbmu5ob', 'https://t.co/trvo4ypkgf', 'https://t.co/tsbomm9qff', 'https://t.co/tsmpzvb7gs', 'https://t.co/tst030hhbn', 'https://t.co/tsvd8mfsm7', 'https://t.co/tt49zoec8n.', 'https://t.co/tt49zon1hf', 'https://t.co/tt49zon1hf.', 'https://t.co/ttauadehwy', 'https://t.co/ttbxqwqjhz', 'https://t.co/ttcquwqgle', 'https://t.co/ttn6qas7am', 'https://t.co/ttocbbwtmp', 'https://t.co/tud4upsdio', 'https://t.co/tuohxwun8u', 'https://t.co/tuva8tb4tf', 'https://t.co/tv9jete0oi.', 'https://t.co/tvucp7j2dn', 'https://t.co/tvwemzzpdh', 'https://t.co/tvzp0zisnh', 'https://t.co/twef6e8r6k', 'https://t.co/twmhy2t93d', 'https://t.co/twoavdze1x', 'https://t.co/twoavdze1x.', 'https://t.co/twuuxl0yzn', 'https://t.co/txck6m8hvp', 'https://t.co/tytmwexio8', 'https://t.co/tyuuuvlaoe', 'https://t.co/tywaicolri', 'https://t.co/tzb9fzm6fp', 'https://t.co/tzchlfbxtg', 'https://t.co/tzot2qazp8', 'https://t.co/u0ls18ioyf', 'https://t.co/u0t1njmssx', 'https://t.co/u1knxcxskc', 'https://t.co/u2b9dwtqxa', 'https://t.co/u2ursbopdj', 'https://t.co/u39bedxiv8', 'https://t.co/u41s8bvyxk', 'https://t.co/u438lvkslg', 'https://t.co/u4o1ja30d1', 'https://t.co/u5jh1xw8nw', 'https://t.co/u5ttl3m572', 'https://t.co/u6c7g0zuh0', 'https://t.co/u8s6artvh3', 'https://t.co/u942yvfskt', 'https://t.co/uaays6uhsg', 'https://t.co/uac45bd9xc', 'https://t.co/uackidmrq2', 'https://t.co/uaj29xa1y5', 'https://t.co/uamd2xavpm', 'https://t.co/uao00rybys', 'https://t.co/uaoxltrfdt', 'https://t.co/uargztrh5l', 'https://t.co/uargztrh5l.', 'https://t.co/uasjdxdagq', 'https://t.co/uaws1omper', 'https://t.co/ub8hzyzezf', 'https://t.co/ubbdeu1ebm', 'https://t.co/ubesb5qz3p', 'https://t.co/ubfeluso6m', 'https://t.co/ubpqaxk9xr', 'https://t.co/ucfnxpdbs4', 'https://t.co/uclvtdlajm', 'https://t.co/ucsdnisy9z', 'https://t.co/ucsj8aicqd', 'https://t.co/ucxdklszfn', 'https://t.co/ucxpytypit', 'https://t.co/ucyaqrrq2m', 'https://t.co/ud0xxee4pr', 'https://t.co/udektqciat', 'https://t.co/udfsmrdu60', 'https://t.co/udnd89r1zl', 'https://t.co/udyrs1iniw', 'https://t.co/ue2sqymwvu', 'https://t.co/uebsnldirr.', 'https://t.co/uefaj1ydtj', 'https://t.co/uegozko37r', 'https://t.co/uep3rg36yq', 'https://t.co/uepnhl9znm', 'https://t.co/ufaofpw0yl', 'https://t.co/ufdtothh6x', 'https://t.co/uft4ztnye3', 'https://t.co/uftuh1rbij', 'https://t.co/ug3inz7aii', 'https://t.co/ugbqocxbvo', 'https://t.co/ugebo1su2o', 'https://t.co/ugfqgwe9sx', 'https://t.co/ugmnn0vvle', 'https://t.co/ugmspu4mmh', 'https://t.co/ugon41cy2h', 'https://t.co/uhd6ifv8ot', 'https://t.co/uherg8edun', 'https://t.co/uhhmcaydla', 'https://t.co/uhkzfghgtd', 'https://t.co/uhtoqf8cp7', 'https://t.co/uip0zhqeee', 'https://t.co/uisf61j5iy', 'https://t.co/uixua7tjub', 'https://t.co/uiz1vjshp1', 'https://t.co/ujfumcrise', 'https://t.co/ujguetzyda', 'https://t.co/ujhegnjq0x', 'https://t.co/ujsose2syr', 'https://t.co/ujwxfyx2tv', 'https://t.co/ujyvdpks5m', 'https://t.co/uk28svfvxo', 'https://t.co/uk8iwzqkm3', 'https://t.co/ukf3jezpos', 'https://t.co/ulbshv89ol.', 'https://t.co/ulsgqzjs2c', 'https://t.co/ulxqbygt4j', 'https://t.co/umfipq69nz', 'https://t.co/umg2y6af0k', 'https://t.co/umxqbsb39f', 'https://t.co/unbw0ptj2h', 'https://t.co/unj31uemeh', 'https://t.co/unlkvon7ji', 'https://t.co/unlobdneo0', 'https://t.co/unlve1kcgw', 'https://t.co/unpwzlb7xu.', 'https://t.co/untrjwwxkg', 'https://t.co/uocg7nqi4a', 'https://t.co/uogq5aaurl', 'https://t.co/uoipnkhcnr', 'https://t.co/uou8p925u9', 'https://t.co/uovxykhryz', 'https://t.co/upgh9m7cg8', 'https://t.co/upqwmtfn37', 'https://t.co/upt9mzmcs8', 'https://t.co/uqhmmoq9zn', 'https://t.co/uqptqsetk5', 'https://t.co/uqrbeifm0f', 'https://t.co/uqvydke9xk', 'https://t.co/ur6jplo3wh', 'https://t.co/urampqrd4o', 'https://t.co/urrkc0kxpq', 'https://t.co/urssms60ac', 'https://t.co/urwh11lamf', 'https://t.co/urwsemvsa5', 'https://t.co/usgkdfoe9g', 'https://t.co/usk6kokgoy', 'https://t.co/usvoiwwr3r', 'https://t.co/utddi7matk', 'https://t.co/uu1k74ihik', 'https://t.co/uuevh9u9ts', 'https://t.co/uuevhabks2', 'https://t.co/uuttdake7b', 'https://t.co/uuvvd0x5j9', 'https://t.co/uvfbawrbhb', 'https://t.co/uvzipzei1n', 'https://t.co/uw9eaqtaf7', 'https://t.co/uwa2pclngr', 'https://t.co/uwepwev9ho', 'https://t.co/uwscnvzq9m', 'https://t.co/uwy8mjbxgb', 'https://t.co/ux4enfmay1', 'https://t.co/uxcev1vnbb', 'https://t.co/uxegrj7umj', 'https://t.co/uxltgmkjip', 'https://t.co/uxsodlhrj8', 'https://t.co/uybfzuwvue.', 'https://t.co/uyn7a6uegl', 'https://t.co/uz6d2aq9lu', 'https://t.co/uzvo7z9kxc\"', 'https://t.co/v0f20rq57g', 'https://t.co/v0kzn4n14b', 'https://t.co/v0olb32gkv.', 'https://t.co/v0ya3pm0i9', 'https://t.co/v1do6ds7op', 'https://t.co/v1ggyg5m6y', 'https://t.co/v1sem2fqeq', 'https://t.co/v2m7kb50sv', 'https://t.co/v38beoju1v', 'https://t.co/v4aownphun', 'https://t.co/v4sa2umgm7', 'https://t.co/v68of6irif', 'https://t.co/v6enpsxuh3', 'https://t.co/v6nutftfrf', 'https://t.co/v6ygzvswko', 'https://t.co/v7a0nzehuv', 'https://t.co/v7yic1d8my', 'https://t.co/v7zfbr9ud4', 'https://t.co/v9lwasrwxs', 'https://t.co/v9wvbfwav2', 'https://t.co/va6ptunrcl', 'https://t.co/vaembn2qo0', 'https://t.co/vaextxps8s.', 'https://t.co/vb1dqhrw7b', 'https://t.co/vb8i70nafm', 'https://t.co/vbfas6yqyj', 'https://t.co/vbr8fuykm6', 'https://t.co/vc2dl9vmok', 'https://t.co/vcly7usizr', 'https://t.co/vdj1yhqiqw', 'https://t.co/vdqsv7xvub', 'https://t.co/vdzvj4dcea', 'https://t.co/ve0dngntdm', 'https://t.co/veaukpkaqx', 'https://t.co/veske4kcvi', 'https://t.co/vet04orsdi', 'https://t.co/vf5mtmb27i', 'https://t.co/vfub3eoirm', 'https://t.co/vgflhn5bjl', 'https://t.co/vgqida4pwv', 'https://t.co/vgzrm6uwgw', 'https://t.co/vhejvx06cx', 'https://t.co/vhhgwmemhq', 'https://t.co/vhn6z512du', 'https://t.co/vhtmlqfeg7', 'https://t.co/vih89d6gzj', 'https://t.co/vipc38rewz', 'https://t.co/viseqj4qy4', 'https://t.co/vj6ddnlasm.', 'https://t.co/vjjbb3mmrl', 'https://t.co/vjobnbpyaw', 'https://t.co/vkk6hhxrqd', 'https://t.co/vkmfpxxryu', 'https://t.co/vkvkvfc8tf', 'https://t.co/vkxevcr1m4', 'https://t.co/vldiswteyn', 'https://t.co/vldzfrneaj', 'https://t.co/vlncib4q18', 'https://t.co/vm8npwhuks', 'https://t.co/vm9kdihvwk', 'https://t.co/vmep0hhnbc', 'https://t.co/vmp48pegcq', 'https://t.co/vn2lxxewpr', 'https://t.co/vn4d8m6hch', 'https://t.co/vn96i8m5yd', 'https://t.co/vnnly5tiao.', 'https://t.co/vnqjvd9ksn', 'https://t.co/vnqr3kxq46', 'https://t.co/vnx5qxmqjw', 'https://t.co/vokbzil9ob.', 'https://t.co/voxzq4dqth', 'https://t.co/vpb4okrdep', 'https://t.co/vpe5dcsyzz', 'https://t.co/vpiyadvew1', 'https://t.co/vpmi4nsmyv', 'https://t.co/vpqa62ggqr', 'https://t.co/vpurrkopvs', 'https://t.co/vpxfqy6rpi', 'https://t.co/vqg3ezgnos', 'https://t.co/vrey6mxggi', 'https://t.co/vrhtgjirmq', 'https://t.co/vrwwuihowq', 'https://t.co/vs0necud4i', 'https://t.co/vsfm1536o7', 'https://t.co/vsihwf4d68', 'https://t.co/vsjjthqrvv', 'https://t.co/vst2mpeluq', 'https://t.co/vt1gpunx5b', 'https://t.co/vt8hikfygy', 'https://t.co/vt9bp9m1wd', 'https://t.co/vtachszvuz', 'https://t.co/vtjgcsornu', 'https://t.co/vu2xspc5pf', 'https://t.co/vubukvzytn', 'https://t.co/vufkbb9bma', 'https://t.co/vul1m40jlh', 'https://t.co/vuyx19nzpe.', 'https://t.co/vuyx19woy6.', 'https://t.co/vv3l3rcgvj', 'https://t.co/vvizx7o3mm', 'https://t.co/vvtjcr9fvs', 'https://t.co/vw8zvcetus', 'https://t.co/vwikukok0y', 'https://t.co/vwvkebacnf.', 'https://t.co/vx8ocpgnwx', 'https://t.co/vxjuvzv4bb', 'https://t.co/vxyfhndouo', 'https://t.co/vxzjcd14ob', 'https://t.co/vymec4om3f', 'https://t.co/vz9zhjcuho', 'https://t.co/vzc11bvo8k', 'https://t.co/vzfkxfkisr', 'https://t.co/vznix69svh', 'https://t.co/vzvlv3tgn4', 'https://t.co/vzz8uppyqm', 'https://t.co/w0a8m6yewl', 'https://t.co/w0dy2r6mfz', 'https://t.co/w0jbm4rkh1', 'https://t.co/w0jguvacjt', 'https://t.co/w0rtlokopb', 'https://t.co/w0uidqtc4b', 'https://t.co/w1mpunitvh', 'https://t.co/w2q4cgocju', 'https://t.co/w2yzwmja5f', 'https://t.co/w3u2szgqel.', 'https://t.co/w4477louqz', 'https://t.co/w4guuofsrh', 'https://t.co/w4nztxknzz', 'https://t.co/w5eznwgryj', 'https://t.co/w5firththp', 'https://t.co/w602glalxh', 'https://t.co/w6sejjhbi6', 'https://t.co/w6uoyrxq3q', 'https://t.co/w72p7hhyfb', 'https://t.co/w87gozl9qh', 'https://t.co/w8mrzqvinz', 'https://t.co/w8uwi3ojhm', 'https://t.co/w9745xxurs', 'https://t.co/w9gkunudv6', 'https://t.co/w9jlzbohss', 'https://t.co/waqehbttey', 'https://t.co/waqgluhb3s', 'https://t.co/wb3rfvporr', 'https://t.co/wban7thfm2', 'https://t.co/wbbgigmr52', 'https://t.co/wbdyipiucc', 'https://t.co/wbmftqle9k', 'https://t.co/wbqwntjfjv', 'https://t.co/wbvgig9yc0.', 'https://t.co/wcflv3xb8h', 'https://t.co/wcs5atlthx', 'https://t.co/wda1fy8jaz', 'https://t.co/wdfel3b5aq', 'https://t.co/wdooccixfu', 'https://t.co/wef6x3ecbb', 'https://t.co/wet4nuijhy', 'https://t.co/wezxq6kbdc', 'https://t.co/wf1up6kz5k', 'https://t.co/wfp3li5vrp', 'https://t.co/wfwxug5bui', 'https://t.co/wfzsxx3bjk', 'https://t.co/wgfumgxjrp', 'https://t.co/wgijthaagp', 'https://t.co/wgrconvd9t.', 'https://t.co/wgrtt48jue', 'https://t.co/wguulcbijl', 'https://t.co/wh5gkjf3kh', 'https://t.co/whkdgwwaw8', 'https://t.co/wi9ubqmii3', 'https://t.co/wiufbkr3uh', 'https://t.co/wivmo3xbfv', 'https://t.co/wivuvvfmu5', 'https://t.co/wiwgobylxf', 'https://t.co/wiybsfnetx', 'https://t.co/wjinjkyi4a', 'https://t.co/wjpigeupae', 'https://t.co/wjw9od8kaz', 'https://t.co/wk2jjialj7', 'https://t.co/wka1rxjy2o', 'https://t.co/wkgjiymu1b', 'https://t.co/wkn4aqcigt', 'https://t.co/wkq4w9dchb', 'https://t.co/wkrwbgruwd', 'https://t.co/wksnmc7pi3', 'https://t.co/wktyjp5gpc', 'https://t.co/wlbfspafzw', 'https://t.co/wlo15zhmwf', 'https://t.co/wlp3gx6f5t', 'https://t.co/wlpldjfzem', 'https://t.co/wlq0tssx59', 'https://t.co/wlz02vgysm', 'https://t.co/wm8kyp2vaf', 'https://t.co/wmhgseg08c', 'https://t.co/wmtcqqycna', 'https://t.co/wmy7wjlb2k', 'https://t.co/wmznwl2uya', 'https://t.co/wnadxwp1oc', 'https://t.co/wnghinbqdr', 'https://t.co/wnj8iqlrf5', 'https://t.co/wnkbxrc4tl', 'https://t.co/wnyi0b4fcg', 'https://t.co/wo0styf91e', 'https://t.co/wo8ngyxdle', 'https://t.co/wodw3xeccn', 'https://t.co/wollj4pglc', 'https://t.co/wontgfuuxn', 'https://t.co/woolrigvku', 'https://t.co/woplkz1bzc', 'https://t.co/worpvv8if2', 'https://t.co/wotsjkcv4d', 'https://t.co/wou7q1pfio', 'https://t.co/wpokewonej', 'https://t.co/wq0ufoupqh.', 'https://t.co/wq30d52izq', 'https://t.co/wqfekc8jqa', 'https://t.co/wqjjdbl870', 'https://t.co/wrhckyi1fu', 'https://t.co/wrzffjjbtl', 'https://t.co/ws0bqdlc1y', 'https://t.co/ws1lw6rhas', 'https://t.co/wscckxnyeb', 'https://t.co/wsevdvm0tp', 'https://t.co/wsex2fpcu3', 'https://t.co/wsn2ghkzrp', 'https://t.co/wsn4mvdikk.', 'https://t.co/wsnm1myoc2', 'https://t.co/wsny2oyymd', 'https://t.co/wt3fblz2cl', 'https://t.co/wtdfqgnqz4', 'https://t.co/wtrijwju9t', 'https://t.co/wtvned5fut', 'https://t.co/wuddteyxxd', 'https://t.co/wukazk9ale', 'https://t.co/wvajisgysw', 'https://t.co/wvio4b4eff', 'https://t.co/wvyok4lfzn', 'https://t.co/wwaghilpso', 'https://t.co/wwdyvm3nnl', 'https://t.co/wwjpru2vbp', 'https://t.co/wx85tr8wce', 'https://t.co/wx9pvlfnav', 'https://t.co/wxtukphynb', 'https://t.co/wy9mzx1lsr', 'https://t.co/wytp7o8wgx.', 'https://t.co/wywrhs5brr', 'https://t.co/wyxdaw6flw', 'https://t.co/wyzbdvrqsh', 'https://t.co/wzmvu3e3p7', 'https://t.co/wzoqiacuyu', 'https://t.co/wzq5ma5edn', 'https://t.co/wzqvk0iu9f', 'https://t.co/x0vknyj84j', 'https://t.co/x1qmkvwvj9', 'https://t.co/x2hcebjmel', 'https://t.co/x2nqnlbov9', 'https://t.co/x37sezyao1', 'https://t.co/x3oe2rwa1k', 'https://t.co/x4bjbpsaom', 'https://t.co/x4fmtcabcc', 'https://t.co/x4vbhjjben', 'https://t.co/x5mnhg0lyt', 'https://t.co/x5zn4uikhy', 'https://t.co/x6fu7pk4ob', 'https://t.co/x6h7imowcg', 'https://t.co/x73jpbq18i', 'https://t.co/x7dxuhrucd', 'https://t.co/x8jcqo7lfd', 'https://t.co/x8ntbcvlfu', 'https://t.co/x9evi84zmk', 'https://t.co/x9hmgolxmz', 'https://t.co/xa1qkwzjho', 'https://t.co/xa1qkwzjho.', 'https://t.co/xa7oumrlcc', 'https://t.co/xaayqnvxbd', 'https://t.co/xab9s6yymg', 'https://t.co/xaqbij966c', 'https://t.co/xavngvjvgx', 'https://t.co/xawbq9iqrh', 'https://t.co/xb8sk1bonk', 'https://t.co/xbbsutslkv', 'https://t.co/xbfflajw0g', 'https://t.co/xbggps0npg', 'https://t.co/xby3er8k0p', 'https://t.co/xc1nqnlw8c', 'https://t.co/xcgcecp31w', 'https://t.co/xciqed7qbd', 'https://t.co/xd7gyk6dn7', 'https://t.co/xdfm4f80bx', 'https://t.co/xdppqnzbzp', 'https://t.co/xe13ljlv44', 'https://t.co/xf3wah2g31', 'https://t.co/xfbs5icjn3', 'https://t.co/xfeqz7sbff', 'https://t.co/xfh2bpcour', 'https://t.co/xfjzpekawz', 'https://t.co/xfpmdthkxx', 'https://t.co/xg4ntcwml9', 'https://t.co/xgpkpdvn0r', 'https://t.co/xgtpnfcpij', 'https://t.co/xhphxurnvy', 'https://t.co/xht7gsfsgy', 'https://t.co/xi1zl0u7zh', 'https://t.co/xi9sv6fk4z', 'https://t.co/xikkpuivzd', 'https://t.co/xilglumgso', 'https://t.co/xixexdccg5', 'https://t.co/xjadbpoakr', 'https://t.co/xjmclrwz3i', 'https://t.co/xjxsdn2qcd', 'https://t.co/xk6yufw3z2', 'https://t.co/xkegzc7duu', 'https://t.co/xkf5fzyquj', 'https://t.co/xkrpcvqjxc', 'https://t.co/xkxebsubik', 'https://t.co/xkxsnmax7s', 'https://t.co/xl5uqsoubf', 'https://t.co/xl7qefqawq', 'https://t.co/xlcm9ygatj', 'https://t.co/xleld3unjw', 'https://t.co/xlhjdea4g7', 'https://t.co/xlr7cqfcqm', 'https://t.co/xlziji5meo', 'https://t.co/xm04wiasgu', 'https://t.co/xm4beezav1', 'https://t.co/xmwgqqhfg6', 'https://t.co/xn9bk1zzxj', 'https://t.co/xnhsjrblff', 'https://t.co/xnjoy41dbc', 'https://t.co/xnkztzlpqc', 'https://t.co/xnsswth9dc', 'https://t.co/xnupv0o9ed', 'https://t.co/xo1wg4qdyt', 'https://t.co/xof1nbiycy', 'https://t.co/xowibklxsd', 'https://t.co/xoyagagmzs', 'https://t.co/xq3b7o0yib', 'https://t.co/xq91oaysoy', 'https://t.co/xr9uxftx5f', 'https://t.co/xrey2ncs7n', 'https://t.co/xrmru7lx6f', 'https://t.co/xrqbinmqft', 'https://t.co/xsbv8dwgxs', 'https://t.co/xsjoqgm73l', 'https://t.co/xtinb3o8bx', 'https://t.co/xu28jldxvw', 'https://t.co/xu7xyqwemi', 'https://t.co/xubnxlzynm', 'https://t.co/xuevsecilk', 'https://t.co/xukmqn57fu', 'https://t.co/xuo7oqlm50', 'https://t.co/xv0pdukvg2', 'https://t.co/xv52fcvng9', 'https://t.co/xveaaqhrmp', 'https://t.co/xvkan77vcs', 'https://t.co/xvni1ywvfz', 'https://t.co/xw6qcwhafu', 'https://t.co/xwamolbw5k', 'https://t.co/xwfxvoyvd6', 'https://t.co/xwsslvi7zq', 'https://t.co/xxbp6lx2ms', 'https://t.co/xxbvywtarw', 'https://t.co/xxpdhfg0hg', 'https://t.co/xyeiwdbwqc', 'https://t.co/xyt8thglfe', 'https://t.co/xz1xx9oynt', 'https://t.co/xzounruoi7', 'https://t.co/y0pvkpujzr', 'https://t.co/y0sywh3b68', 'https://t.co/y1gqugsmwi', 'https://t.co/y1ldnwnywg', 'https://t.co/y2gnsinw7j', 'https://t.co/y31nn33zho', 'https://t.co/y3ezywpjld', 'https://t.co/y3qswuj23i', 'https://t.co/y3voxfzlii', 'https://t.co/y49ykd5os2', 'https://t.co/y6xg8ny2fq', 'https://t.co/y7lyfceln2', 'https://t.co/y7vvpuhurh', 'https://t.co/y8erhlprgr', 'https://t.co/y8tdrudpt2', 'https://t.co/y8ynpil6q2', 'https://t.co/y97tugzlxy', 'https://t.co/y9nizlnbcu', 'https://t.co/yadnqbx2xj', 'https://t.co/yapqkvdncj', 'https://t.co/yaqbeg5anv', 'https://t.co/yar4oabpbo', 'https://t.co/yasgrtt4ux', 'https://t.co/yb16z6yybd', 'https://t.co/yb3tgyya4c', 'https://t.co/ybmnw35za5', 'https://t.co/ybth4sobzt', 'https://t.co/yccw7laqeo', 'https://t.co/ycffydxbeh', 'https://t.co/ycfr61hm4c', 'https://t.co/ycgqly8le3', 'https://t.co/yd5y23vs6b', 'https://t.co/yd7ve5m4ru', 'https://t.co/ydayzhexwl', 'https://t.co/ydhvl06n4m.', 'https://t.co/ydtiiip02r', 'https://t.co/ydtvnjlm6m', 'https://t.co/ydyueofir4', 'https://t.co/ye55etgpxz', 'https://t.co/yeovbpqzju', 'https://t.co/yf7zktbfbw', 'https://t.co/yf8dirnav4', 'https://t.co/yfmhi9xfyl', 'https://t.co/yfozahlnrl', 'https://t.co/ygjbmvfu9y', 'https://t.co/ygpa8asse6', 'https://t.co/ygwd8qihpx', 'https://t.co/yh3zxknnhz', 'https://t.co/yhiwepz8ik', 'https://t.co/yhklh8e8ue', 'https://t.co/yhpeb4e0ax', 'https://t.co/yi9tchehsa', 'https://t.co/yihkwugyj9', 'https://t.co/yistqpnlny', 'https://t.co/yivn71b47z', 'https://t.co/yjldxlpwqe', 'https://t.co/ykgdf9qbuk', 'https://t.co/ykoix7ama5', 'https://t.co/ylcvlzbxsv', 'https://t.co/ylisgyntqv', 'https://t.co/ymehxx5dxc', 'https://t.co/ymlowpxoxo', 'https://t.co/ymyl1de2xu', 'https://t.co/ynjwpobndu', 'https://t.co/yo8y2sfjym', 'https://t.co/yoklhxoxhq', 'https://t.co/yookabsidq', 'https://t.co/yorxfuygac', 'https://t.co/yoycpflaag', 'https://t.co/ypfgilt3kz', 'https://t.co/ypks7r77vs', 'https://t.co/yqhhsalzi3', 'https://t.co/yqi8i0nahk', 'https://t.co/yqlzdmkxjf', 'https://t.co/yqvuorbmrk', 'https://t.co/yrcndtilfs', 'https://t.co/yrl6wqayvm', 'https://t.co/yrnbulrjrt', 'https://t.co/yrryn9jkkd', 'https://t.co/yrwnhf6ezc', 'https://t.co/yrxdc9ga2f', 'https://t.co/ysahnzwnnu', 'https://t.co/ysudbuni8y', 'https://t.co/ysuwn4vir0', 'https://t.co/ytiysuztux', 'https://t.co/yuevwdzkma', 'https://t.co/yvbkdtnzeu', 'https://t.co/yvex3d7ien', 'https://t.co/yvw3ojqaom', 'https://t.co/yw1nor2h1v', 'https://t.co/ywj4kzjget', 'https://t.co/ywoxx6vjhk.', 'https://t.co/ywqomuphbp', 'https://t.co/yxn76gqa9c', 'https://t.co/yyfyuziehn', 'https://t.co/yyihrou7ep', 'https://t.co/yykj2m5ozj', 'https://t.co/yypvdowjh3', 'https://t.co/yytvzdpywy', 'https://t.co/yywv4kzoil', 'https://t.co/yzbullncvw', 'https://t.co/yzmpm1zmvw', 'https://t.co/yzoyrskdrh', 'https://t.co/z0s52mtwev', 'https://t.co/z1xzotqznt', 'https://t.co/z39q1vj6b0', 'https://t.co/z4nt1ej6u3', 'https://t.co/z52upszwri', 'https://t.co/z59w7ahy6c', 'https://t.co/z5aeal3fba', 'https://t.co/z5x7ufxpxd', 'https://t.co/z6nswrbn64', 'https://t.co/z6qkzptwxs', 'https://t.co/z7hf0aim8t', 'https://t.co/z7vjvdglhw', 'https://t.co/z87x8y6eza', 'https://t.co/z8o6cmc1na', 'https://t.co/z9k0shxj1g.', 'https://t.co/z9qn80epex', 'https://t.co/za3rso8wtu', 'https://t.co/za5195kas3.', 'https://t.co/zaakfiy8of', 'https://t.co/zajfhkenkm', 'https://t.co/zao8myr3jf', 'https://t.co/zaqeuzpywk', 'https://t.co/zaqzsp6y0u', 'https://t.co/zar9ysqpg7', 'https://t.co/zaw7cux9gp', 'https://t.co/zb3edu6g6d', 'https://t.co/zbaodgpuw5', 'https://t.co/zbbrtgzufb', 'https://t.co/zbrmt7op33', 'https://t.co/zbroovi5ni', 'https://t.co/zbucb6kdfo', 'https://t.co/zc39azvrge', 'https://t.co/zc9ez90bhe', 'https://t.co/zcl387bzlk', 'https://t.co/zcm7gbuvet', 'https://t.co/zcm7yhdirx', 'https://t.co/zcmozmd0pt', 'https://t.co/zcralvr4ro', 'https://t.co/zdckhk5xop', 'https://t.co/zdp24h1pyy', 'https://t.co/zdp4hkbl1w', 'https://t.co/zfaousoi4t', 'https://t.co/zfgtnxmadb', 'https://t.co/zfuwup75js', 'https://t.co/zfxlgjivjj', 'https://t.co/zghmvmhxyz', 'https://t.co/zgk7dyzkmm', 'https://t.co/zgmzaouc69', 'https://t.co/zgrvmqpfpu', 'https://t.co/zhg3llhdlb', 'https://t.co/zhgpeeuzzp', 'https://t.co/zhhrf0r46s', 'https://t.co/zidi8uuzqj', 'https://t.co/ziinu3zea3', 'https://t.co/zin6ib4jdi', 'https://t.co/zisas5igcn', 'https://t.co/zivrwbdkgj', 'https://t.co/zjekiqg5jg.', 'https://t.co/zjekiqous8.', 'https://t.co/zjn60klll9', 'https://t.co/zjx28vbcag', 'https://t.co/zk8fashkim', 'https://t.co/zkbaeyzq6e', 'https://t.co/zkdtwwgpu9', 'https://t.co/zkhw5tnglz', 'https://t.co/zkosxn0qtl', 'https://t.co/zkqm3oexgh', 'https://t.co/zkselwpqfi', 'https://t.co/zkyvo21zp2', 'https://t.co/zlarels1hx', 'https://t.co/zlg47bwerb', 'https://t.co/zltdrn9bj4', 'https://t.co/zm1p5h9cvt', 'https://t.co/zm2lv0hgkz', 'https://t.co/zmcntceqew', 'https://t.co/zndslcc19z', 'https://t.co/zoidyiengk', 'https://t.co/zoyclneupi', 'https://t.co/zp4vylo0pb', 'https://t.co/zp4vylo0pb.', 'https://t.co/zpi5wx1kb2', 'https://t.co/zpl51dmyiy', 'https://t.co/zpnzjt7cps', 'https://t.co/zqrpneofet', 'https://t.co/zrmrylqsww', 'https://t.co/zsemcskgp1', 'https://t.co/zsh1xfze5y', 'https://t.co/zt9ngwzkci', 'https://t.co/ztpck5tnjx', 'https://t.co/ztqnsxeqbk', 'https://t.co/ztr5ssmqli', 'https://t.co/ztram9878j', 'https://t.co/zttbyzpabl', 'https://t.co/ztyhjzn1hv', 'https://t.co/zuflymft2l', 'https://t.co/zukeu7k2d5', 'https://t.co/zutycuzrv1', 'https://t.co/zuxra2sfke', 'https://t.co/zvmaqfs2ba', 'https://t.co/zvs7lklatm', 'https://t.co/zwflrzghxe', 'https://t.co/zwgj41u5go', 'https://t.co/zwpc9qowyu', 'https://t.co/zwtfmuu2xn', 'https://t.co/zwwwp8q6tb', 'https://t.co/zxferiys6i', 'https://t.co/zylmznfoeg', 'https://t.co/zyo7s2bdee', 'https://t.co/zyv5asylqa', 'https://t.co/zyzznbge6m', 'https://t.co/zzetuvlqzv', 'https://t.co/zzmgdntlcg', 'https://t.co/zzmgvtsqgt', 'https://t.co/zztdrenzuf', 'https://t.c…', 'https://www.tatahealth.com/online-doctor-consultation/general-physician', 'https:/…', 'https:…', 'httpstco0sw9dsfsim', 'httpstcocpnzytjslz', 'httpstcocvscc6s2mq', 'httpstcofxhntoslvr', 'httpstcog5dqhjvyu7', 'httpstcogjisuk6g4w', 'httpstcohssghajmuk', 'httpstcom7dmn1umpe', 'httpstcon6olbbadbh', 'httpstconfy2lhilkz', 'httpstcooc56svri2p', 'httpstcoociqwdbtdu', 'httpstcopax5gvmukf', 'httpstcopz2dhnrve1', 'httpstcor5ssfz6cdl', 'httpstcotdkogmwrir', 'httpstcowgabah5com', 'httpstcoyccw7laqeo', 'httpstcoyvzbe0v24m', 'httpstcozph7hdrboq', 'http…', 'huawei', 'hub', 'hubei', 'huckabee', 'huddled', 'huge', 'hugely', 'hugging', 'hugo', 'human', 'humanitarian', 'humanity', 'humanly', 'humanmade', 'humidity', 'humor', 'hundred', 'hunger', 'hungry', 'hunting', 'huoshenshan', 'hurricane', 'hurt', 'husband', 'hussain', 'hussein', 'hut', 'hv', 'hy', 'hyde', 'hyderabad', 'hyderbad', 'hydrochloroquine', 'hydrogen', 'hydroquinone', 'hydroxichloroquine', 'hydroxy', 'hydroxychloroqen', 'hydroxychloroquin', 'hydroxychloroquine', 'hydroxychloroquineis', 'hydroxydhloroquine', 'hygiene', 'hyped', 'hypercapnia', 'hypermarket', 'hypochlorite', 'hypochondria', 'hypoxia', 'hysteria', 'h😎', 'i', 'ia', 'iampii', 'ians', 'ibadan', 'ibd', 'ibom', 'ibom1', 'ibom10', 'ibom11', 'ibom12', 'ibom13', 'ibom17', 'ibom18', 'ibom2', 'ibom22', 'ibom5', 'ibom8', 'ibom9', 'ibrahim', 'ibuprofen', 'icai', 'ice', 'iceberg', 'ickes', 'icmr', 'icu', 'icu\\u2063', 'icu\\u2063\\u2063\\u2063\\u2063', 'icymi', 'id', 'id2020', 'idaho', 'idea', 'identification', 'identified', 'identify', 'identifying', 'identity', 'idh', 'idiocy', 'idlisdosasmeals', 'idol', 'ie', 'iea', 'iebc', 'if', 'iffy', 'iga', 'igg', 'igm', 'ignorance', 'ignore', 'ignored', 'ignores', 'ignoring', 'ihipidsp', 'ihme', 'ihr', 'ii', 'iii', 'iit', 'il', 'ill', 'illa', 'illegal', 'illegally', 'illinformed', 'illinois', 'illinoisan', 'illness', 'illogical', 'illprepared', 'illustrate', 'illustration', 'im', 'image', 'imagine', 'imagined', 'imam', 'imf', 'imitating', 'immanuel', 'immediate', 'immediately', 'immigrant', 'immigration', 'immobilizing', 'immune', 'immunisation', 'immunity', 'immunization', 'immunize', 'immunogenic', 'immunoglobulin', 'immunologist', 'immunoresponse', 'immunosuppression', 'immuntiy', 'imo', 'imo1', 'imo12', 'imo13', 'imo14', 'imo15', 'imo2', 'imo23', 'imo26', 'imo29', 'imo3', 'imo4', 'imo46', 'imo5', 'imo8', 'imo9', 'imp', 'impact', 'impact@drtedros', 'impacted', 'impacting', 'impassioned', 'impeachment', 'imperative', 'imperial', 'implant', 'implanted', 'implanting', 'implement', 'implementation', 'implemented', 'implemention', 'implication', 'implicitly', 'implies', 'imply', 'implying', 'import', 'importance', 'important', 'importantand', 'importantly', 'importanttesting', 'imported', 'imported\\u200b', 'impose', 'imposed', 'impossible', 'imposter', 'impressed', 'impression', 'impressive', 'imprisonment', 'improperly', 'improve', 'improved', 'improvement', 'improves', 'improving', 'impt', 'imran', 'in', 'inability', 'inaccessible', 'inaccurate', 'inactivated', 'inactive', 'inadequate', 'inarguable', 'inaugural', 'inauguration', 'inc', 'incentive', 'inch', 'inching', 'incidence', 'incident', 'incinerated', 'incl', 'include', 'included', 'includes', 'including', 'inclusion', 'income', 'incompetence', 'incomplete', 'inconvenient', 'incorporated', 'incorporates', 'incorrect', 'incorrectly', 'increas', 'increase', 'increased', 'increasing', 'incubation', 'incurred', 'indecipherable', 'indefinite', 'indefinitely', 'independent', 'index', 'india', 'indiaas', 'indian', 'indiana', 'indiansv', 'indiantelecommunication', 'indicate', 'indicated', 'indicates', 'indicating', 'indication', 'indicative', 'indicator', 'indictment', 'indifferent', 'indigenous', 'indigenously', 'indirect', 'indirectly', 'individual', 'individually', 'indoctornation', 'indonesia', 'indonesian', 'indoor', 'indoors', 'indore', 'induced', 'induction', 'indus', 'industrial', 'industrialist', 'industry', 'ineffective', 'inefficiency', 'inept', 'inequality', 'inequity', 'inevitable', 'inevitably', 'inexplicable', 'infant', 'infanta', 'infect', 'infected', 'infected1', 'infected2', 'infectedmild', 'infecting', 'infection', 'infection@drtedros', 'infectionsthe', 'infectious', 'infectivity', 'infects', 'inference', 'inferring', 'infertility', 'infinity', 'infirm', 'inflammation', 'inflammatory', 'inflating', 'influence', 'influenced', 'influenza', 'influenzalike', 'info', 'info@covidactnoworg', 'infodemic', 'infographic', 'inform', 'information', 'informed', 'informs', 'infra', 'infrastructure', 'infrequent', 'infusing', 'ingesting', 'inhabitant', 'inhalation', 'inhale', 'inhaler', 'inhaling', 'inherited', 'inhibitor', 'inhibits', 'inhome', 'inhospital', 'initial', 'initiate', 'initiated', 'initiation', 'initiative', 'inject', 'injectable', 'injected', 'injecting', 'injection', 'injured', 'injury', 'ink', 'inkalonji', 'inmate', 'innocence', 'innovation', 'innowner', 'inoculation', 'inperson', 'inquiry', 'inr', 'insecticide', 'inserted', 'insertion', 'inside', 'insider', 'insight', 'insightful', 'insilico', 'insist', 'insisting', 'insists', 'insolvency', 'inspect', 'inspector', 'inspirational', 'inspire', 'instagram', 'install', 'installed', 'installing', 'instalment', 'instance', 'instant', 'instead', 'institute', 'institutelabs', 'instituting', 'institution', 'institutional', 'instructed', 'instructing', 'instruction', 'instructive', 'instructs', 'instrument', 'instuctions', 'insufficient', 'insurance', 'insurgency', 'intact', 'intake', 'integral', 'integrate', 'integrated', 'integration', 'intel', 'intelligence', 'intelligent', 'intended', 'intense', 'intensified', 'intensify', 'intensity', 'intensive', 'intentional', 'intentionally', 'inter', 'interact', 'interactive', 'interconnectedness', 'interesante', 'interest', 'interested', 'interfere', 'interferon', 'interim', 'interior', 'intermediate', 'intern', 'internal', 'international', 'internet', 'interpret', 'interpretation', 'interrupted', 'interruption', 'interstate', 'interval', 'intervention', 'interview', 'inthe', 'intially', 'into', 'intra', 'intrastate', 'intravenous', 'intriguing', 'introduce', 'introduced', 'introduces', 'introducing', 'introduction', 'introvert', 'intrusion', 'intubated', 'inundated', 'invalid', 'invented', 'inventing', 'invention', 'inventor', 'invest', 'invested', 'invested@drtedros', 'investigate', 'investigated', 'investigates', 'investigating', 'investigation', 'investigator', 'investment', 'investment@drtedros', 'investor', 'invisible', 'invite', 'invited', 'invoking', 'involve', 'involved', 'involvement', 'involving', 'ioannidis', 'iodine', 'iowa', 'ipc', 'iphone', 'iq', 'iran', 'iranian', 'ireland', 'irene', 'irish', 'irrefutable', 'irrefutably', 'irregular', 'irresponsible', 'irritation', 'irs', 'is', 'isa', 'isabel', 'ischemic', 'isi', 'islam', 'islamabad', 'islamic', 'islamist', 'island', 'islander', 'isnt', 'isolate', 'isolated', 'isolating', 'isolation', 'isolationhospitalisation', 'isolationquarantine', 'isolation\\u200b', 'isolation\\u2063', 'isolation⠀', 'israel', 'israeli', 'issue', 'issued', 'issuing', 'istanbul', 'is🔑to', 'it', 'italian', 'itally', 'italy', 'item', 'itly', 'iv', 'ive', 'ivermectin', 'j1', 'jacinda', 'jackie', 'jackinthebox', 'jacksonville', 'jacob', 'jagan', 'jail', 'jain', 'jains', 'jaipur', 'jair', 'jam', 'jamaat', 'jamaatis', 'jamal', 'jamat', 'jamati', 'james', 'jammu', 'jampks', 'jan', 'janata', 'janeiro', 'janmabhoomi', 'janta', 'january', 'japan', 'japanese', 'jaroslav', 'jason', 'jazz', 'jb', 'jean', 'jeanine', 'jeanroger', 'jedi', 'jedward', 'jee', 'jeevan', 'jenkinson', 'jennifer', 'jennifersmith', 'jenny', 'jersey', 'jesus', 'jesús', 'jet', 'jetpark', 'jewellry', 'jewish', 'jhalawar', 'jharkhand', 'jhu', 'ji', 'jigawa', 'jigawa1', 'jigawa2', 'jigawa24', 'jigawa26', 'jigawa5', 'jigawa8', 'jihadi', 'jihadis', 'jim', 'jinping', 'jio', 'jitendra', 'jkuat', 'job', 'jobless', 'jobwork', 'joe', 'jogger', 'john', 'johnson', 'join', 'joined', 'joining', 'joint', 'joke', 'jokowis', 'jonathan', 'jones', 'jordanian', 'jos', 'jose', 'josé', 'journal', 'journalist', 'journey', 'jovis', 'joyalukkas', 'joão', 'jr', 'juan', 'juba', 'judaism', 'judge', 'judith', 'judy', 'juice', 'julia', 'julius', 'july', 'july2020', 'july\\u200b', 'jump', 'jumped', 'jumping', 'juna', 'june', 'jurisdiction', 'just', 'justice', 'justify', 'justin', 'just😢i', 'jyoti', 'k', 'k12', 'k8', 'ka', 'kabataan', 'kaczynski', 'kadhas', 'kaduna', 'kaduna10', 'kaduna11', 'kaduna12', 'kaduna13', 'kaduna14', 'kaduna15', 'kaduna16', 'kaduna17', 'kaduna18', 'kaduna19', 'kaduna2', 'kaduna20', 'kaduna21', 'kaduna23', 'kaduna25', 'kaduna26', 'kaduna27', 'kaduna28', 'kaduna3', 'kaduna30', 'kaduna32', 'kaduna4', 'kaduna40', 'kaduna44', 'kaduna49', 'kaduna5', 'kaduna50', 'kaduna52', 'kaduna54', 'kaduna6', 'kaduna63', 'kaduna7', 'kaduna8', 'kaduna9', 'kalka', 'kalma', 'kalonji', 'kalyan', 'kamal', 'kamala', 'kamia', 'kanika', 'kannanthanam', 'kano', 'kano1', 'kano10', 'kano11', 'kano12', 'kano16', 'kano17', 'kano18', 'kano2', 'kano20', 'kano23', 'kano3', 'kano37', 'kano4', 'kano46', 'kano5', 'kano6', 'kano65', 'kano7', 'kano73', 'kano77', 'kano9', 'kanpur', 'kansa', 'kansasdo', 'kapoor', 'karachi', 'karaoke', 'karimganj', 'karl', 'karnataka', 'karol', 'karti', 'kate', 'kathua', 'katsina', 'katsina1', 'katsina10', 'katsina12', 'katsina14', 'katsina17', 'katsina18', 'katsina2', 'katsina21', 'katsina24', 'katsina25', 'katsina27', 'katsina3', 'katsina30', 'katsina4', 'katsina5', 'katsina6', 'katsina7', 'katsina8', 'katsina9', 'kawasakilike', 'kayleigh', 'kaziranga', 'kdu', 'keanu', 'keating', 'kebbi', 'kebbi1', 'kebbi2', 'kebbi3', 'kebbi5', 'kebbi6', 'keeling', 'keenly', 'keep', 'keeping', 'keir', 'kejriwal', 'kem', 'kemp', 'kennedy', 'kent', 'kentucky', 'kenya', 'kenyan', 'kept', 'keqiang', 'kerala', 'keralas', 'ketamine', 'ketchup', 'kettle', 'kevan', 'kevin', 'key', 'keyboard', 'kg', 'khaled', 'khan', 'khargone', 'khashoggi', 'kia', 'kicillof', 'kick', 'kicked', 'kid', 'kidnapped', 'kidney', 'kill', 'killed', 'killer', 'killing', 'kilo', 'kin', 'kind', 'kindly', 'kindness', 'king', 'kingdom', 'kingswood', 'kirklandwa', 'kirtan', 'kiss', 'kissing', 'kissinger', 'kit', 'kitchen', 'kiwi', 'kmag', 'knell', 'knew', 'knock', 'know', 'knowing', 'knowledge', 'known', 'knowns', 'ko', 'kochi', 'kogi', 'kogi1', 'kolhapur', 'komal', 'konark', 'kong', 'koolaid', 'koolfee', 'korea', 'korean', 'koregaon', 'korona', 'kota', 'kothapet', 'kowheori19', 'kris', 'krishna', 'kroger', 'kudos', 'kumar', 'kung', 'kunj', 'kurnool', 'kushner', 'kuwait', 'kwara', 'kwara1', 'kwara10', 'kwara11', 'kwara13', 'kwara15', 'kwara17', 'kwara19', 'kwara2', 'kwara20', 'kwara23', 'kwara24', 'kwara3', 'kwara33', 'kwara34', 'kwara4', 'kwara5', 'kwara6', 'ky', 'kyi', 'kylie', 'l', 'la', 'lab', 'labconfirmed', 'label', 'labeled', 'labor', 'laboratory', 'laboratorygrade', 'laborer', 'labour', 'labourer', 'labshospitals', 'lack', 'lactate', 'lady', 'lag', 'lagarde', 'lager', 'lagging', 'lagos', 'lagos102', 'lagos106', 'lagos107', 'lagos113', 'lagos121', 'lagos123', 'lagos130', 'lagos137', 'lagos142', 'lagos150', 'lagos152', 'lagos153', 'lagos155', 'lagos156', 'lagos157', 'lagos161', 'lagos168', 'lagos169', 'lagos170', 'lagos172', 'lagos188', 'lagos19', 'lagos192', 'lagos193', 'lagos199', 'lagos200', 'lagos207', 'lagos209', 'lagos212', 'lagos230', 'lagos254', 'lagos27', 'lagos280', 'lagos281', 'lagos285', 'lagos288', 'lagos30', 'lagos33', 'lagos34', 'lagos378', 'lagos39', 'lagos42', 'lagos47', 'lagos504', 'lagos53', 'lagos582', 'lagos65', 'lagos657', 'lagos66', 'lagos68', 'lagos689', 'lagos69', 'lagos70', 'lagos76', 'lagos78', 'lagos87', 'lagos88', 'lagos89', 'lagos90', 'lagos98', 'lagsthe', 'lahood', 'laid', 'lakh', 'laminar', 'lamp', 'lampedusa', 'lancashire', 'lancaster', 'land', 'landlord', 'landmark', 'langres', 'language', 'lanka', 'lankan', 'lankas', 'lapse', 'laptop', 'laredo', 'large', 'largely', 'larger', 'largest', 'last', 'lasting', 'lastmile', 'late', 'later', 'latest', 'latex', 'lathi', 'latin', 'latino', 'latitude', 'latter', 'latvia', 'latvian', 'lauded', 'lauds', 'laugh', 'launch', 'launched', 'launching', 'laureate', 'law', 'lawmaker', 'lawn', 'lawsuit', 'lawyer', 'lax', 'lay', 'layer', 'laying', 'layoff', 'layoffed', 'lazy', 'ldf', 'le', 'lea', 'lead', 'leader', 'leadership', 'leading', 'leaf', 'league', 'leakage', 'leaked', 'leaking', 'leaning', 'leapfrogged', 'learn', 'learned', 'learning', 'learning@drtedros', 'learns', 'learnt', 'least', 'leave', 'leaving', 'lebanon', 'led', 'left', 'leftover', 'leg', 'legal', 'legend', 'legionnaire', 'legislative', 'legislator', 'legislature', 'legitfundcom', 'legitimate', 'leh', 'leicester', 'lemon', 'length', 'lengthy', 'leni', 'lennon', 'lenox', 'lentil', 'leonardo', 'leonor', 'lesion', 'leslie', 'lesotho', 'lesser', 'lesserknown', 'lesson', 'let', 'lethal', 'letter', 'letting', 'level', 'level3', 'lewd', 'lewis', 'lg', 'lga', 'lgas', 'lgte', 'li', 'liable', 'liaison', 'libertarian', 'liberty', 'library', 'libs', 'license', 'licensed', 'licking', 'lid', 'lie', 'lieber', 'lied', 'life', 'lifecamp', 'lifesaver', 'lifesaving', 'lifestyle', 'lifethreatening', 'lift', 'lifted', 'light', 'lighting', 'like', 'likely', 'limaye', 'lime', 'limeng', 'limit', 'limitation', 'limited', 'limiting', 'line', 'linger', 'lingering', 'lining', 'link', 'linked', 'linking', 'lion', 'lionel', 'liquefies', 'liquid', 'liquor', 'lisa', 'list', 'listed', 'listen', 'listening', 'listerine', 'listing', 'lit', 'literally', 'litigation', 'little', 'live', 'livelihood', 'liver', 'liverpool', 'lives@drtedros', 'livestream', 'living', 'llano', 'lnjp', 'load', 'loaf', 'lob', 'local', 'localised', 'locality', 'localized', 'locally', 'located', 'locating', 'location', 'lock', 'lockdown', 'lockdown2', 'lockdownera', 'lockdownish', 'locked', 'log', 'logged', 'logic', 'logically', 'logistics', 'logo', 'lokckdown', 'lol', 'lombardy', 'london', 'londonbased', 'londoner', 'loneliness', 'long', 'longer', 'longest', 'longfeared', 'longhaulers', 'longlasting', 'longstanding', 'longterm', 'longtime', 'look', 'lookalike', 'looked', 'looking', 'looting', 'lopez', 'lord', 'lorry', 'los', 'lose', 'loser', 'loses', 'losing', 'loss', 'lost', 'lot', 'lotus', 'louisiana', 'louisianadue', 'lovato', 'love', 'loved', 'lovin', 'low', 'low979as', 'lowabout', 'lowamp', 'lowcock', 'lower', 'lowerincome', 'lowering', 'lowest', 'lowincome', 'lpc', 'lt1', 'ltc', 'ltd', 'luck', 'lucknow', 'lucky', 'luckyu', 'lucía', 'luigi', 'luke', 'lull', 'lumped', 'lumping', 'lung', 'lupus', 'luque', 'luxury', 'lying', 'lyme', 'lymphocyte', 'lymphocytopenia', 'lysol', 'm', 'ma', 'macarthur', 'macedonia', 'macedonian', 'machine', 'mackinaw', 'macrolide', 'macron', 'madagascan', 'madagascar', 'maddow', 'made', 'madhav', 'madhya', 'madness', 'madrid', 'maduro', 'maduros', 'magazine', 'maggie', 'magic', 'magickly', 'magne', 'magnitude', 'mahal', 'maharashtra', 'maharasthra', 'mahila', 'mahinda', 'maia', 'maiduguri', 'mail', 'main', 'maine', 'mainland', 'mainly', 'maintain', 'maintained', 'maintained@drtedros', 'maintaining', 'maintains', 'maintenance', 'majid', 'major', 'majority', 'mak', 'makati', 'make', 'maker', 'makeshift', 'makeup', 'making', 'malaga', 'malaria', 'malarial', 'malaysia', 'malaysian', 'maldives', 'male', 'mali', 'malignancy', 'mall', 'malnourished', 'malunggay', 'mama', 'man', 'manafort', 'manage', 'managed', 'management', 'manager', 'managing', 'manara', 'manatū', 'manaus', 'manchester', 'mandal', 'mandaluyong', 'mandate', 'mandated', 'mandatorily', 'mandatory', 'mandel', 'maneesha', 'manhours', 'manifest', 'manila', 'manipulated', 'manipulating', 'manipulation', 'manipur', 'manir', 'manish', 'manmade', 'mannequin', 'manner', 'manori', 'mantova', 'mantri', 'mantua', 'manual', 'manuel', 'manufacture', 'manufactured', 'manufacturer', 'manufacturing', 'many', 'map', 'mar', 'marapr', 'marañón', 'march', 'marchapril', 'marcos', 'margaret', 'margarets', 'margarita', 'margin', 'marginally', 'marie', 'marijuana', 'marine', 'marist', 'mark', 'marked', 'market', 'marketed', 'marketplace', 'markle', 'marlena', 'marlin', 'marred', 'marriage', 'married', 'marseille', 'martial', 'martin', 'martinelli', 'martín', 'mary', 'maryland', 'mascot', 'mashpee', 'mashrafe', 'masjid', 'mask', 'masked', 'maskface', 'maskfacecover', 'maskfor', 'masking', 'maskwearing', 'mass', 'massachusetts', 'massive', 'massproduce', 'mast', 'master', 'masterstroke', 'masturbate', 'mat', 'matador', 'matamata', 'matarratn', 'match', 'mate', 'matelots', 'material', 'maternity', 'mathematically', 'matt', 'matter', 'matterhorn', 'maulana', 'mawe', 'maximize', 'maximum', 'maxwell', 'may', 'mayan', 'mayand', 'maybe', 'mayor', 'mazowiecki', 'mccarthy', 'mcconnell', 'mcenany', 'mcmichael', 'md', 'me', 'mean', 'meaneydelman', 'meaning', 'meaningless', 'meanssilicon', 'meant', 'meantime', 'meanwhile', 'measle', 'measles', 'measure', 'measurement', 'measuring', 'meat', 'meatpacking', 'mecfs', 'mechanical', 'mechanism', 'medcure', 'median', 'medias', 'mediaservices', 'medic', 'medica', 'medicaid', 'medical', 'medically', 'medicare', 'medicate', 'medication', 'medicine', 'medium', 'medscape', 'meerut', 'meet', 'meeting', 'megha', 'meghalaya', 'meghan', 'meharrys', 'mehdipatnam', 'melaninabsorbs', 'melbourne', 'melburnians', 'melinda', 'member', 'membrane', 'meme', 'memo', 'memorial', 'memory', 'men', 'meng', 'mental', 'mentally', 'mention', 'mentioned', 'mercury', 'mercy', 'merit', 'merkel', 'mers', 'mess', 'message', 'messaging', 'messed', 'messejana', 'messonnier', 'messy', 'met', 'metal', 'metastatic', 'meter', 'metformin', 'method', 'methodological', 'methylxanthine', 'meto', 'metre', 'metric', 'metro', 'mexico', 'mg', 'mha', 'mi', 'mi6', 'mic', 'michael', 'micheál', 'michigan', 'micro', 'microbiologist', 'microchip', 'microphase', 'microscope', 'microsoft', 'microsofts', 'mid', 'mid2021', 'midapril', 'midatlantic', 'midcourse', 'midday', 'middle', 'middleincome', 'middlemore', 'middleton', 'midjune', 'midland', 'midmay', 'midnight', 'midnovember', 'midoctober', 'midst', 'midtolate', 'midwest', 'midwinter', 'might', 'migrant', 'migrating', 'miguel', 'mihigo', 'mikakoss', 'mike', 'mikovits', 'mil', 'milan', 'mild', 'milder', 'mildpresymptomatic', 'mildvery', 'mile', 'milestone', 'military', 'milk', 'milking', 'milkshake', 'millennials', 'millennium', 'million', 'milliondollar', 'milwaukee', 'min', 'mina', 'mind', 'mine', 'mineral', 'mingfang', 'mingling', 'minimise', 'minimum', 'minister', 'ministry', 'minnesota', 'minogue', 'minority', 'minorityowned', 'minster', 'minute', 'miq', 'miracle', 'misbehaving', 'misbehavior', 'misc', 'misconstrue', 'misdiagnosed', 'miserably', 'mishra', 'misinfo', 'misinformation', 'misinformationdisinformation', 'misinformationfearmongering', 'mislabeled', 'misleading', 'mismanagement', 'miss', 'missed', 'missing', 'mission', 'mississippi', 'missouri', 'mistake', 'mistaking', 'mistook', 'mistreating', 'misuse', 'misusing', 'mit', 'mitch', 'mitigate', 'mitigation', 'mix', 'mixed', 'mixing', 'mixture', 'ml', 'mla', 'mm', 'mn', 'mny', 'mo', 'mob', 'mobile', 'mobileand', 'mobility', 'mobilization', 'mobilize', 'mobilized', 'mock', 'mode', 'model', 'modeling', 'modeller', 'modelling', 'moderate', 'moderatehigh', 'moderateish', 'modern', 'moderna', 'modestly', 'modi', 'modifiable', 'modified', 'modify', 'modis', 'modulators', 'moh', 'mohammed', 'mohan', 'mohoddin', 'moinhos', 'moist', 'moisture', 'molecular', 'molecule', 'mombasa', 'moment', 'momentarily', 'mon', 'monday', 'money', 'monitor', 'monitoring', 'monkey', 'montanari', 'montero', 'month', 'monthly', 'moonshot', 'mooted', 'mor', 'morally', 'moratalaz', 'morbidity', 'morbidityas', 'morbidly', 'more', 'moreover', 'morgue', 'morguescrematoriums', 'morning', 'morningnight', 'moron', 'morrinsville', 'morrison', 'mortality', 'mortaza', 'mortgage', 'mortuary', 'moscow', 'mosh', 'mosinee', 'mosque', 'mosquito', 'most', 'mostaffected', 'mostly', 'mother', 'motherstobe', 'mothertochild', 'motivating', 'motivation', 'motor', 'motorbiked', 'motorway', 'mountain', 'mourn', 'mouse', 'mouth', 'mouthwash', 'move', 'moved', 'movement', 'movie', 'moving', 'mow', 'mp', 'mr', 'mri', 'mrna', 'mrna1273', 'msg', 'msm', 'msnbc', 'mt', 'muammar', 'much', 'muchpoor', 'mucus', 'mud', 'muhamed', 'muhammadu', 'mujahid', 'mukwege', 'multicentric', 'multiple', 'multiplies', 'multisystem', 'multiweek', 'mumbai', 'municipal', 'municipality', 'muradnagar', 'mural', 'murcia', 'murder', 'murdeshwar', 'murs', 'musck', 'muscle', 'musculoskeletal', 'museveni', 'music', 'muslim', 'muslimstyle', 'mussel', 'must', 'mustapha', 'mustard', 'mutate', 'mutated', 'mutation', 'mutiny', 'muy', 'muñíz', 'my', 'myalgic', 'myanmar', 'myelitis', 'myeloma', 'myocarditis', 'myriad', 'mysore', 'mysterious', 'mystery', 'myth', 'n', 'n95', 'n95s', 'na', 'naaaa', 'nabarro', 'nabl', 'nac', 'nadda', 'nadu', 'nadus', 'nagar', 'nagpaul', 'nagpur', 'nagpurs', 'nahar', 'nahi', 'nahuw', 'naik', 'nail', 'nairobi', 'naked', 'namaha', 'naman', 'namaskar', 'namaz', 'name', 'named', 'namo', 'nanavathi', 'nanavati', 'nancy', 'nanopathologist', 'nanshan', 'nap', 'napkin', 'narendra', 'naresh', 'narrative', 'narrow', 'narrowly', 'nasa', 'nasal', 'nasaldropsgargle', 'nasarawa', 'nasarawa1', 'nasarawa10', 'nasarawa12', 'nasarawa14', 'nasarawa16', 'nasarawa17', 'nasarawa18', 'nasarawa2', 'nasarawa25', 'nasarawa3', 'nasarawa31', 'nasarawa5', 'nasarawa7', 'nasarawa8', 'nasarawa9', 'nascent', 'nashville', 'nasser', 'nasty', 'nation', 'national', 'nationalism', 'nationalist', 'nationality', 'nationally', 'nationwide', 'native', 'natl', 'natural', 'nature', 'naturopathy', 'navajo', 'navi', 'navigate', 'navigating', 'navsari', 'navy', 'nayak', 'nazi', 'nba', 'nbas', 'nc', 'ncaa', 'ncd', 'ncdc', 'nci', 'ncov', 'nd', 'ne', 'near', 'nearest', 'nearing', 'nearl', 'nearly', 'nearrecord', 'nears', 'nebraska', 'necessarily', 'necessary', 'necessity', 'need', 'needed', 'needed@drtedros', 'needylesson', 'neem', 'neet', 'nefarious', 'negative', 'negatively', 'neglecting', 'negligence', 'negligent', 'negotiating', 'neighbor', 'neighbour', 'neighbourhood', 'neil', 'neilson', 'neither', 'nejm', 'nelson', 'nervous', 'net', 'netflix', 'netherlands', 'netogly', 'network', 'neurological', 'neuroscientist', 'neutralize', 'neutron', 'neutropenic', 'nevada', 'never', 'new', 'newborn', 'newcase', 'newcastleupontyne', 'newer', 'newest', 'newkirks', 'newly', 'newlyupdated', 'news', 'news#', 'newsletter', 'newsom', 'newspaper', 'newsthump', 'newtest', 'next', 'nfeltp', 'nfl', 'nh', 'nhk', 'nicaragua', 'nicely', 'nick', 'nickname', 'nicola', 'nicolás', 'nicotine', 'niece', 'nigel', 'nigella', 'niger', 'niger1', 'niger10', 'niger2', 'niger3', 'niger32', 'niger49', 'niger7', 'nigeria', 'nigeria2', 'nigerian', 'nigh', 'night', 'nightclub', 'nightingale', 'nih', 'nine', 'nineteen', 'ninety', 'nipah', 'nirt', 'nites', 'nitish', 'nitp', 'niv', 'nizamuddin', 'niño', 'nj', 'no', 'no1', 'nobel', 'nobody', 'nod', 'nodal', 'noel', 'noguchi', 'noia', 'nominate', 'non#covid19', 'nonbinding', 'nonbravery', 'noncommunicable', 'noncovid', 'noncovid19', 'nondominant', 'none', 'nonessential', 'nonestablished', 'nonexistent', 'nonfatal', 'nonhispanic', 'noninvasive', 'nonmedical', 'nonmuslims', 'nonnas', 'nonnews', 'nonofficial', 'nonpharmaceutical', 'nonpregnant', 'nonsevere', 'nonsmoker', 'nonteaching', 'nonvegetarian', 'nonwhite', 'noon', 'nor', 'norm', 'normal', 'normality', 'normally', 'norris', 'north', 'northcote', 'northeast', 'northeastern', 'northern', 'northshore', 'northumberland', 'northwest', 'northwestern', 'norway', 'nose', 'nostradamus', 'nostril', 'not', 'note', 'noted', 'nothing', 'notice', 'noticed', 'notification', 'notifications@drtedros', 'notified\\u2063', 'notify', 'noting', 'notion', 'nouri', 'novartis', 'novel', 'novelist', 'november', 'novotel', 'now', 'nowhttpsbitly3emukei', 'npis', 'nrl', 'nsci', 'nsw', 'nude', 'nudged', 'number', 'numerous', 'nurse', 'nursing', 'nutrient', 'nutrition', 'nutritional', 'nuñez', 'nv', 'nwajiuba', 'ny', 'nyc', 'nyers', 'nynjct', 'nyt', 'nz', 'nz5', 'nzs', 'oath', 'obama', 'obamacare', 'obamas', 'obese', 'obesity', 'obey', 'object', 'obscure', 'obscures', 'observation', 'observational', 'observe', 'observed', 'observer', 'observes', 'observing', 'obtain', 'obvious', 'obviously', 'occasionally', 'occupancy', 'occupational', 'occupies', 'occur', 'occurred', 'occurring', 'occurs', 'ocd', 'oct', 'october', 'ocular', 'odd', 'odds', 'odia', 'odisha', 'odorata', 'oecd', 'of', 'off', 'off@drtedros', 'offence', 'offending', 'offense', 'offer', 'offered', 'offering', 'office', 'officer', 'official', 'officially', 'offlabel', 'offline', 'offloaded', 'offset', 'offsetting', 'ofin', 'often', 'ogden', 'ogun', 'ogun1', 'ogun10', 'ogun108', 'ogun11', 'ogun12', 'ogun13', 'ogun14', 'ogun15', 'ogun16', 'ogun17', 'ogun18', 'ogun19', 'ogun2', 'ogun23', 'ogun24', 'ogun29', 'ogun3', 'ogun30', 'ogun31', 'ogun34', 'ogun35', 'ogun36', 'ogun37', 'ogun4', 'ogun42', 'ogun49', 'ogun5', 'ogun57', 'ogun6', 'ogun7', 'ogun8', 'ogun9', 'oh', 'ohio', 'ohomai', 'oil', 'ok', 'okay', 'oklahoma', 'okthen', 'old', 'older', 'olive', 'olly', 'oluwaniyi', 'olympic', 'olympics', 'on', 'onboard', 'once', 'onceinacentury', 'ondo', 'ondo1', 'ondo10', 'ondo11', 'ondo13', 'ondo15', 'ondo16', 'ondo17', 'ondo18', 'ondo19', 'ondo2', 'ondo20', 'ondo22', 'ondo23', 'ondo28', 'ondo29', 'ondo3', 'ondo32', 'ondo37', 'ondo38', 'ondo4', 'ondo41', 'ondo46', 'ondo5', 'ondo56', 'ondo6', 'ondo7', 'ondo76', 'ondo8', 'ondo9', 'one', 'oneday', 'onefifth', 'oneself', 'onestop', 'onethird', 'onetime', 'onetwo', 'ongoing', 'onion', 'onitsha', 'online', 'onlinedistance', 'only', 'ons', 'onset', 'onto', 'open', 'opened', 'opening', 'operate', 'operating', 'operation', 'operational', 'ophthalmologist', 'opinion', 'opponent', 'opportunity', 'oppose', 'opposes', 'opposite', 'opposition', 'ops', 'opt', 'optimal', 'optimisation', 'optimistic', 'optimistically', 'optimization', 'option', 'or', 'oral', 'orana', 'orange', 'orangutan', 'order', 'ordered', 'ordering', 'ordinary', 'oregon', 'organ', 'organic', 'organisation', 'organisationhelp', 'organising', 'organism', 'organization', 'organization\\u200b', 'organization\\u2063', 'organized', 'organizing', 'orgy', 'origin', 'original', 'originally', 'originate', 'originated', 'originator', 'orleans', 'ormoc', 'ormore', 'orwell', 'os', 'osama', 'oscillococcinum', 'osha', 'osmania', 'osmar', 'osun', 'osun1', 'osun10', 'osun12', 'osun13', 'osun14', 'osun15', 'osun17', 'osun2', 'osun20', 'osun21', 'osun23', 'osun26', 'osun27', 'osun29', 'osun3', 'osun32', 'osun37', 'osun41', 'osun6', 'osun7', 'osun8', 'otc', 'othe', 'other', 'others', 'others@drtedros', 'otherwise', 'other\\u2063', 'otoh', 'ottawa', 'ou', 'ought', 'our', 'ous', 'out', 'outage', 'outbid', 'outbreak', 'outbreakhas', 'outbreaksbut', 'outburst', 'outcome', 'outdated', 'outdoor', 'outdoors', 'outlawing', 'outlet', 'outlier', 'outline', 'outlined', 'outofarea', 'outpaced', 'outpacing', 'outpatient', 'output', 'outrage', 'outset', 'outside', 'outsider', 'outstanding', 'outwards', 'outweigh', 'out\\u2063', 'over', 'overall', 'overarching', 'overblown', 'overcome', 'overcrowding', 'overdoses', 'overflow', 'overheard', 'overlaid', 'overload', 'overloaded', 'overloading', 'overly', 'overnight', 'overreaction', 'overseas', 'overseeing', 'oversight', 'oversold', 'overstated', 'overtaken', 'overtakes', 'overtaking', 'overtime', 'overturned', 'overwhelmed', 'overwhelming', 'owaisi', 'owe', 'own', 'owned', 'owner', 'owning', 'owns', 'oxford', 'oxfordastrazeneca', 'oxygen', 'oxygenation', 'oyo', 'oyo1', 'oyo10', 'oyo103', 'oyo11', 'oyo12', 'oyo14', 'oyo141', 'oyo15', 'oyo16', 'oyo17', 'oyo18', 'oyo19', 'oyo191', 'oyo2', 'oyo20', 'oyo25', 'oyo27', 'oyo3', 'oyo30', 'oyo31', 'oyo4', 'oyo40', 'oyo41', 'oyo43', 'oyo45', 'oyo47', 'oyo5', 'oyo51', 'oyo52', 'oyo53', 'oyo56', 'oyo6', 'oyo67', 'oyo69', 'oyo7', 'oyo76', 'oyo8', 'oyo9', 'p', 'pa', 'pacaembu', 'pace', 'pacific', 'pack', 'package', 'packaging', 'packed', 'packet', 'page', 'paid', 'pain', 'painful', 'painted', 'pair', 'pak', 'pakistan', 'pakistani', 'pakisthan', 'palermo', 'palliative', 'palm', 'palmer', 'pamphlet', 'panama', 'panchagavya', 'panda', 'pandem', 'pandemic', 'pandemic@drtedros', 'pandemicdriven', 'pandemicno', 'pandemicrelated', 'pandeyji', 'panel', 'pangolin', 'panic', 'panicbuying', 'panicked', 'panicking', 'pant', 'pantin', 'papad', 'paper', 'pappu', 'paracetamol', 'paragraph', 'paraguay', 'paraguayan', 'paralyzed', 'parameter', 'paramilitary', 'parasite', 'parent', 'parental', 'paris', 'parisien', 'park', 'parker', 'parliament', 'parliamentary', 'parmeshwar', 'part', 'partial', 'partially', 'participant', 'participate', 'participating', 'participation', 'particle', 'particular', 'particularly', 'parties\\u2063', 'partner', 'partnership', 'partto', 'party', 'partylist', 'parviz', 'pará', 'pas', 'paschim', 'pass', 'passage', 'passed', 'passenger', 'passengerexpress', 'passing', 'past', 'pasted', 'pastits', 'pastor', 'patanjali', 'patarroyo', 'patch', 'patel', 'patent', 'patented', 'path', 'pathogenesis', 'pathology', 'patience', 'patient', 'patiently', 'patientswho', 'patientswhose', 'patil', 'patio', 'patna', 'patrick', 'patriotic', 'patron', 'patronize', 'pattern', 'patting', 'pattinson', 'paul', 'pauline', 'paulo', 'paulos', 'pause', 'paused', 'paved', 'paw', 'pawars', 'pay', 'payback', 'payer', 'paying', 'payment', 'payroll', 'pbcom', 'pcr', 'pcrtest', 'pcrtested', 'peace', 'peacock', 'peak', 'peaked', 'pearl', 'pedestrian', 'pediatric', 'pediatrician', 'pedophile', 'peel', 'peeling', 'peeping', 'peer', 'pegged', 'pelican', 'pelosi', 'pelosis', 'pelted', 'pelting', 'penalised', 'penalty', 'pences', 'pending', 'penetrate', 'penis', 'pennsylvania', 'penny', 'pension', 'pentagon', 'people', 'peoplehe', 'pepper', 'peptide', 'per', 'perambra', 'percapita', 'percent', 'percentage', 'percentpositive', 'perfect', 'perfected', 'perform', 'performance', 'performed', 'performer', 'performing', 'perfume', 'perhaps', 'perilous', 'perinatal', 'period', 'periodic', 'permanent', 'permanently', 'permission', 'permit', 'permitted', 'peroxide', 'perpetrated', 'persisted', 'persistent', 'persists', 'person', 'personal', 'personalised', 'personality', 'personally', 'personnel', 'persontoperson', 'personvia', 'perspective', 'pertains', 'pertussis', 'peruvian', 'pet', 'petal', 'petas', 'petrol', 'pfms', 'pgimer', 'ph', 'pharma', 'pharmaceutical', 'pharmacist', 'pharmacological', 'pharmacy', 'phase', 'phased', 'phe', 'phenolic', 'phenomenal', 'phenomenon', 'pheoc', 'pheocs', 'philadelphia', 'philanthropy', 'philippine', 'phone', 'phoneserted', 'phoning', 'photo', 'photograph', 'photographer', 'physic', 'physical', 'physically', 'physician', 'pib', 'pick', 'picked', 'picking', 'pickup', 'picture', 'pictwittercom4uovmnkvey', 'pie', 'piece', 'pier', 'pig', 'pigeon', 'pile', 'piling', 'pill', 'pillow', 'pilot', 'piltdown', 'pin', 'pinal', 'pinch', 'pinol', 'pioneer', 'pipe', 'piss', 'pissed', 'pisspoor', 'pistol', 'pitanga', 'pitching', 'pitt', 'pivot', 'placard', 'place', 'placebo', 'placed', 'placement', 'placing', 'plague', 'plain', 'plamsarelated', 'plan', 'plandemia', 'plandemic', 'plane', 'planet', 'planned', 'planning', 'plant', 'planting', 'plaque', 'plasma', 'plastic', 'plasticwrapped', 'plasvirec', 'plate', 'plateau', 'plateau1', 'plateau10', 'plateau11', 'plateau12', 'plateau13', 'plateau15', 'plateau16', 'plateau17', 'plateau18', 'plateau183', 'plateau186', 'plateau19', 'plateau2', 'plateau20', 'plateau21', 'plateau22', 'plateau23', 'plateau24', 'plateau25', 'plateau26', 'plateau27', 'plateau3', 'plateau31', 'plateau34', 'plateau35', 'plateau37', 'plateau38', 'plateau39', 'plateau4', 'plateau40', 'plateau5', 'plateau54', 'plateau6', 'plateau64', 'plateau68', 'plateau8', 'plateau81', 'plateau9', 'plateaued', 'platform', 'play', 'playbook', 'played', 'player', 'playing', 'plaza', 'plea', 'pleads', 'please', 'pleased', 'pledge', 'plenty', 'pleurisy', 'plight', 'plot', 'pls', 'plug', 'plummeting', 'plunge', 'plus', 'pluscoronil', 'plz', 'pm', 'pmay', 'pmjjby', 'pmnrf', 'pmo', 'pmsby', 'pna', 'pneumococcal', 'pneumonia', 'pns', 'pocket', 'podcast', 'poe', 'poem', 'poet', 'point', 'pointed', 'pointing', 'pointless', 'poised', 'poison', 'poisonous', 'pokhriyal', 'pole', 'poleaxed', 'police', 'policed', 'policeman', 'policing', 'policy', 'polio', 'poliolike', 'polish', 'political', 'politically', 'politician', 'politiciansdont', 'politicized', 'politics', 'politifact', 'poll', 'pollen', 'polling', 'pollutant', 'pollution', 'pollutionwhich', 'polymerase', 'pompeo', 'pondicherry', 'pool', 'pooled', 'pooling', 'poor', 'poorly', 'poorselders', 'pope', 'popped', 'popping', 'popular', 'populated', 'population', 'populous', 'port', 'portal', 'portend', 'portfolio', 'portion', 'porto', 'portraying', 'portrays', 'portsmouth', 'portugal', 'portuguese', 'pose', 'posed', 'posing', 'position', 'positioned', 'positive', 'positive+negative', 'positively', 'positivity', 'possession', 'possibility', 'possible', 'possible@drtedros', 'possibly', 'post', 'postbrexit', 'postcovid', 'posted', 'poster', 'posting', 'postintensive', 'postlockdown', 'postpone', 'postponed', 'postponement', 'postponing', 'postregistration', 'postventilation', 'pot', 'potency', 'potent', 'potential', 'potentially', 'pothole', 'poultry', 'pound', 'pour', 'poverty', 'powder', 'power', 'powerful', 'powerpoint', 'pp', 'ppe', 'ppes', 'ppi', 'ppl', 'practice', 'practiced', 'practices@drtedros', 'practicing', 'practise', 'practitioner', 'pradesh', 'pradeshs', 'pradhan', 'pragya', 'praise', 'praised', 'praising', 'prasad', 'prattle', 'pray', 'prayed', 'prayer', 'praying', 'precaution', 'precautionary', 'preceding', 'precious', 'precipitously', 'precise', 'preclinical', 'predator', 'predicament', 'predict', 'predicted', 'predicting', 'prediction', 'predictive', 'predicts', 'preexisting', 'prefect', 'prefectural', 'prefer', 'preference', 'preferred', 'pregnancy', 'pregnant', 'prejuly', 'preliminary', 'prelockdown', 'premature', 'premier', 'premji', 'prenatal', 'prepair', 'prepandemic', 'preparation', 'prepare', 'prepared', 'preparedness', 'prepares', 'preparing', 'prequalified', 'preregister', 'pres', 'prescribe', 'prescribed', 'prescribing', 'prescription', 'presence', 'present', 'presentation', 'presented', 'presenter', 'presenting', 'presently', 'preserve', 'preserved', 'presidency', 'president', 'presidential', 'press', 'presser', 'pressure', 'presumably', 'presumed', 'presumptive', 'presumptively', 'presymptomatic', 'pretence', 'pretend', 'pretended', 'pretending', 'preterm', 'pretty', 'prevalence', 'prevent', 'prevented', 'preventing', 'prevention', 'preventive', 'prevents', 'preview', 'previewed', 'previous', 'previously', 'prexisting', 'price', 'priest', 'primarily', 'primary', 'primate', 'prime', 'prince', 'princess', 'principal', 'prior', 'prioritise', 'prioritised', 'prioritize', 'priority', 'prison', 'prisoner', 'priti', 'pritzker', 'privacy', 'private', 'priyanka', 'prize', 'prizewinning', 'proactively', 'probability', 'probable', 'probably', 'probiden', 'problem', 'procedure', 'proceed', 'proceeding', 'process', 'processed', 'processed\\u200b', 'processing', 'procession', 'proclaim', 'procovid', 'procurement', 'produce', 'produced', 'producing', 'product', 'production', 'prof', 'professional', 'professor', 'professorso', 'profile', 'profit', 'profitable', 'program', 'programme', 'progress', 'progress@drtedros', 'progressed', 'progression', 'progressive', 'progressively', 'prohibit', 'prohibited', 'prohibiting', 'prohibits', 'project', 'projected', 'projecting', 'projection', 'prolonged', 'promise', 'promised', 'promising', 'promote', 'promoted', 'promoting', 'promotion', 'prompt', 'promptly', 'prone', 'prong', 'pronounced', 'proof', 'propaganda', 'proper', 'properly', 'properly565', 'property', 'prophesied', 'prophet', 'prophetess', 'prophylactic', 'prophylaxis', 'proportion', 'proportional', 'proposal', 'proposed', 'proposes', 'prospect', 'prostata', 'prostatitis', 'prostrate', 'protect', 'protected', 'protecting', 'protection', 'protection@drtedros', 'protective', 'protects', 'protein', 'protest', 'protester', 'protesting', 'protestors', 'protocol', 'protocolampprocedure', 'protocolprocedure', 'proud', 'prounited', 'prove', 'proved', 'proven', 'provide', 'provided', 'provider', 'provides', 'providing', 'province', 'proving', 'provision', 'provisional', 'psa', 'psychological', 'ptf', 'pub', 'publi', 'public', 'publication', 'publicly', 'publish', 'published', 'publishes', 'publishing', 'puducherry', 'puebla', 'puerto', 'pulaski', 'pull', 'pulled', 'pulling', 'pullman', 'pulmonologists', 'pulp', 'pump', 'punch', 'pundit', 'pune', 'punishable', 'punished', 'punishing', 'punishment', 'punjab', 'pupil', 'pur', 'purchase', 'purchasing', 'pure', 'puri', 'purnima', 'puro', 'purohit', 'purple', 'purported', 'purportedly', 'purpose', 'purposefully', 'push', 'pushed', 'pushing', 'pushpa', 'pussy', 'put', 'putin', 'putting', 'puzzled', 'pvt', 'q', 'qampa', 'qanon', 'qatar', 'qd', 'qq', 'qr', 'quadruple', 'quadrupled', 'quality', 'quantify', 'quantitative', 'quantity', 'quarantine', 'quarantined', 'quarantining', 'quarter', 'quaver', 'quebec', 'queen', 'queenstown', 'quercetin', 'query', 'question', 'questionable', 'questioned', 'queue', 'queuing', 'quick', 'quickly', 'quickly@drtedros', 'quicktake', 'quietly', 'quinine', 'quintero', 'quit', 'quite', 'quito', 'quits', 'quitting', 'quiz', 'quote', 'quoted', 'quoting', 'quran', 'r', 'r$', 'r0', 'ra', 'raab', 'raam', 'raccoon', 'race', 'raceethnicity', 'rachael', 'rachel', 'raches', 'racial', 'racing', 'racism', 'racist', 'radcliffe', 'radiation', 'radio', 'rahman', 'rahul', 'rai', 'raid', 'raided', 'rail', 'railway', 'rain', 'raina', 'raise', 'raised', 'raising', 'raj', 'rajapaksa', 'rajasthan', 'rajasthans', 'rajkot', 'rajoelina', 'rajpura', 'rally', 'ram', 'rama', 'ramadan', 'ramakrishna', 'ramaphosa', 'ramdev', 'ramdevs', 'ramesh', 'ramp', 'rampd', 'ramped', 'ramping', 'rampup', 'ramu', 'ran', 'randomized', 'randomly', 'range', 'rank', 'ranking', 'rao', 'raoult', 'rape', 'rapid', 'rapidly', 'rare', 'rasam', 'rash', 'rashid', 'rashtriya', 'rat', 'ratan', 'rate', 'rated', 'rather', 'rating', 'ratio', 'ration', 'ravi', 'ravindra', 'raw', 'ray', 'raymond', 'rayner', 'rayners', 'rbi', 'rdrp', 're', 'reach', 'reached', 'reaching', 'reacting', 'reaction', 'reactivated', 'reacts', 'read', 'reader', 'readily', 'reading', 'ready', 'reagent', 'reais', 'real', 'realised', 'realistic', 'reality', 'realize', 'realized', 'really', 'realtime', 'reappraisal', 'reason', 'reasonable', 'reassurance', 'reassured', 'reassuring', 'rebirth', 'rebound', 'rebounded', 'rebuild', 'rebuilt', 'rebuking', 'rec', 'recall', 'recalling', 'recast', 'receive', 'received', 'receiver', 'receives', 'receiving', 'recent', 'recently', 'reception', 'recession', 'recieved', 'recipe', 'recipient', 'recirculated', 'recital', 'recite', 'reciting', 'reckoning', 'reclassified', 'reco', 'recognise', 'recognition', 'recognize', 'recognized', 'recognizing', 'recommend', 'recommendation', 'recommended', 'recommends', 'reconfigure', 'reconvening', 'record', 'recorded', 'recording', 'recover', 'recovered', 'recoveredrecovered', 'recovering', 'recovers', 'recovery', 'recreated', 'rectifying', 'red', 'reddit', 'reddy', 'redefined', 'redeployed', 'redfield', 'redistributing', 'redraws', 'reduce', 'reduced', 'reduces', 'reducing', 'reduction', 'reeducation', 'reef', 'reelected', 'reelection', 'reesmogg', 'refactor', 'refer', 'reference', 'referencing', 'referral', 'referred', 'referring', 'refers', 'reff', 'reffective', 'reflect', 'reflected', 'reflection', 'reflects', 'reformats', 'refrigerator1800ice', 'refund', 'refuse', 'refused', 'refusing', 'regard', 'regarding', 'regardless', 'regime', 'region', 'regional', 'register', 'registered', 'registering', 'registration', 'registry', 'regret', 'regular', 'regularly', 'regulation', 'rehabilitation', 'reicher', 'reignite', 'reimbursement', 'reimplementation', 'reimposed', 'reimposing', 'reina', 'reinfected', 'reinfection', 'reinforce', 'reinforced', 'reiterate', 'reiterated', 'reiterates', 'reject', 'rejecting', 'rejoice', 'relactation', 'related', 'relating', 'relationship', 'relative', 'relatively', 'relax', 'relaxation', 'relaxed', 'relaxing', 'release', 'released', 'releasing', 'relevance', 'relevant', 'reliable', 'reliably', 'reliance', 'relief', 'relieved', 'religion', 'religious', 'reluctance', 'reluctantly', 'rely', 'relying', 'remain', 'remained', 'remaining', 'remains', 'remark', 'remarkable', 'remarkably', 'remdesivir', 'remedy', 'remember', 'remembering', 'remind', 'reminded', 'reminder', 'reminds', 'removal', 'remove', 'removed', 'renata', 'rendesiver', 'renew', 'renewed', 'renovation', 'renowned', 'rent', 'renter', 'reoccupation', 'reopen', 'reopened', 'reopening', 'reopenings', 'reopens', 'rep', 'repairer', 'repatriated', 'repeat', 'repeatable', 'repeated', 'repeatedly', 'replace', 'replaced', 'replicant', 'replication', 'repo', 'report', 'report@alexismadrigal', 'reportage', 'reported', 'reportedly', 'reporter', 'reporting', 'report\\u200b', 'report\\u2063', 'report\\u2063\\u2063\\u2063\\u2063', 'repositioning', 'repository', 'reposting', 'reprehensible', 'represent', 'representation', 'representative', 'represented', 'representing', 'represents', 'repression', 'reprinted', 'reproducible', 'reproduction', 'reproductive', 'republic', 'republican', 'repurposed', 'reqest', 'request', 'requested', 'requesting', 'require', 'required', 'requirement', 'requires', 'requiring', 'rerun', 'rescue', 'rescued', 'rescuing', 'research', 'researcher', 'reservation', 'reserve', 'reserved', 'reservoir', 'residence', 'resident', 'residual', 'residue', 'resign', 'resigned', 'resigns', 'resist', 'resistiré', 'resists', 'resolutely', 'resolution', 'resolve', 'resolved', 'resolving', 'resort', 'resorting', 'resource', 'respect', 'respected', 'respecting', 'respective', 'respectively', 'respirator', 'respiratory', 'respond', 'responded', 'responder', 'responding', 'responds', 'response', 'responsibility', 'responsible', 'responsive', 'responsiveness', 'rest', 'restart', 'restaurant', 'restored', 'restrict', 'restricted', 'restricting', 'restriction', 'restrictive', 'result', 'resulted', 'resulting', 'results@drtedros', 'resume', 'resumed', 'resuming', 'resumption', 'resurgence', 'retail', 'retested', 'rethink', 'retitling', 'retracted', 'retrieved', 'retroactively', 'retrovirus', 'return', 'returned', 'returnee', 'returnees', 'returning', 'retweet', 'retweeted', 'reused', 'reusing', 'revalidation', 'reveal', 'revealed', 'revealing', 'reveals', 'revenuethink', 'reversal', 'reverse', 'reversed', 'reversegenetic', 'reversible', 'review', 'reviewed', 'reviewing', 'revise', 'revised', 'revived', 'revoke', 'revoked', 'revoking', 'reward', 'rfid', 'rhesus', 'rheumatoid', 'rhinovirus', 'rhode', 'rhondda', 'ri', 'riaz', 'riazs', 'ribbon', 'rice', 'richard', 'richest', 'richie', 'rico', 'rid', 'ride', 'ridiculous', 'rife', 'riga', 'right', 'rightbold', 'righthand', 'rightwing', 'rigorous', 'rink', 'rinse', 'rinsing', 'rio', 'rioja', 'riot', 'rioting', 'rip', 'risa', 'rise', 'risen', 'rishi', 'rishte', 'rising', 'risk', 'risk@drtedros', 'riskbased', 'risking', 'riskreward', 'risky', 'rita', 'rivaled', 'river', 'river10', 'river2', 'river3', 'river4', 'river5', 'rivers1', 'rivers10', 'rivers11', 'rivers12', 'rivers127', 'rivers13', 'rivers14', 'rivers15', 'rivers16', 'rivers17', 'rivers18', 'rivers19', 'rivers2', 'rivers20', 'rivers21', 'rivers22', 'rivers24', 'rivers25', 'rivers26', 'rivers3', 'rivers30', 'rivers33', 'rivers35', 'rivers36', 'rivers39', 'rivers40', 'rivers43', 'rivers48', 'rivers49', 'rivers5', 'rivers56', 'rivers6', 'rivers65', 'rivers68', 'rivers7', 'rivers8', 'rivers9', 'riyaz', 'rizwan', 'rmds', 'rna', 'rnadependent', 'rnaught', 'rnc', 'road', 'roadblock', 'roadmap', 'roaming', 'rob', 'robbery', 'robert', 'roberto', 'robin', 'robredo', 'roche', 'rock', 'rodrigo', 'rohingya', 'rohtak', 'role', 'roll', 'rollback', 'rolled', 'rolling', 'rollout', 'rome', 'ron', 'ronaldo', 'ronan', 'roof', 'roofer', 'room', 'rooney', 'roosevelt', 'rose', 'rosewood', 'roskill', 'rotorua', 'rough', 'roughly', 'round', 'roundup', 'route', 'routine', 'routinely', 'row', 'roy', 'royal', 'royce', 'rrt', 'rs15000', 'rs3900000', 'rs5000', 'rsv', 'rt', 'rtpcr', 'rtve', 'rubber', 'ruby', 'rudakovbloomberg', 'rudd', 'rudimentary', 'rudy', 'ruin', 'rukh', 'rule', 'ruled', 'ruling', 'rumor', 'rumour', 'run', 'rundown', 'runni', 'running', 'runny', 'rupee', 'rural', 'rurmeric', 'rush', 'rushed', 'russell', 'russia', 'russian', 'rvsv', 'rw', 'ryanair', 'rydges', 's', 's1s2', 'saad', 'sack', 'sacred', 'sacrifice', 'saddam', 'saddened', 'sadiq', 'sadly', 'sadness', 'saeed', 'saf', 'safe', 'safely', 'safety', 'sage', 'sahel', 'sai', 'said', 'sail', 'sailed', 'saint', 'sake', 'salad', 'salariesluxury', 'salary', 'sale', 'saleh', 'saline', 'saliva', 'salivabased', 'sallah', 'salt', 'salute', 'saluting', 'salvador', 'salvatore', 'salwar', 'sam', 'same', 'samitis', 'sample', 'samplesday', 'sampling', 'sampoerna', 'samuel', 'san', 'sanatan', 'sanchez', 'sanctuary', 'sander', 'sang', 'sangh', 'sani', 'sanitiser', 'sanitize', 'sanitized', 'sanitizer', 'sanitizers', 'sanitizing', 'sanskrit', 'santa', 'santiago', 'santo', 'santojanni', 'sao', 'sara', 'sarah', 'sarcastic', 'sard', 'sars', 'sarscov', 'sarscov2', 'sat', 'satellite', 'sathosa', 'satire', 'saturation', 'saturday', 'satyendar', 'satyendra', 'saudi', 'saurab', 'savarkar', 'save', 'saved', 'saving', 'saw', 'say', 'sayardaw', 'sayha', 'saying', 'sbi', 'sc', 'scale', 'scaled', 'scaleup@drtedros', 'scaling', 'scam', 'scan', 'scanned', 'scanner', 'scapegoat', 'scare', 'scared', 'scarf', 'scary', 'scathing', 'scattered', 'scenario', 'scenario#coronavirus', 'scene', 'scenery', 'schedule', 'scheduled', 'scheduling', 'scheme', 'schizophrenia', 'school', 'schoolchildren', 'schooling@drtedros', 'schoolkids', 'schwabe', 'science', 'scientific', 'scientifically', 'scientist', 'sclerosis', 'scoffed', 'scope', 'score', 'scorecard', 'scotland', 'scott', 'scramble', 'scraper', 'scream', 'screaming', 'screen', 'screened', 'screening', 'screenshot', 'scripps', 'script', 'scrub', 'scrutiny', 'sd', 'sdsm', 'sea', 'sealed', 'seamless', 'sean', 'search', 'searching', 'seashore', 'season', 'seasonal', 'seat', 'seated', 'seattle', 'seawater', 'sec', 'secession', 'sechenov', 'secluedo', 'secon', 'second', 'secondary', 'secondhighest', 'secondly', 'secret', 'secretary', 'secretarygeneral', 'secretion', 'secretly', 'section', 'sector', 'secure', 'secured', 'secures', 'securing', 'security', 'security@drtedros', 'sedated', 'see', 'seed', 'seedso', 'seeing', 'seek', 'seeker', 'seeking', 'seem', 'seemingly', 'seems', 'seen', 'segment', 'seldom', 'selected', 'selecting', 'selectively', 'self', 'selfadministered', 'selfcare', 'selfcheck', 'selfchecker', 'selfcheckup', 'selfdiagnostic', 'selffinancing', 'selfie', 'selfish', 'selfisolate', 'selfisolating', 'selfisolation', 'selfisolation\\u200b', 'selfless', 'selflessly', 'selfmedicate', 'selfmonitor', 'selfmonitoring', 'selfquarantine', 'selfquarantined', 'selftest', 'sell', 'seller', 'selling', 'selva', 'sen', 'senate', 'senator', 'send', 'sender', 'sending', 'sends', 'senegal', 'senegalese', 'senior', 'sensational', 'sense', 'sensible', 'sensitisation', 'sensitivity', 'sensor', 'sent', 'sentence', 'seoul', 'sep', 'separate', 'separated', 'separately', 'sepsis', 'sept', 'september', 'september@drtedros', 'septum', 'sequel', 'sequence', 'sequencing', 'serbia', 'serf', 'sergio', 'serial', 'series', 'serious', 'seriously', 'seriousness', 'sero', 'serology', 'seroprevalence', 'serum', 'servant', 'serve', 'served', 'server', 'service', 'sesame', 'set', 'setting', 'settle', 'setup', 'seva', 'seven', 'sevenday', 'seventeen', 'seventh', 'several', 'severe', 'severely', 'severity', 'sex', 'sexual', 'sgrh', 'shadab', 'shade', 'shadow', 'shah', 'shaheed', 'shaheen', 'shahrukh', 'shake', 'shakespeare', 'shakeup', 'shaking', 'shall', 'sham', 'shamble', 'shame', 'shameful', 'shands', 'shangrila', 'shape', 'shapps', 'sharad', 'sharda', 'share', 'shared', 'sharepic', 'sharing', 'sharma', 'sharp', 'sharply', 'shashi', 'shattock', 'shave', 'shaving', 'she', 'shea', 'shed', 'sheep', 'sheeran', 'sheet', 'shelf', 'shell', 'shelter', 'shelteringinplace', 'shelterinplace', 'shenzhen', 'shetty', 'shi', 'shield', 'shift', 'shifting', 'shijian', 'shincheonji', 'ship', 'shipped', 'shipping', 'shipwreck', 'shirt', 'shit', 'shiva', 'shivaya', 'shivraj', 'shocked', 'shocking', 'shockingly', 'shoe', 'shook', 'shoot', 'shooter', 'shooting', 'shop', 'shopper', 'shopping', 'shore', 'short', 'shortage', 'shortest', 'shortly', 'shortness', 'shortsighted', 'shortterm', 'shot', 'should', 'shouldering', 'shouldnt', 'should\\u2063', 'shout', 'shouting', 'shoutout', 'show', 'showcasing', 'showed', 'shower', 'showing', 'shown', 'showrunner', 'shri', 'shrime', 'shrinking', 'shripad', 'shut', 'shutdown', 'shuts', 'shutting', 'si', 'siam', 'sibling', 'sic', 'sick', 'sicker', 'sickness', 'siddaramaiah', 'side', 'sidewalk', 'sight', 'sign', 'signage', 'signal', 'signed', 'significant', 'significantly', 'signing', 'sii', 'sikora', 'silent', 'silently', 'silver', 'similar', 'similarity', 'similarly', 'simple', 'simply', 'simpson', 'simulated', 'simulation', 'simultaneously', 'since', 'sindh', 'singapore', 'singer', 'singh', 'singing', 'single', 'singleday', 'singleserver', 'sinha', 'sinn', 'sinopharms', 'sinovac', 'sinovacs', 'sip', 'sir', 'sisi', 'sister', 'sit', 'site', 'sitting', 'situation', 'six', 'sixth', 'sizable', 'size', 'sizeable', 'skill', 'skilled', 'skin', 'skintoskin', 'skip', 'skull', 'sky', 'skyrocket', 'slack', 'slacker', 'slang', 'slaughter', 'slavery', 'sleep', 'sleepless', 'slice', 'slide', 'slight', 'slightly', 'slippery', 'slovakia', 'slow', 'slowdown', 'slowed', 'slowing', 'slowly', 'slows', 'slpp', 'sluggish', 'slum', 'slurry', 'sm', 'small', 'smaller', 'smart', 'smartphone', 'smartphones', 'smell', 'smelltaste', 'smile', 'smith', 'smoke', 'smoked', 'smoker', 'smoking', 'smoky', 'smooth', 'smt', 'smugly', 'snake', 'snap', 'snapchat', 'snapped', 'snapshot', 'sneeze', 'sneezecough', 'sneezescoughs', 'sneezing', 'sniff', 'snitch', 'snow', 'snowdon', 'snuck', 'snugly', 'so', 'soap', 'soar', 'soared', 'socalled', 'soccer', 'social', 'socialism', 'society', 'sociopathic', 'soda', 'sodium', 'sodont', 'soft', 'software', 'sofía', 'sokoto', 'sokoto1', 'sokoto11', 'sokoto12', 'sokoto2', 'sokoto3', 'sold', 'soldier', 'sole', 'solid', 'solidarity', 'solution', 'solve', 'solved', 'solvent', 'somalia', 'some', 'some1nd2findout', 'somebody', 'somehow', 'someone', 'something', 'sometime', 'sometimes', 'somewhat', 'somewhere', 'son', 'song', 'sonko', 'sony', 'soon', 'sooner', 'soon\\u2063', 'soon💚', 'sop', 'sophisticated', 'sore', 'soren', 'soros', 'sorosglobalistsdem', 'sorrow', 'sorrowful', 'sorry', 'sort', 'sosa', 'sound', 'soup', 'souplike', 'source', 'source\\u200b', 'sourcing', 'south', 'southcentral', 'southeast', 'southern', 'southwest', 'southwestcoast', 'sp', 'space', 'spaghetti', 'spain', 'spanish', 'spanishlanguage', 'spanning', 'spared', 'spark', 'sparked', 'spate', 'spawned', 'speak', 'speaker', 'speaking', 'speaks', 'special', 'specialist', 'specialized', 'specie', 'specific', 'specifically', 'specified', 'specifies', 'specifying', 'specimen', 'spectre', 'spectrum', 'speech', 'speed', 'speedy', 'spelled', 'spend', 'spending', 'spends', 'spent', 'sperm', 'spice', 'spicy', 'spike', 'spiked', 'spiky', 'spilled', 'spin', 'spirit', 'spiritual', 'spit', 'spitalongadon', 'spite', 'spitting', 'spoil', 'spoke', 'spoken', 'spokesman', 'spokesperson', 'sponsor', 'sponsored', 'spoon', 'spoonful', 'sport', 'spot', 'sprawled', 'spray', 'sprayed', 'spraying', 'sprea', 'spread', 'spreader', 'spreaderlow', 'spreading', 'spreadsheet', 'spreadsheetbased', 'spree', 'spring', 'sprinklr', 'spur', 'sputnik', 'sputum', 'square', 'squash', 'squeezed', 'sri', 'sridhar', 'srinivas', 'st', 'sta', 'stabbed', 'stabilise', 'stable', 'stably', 'stacked', 'stadium', 'staff', 'staffing', 'stafford', 'stage', 'stage3', 'staggered', 'staggering', 'stake', 'stakeholder', 'stalling', 'stamford', 'stamping', 'stance', 'stand', 'standard', 'standardised', 'standardize', 'standardized', 'standby', 'standing', 'stanford', 'staphylococcus', 'star', 'stared', 'starmer', 'start', 'started', 'starting', 'startup', 'starving', 'stat', 'state', 'statebystate', 'stated', 'statelevel', 'statemandated', 'statement', 'stateoftheart', 'stateowned', 'staterun', 'statesmaharashtra', 'statesman', 'statesmanship', 'statesterritories', 'statesthey', 'statesut', 'statesuts', 'stateuts', 'statewide', 'statewise', 'stating', 'station', 'statistic', 'statistically', 'statisticslink', 'stats', 'statue', 'status', 'statutory', 'stay', 'stayathome', 'stayed', 'staying', 'std', 'steadily', 'steady', 'steal', 'stealth', 'steam', 'steamgaraare', 'steep', 'steer', 'stefano', 'stella', 'stemi', 'stemming', 'step', 'stephen', 'stepping', 'sterility', 'sterilization', 'sterilized', 'steroid', 'stethoscope', 'stevensville', 'stick', 'sticker', 'sticking', 'stigma', 'still', 'stillbirth', 'stimulate', 'stimulus', 'stir', 'stock', 'stocked', 'stockpile', 'stockton', 'stoked', 'stoking', 'stomach', 'stomped', 'stone', 'stoner', 'stood', 'stool', 'stop', 'stoping', 'stopped', 'stopping', 'storage', 'store', 'storehouse', 'storm', 'storming', 'story', 'stoush', 'stove', 'straight', 'straightforward', 'strain', 'strand', 'stranded', 'strange', 'strapped', 'strategic', 'strategy', 'stream', 'streamlining', 'street', 'strength', 'strengthen', 'strengthening', 'stress', 'stressed', 'stressful', 'stressing', 'stretched', 'strewn', 'strict', 'stricter', 'strictest', 'strictly', 'strike', 'stripped', 'stripper', 'stroke', 'strong', 'stronger', 'strongest', 'structure', 'structured', 'struggle', 'struggled', 'struggling', 'strung', 'stubbornly', 'stuck', 'student', 'studied', 'study', 'stuff', 'stumbling', 'stunning', 'stupid', 'sturgeon', 'stuttering', 'style', 'sub1000', 'suba', 'subcategories', 'subcluster', 'subject', 'subjected', 'subjecting', 'submarine', 'submit', 'submitted', 'subnational', 'subscribe', 'subsequently', 'subsided', 'substance', 'substantial', 'substantially', 'substantiallynearly', 'substitute', 'subtle', 'subtracting', 'suburban', 'succeed', 'success', 'successful', 'successfully', 'successive', 'successively', 'successor', 'successorbarack', 'succumbed', 'such', 'suck', 'sudan', 'sudden', 'suddenly', 'sudima', 'suffer', 'suffered', 'sufferer', 'suffering', 'sufficient', 'sugarcreek', 'suggest', 'suggested', 'suggesting', 'suggestion', 'suggests', 'suicidal', 'suicide', 'suit', 'suitable', 'suite', 'sulfur', 'sultanpuri', 'sum', 'sumac', 'suman', 'summarizes', 'summary', 'summer', 'summon', 'sun', 'sunak', 'sunday', 'sunderland', 'sunk', 'sunlight', 'sunmon', 'suntan', 'super', 'superimposed', 'superintendent', 'supermarket', 'superspreaders', 'superstar', 'supervised', 'supervision', 'supervisor', 'superwealthy', 'supplement', 'supplementary', 'supplementation', 'supplier', 'supply', 'supplying', 'support', 'supported', 'supporter', 'supporting', 'suppose', 'supposed', 'supposedly', 'suppress', 'suppressed', 'suppressing', 'supremacist', 'supreme', 'sur', 'surabaya', 'suraksha', 'surat', 'sure', 'surely', 'surest', 'surface', 'surge', 'surged', 'surgeon', 'surgery', 'surgical', 'surpass', 'surpassed', 'surpasses', 'surprise', 'surprised', 'surprising', 'surrender', 'surrendered', 'surreptitiously', 'surveillance', 'survey', 'surveyed', 'survival', 'survive', 'survived', 'survivers', 'survives', 'surviving', 'survivor', 'suspect', 'suspected', 'suspended', 'suspending', 'suspends', 'suspension', 'sustain', 'sustainability', 'sustainable', 'sustained', 'suu', 'swab', 'swabbing', 'swamp', 'swamped', 'swanston', 'swastika', 'swat', 'swatantra', 'swayamsevak', 'swears', 'sweat', 'sweden', 'sweep', 'sweeping', 'sweet', 'swept', 'swift', 'swiftly', 'swimming', 'swine', 'switched', 'switching', 'switzerland', 'swung', 'sydney', 'symbol', 'symptom', 'symptomatic', 'symptombased', 'symptomfree', 'synchronised', 'synchronized', 'syncytial', 'syndrome', 'syria', 'system', 'systematic', 'systematically', 'systemic', 'são', 't', 'tab', 'table', 'tablespoon', 'tablet', 'tablighi', 'tabligi', 'tablik', 'tabloid', 'tackle', 'tackled', 'tackling', 'tactic', 'taf', 'tag', 'taht', 'tainted', 'taipei', 'taiwan', 'taiwanese', 'taj', 'tak', 'take', 'takeaway', 'takedown', 'taken', 'takeout', 'takeover', 'taki', 'taking', 'talavera', 'talented', 'talk', 'talked', 'talker', 'talking', 'talkwithus', 'tally', 'tallying', 'taluk', 'tamarind', 'tamil', 'tamilnadu', 'tamped', 'tanda', 'tangihanga', 'tangihanga\\u2063', 'tank', 'tanzania', 'tanzanian', 'tap', 'tape', 'taraba3', 'taraba4', 'taraba5', 'target', 'targeting', 'task', 'taskforce', 'taste', 'tasuku', 'tata', 'tatas', 'tax', 'taxi', 'taxpayer', 'tb', 'tchotchke', 'te', 'tea', 'teach', 'teacher', 'teaching', 'team', 'tear', 'tearing', 'teaspoon', 'tech', 'techbiotechbig', 'technical', 'technically', 'technician', 'technique', 'technology', 'tectonic', 'ted', 'tedros', 'teen', 'teenager', 'teething', 'teich', 'telangana', 'telecast', 'telecom', 'telecommunication', 'telecounselling', 'telehealth', 'telemedicine', 'telephone', 'televangelist', 'television', 'tell', 'telling', 'temp', 'temperature', 'template', 'temple', 'temporary', 'ten', 'tenant', 'tend', 'tends', 'tennessee', 'tension', 'tent', 'tenyear', 'term', 'terminate', 'terminated', 'terminator', 'terra', 'terrassa', 'terrible', 'terrified', 'terrifying', 'territorial', 'territory', 'terrius', 'terrorist', 'tertiary', 'tesco', 'tesla', 'test', 'tested', 'tester', 'testi', 'testifying', 'testing', 'testingconfirmed', 'testsa', 'testsday', 'testsdaymillion', 'testssecond', 'teststhat', 'teststhe', 'testtracktreat', 'tetanus', 'texas', 'text', 'textile', 'th', 'thaali', 'thackeray', 'thailand', 'thali', 'than', 'than17', 'thane', 'thank', 'thankfully', 'thanks', 'tharoor', 'that', 'thathttpstcorbznvpwlhr', 'thatll', 'thats', 'the', 'the@drtedros', 'theatre', 'thecoronavirus', 'theft', 'their', 'their👐afterward', 'them@drtedros', 'themcases', 'theme', 'then', 'thenpresident', 'theobromine', 'theophylline', 'theorist', 'theory', 'therapeutic', 'therapy', 'there', 'therefore', 'therell', 'thereof', 'thermal', 'thermometer', 'these', 'they', 'theyd', 'theyll', 'theyre', 'theyve', 'thick', 'thing', 'think', 'thinkin', 'thinking', 'thinner', 'third', 'thirdhighest', 'thirteen', 'thirty', 'thirtyeight', 'thirtyfive', 'thirtyfour', 'thirtynine', 'thirtythree', 'this', 'thissome', 'thoracic', 'thorough', 'thoroughbred', 'thoroughly', 'those', 'though', 'thought', 'thousand', 'thousandbed', 'thrashed', 'thread', 'threat', 'threatened', 'threatening', 'threatens', 'three', 'threefourths', 'threw', 'thrice', 'thriller', 'thrive', 'thrives', 'throat', 'thrombocytopenia', 'thrombosis', 'throne', 'through', 'throughout', 'throughwe', 'throw', 'throwing', 'thrown', 'thru', 'thulped', 'thumb', 'thursday', 'thus', 'thwarting', 'thyrocare', 'thyrotoxicosis', 'tick', 'ticked', 'ticket', 'ticketdebit', 'tidbit', 'tie', 'tied', 'tiffany', 'tiger', 'tightened', 'tighter', 'tightly', 'tightness', 'tijuana', 'tik', 'tiktok', 'tilak', 'till', 'time', 'timeline', 'timely', 'timing', 'timothy', 'timothyhallett', 'tinapa', 'tincture', 'tiny', 'tip', 'tipping', 'tire', 'tired', 'tireless', 'tissue', 'title', 'tn', 'to', 'tobacco', 'tobacconist', 'today', 'todayclose', 'todaywe', 'today\\u200b', 'today\\u200b\\u2063', 'today\\u2063', 'together', 'togetherness', 'toi', 'toil', 'toilet', 'tok', 'token', 'tokoroa', 'tokyo', 'told', 'toll', 'tom', 'tomato', 'tomb', 'tommy', 'tomorrow', 'ton', 'tone', 'tongue', 'tonight', 'tony', 'too', 'took', 'tool', 'toolkit', 'toothpaste', 'top', 'top5', 'topic', 'topped', 'toronto', 'tortuous', 'tory', 'tota', 'total', 'totally', 'totaltestresults', 'touch', 'touched', 'touching', 'tough', 'tougher', 'toulouse', 'tour', 'tourist', 'tout', 'touted', 'touting', 'toward', 'towards', 'tower', 'town', 'toxin', 'toy', 'tpm', 'trace', 'traced', 'tracer', 'tracing', 'tracingappfeedback@healthgovtnz', 'track', 'tracked', 'tracker', 'tracker@dribram', 'trackerthe', 'tracking', 'trade', 'tradition', 'traditional', 'traffic', 'tragedy', 'tragic', 'trail', 'trailing', 'train', 'trained', 'trainee', 'training', 'trajectory', 'tranche', 'transcript', 'transferred', 'transform', 'transformational', 'transformed', 'transfusion', 'transited', 'transitional', 'translated', 'translates', 'transmission', 'transmission@drtedros', 'transmit', 'transmitted', 'transmitting', 'transparency', 'transparent', 'transparently', 'transport', 'transportation', 'trap', 'trauma', 'travel', 'traveled', 'traveler', 'traveling', 'travelled', 'traveller', 'travelling', 'travolta', 'tray', 'trchnology', 'treasury', 'treat', 'treated', 'treating', 'treatment', 'tree', 'trehan', 'tremend', 'tremendous', 'trend', 'trended', 'trending', 'trey', 'triaging', 'trial', 'trial#', 'tribal', 'tribe', 'tribute', 'trick', 'tried', 'triggered', 'triggering', 'trillanes', 'trillion', 'trip', 'triple', 'tripled', 'tripping', 'tripura', 'triump', 'trolley', 'troop', 'trophy', 'trouble', 'troubling', 'truck', 'trudeau', 'trudeaus', 'true', 'truenat', 'truenatantigen', 'true😞', 'truly', 'trump', 'trupti', 'trust', 'trusted', 'truth', 'truthdonald', 'try', 'trying', 'tsa', 'tshirt', 'tsunami', 'ttsi', 'tube', 'tuberculosis', 'tuberville', 'tucked', 'tucker', 'tues', 'tuesday', 'tuesdayfriday', 'tulsa', 'tumbleweed', 'tumor', 'tune', 'tunisia', 'tunisian', 'turd', 'turkey', 'turkish', 'turkmenistan', 'turmeric', 'turn', 'turnaround', 'turnaroundtime', 'turned', 'turning', 'tuscaloosa', 'tv', 'tv9news', 'tw', 'twatty', 'tweet', 'tweeted', 'tweeting', 'twenty', 'twentyone', 'twentyseven', 'twentythree', 'twice', 'twilight', 'twin', 'twitter', 'two', 'twofold', 'twothirds', 'twoweek', 'tx', 'tycoon', 'tyneside', 'type', 'typically', 'typing', 'typo', 'u', 'uae', 'uber', 'ucla', 'uddhav', 'ufc', 'uganda', 'ugandan', 'uighur', 'uk', 'ukgovernment', 'ukrainian', 'ukusa', 'ulsan', 'ultimate', 'ultimately', 'ultrarich', 'ultraviolet', 'uma', 'umbrella', 'un', 'unable', 'unacceptable', 'unanimously', 'unattended', 'unauthorized', 'unavailability', 'unbelievable', 'uncaptured', 'uncertainty', 'unchanged', 'uncle', 'unclear', 'uncomfortable', 'unconfirmed', 'unconscionable', 'uncut', 'under', 'undercount', 'undercounting', 'undergo', 'undergoing', 'underground', 'underlying', 'underrated', 'underscore', 'understand', 'understanding', 'understands', 'understood', 'undertaken', 'undertaking', 'underutilised', 'underway', 'undetected', 'undoubtedly', 'unemployed', 'unemployment', 'unequally', 'unequivocal', 'unequivocally', 'unessential', 'unethical', 'uneven', 'unevenly', 'unexpected', 'unfair', 'unfolds', 'unforeseen', 'unfortunate', 'unfortunately', 'unfrozen', 'unfulfilled', 'uni', 'unicef', 'unidentified', 'unimaginable', 'unimed', 'uninterested', 'union', 'unique', 'unison', 'unisted', 'unit', 'unite', 'united', 'unity', 'univeristy', 'universal', 'universitario', 'university', 'unjustifiable', 'unknown', 'unknown@drtedros', 'unless', 'unlike', 'unlikely', 'unnamed', 'unnecessarily', 'unofficial', 'unprecedented', 'unproven', 'unrecognized', 'unrestricted', 'unrestrictive', 'unsafe', 'unsafely', 'unseat', 'unstable', 'unstoppable', 'unsung', 'unsurprisingly', 'until', 'unto', 'untoward', 'untreated', 'unused', 'unusual', 'unusually', 'unveils', 'unverified', 'unwarranted', 'unwashed', 'unwell', 'unwind', 'unwittingly', 'up', 'upcoming', 'update', 'updated', 'update\\u200b', 'update\\u200b\\u2063\\u2063', 'update⠀', 'updating', 'upfront', 'upgrade', 'upgraded', 'uphold', 'uplifted', 'upload', 'uploaded', 'upon', 'upper', 'uppermiddle', 'upside', 'upsurge', 'uptake', 'uptick', 'upto', 'uptodate', 'uptrend', 'upward', 'upwards', 'urban', 'urge', 'urged', 'urgency', 'urgent', 'urgently', 'urging', 'urine', 'urinedung', 'urologist', 'uruguay', 'us', 'us$2', 'usa', 'usable', 'usage', 'usama', 'usb', 'uschinese', 'usd', 'usd35', 'use', 'used', 'used@drtedros', 'useful', 'usefulness', 'useless', 'user', 'username', 'usfda', 'usgovernment', 'using', 'usman', 'usual', 'usually', 'usurped', 'ut', 'utah', 'utilisation', 'utilise', 'utilitising', 'utilized', 'uttar', 'uttarakhand', 'uv', 'uw', 'v', 'va', 'vacancy', 'vacationing', 'vaccinate', 'vaccinated', 'vaccinating', 'vaccination', 'vaccine', 'vaccine@drtedros', 'vaccinepreventable', 'vaccines@drtedros', 'vadra', 'valet', 'valid', 'validated', 'validation', 'vall', 'vallance', 'valle', 'valley', 'valuable', 'value', 'valuedetriment', 'van', 'vandalizing', 'vann', 'vapor', 'vaporized', 'varadkar', 'vargas', 'variability', 'variable', 'variation', 'varies', 'variety', 'various', 'varvara', 'vary', 'vasant', 'vasconcellos', 'vast', 'vastly', 'vati', 'vatican', 'vax', 'vcs', 'vector', 'vegetable', 'vegetarian', 'vehicle', 'veil', 'vendor', 'venezuela', 'venezuelan', 'venko', 'ventilated', 'ventilation', 'ventilator', 'ventilators@drtedros', 'vento', 'venue', 'verge', 'verification', 'verified', 'verify', 'verity', 'vermont', 'verse', 'version', 'versus', 'vertical', 'very', 'veteran', 'veterinarian', 'veterinary', 'via', 'viability', 'viable', 'vial', 'viamed', 'vic', 'vice', 'vicepresident', 'viciously', 'victim', 'victoria', 'victorian', 'vidal', 'video', 'videoconferencing', 'vienna', 'viennetta', 'vietnam', 'view', 'viewed', 'viewer', 'vigil', 'vigilant', 'vigilants', 'village', 'villavicencio', 'vincent', 'vincenzo', 'vinci', 'vinegar', 'vinod', 'violate', 'violated', 'violating', 'violation', 'violence', 'violent', 'violently', 'vip', 'viral', 'virality', 'viralogys', 'virgin', 'virginia', 'virologist', 'virology', 'virtual', 'virtually', 'virus', 'virus@drtedros', 'virusinfected', 'virusno', 'virus😧', 'visa', 'visible', 'visit', 'visited', 'visiting', 'visitor', 'visor', 'visual', 'visualization', 'visualize', 'viswabharathi', 'vit', 'vital', 'vitamin', 'viz', 'vk', 'vladimir', 'vo', 'vocal', 'vodka', 'voice', 'volleyball', 'volume', 'voluntarily', 'voluntary', 'volunteer', 'vote', 'voted', 'voting', 'voucher', 'vow', 'voyage', 'vp', 'vte', 'vulnerability', 'vulnerable', 'vulnerablefacing', 'vvip', 'vyas', 'víctor', 'vò', 'w', 'wa', 'wage', 'waikato', 'wait', 'waitakere', 'waited', 'waitemata', 'waiter', 'waiting', 'wake', 'wakeup', 'wale', 'walker', 'walkin', 'walking', 'wall', 'wallace', 'walmart', 'wampanoag', 'wand', 'wandering', 'wane', 'wang', 'wank', 'want', 'wanted', 'wanting', 'war', 'ward', 'warded', 'ward\\u200b', 'warehouse', 'warfare', 'warm', 'warn', 'warnapp', 'warned', 'warning', 'warns', 'warp', 'warrant', 'warrior', 'wash', 'washable', 'washing', 'washington', 'wasnt', 'wastage', 'wasted', 'wasting', 'watch', 'watched', 'watching', 'watchlist', 'water', 'waterford', 'watery', 'watford', 'watsapp', 'wave', 'way', 'way@drtedros', 'wayne', 'ways@drtedros', 'wcvb', 'we', 'weak', 'weakened', 'weaker', 'weakness', 'weakthat', 'wealthy', 'weapon', 'wear', 'wearer', 'wearing', 'weather', 'webinar', 'webinars', 'webpage', 'website', 'wed', 'wedding', 'wedge', 'wednesday', 'weed', 'week', 'weekday', 'weekend', 'weekend\\u2063', 'weekly', 'weeks@drtedros', 'weekthe', 'week\\u200b', 'week🔽', 'weeping', 'wef', 'weighed', 'weighing', 'weight', 'welcome', 'welcoming', 'welfare', 'well', 'wellbeing', 'wellchild', 'wellconnected', 'wellington', 'wellness', 'welsh', 'wenliang', 'went', 'wept', 'were', 'west', 'westcoast', 'western', 'westminster', 'wet', 'wetherspoons', 'weve', 'what', 'whatever', 'whatmasks', 'whats', 'whatsapp', 'wheat', 'wheelchair', 'wheeled', 'when', 'where', 'where2', 'whereas', 'wherein', 'wheres', 'whether', 'which', 'while', 'whistleblower', 'whistling', 'whitbread', 'whitcomb', 'white', 'whitepaper', 'whitmer', 'whitmers', 'whitty', 'who', 'whole', 'whose', 'why', 'wi', 'wichita', 'wide', 'widely', 'widen', 'widening', 'widens', 'wider', 'widespread', 'widow', 'wife', 'wikipedia', 'wild', 'wildfire', 'wildflower', 'wildland', 'wildly', 'will', 'willbe', 'william', 'willing', 'willto', 'wilson', 'win', 'wind', 'window', 'wine', 'wing', 'winner', 'winning', 'winter', 'wipe', 'wiped', 'wire', 'wiri', 'wisconsin', 'wise', 'wish', 'wishing', 'with', 'withdraw', 'withdrawn', 'within', 'without', 'witness', 'witnessed', 'wlou', 'wo', 'woke', 'woman', 'wonder', 'wondered', 'wonderful', 'wondering', 'wondrous', 'wont', 'woodward', 'word', 'wore', 'worest', 'work', 'work@alexismadrigal', 'worked', 'worker', 'workers@drtedros', 'workflow', 'workforce', 'working', 'workout', 'workplace', 'world', 'worldis', 'worldoutside', 'worldwide', 'worn', 'worried', 'worrisome', 'worry', 'worrying', 'worse', 'worsen', 'worship', 'worst', 'worstcase', 'worsthit', 'worth', 'would', 'wouldnt', 'wound', 'wreaked', 'wring', 'wrinkle', 'write', 'writer', 'writing', 'written', 'wrong', 'wrongly', 'wrote', 'wth', 'wuflu', 'wuhan', 'wv', 'wwii', 'wwn', 'wy', 'x', 'xenophobic', 'xi', 'y', 'y+', 'yacht', 'yale', 'yall', 'yalman', 'yan', 'yangon', 'ye', 'yeah', 'year', 'year@drtedros', 'yearold', 'yedikule', 'yediyurappa', 'yelling', 'yellow', 'yemen', 'yen', 'yes', 'yesterday', 'yesterdaywere', 'yesterday\\u200b\\u2063', 'yet', 'yield', 'yobe', 'yobe1', 'yobe2', 'yobe3', 'yoga', 'yojana', 'yojanapmjjby', 'yojanapmsby', 'york', 'yorkand', 'yorkers', 'yorkshire', 'you', 'youll', 'young', 'younger', 'your', 'youre', 'youtc', 'youth', 'youtube', 'youve', 'yr', 'yumzers', 'yvonne', 'zacks', 'zambales', 'zambia', 'zamfara2', 'zanzibar', 'zaria', 'zealand', 'zealander', 'zealand\\u200b\\u2063', 'zealand\\u2063', 'zee', 'zekiri', 'zero', 'zhong', 'ziberi', 'zika', 'zillionaire', 'zinc', 'zip', 'zithromax', 'zomatos', 'zone', 'zonecityspecific', 'zoo', 'zookeepers', 'zoology', 'zoom', 'zoonotic', 'zydus', 'zyphr', '|', '£1000', '£10000', '£130', '£150', '£225', '£315', '£500', '£95', 'à', 'áñez', '\\u200b', '\\u200b1043', '\\u200bof', '\\u200bthe', '\\u200btheres', '\\u200bwe', '\\u200b\\u2063', '\\u200b\\u2063today', '\\u200b\\u2063\\u2063', '\\u200d', '\\u200dsocial', '\\u200dstatesuts', '\\u2063', '\\u2063\\u2063', '\\u2063\\u2063\\u2063\\u2063', '\\u2066@davezuckermanvt\\u2069', '\\u2066@govphilscott\\u2069', '\\u2066@potus\\u2069', '\\u2066@realdonaldtrump\\u2069', '€1', '€15', '€30bn', '₹120000', '₹4000test', 'ℹ', '↗', '⏺', '▪', '▶', '◾', '☎', '☑', '☺', '♀', '⚕', '⚖', '⛪', '✅', '✈', '✉', '✔', '❄', '❌', '❗', '❤', '➡', '⠀', '⬇', '️', '￼207538', '�', '𝗰𝗼𝗺𝗽𝗹𝗲𝘁𝗲𝗹𝘆', '𝗶𝗻𝗮𝗰𝘁𝗶𝘃𝗮𝘁𝗲', '🆕', '🆙', '🇧', '🇮🇪', '🇮🇳', '🇰🇷', '🇲', '🇺🇬', '🇻', '🇻🇳🇰🇭🇹🇭🇳🇮🇹🇪🇸', '🇿', '🌍', '🌎', '🌏', '🌐', '🍔', '🎉', '🎧', '🏠', '🏥', '🏪', '🏫', '🏼', '🏽', '🏾', '🏿', '🐍', '🐕', '👀', '👇', '👉', '👍', '👏', '👦', '👧', '👨', '👩', '💉', '💊', '💦', '📃', '📈', '📉', '📍', '📏', '📢', '📣', '📨', '📱', '📺', '🔰', '🔴', '🔹', '🕌', '🕐', '🕖', '🕗', '🕘', '🕤', '🗒', '😂', '😅', '😠', '😣', '😭', '😷', '🙂', '🙄', '🙊', '🙌', '🙏', '🚍', '🚎', '🚓', '🚨', '🚫', '🚶', '🛡', '🟠', '🟡', '🟢', '🤔', '🤱', '🥡', '🥫', '🥼', '🦟', '🧑', '🧔', '🧤', '🧪', '🧫', '🧬']\n"
          ]
        },
        {
          "output_type": "stream",
          "name": "stderr",
          "text": [
            "/usr/local/lib/python3.8/dist-packages/sklearn/utils/deprecation.py:87: FutureWarning: Function get_feature_names is deprecated; get_feature_names is deprecated in 1.0 and will be removed in 1.2. Please use get_feature_names_out instead.\n",
            "  warnings.warn(msg, category=FutureWarning)\n"
          ]
        }
      ]
    },
    {
      "cell_type": "markdown",
      "source": [
        "## Transform"
      ],
      "metadata": {
        "id": "l7IRYu7XtBRS"
      }
    },
    {
      "cell_type": "code",
      "source": [
        "bag_of_words = TF_IDF_Vectorizer.transform(X_train[\"tweet\"])\n",
        "bag_of_words = pd.DataFrame(bag_of_words.toarray(), index = X_train.index, columns = TF_IDF_Vectorizer.get_feature_names())"
      ],
      "metadata": {
        "id": "laKfx_8Fx4Nb"
      },
      "execution_count": 249,
      "outputs": []
    },
    {
      "cell_type": "markdown",
      "source": [
        "## Añadir atributos al nuevo dataframe de TFIDF"
      ],
      "metadata": {
        "id": "aP8B8t9KZaie"
      }
    },
    {
      "cell_type": "code",
      "source": [
        "bag_of_words['largoDocumento'] = X_train['largoDocumento']\n",
        "bag_of_words['CantidadPalabras'] = X_train['CantidadPalabras']\n",
        "bag_of_words['cantidad de letras'] = X_train['cantidad de letras']\n",
        "bag_of_words['cantidad de covid']  = X_train['cantidad de covid'] \n",
        "bag_of_words['cantidad de hashtag'] = X_train['cantidad de hashtag']\n",
        "bag_of_words['cantidad de emojis'] = X_train['cantidad de emojis']"
      ],
      "metadata": {
        "id": "BmRkiQpXZZ5w"
      },
      "execution_count": 250,
      "outputs": []
    },
    {
      "cell_type": "code",
      "source": [
        "bag_of_words.shape[0]"
      ],
      "metadata": {
        "colab": {
          "base_uri": "https://localhost:8080/"
        },
        "id": "opJG0dcgRUN-",
        "outputId": "7e01145c-4e8f-43b9-b5e4-3f83779e6768"
      },
      "execution_count": 251,
      "outputs": [
        {
          "output_type": "execute_result",
          "data": {
            "text/plain": [
              "5706"
            ]
          },
          "metadata": {},
          "execution_count": 251
        }
      ]
    },
    {
      "cell_type": "markdown",
      "source": [
        "## Add Weights"
      ],
      "metadata": {
        "id": "fIxB7BVQLNg7"
      }
    },
    {
      "cell_type": "code",
      "source": [
        "#for i in range(5706):\n",
        "#  if bag_of_words['trump'][i] > 0:\n",
        "#    print(i)"
      ],
      "metadata": {
        "id": "CvcQuv9ZITIb"
      },
      "execution_count": 252,
      "outputs": []
    },
    {
      "cell_type": "code",
      "source": [
        "#position = bag_of_words_fitted.vocabulary_['trump']\n",
        "#position"
      ],
      "metadata": {
        "id": "YcWqS5S6H1W2"
      },
      "execution_count": 253,
      "outputs": []
    },
    {
      "cell_type": "code",
      "source": [
        "#for i in range(bag_of_words.shape[0]):\n",
        "#  bag_of_words['trump'][i] = bag_of_words['trump'][i] * 2"
      ],
      "metadata": {
        "id": "O5MI1RXeLBgp"
      },
      "execution_count": 254,
      "outputs": []
    },
    {
      "cell_type": "markdown",
      "source": [
        "### Important columns\n"
      ],
      "metadata": {
        "id": "7tlLYeMpXTWn"
      }
    },
    {
      "cell_type": "code",
      "source": [
        "columns = ['#trump2020', 'trump', '@realdonaldtrump']"
      ],
      "metadata": {
        "id": "7e1RwizsXrSJ"
      },
      "execution_count": 255,
      "outputs": []
    },
    {
      "cell_type": "code",
      "source": [
        "#for i in range(len(columns)):\n",
        "#  column = columns[i];\n",
        "#  for row in range(bag_of_words.shape[0]):\n",
        "#    bag_of_words[column][row] = bag_of_words[column][row] * 1.2"
      ],
      "metadata": {
        "id": "lzKJkKnLX71_"
      },
      "execution_count": 256,
      "outputs": []
    },
    {
      "cell_type": "markdown",
      "source": [
        "### All Hashtags\n"
      ],
      "metadata": {
        "id": "3CgI_tKSgTRi"
      }
    },
    {
      "cell_type": "markdown",
      "source": [
        "#### List"
      ],
      "metadata": {
        "id": "fS5m-72hiu-h"
      }
    },
    {
      "cell_type": "code",
      "source": [
        "hashtags = ['#', '##3600mg', '#1', '#2', '#2020presidentialelection', '#21dayschallenge', '#21dayslockdown', '#251', '#46', '#a', '#ableg', '#achristmascarol', '#acog2020', '#active', '#activecases', '#actnow', '#acuteflaccidmyelitis', '#afaracare', '#afoolat60', '#ahmedabad', '#airline', '#aliens', '#allergies', '#alllivesmatter', '#alzheimers', '#amazon', '#america', '#amitabhbachchan', '#andhrapradesh', '#anteater', '#antibiotics', '#aoc', '#apocalypse', '#appeal', '#area', '#arrestfauci', '#arrestgates', '#arunachalpradesh', '#arvindkejriwal', '#asco20', '#ashas', '#asians', '#asymptomatic', '#athens', '#auspol', '#autism', '#autoimmune', '#avifavir', '#aworldindisorder', '#azimpremji', '#backtoschool', '#bacteria', '#bailout', '#bankerhaipolicenahi', '#baptism', '#barackobama', '#baseball', '#basketball', '#beatncds', '#beer', '#bengali', '#berniesanders', '#be…', '#bharatbiotech', '#bigpharmapuppets', '#bihar', '#binaxnow', '#bioweapon', '#boycottchineseproduct', '#boycottmadeinchina', '#breakfast', '#breakin', '#breaking', '#breakinghot', '#breastfeed', '#bronxzoo', '#brooklyn', '#buddhism', '#bulls', '#burgerking', '#burglars', '#burrgate', '#business', '#c19', '#california', '#californ…', '#canada', '#cancelcacsexams', '#cancer', '#cardiotwitter', '#caregivers', '#carona', '#cases', '#cashewchicken', '#ccc19', '#ccp', '#ccpvirus', '#cdc', '#cdcgrandrounds', '#cdctravelnotice', '#cdnpoli', '#cdntv', '#celebrities', '#cerb', '#chandigarh', '#charleslieber', '#cheating', '#chennai', '#chenqiushi', '#children', '#china', '#china@drtedros', '#chinacoronavirus', '#chinaindiafaceoff', '#chinese', '#chinesecommunistparty', '#chinesevirus', '#chloroquine', '#christmas', '#cia', '#classof2020', '#clinicaltrials', '#clinicians', '#codecheck', '#coevolution', '#coexistence', '#colorado', '#computers', '#connecticut', '#conspiracy', '#conspiracytheories', '#contacttracing', '#containmentzones', '#convalescent', '#cornavirusfacts', '#corona', '#coronabeer', '#coronacheck', '#coronainpakistan', '#coronaoutbreak', '#coronaupdate', '#coronaupdates', '#coronaupdatesindia', '#coronaupdatesinindia', '#coronavacccine', '#coronavaccine', '#coronavirus', '#coronaviruscanada', '#coronavirusfacts', '#coronavirusincontext', '#coronavirusindia', '#coronaviruslockdown', '#coronavirusoutbreak', '#coronaviruspandemic', '#coronavirustruth', '#coronavirusupdate', '#coronavirusupdates', '#coronavirususa', '#coronavirus…', '#coronawarriors', '#coronawatch', '#coronil', '#corononavirus', '#coronovirus', '#corruption', '#covax', '#covaxin', '#covaxine', '#covid', '#covid19', '#covid19@drtedros', '#covid19affected', '#covid19asserts', '#covid19associated', '#covid19india', '#covid19like', '#covid19my', '#covid19nc', '#covid19nigeria', '#covid19nz', '#covid19pakistan', '#covid19pandemic', '#covid19related', '#covid19science', '#covid19toronto', '#covid19updates', '#covid19vaccine', '#covid19…', '#covid1…', '#covid2019', '#covidactnow', '#covidcanada', '#covidindiaseva', '#covidlockdown', '#covidpandemic', '#covidstopswithme', '#covidtesting', '#covidupdate', '#covidupdates', '#covidview', '#covidwarriors', '#covidwarriortips', '#covid…', '#covidー19', '#covidー19…', '#cowurinesteambar', '#cpd', '#criminals', '#crook', '#cruise', '#cruiseships', '#cure', '#curfewinindia', '#dallascowboys', '#data', '#datoscoronavirus', '#day2lockdown', '#dearicaitake', '#death', '#defense', '#delhi', '#delhifightscorona', '#dementia', '#democrats', '#denmark', '#dexamethasone', '#dialysis', '#diapers', '#dictatorship', '#disease', '#diseasedetective', '#disinfectant', '#disney', '#dna', '#domesticviolence', '#donaldtrump', '#doortodoordeworming', '#doublingrate', '#doyourpart', '#dranthonyfauci', '#drugs', '#duckdynasty', '#dyk', '#ears', '#easyoff', '#ebolavirus', '#echinacea', '#economy', '#eha2020', '#eidaladha', '#elonmusk', '#endtb', '#epass', '#epidemic', '#erscongress', '#esccongress', '#essentialworker', '#eular2020', '#evin', '#evinindia', '#exercise', '#facebook', '#facecover', '#facemask', '#facemasks', '#factcheck', '#factchecking', '#factsmatter', '#fake', '#fakenews', '#fakenewsalert', '#families', '#family', '#famine', '#fangbin', '#faq', '#fatality', '#fatalityrate', '#fauci', '#favipiravir', '#fbi', '#fda', '#febreeze', '#feelbetter', '#feeling', '#fidelcastro', '#fightagainstcoronavirus', '#fightflu', '#firefighters', '#fitness', '#flattenthecurve', '#flight', '#florida', '#flu', '#foghornleghorn', '#food', '#foodsafety', '#foodshortages', '#footballamerican', '#ford', '#fourthofjuly', '#foxnews', '#freedom', '#friendship', '#fullyimmunizeeverychild', '#fun', '#gandhinagar', '#gaumutrsteaming', '#gautambuddhnagar', '#germs', '#ghaziabad', '#globalwarming', '#god', '#godelhiites', '#goingbust', '#golf', '#government', '#governor', '#goyabeans', '#grafitti', '#great', '#greece🇬🇷', '#groupies', '#gujarat', '#gujaratcoronaupdate', '#gurugram', '#guyana', '#hairstylist', '#hallmark', '#hamburger', '#hands', '#handwashing', '#hantavirus', '#harrymaguire', '#harvarduniversity', '#haryana', '#hcp', '#hcps', '#hcq', '#health', '#healthcare', '#healthequity', '#healthforall', '#healthoverexams', '#healthworkers', '#healthy', '#healthylife', '#heartattacks', '#heat', '#heidiklum', '#heneryhawk', '#himachalpradesh', '#hit2equity', '#hitsolutions', '#hiv', '#hoarding', '#hockey', '#hollywood', '#homeisolation', '#homelessness', '#homemade', '#homeopathic', '#homequarantine', '#hongkongs', '#howwehospitalist', '#huaweiwatchgt2', '#hurricane', '#hurricanelaura', '#hydroxychloroquine', '#hypertension', '#ibs', '#icairespondnow', '#icmrfightscovid19', '#icu', '#igot', '#illegalimmigrants', '#immunesystem', '#immunity', '#immunitybooster', '#immunizationforall', '#impeachment', '#importantinformation', '#incontext', '#india', '#indiafightscirona', '#indiafightscorona', '#indiafightscoronavirus', '#indiafightscovid19', '#indiawillwin', '#india…', '#indigo', '#infections', '#inflammation', '#ingenuity', '#institutionalquarantine', '#introvert', '#ireland', '#irony', '#istandwithmashpee', '#italy', '#iud', '#jamalkhashoggi', '#japan', '#jaredkushner', '#jarkhand', '#jennymccarthy', '#jharkhand', '#jlo', '#jobs', '#johntravolta', '#josephbiden', '#journalist', '#kag', '#kano', '#karakaxlist', '#karnataka', '#karnatakas', '#kayburley', '#keeppushing', '#keithholdskeytovirusvaccine', '#kerala', '#kidneytransplant', '#kids', '#killingvirus', '#kishanganj', '#kitchen', '#knowthefacts', '#kolkataairport', '#laborday', '#lachupacabra', '#lakshadweep', '#language', '#laura', '#lcsm', '#lego', '#lgbtquarantine', '#lies', '#life', '#list', '#livelife', '#lockdown', '#lockdown2', '#lockdown21', '#lockdown4', '#lockdownextension', '#lockdownnow', '#lockdownquery', '#london', '#louisiana', '#lucknow', '#lysol', '#madhyapradesh', '#maga', '#maharashtra', '#maharastra', '#mailinvoting', '#mainbhinewschecker', '#majorleaguebaseball', '#makhi', '#malaria', '#malnutrition', '#malpractice', '#manafort', '#manipur', '#marchmadness', '#marijuana', '#mascot', '#mask', '#maskingforafriend', '#maskonnaija', '#masks', '#mauritius', '#mayans', '#meat', '#media', '#medical', '#medicaldoctor', '#medicines', '#medtwitter', '#mentalhealth', '#mergecaexamsjulyandnov', '#metformin', '#metro', '#metrobackontrack', '#mexico', '#michigan', '#minnesota', '#miraclesoftrueworship', '#missiles', '#missionkarmayog…', '#mitchmcconnell', '#mizoram', '#modicovidaddress', '#modigovtfailed', '#modijipostponejeeneet', '#money', '#moneylaundering', '#morningmotivation', '#mother', '#mouthwash', '#movies', '#mrna', '#msvirtual2020', '#mumbai', '#muradabad', '#n95', '#nagpur', '#nails', '#nancypelosi', '#napoleon', '#nashville', '#nba', '#ncdcinthenews', '#ncdclabnetwork', '#ncdcrrt', '#ncdcteam', '#ncdhhs', '#ncpol', '#nepotism', '#newhampshire', '#news', '#newschecker', '#newsinphoto', '#newssatire', '#newyork', '#newyorkcity', '#newyorktimes', '#newzealand', '#nhl', '#nigeria', '#nigerian', '#nigerians', '#noahsark', '#noida', '#norway', '#notdying4wallstreet', '#notmypresident', '#novel', '#nursinghome', '#nyc', '#obamagate', '#obesewomen', '#oct1stprotest', '#odisha', '#odishafightscorona', '#office', '#officialsecretsact', '#ohio', '#olympicgames', '#online', '#onpoli', '#opthalmology', '#orlando', '#oslo', '#panamacanal', '#pandas', '#pandemic', '#panic', '#panicbuying', '#parasites', '#parent', '#parents', '#patientzero', '#pcrtest', '#peepingtom', '#philrobertson', '#physicaldistance', '#physique', '#pibfactcheck', '#placebopills', '#plandemic', '#plasmatherapy', '#plastic', '#pmqs', '#pmsby', '#poker', '#politicalcorrectness', '#politicians', '#politics', '#pope', '#potsales', '#potus', '#ppe', '#prep', '#prescriptions', '#preventcovid19', '#prevention', '#prioritycovidresearch', '#privacy', '#propaganda', '#property', '#prostatecancer', '#ptfcovid19', '#pti', '#pui', '#qanda', '#quarantine', '#queens', '#rackets', '#rajahthan', '#rajasthan', '#rapidantigentest', '#rc70afro', '#recession', '#recoveryrate', '#religion', '#remdesivir', '#remedy', '#rentfreezenow', '#reopeningsafely', '#reopensafely', '#republicans', '#research', '#revolutionnow', '#rheaarrested', '#rice', '#richardnixon', '#ridge', '#rnc2020', '#roadtrips', '#rockandrollvaccine', '#rollingstones', '#rollingstonevaccineforcv', '#rpharmcoronavir', '#rtpcr', '#russia', '#russiaeverywhere', '#russianvaccine', '#russie', '#sacrifice', '#safe', '#safetyfirst', '#sally', '#sam2020', '#santa', '#sarscov2', '#satire', '#saturdaynightfever', '#saudiarabia', '#school', '#schoolsreopening', '#schwabeindia', '#science', '#seanhannity', '#selfcare', '#selfisolation', '#sens', '#sepsis', '#sex', '#sexyteens', '#share', '#sheep', '#sickness', '#simoncowell', '#sitamarhi', '#slowthespread', '#smallpox', '#smartnews', '#socialdistance', '#socialdistancing', '#sofi2020', '#sofiavergara', '#southcarolina', '#southdelhi', '#spain', '#spokesman', '#sponsors', '#sport', '#sports', '#springst', '#sputnikv', '#stayalert', '#stayathome', '#stayathomesavelives', '#stayhealthy', '#stayhome', '#stayhomestaysafe', '#staysafe', '#staystrong', '#std', '#stds', '#stevenseagal', '#stimuluschecks', '#stop', '#stopthespread', '#stopthespreadofcorona', '#strategicreserve', '#stress', '#strokes', '#suicide', '#summer', '#sunbathing', '#swasthabharat', '#swedish', '#symptomatic', '#t1d', '#takeaction', '#takebreaks', '#takeresponsibility', '#takeresponsibilty', '#tamilnadu', '#tan', '#tb', '#teamoffivemillion', '#tech', '#telangana', '#telemedicine', '#televangelist', '#telugunews', '#teravolt', '#testing', '#tests', '#texas', '#thailand🇹🇭', '#thane', '#thankshealthheroes', '#thedevil', '#thenewnormal', '#thesun', '#thewiderwiserview', '#tigers', '#time', '#tipsadvice', '#togetheralone', '#toilet', '#toiletpaper', '#toiletrollhorders', '#tomhanks', '#travel', '#trinitybellwoodspark', '#tripura', '#trophywife', '#trump2020', '#trumpcouldhavesavedvalet', '#trumppressconf', '#trumpsjealousofobama', '#trumpuniversity', '#tsunami', '#tuberculosis', '#tuesdaylive', '#tuesdaymotivation', '#tulsatrumprally', '#tv', '#tīmarimamiriona', '#ufo', '#uighurs', '#un75', '#unemployment', '#unga', '#unitednations', '#unlock1', '#unlock2', '#unlock3', '#unlock3guidelines', '#unlock4', '#unlock4guidelines', '#update', '#uruguay', '#usa', '#uttarpradesh', '#uva', '#uvc', '#uvdisinfection', '#uvlamp', '#uvled', '#uvlight', '#uvsolution', '#vacation', '#vaccine', '#vaccines', '#vaccineswork', '#vadodara', '#vegan', '#vermont', '#vicepresidentmikepence', '#vicpol', '#viral', '#viralvideo', '#virtualconferenceafrica', '#virus', '#viruses', '#visualabstract', '#vitamind', '#vladimirputin', '#war', '#warcrimes', '#warning', '#warnings', '#washington', '#waterpistols', '#wear', '#wearafacemask', '#wearamask', '#wearamask…', '#weather', '#weneedthedenominator', '#westbengal', '#westvirginia', '#wha73', '#wha74', '#whatsapp', '#whitehouse', '#whitesupremacy', '#who', '#whoimpact', '#wildfire', '#wildfires', '#williambarr', '#williambryan', '#woodwardtapes', '#work', '#workfromhome', '#worldbreastfeedingweek', '#worldmaskweek', '#worldmosquitoday', '#worldzoonosesday', '#worried', '#wor…', '#wtd20', '#wuhan', '#wuhancoronavirus', '#wuhaninstituteofvirologylaboratory', '#wuhanviruspandemic', '#xijinping', '#yavatmal', '#yourviewtv', '#zhangzhan', '#zoodirector']"
      ],
      "metadata": {
        "id": "iYOJ14o1hhhC"
      },
      "execution_count": 257,
      "outputs": []
    },
    {
      "cell_type": "markdown",
      "source": [
        "#### Code"
      ],
      "metadata": {
        "id": "uSYpmZNaixJx"
      }
    },
    {
      "cell_type": "code",
      "source": [
        "#for i in range(len(hashtags)):\n",
        "#  print(i)\n",
        "#  hashtag = hashtags[i];\n",
        "#  for row in range(bag_of_words.shape[0]):\n",
        "#    bag_of_words[hashtag][row] = bag_of_words[hashtag][row] * 1.5"
      ],
      "metadata": {
        "id": "H2eWrllxgVTi"
      },
      "execution_count": 258,
      "outputs": []
    },
    {
      "cell_type": "markdown",
      "source": [
        "# Red Neuronal"
      ],
      "metadata": {
        "id": "ilGGPtUT0xFO"
      }
    },
    {
      "cell_type": "code",
      "source": [
        "from tensorflow.keras.models import Sequential\n",
        "from tensorflow.keras.layers import Dense, Dropout, Activation, Bidirectional, Conv1D\n",
        "from tensorflow.keras.layers import LeakyReLU"
      ],
      "metadata": {
        "id": "e8pMorDV1DI9"
      },
      "execution_count": 259,
      "outputs": []
    },
    {
      "cell_type": "code",
      "source": [
        "#mejor densas: 20 - 50 - 40 -> 0.9432375613174492\n",
        "  # 30-50-40 dio lo mismo\n",
        "  # 30-60-50 --> NO\n",
        "  # 20-50-30 --> NO\n",
        "  # 20-30-40 --> NO - 0.940084092501752\n",
        "\n",
        "#Activaciones\n",
        "  #Leaky-Relu x2-Sigmoid --> 0.9432375613174492\n",
        "  #Leaky-relu-Sigmoidx2 --> 0.9470918009810791 --> Mejor\n",
        "  #Leaky-Sigmoid-relu-Sigmoid --> 0.9397337070777856\n",
        "  #Sigmoid-relu-Sigmoidx2 --> 0.9442887175893483\n",
        "  #relu-Leaky-Sigmoidx2 -->  0.9425367904695164\n",
        "  #relux2-Sigmoidx2 --> 0.933426769446391\n",
        "  #Leaky-relu-Leaky-Sigmoid --> 0.9418360196215837"
      ],
      "metadata": {
        "id": "VBKx_4CNRclX"
      },
      "execution_count": 260,
      "outputs": []
    },
    {
      "cell_type": "code",
      "source": [
        "adam_optimizer='Adam'\n",
        "loss='binary_crossentropy'\n",
        "metric='accuracy'\n",
        "#sqrt(inputlayers * outputlayer) = sqrt(15000) = 122\n",
        "#model.add(GRU(1, input_shape=(20,1)))\n",
        "\n",
        "model = Sequential()\n",
        "model.add(Dense(30, input_shape=(bag_of_words.shape[1],)))\n",
        "model.add(Activation(LeakyReLU(alpha=0.3)))\n",
        "model.add(Dense(50, use_bias=True))\n",
        "model.add(Activation('relu'))\n",
        "model.add(Dense(40, use_bias=True))\n",
        "model.add(Activation('sigmoid'))\n",
        "model.add(Dense(1, use_bias=True))\n",
        "model.add(Dropout(0.2))\n",
        "model.add(Activation('sigmoid'))\n",
        "model.compile(loss=loss, optimizer=adam_optimizer, metrics=[metric])"
      ],
      "metadata": {
        "id": "lW8SiL-t01M0"
      },
      "execution_count": 261,
      "outputs": []
    },
    {
      "cell_type": "code",
      "source": [
        "X_train_array = np.asarray(bag_of_words)\n",
        "Y_train_array = np.asarray(Y_train)\n",
        "\n",
        "training = model.fit(X_train_array, Y_train_array, epochs=200, batch_size=100)"
      ],
      "metadata": {
        "id": "gY0iDNOLDG88",
        "colab": {
          "base_uri": "https://localhost:8080/"
        },
        "outputId": "798a5c65-e17e-4514-8088-549c8a432067"
      },
      "execution_count": 262,
      "outputs": [
        {
          "output_type": "stream",
          "name": "stdout",
          "text": [
            "Epoch 1/200\n",
            "58/58 [==============================] - 1s 12ms/step - loss: 0.6176 - accuracy: 0.6502\n",
            "Epoch 2/200\n",
            "58/58 [==============================] - 1s 9ms/step - loss: 0.5561 - accuracy: 0.7014\n",
            "Epoch 3/200\n",
            "58/58 [==============================] - 1s 9ms/step - loss: 0.5286 - accuracy: 0.7152\n",
            "Epoch 4/200\n",
            "58/58 [==============================] - 1s 11ms/step - loss: 0.4677 - accuracy: 0.7543\n",
            "Epoch 5/200\n",
            "58/58 [==============================] - 1s 10ms/step - loss: 0.4012 - accuracy: 0.7918\n",
            "Epoch 6/200\n",
            "58/58 [==============================] - 1s 9ms/step - loss: 0.3620 - accuracy: 0.8056\n",
            "Epoch 7/200\n",
            "58/58 [==============================] - 1s 9ms/step - loss: 0.2753 - accuracy: 0.8561\n",
            "Epoch 8/200\n",
            "58/58 [==============================] - 1s 12ms/step - loss: 0.2338 - accuracy: 0.8708\n",
            "Epoch 9/200\n",
            "58/58 [==============================] - 1s 11ms/step - loss: 0.2598 - accuracy: 0.8559\n",
            "Epoch 10/200\n",
            "58/58 [==============================] - 1s 11ms/step - loss: 0.1965 - accuracy: 0.8787\n",
            "Epoch 11/200\n",
            "58/58 [==============================] - 1s 11ms/step - loss: 0.1837 - accuracy: 0.8898\n",
            "Epoch 12/200\n",
            "58/58 [==============================] - 1s 11ms/step - loss: 0.1731 - accuracy: 0.8859\n",
            "Epoch 13/200\n",
            "58/58 [==============================] - 1s 11ms/step - loss: 0.1588 - accuracy: 0.8931\n",
            "Epoch 14/200\n",
            "58/58 [==============================] - 0s 9ms/step - loss: 0.1632 - accuracy: 0.8894\n",
            "Epoch 15/200\n",
            "58/58 [==============================] - 1s 9ms/step - loss: 0.2353 - accuracy: 0.8607\n",
            "Epoch 16/200\n",
            "58/58 [==============================] - 1s 9ms/step - loss: 0.1638 - accuracy: 0.8885\n",
            "Epoch 17/200\n",
            "58/58 [==============================] - 1s 9ms/step - loss: 0.1510 - accuracy: 0.8931\n",
            "Epoch 18/200\n",
            "58/58 [==============================] - 1s 12ms/step - loss: 0.1518 - accuracy: 0.8922\n",
            "Epoch 19/200\n",
            "58/58 [==============================] - 1s 9ms/step - loss: 0.1548 - accuracy: 0.8845\n",
            "Epoch 20/200\n",
            "58/58 [==============================] - 1s 9ms/step - loss: 0.2995 - accuracy: 0.8493\n",
            "Epoch 21/200\n",
            "58/58 [==============================] - 1s 9ms/step - loss: 0.1523 - accuracy: 0.8912\n",
            "Epoch 22/200\n",
            "58/58 [==============================] - 0s 9ms/step - loss: 0.1487 - accuracy: 0.8903\n",
            "Epoch 23/200\n",
            "58/58 [==============================] - 0s 8ms/step - loss: 0.1406 - accuracy: 0.8982\n",
            "Epoch 24/200\n",
            "58/58 [==============================] - 0s 9ms/step - loss: 0.1432 - accuracy: 0.8950\n",
            "Epoch 25/200\n",
            "58/58 [==============================] - 1s 10ms/step - loss: 0.1403 - accuracy: 0.8920\n",
            "Epoch 26/200\n",
            "58/58 [==============================] - 1s 11ms/step - loss: 0.1444 - accuracy: 0.8934\n",
            "Epoch 27/200\n",
            "58/58 [==============================] - 1s 11ms/step - loss: 0.1371 - accuracy: 0.8927\n",
            "Epoch 28/200\n",
            "58/58 [==============================] - 1s 11ms/step - loss: 0.1420 - accuracy: 0.8938\n",
            "Epoch 29/200\n",
            "58/58 [==============================] - 1s 11ms/step - loss: 0.1435 - accuracy: 0.8945\n",
            "Epoch 30/200\n",
            "58/58 [==============================] - 1s 11ms/step - loss: 0.1405 - accuracy: 0.8882\n",
            "Epoch 31/200\n",
            "58/58 [==============================] - 1s 11ms/step - loss: 0.1399 - accuracy: 0.8973\n",
            "Epoch 32/200\n",
            "58/58 [==============================] - 1s 9ms/step - loss: 0.1432 - accuracy: 0.8933\n",
            "Epoch 33/200\n",
            "58/58 [==============================] - 1s 9ms/step - loss: 0.1393 - accuracy: 0.8934\n",
            "Epoch 34/200\n",
            "58/58 [==============================] - 0s 8ms/step - loss: 0.1363 - accuracy: 0.8948\n",
            "Epoch 35/200\n",
            "58/58 [==============================] - 1s 9ms/step - loss: 0.1362 - accuracy: 0.8973\n",
            "Epoch 36/200\n",
            "58/58 [==============================] - 1s 9ms/step - loss: 0.1390 - accuracy: 0.8968\n",
            "Epoch 37/200\n",
            "58/58 [==============================] - 1s 9ms/step - loss: 0.1358 - accuracy: 0.8982\n",
            "Epoch 38/200\n",
            "58/58 [==============================] - 1s 9ms/step - loss: 0.1346 - accuracy: 0.8977\n",
            "Epoch 39/200\n",
            "58/58 [==============================] - 0s 8ms/step - loss: 0.1403 - accuracy: 0.8971\n",
            "Epoch 40/200\n",
            "58/58 [==============================] - 0s 9ms/step - loss: 0.1427 - accuracy: 0.8936\n",
            "Epoch 41/200\n",
            "58/58 [==============================] - 1s 9ms/step - loss: 0.1363 - accuracy: 0.8984\n",
            "Epoch 42/200\n",
            "58/58 [==============================] - 0s 8ms/step - loss: 0.1458 - accuracy: 0.8908\n",
            "Epoch 43/200\n",
            "58/58 [==============================] - 1s 9ms/step - loss: 0.1442 - accuracy: 0.8885\n",
            "Epoch 44/200\n",
            "58/58 [==============================] - 1s 12ms/step - loss: 0.1332 - accuracy: 0.8971\n",
            "Epoch 45/200\n",
            "58/58 [==============================] - 1s 11ms/step - loss: 0.1358 - accuracy: 0.8985\n",
            "Epoch 46/200\n",
            "58/58 [==============================] - 1s 11ms/step - loss: 0.1357 - accuracy: 0.8936\n",
            "Epoch 47/200\n",
            "58/58 [==============================] - 1s 11ms/step - loss: 0.1444 - accuracy: 0.8901\n",
            "Epoch 48/200\n",
            "58/58 [==============================] - 1s 10ms/step - loss: 0.1419 - accuracy: 0.8878\n",
            "Epoch 49/200\n",
            "58/58 [==============================] - 1s 9ms/step - loss: 0.1342 - accuracy: 0.8989\n",
            "Epoch 50/200\n",
            "58/58 [==============================] - 0s 8ms/step - loss: 0.1405 - accuracy: 0.8892\n",
            "Epoch 51/200\n",
            "58/58 [==============================] - 1s 9ms/step - loss: 0.1386 - accuracy: 0.8973\n",
            "Epoch 52/200\n",
            "58/58 [==============================] - 0s 8ms/step - loss: 0.1386 - accuracy: 0.8940\n",
            "Epoch 53/200\n",
            "58/58 [==============================] - 1s 9ms/step - loss: 0.1454 - accuracy: 0.8929\n",
            "Epoch 54/200\n",
            "58/58 [==============================] - 1s 10ms/step - loss: 0.1397 - accuracy: 0.8941\n",
            "Epoch 55/200\n",
            "58/58 [==============================] - 1s 11ms/step - loss: 0.1372 - accuracy: 0.9006\n",
            "Epoch 56/200\n",
            "58/58 [==============================] - 1s 9ms/step - loss: 0.1307 - accuracy: 0.9010\n",
            "Epoch 57/200\n",
            "58/58 [==============================] - 0s 8ms/step - loss: 0.1319 - accuracy: 0.9048\n",
            "Epoch 58/200\n",
            "58/58 [==============================] - 1s 9ms/step - loss: 0.1436 - accuracy: 0.8917\n",
            "Epoch 59/200\n",
            "58/58 [==============================] - 1s 9ms/step - loss: 0.1366 - accuracy: 0.8922\n",
            "Epoch 60/200\n",
            "58/58 [==============================] - 1s 9ms/step - loss: 0.1411 - accuracy: 0.8938\n",
            "Epoch 61/200\n",
            "58/58 [==============================] - 1s 9ms/step - loss: 0.1344 - accuracy: 0.8978\n",
            "Epoch 62/200\n",
            "58/58 [==============================] - 1s 9ms/step - loss: 0.1369 - accuracy: 0.9010\n",
            "Epoch 63/200\n",
            "58/58 [==============================] - 1s 9ms/step - loss: 0.1383 - accuracy: 0.8933\n",
            "Epoch 64/200\n",
            "58/58 [==============================] - 1s 11ms/step - loss: 0.1324 - accuracy: 0.9048\n",
            "Epoch 65/200\n",
            "58/58 [==============================] - 1s 12ms/step - loss: 0.1371 - accuracy: 0.8991\n",
            "Epoch 66/200\n",
            "58/58 [==============================] - 1s 11ms/step - loss: 0.1399 - accuracy: 0.8962\n",
            "Epoch 67/200\n",
            "58/58 [==============================] - 1s 12ms/step - loss: 0.1422 - accuracy: 0.8961\n",
            "Epoch 68/200\n",
            "58/58 [==============================] - 1s 11ms/step - loss: 0.1367 - accuracy: 0.8950\n",
            "Epoch 69/200\n",
            "58/58 [==============================] - 1s 11ms/step - loss: 0.1377 - accuracy: 0.8941\n",
            "Epoch 70/200\n",
            "58/58 [==============================] - 1s 11ms/step - loss: 0.1370 - accuracy: 0.8924\n",
            "Epoch 71/200\n",
            "58/58 [==============================] - 1s 11ms/step - loss: 0.1386 - accuracy: 0.8950\n",
            "Epoch 72/200\n",
            "58/58 [==============================] - 0s 9ms/step - loss: 0.1398 - accuracy: 0.8929\n",
            "Epoch 73/200\n",
            "58/58 [==============================] - 1s 9ms/step - loss: 0.1400 - accuracy: 0.8940\n",
            "Epoch 74/200\n",
            "58/58 [==============================] - 1s 9ms/step - loss: 0.1389 - accuracy: 0.8971\n",
            "Epoch 75/200\n",
            "58/58 [==============================] - 1s 9ms/step - loss: 0.1375 - accuracy: 0.8994\n",
            "Epoch 76/200\n",
            "58/58 [==============================] - 0s 8ms/step - loss: 0.1432 - accuracy: 0.8934\n",
            "Epoch 77/200\n",
            "58/58 [==============================] - 0s 9ms/step - loss: 0.1384 - accuracy: 0.8919\n",
            "Epoch 78/200\n",
            "58/58 [==============================] - 1s 9ms/step - loss: 0.1387 - accuracy: 0.8964\n",
            "Epoch 79/200\n",
            "58/58 [==============================] - 1s 9ms/step - loss: 0.1368 - accuracy: 0.8999\n",
            "Epoch 80/200\n",
            "58/58 [==============================] - 0s 8ms/step - loss: 0.1406 - accuracy: 0.8903\n",
            "Epoch 81/200\n",
            "58/58 [==============================] - 0s 8ms/step - loss: 0.1378 - accuracy: 0.8947\n",
            "Epoch 82/200\n",
            "58/58 [==============================] - 1s 9ms/step - loss: 0.1368 - accuracy: 0.8973\n",
            "Epoch 83/200\n",
            "58/58 [==============================] - 1s 9ms/step - loss: 0.1457 - accuracy: 0.8905\n",
            "Epoch 84/200\n",
            "58/58 [==============================] - 1s 9ms/step - loss: 0.1371 - accuracy: 0.8927\n",
            "Epoch 85/200\n",
            "58/58 [==============================] - 1s 9ms/step - loss: 0.1396 - accuracy: 0.8945\n",
            "Epoch 86/200\n",
            "58/58 [==============================] - 1s 9ms/step - loss: 0.1357 - accuracy: 0.8980\n",
            "Epoch 87/200\n",
            "58/58 [==============================] - 1s 9ms/step - loss: 0.1357 - accuracy: 0.8989\n",
            "Epoch 88/200\n",
            "58/58 [==============================] - 1s 12ms/step - loss: 0.1410 - accuracy: 0.8933\n",
            "Epoch 89/200\n",
            "58/58 [==============================] - 1s 11ms/step - loss: 0.1380 - accuracy: 0.8968\n",
            "Epoch 90/200\n",
            "58/58 [==============================] - 1s 16ms/step - loss: 0.1363 - accuracy: 0.8920\n",
            "Epoch 91/200\n",
            "58/58 [==============================] - 1s 9ms/step - loss: 0.1430 - accuracy: 0.8924\n",
            "Epoch 92/200\n",
            "58/58 [==============================] - 1s 14ms/step - loss: 0.1334 - accuracy: 0.8971\n",
            "Epoch 93/200\n",
            "58/58 [==============================] - 1s 9ms/step - loss: 0.1457 - accuracy: 0.8885\n",
            "Epoch 94/200\n",
            "58/58 [==============================] - 1s 9ms/step - loss: 0.1401 - accuracy: 0.8940\n",
            "Epoch 95/200\n",
            "58/58 [==============================] - 1s 9ms/step - loss: 0.1440 - accuracy: 0.8889\n",
            "Epoch 96/200\n",
            "58/58 [==============================] - 0s 8ms/step - loss: 0.1324 - accuracy: 0.8991\n",
            "Epoch 97/200\n",
            "58/58 [==============================] - 0s 8ms/step - loss: 0.1424 - accuracy: 0.8899\n",
            "Epoch 98/200\n",
            "58/58 [==============================] - 1s 9ms/step - loss: 0.1408 - accuracy: 0.8929\n",
            "Epoch 99/200\n",
            "58/58 [==============================] - 1s 9ms/step - loss: 0.1373 - accuracy: 0.8987\n",
            "Epoch 100/200\n",
            "58/58 [==============================] - 0s 8ms/step - loss: 0.1378 - accuracy: 0.8961\n",
            "Epoch 101/200\n",
            "58/58 [==============================] - 0s 8ms/step - loss: 0.1368 - accuracy: 0.8931\n",
            "Epoch 102/200\n",
            "58/58 [==============================] - 1s 9ms/step - loss: 0.1372 - accuracy: 0.8952\n",
            "Epoch 103/200\n",
            "58/58 [==============================] - 0s 9ms/step - loss: 0.1345 - accuracy: 0.8989\n",
            "Epoch 104/200\n",
            "58/58 [==============================] - 1s 9ms/step - loss: 0.1396 - accuracy: 0.8898\n",
            "Epoch 105/200\n",
            "58/58 [==============================] - 1s 9ms/step - loss: 0.1364 - accuracy: 0.8971\n",
            "Epoch 106/200\n",
            "58/58 [==============================] - 1s 11ms/step - loss: 0.1431 - accuracy: 0.8924\n",
            "Epoch 107/200\n",
            "58/58 [==============================] - 1s 11ms/step - loss: 0.1398 - accuracy: 0.8971\n",
            "Epoch 108/200\n",
            "58/58 [==============================] - 1s 11ms/step - loss: 0.1401 - accuracy: 0.8927\n",
            "Epoch 109/200\n",
            "58/58 [==============================] - 1s 11ms/step - loss: 0.1374 - accuracy: 0.8959\n",
            "Epoch 110/200\n",
            "58/58 [==============================] - 1s 12ms/step - loss: 0.1367 - accuracy: 0.8959\n",
            "Epoch 111/200\n",
            "58/58 [==============================] - 1s 11ms/step - loss: 0.1352 - accuracy: 0.8961\n",
            "Epoch 112/200\n",
            "58/58 [==============================] - 1s 9ms/step - loss: 0.1419 - accuracy: 0.8938\n",
            "Epoch 113/200\n",
            "58/58 [==============================] - 1s 9ms/step - loss: 0.1384 - accuracy: 0.8962\n",
            "Epoch 114/200\n",
            "58/58 [==============================] - 1s 11ms/step - loss: 0.1375 - accuracy: 0.8952\n",
            "Epoch 115/200\n",
            "58/58 [==============================] - 1s 10ms/step - loss: 0.1412 - accuracy: 0.8936\n",
            "Epoch 116/200\n",
            "58/58 [==============================] - 1s 9ms/step - loss: 0.1423 - accuracy: 0.8938\n",
            "Epoch 117/200\n",
            "58/58 [==============================] - 1s 9ms/step - loss: 0.1366 - accuracy: 0.8970\n",
            "Epoch 118/200\n",
            "58/58 [==============================] - 1s 9ms/step - loss: 0.1340 - accuracy: 0.8941\n",
            "Epoch 119/200\n",
            "58/58 [==============================] - 0s 8ms/step - loss: 0.1420 - accuracy: 0.8929\n",
            "Epoch 120/200\n",
            "58/58 [==============================] - 1s 9ms/step - loss: 0.1374 - accuracy: 0.8941\n",
            "Epoch 121/200\n",
            "58/58 [==============================] - 1s 10ms/step - loss: 0.1373 - accuracy: 0.8968\n",
            "Epoch 122/200\n",
            "58/58 [==============================] - 1s 12ms/step - loss: 0.1350 - accuracy: 0.8947\n",
            "Epoch 123/200\n",
            "58/58 [==============================] - 1s 9ms/step - loss: 0.1361 - accuracy: 0.8991\n",
            "Epoch 124/200\n",
            "58/58 [==============================] - 0s 9ms/step - loss: 0.1387 - accuracy: 0.8996\n",
            "Epoch 125/200\n",
            "58/58 [==============================] - 1s 12ms/step - loss: 0.1392 - accuracy: 0.9006\n",
            "Epoch 126/200\n",
            "58/58 [==============================] - 1s 11ms/step - loss: 0.1352 - accuracy: 0.8927\n",
            "Epoch 127/200\n",
            "58/58 [==============================] - 1s 9ms/step - loss: 0.1475 - accuracy: 0.8912\n",
            "Epoch 128/200\n",
            "58/58 [==============================] - 0s 8ms/step - loss: 0.1386 - accuracy: 0.8947\n",
            "Epoch 129/200\n",
            "58/58 [==============================] - 1s 9ms/step - loss: 0.1342 - accuracy: 0.8998\n",
            "Epoch 130/200\n",
            "58/58 [==============================] - 1s 9ms/step - loss: 0.1449 - accuracy: 0.8903\n",
            "Epoch 131/200\n",
            "58/58 [==============================] - 1s 9ms/step - loss: 0.1381 - accuracy: 0.8936\n",
            "Epoch 132/200\n",
            "58/58 [==============================] - 1s 9ms/step - loss: 0.1469 - accuracy: 0.8896\n",
            "Epoch 133/200\n",
            "58/58 [==============================] - 1s 9ms/step - loss: 0.1408 - accuracy: 0.8908\n",
            "Epoch 134/200\n",
            "58/58 [==============================] - 1s 9ms/step - loss: 0.1403 - accuracy: 0.8940\n",
            "Epoch 135/200\n",
            "58/58 [==============================] - 1s 9ms/step - loss: 0.1375 - accuracy: 0.8980\n",
            "Epoch 136/200\n",
            "58/58 [==============================] - 1s 9ms/step - loss: 0.1340 - accuracy: 0.8975\n",
            "Epoch 137/200\n",
            "58/58 [==============================] - 1s 9ms/step - loss: 0.1449 - accuracy: 0.8887\n",
            "Epoch 138/200\n",
            "58/58 [==============================] - 1s 9ms/step - loss: 0.1447 - accuracy: 0.8936\n",
            "Epoch 139/200\n",
            "58/58 [==============================] - 1s 9ms/step - loss: 0.1353 - accuracy: 0.8999\n",
            "Epoch 140/200\n",
            "58/58 [==============================] - 1s 9ms/step - loss: 0.1504 - accuracy: 0.8884\n",
            "Epoch 141/200\n",
            "58/58 [==============================] - 0s 8ms/step - loss: 0.1353 - accuracy: 0.8982\n",
            "Epoch 142/200\n",
            "58/58 [==============================] - 1s 9ms/step - loss: 0.1431 - accuracy: 0.8941\n",
            "Epoch 143/200\n",
            "58/58 [==============================] - 0s 8ms/step - loss: 0.1430 - accuracy: 0.8938\n",
            "Epoch 144/200\n",
            "58/58 [==============================] - 1s 9ms/step - loss: 0.1347 - accuracy: 0.9005\n",
            "Epoch 145/200\n",
            "58/58 [==============================] - 1s 11ms/step - loss: 0.1351 - accuracy: 0.8938\n",
            "Epoch 146/200\n",
            "58/58 [==============================] - 1s 9ms/step - loss: 0.1426 - accuracy: 0.8870\n",
            "Epoch 147/200\n",
            "58/58 [==============================] - 0s 8ms/step - loss: 0.1344 - accuracy: 0.8940\n",
            "Epoch 148/200\n",
            "58/58 [==============================] - 1s 9ms/step - loss: 0.1378 - accuracy: 0.8970\n",
            "Epoch 149/200\n",
            "58/58 [==============================] - 1s 9ms/step - loss: 0.1369 - accuracy: 0.8917\n",
            "Epoch 150/200\n",
            "58/58 [==============================] - 1s 12ms/step - loss: 0.1432 - accuracy: 0.8880\n",
            "Epoch 151/200\n",
            "58/58 [==============================] - 1s 11ms/step - loss: 0.1474 - accuracy: 0.8891\n",
            "Epoch 152/200\n",
            "58/58 [==============================] - 1s 11ms/step - loss: 0.1351 - accuracy: 0.8973\n",
            "Epoch 153/200\n",
            "58/58 [==============================] - 1s 11ms/step - loss: 0.1392 - accuracy: 0.8943\n",
            "Epoch 154/200\n",
            "58/58 [==============================] - 1s 11ms/step - loss: 0.1374 - accuracy: 0.8985\n",
            "Epoch 155/200\n",
            "58/58 [==============================] - 1s 11ms/step - loss: 0.1370 - accuracy: 0.8952\n",
            "Epoch 156/200\n",
            "58/58 [==============================] - 1s 9ms/step - loss: 0.1392 - accuracy: 0.8922\n",
            "Epoch 157/200\n",
            "58/58 [==============================] - 1s 9ms/step - loss: 0.1375 - accuracy: 0.8959\n",
            "Epoch 158/200\n",
            "58/58 [==============================] - 1s 9ms/step - loss: 0.1385 - accuracy: 0.8954\n",
            "Epoch 159/200\n",
            "58/58 [==============================] - 1s 9ms/step - loss: 0.1398 - accuracy: 0.8915\n",
            "Epoch 160/200\n",
            "58/58 [==============================] - 1s 9ms/step - loss: 0.1369 - accuracy: 0.8973\n",
            "Epoch 161/200\n",
            "58/58 [==============================] - 0s 9ms/step - loss: 0.1421 - accuracy: 0.8926\n",
            "Epoch 162/200\n",
            "58/58 [==============================] - 1s 10ms/step - loss: 0.1345 - accuracy: 0.9027\n",
            "Epoch 163/200\n",
            "58/58 [==============================] - 1s 11ms/step - loss: 0.1441 - accuracy: 0.8975\n",
            "Epoch 164/200\n",
            "58/58 [==============================] - 0s 8ms/step - loss: 0.1340 - accuracy: 0.9026\n",
            "Epoch 165/200\n",
            "58/58 [==============================] - 1s 9ms/step - loss: 0.1374 - accuracy: 0.8915\n",
            "Epoch 166/200\n",
            "58/58 [==============================] - 1s 9ms/step - loss: 0.1397 - accuracy: 0.8920\n",
            "Epoch 167/200\n",
            "58/58 [==============================] - 1s 9ms/step - loss: 0.1364 - accuracy: 0.8977\n",
            "Epoch 168/200\n",
            "58/58 [==============================] - 1s 9ms/step - loss: 0.1436 - accuracy: 0.8962\n",
            "Epoch 169/200\n",
            "58/58 [==============================] - 1s 9ms/step - loss: 0.1369 - accuracy: 0.8959\n",
            "Epoch 170/200\n",
            "58/58 [==============================] - 1s 9ms/step - loss: 0.1372 - accuracy: 0.8977\n",
            "Epoch 171/200\n",
            "58/58 [==============================] - 1s 9ms/step - loss: 0.1369 - accuracy: 0.8968\n",
            "Epoch 172/200\n",
            "58/58 [==============================] - 1s 9ms/step - loss: 0.1390 - accuracy: 0.8892\n",
            "Epoch 173/200\n",
            "58/58 [==============================] - 1s 9ms/step - loss: 0.1440 - accuracy: 0.8889\n",
            "Epoch 174/200\n",
            "58/58 [==============================] - 0s 8ms/step - loss: 0.1381 - accuracy: 0.8966\n",
            "Epoch 175/200\n",
            "58/58 [==============================] - 1s 9ms/step - loss: 0.1305 - accuracy: 0.8966\n",
            "Epoch 176/200\n",
            "58/58 [==============================] - 1s 11ms/step - loss: 0.1370 - accuracy: 0.8977\n",
            "Epoch 177/200\n",
            "58/58 [==============================] - 1s 10ms/step - loss: 0.1432 - accuracy: 0.8927\n",
            "Epoch 178/200\n",
            "58/58 [==============================] - 1s 9ms/step - loss: 0.1351 - accuracy: 0.8954\n",
            "Epoch 179/200\n",
            "58/58 [==============================] - 1s 11ms/step - loss: 0.1391 - accuracy: 0.8978\n",
            "Epoch 180/200\n",
            "58/58 [==============================] - 1s 11ms/step - loss: 0.1324 - accuracy: 0.9031\n",
            "Epoch 181/200\n",
            "58/58 [==============================] - 1s 9ms/step - loss: 0.1376 - accuracy: 0.8950\n",
            "Epoch 182/200\n",
            "58/58 [==============================] - 1s 9ms/step - loss: 0.1404 - accuracy: 0.8896\n",
            "Epoch 183/200\n",
            "58/58 [==============================] - 1s 11ms/step - loss: 0.1353 - accuracy: 0.8971\n",
            "Epoch 184/200\n",
            "58/58 [==============================] - 1s 10ms/step - loss: 0.1361 - accuracy: 0.8943\n",
            "Epoch 185/200\n",
            "58/58 [==============================] - 1s 9ms/step - loss: 0.1409 - accuracy: 0.8903\n",
            "Epoch 186/200\n",
            "58/58 [==============================] - 1s 9ms/step - loss: 0.1346 - accuracy: 0.8957\n",
            "Epoch 187/200\n",
            "58/58 [==============================] - 0s 8ms/step - loss: 0.1351 - accuracy: 0.9017\n",
            "Epoch 188/200\n",
            "58/58 [==============================] - 1s 10ms/step - loss: 0.1337 - accuracy: 0.8998\n",
            "Epoch 189/200\n",
            "58/58 [==============================] - 1s 11ms/step - loss: 0.1404 - accuracy: 0.8943\n",
            "Epoch 190/200\n",
            "58/58 [==============================] - 1s 9ms/step - loss: 0.1364 - accuracy: 0.8975\n",
            "Epoch 191/200\n",
            "58/58 [==============================] - 1s 9ms/step - loss: 0.1407 - accuracy: 0.8924\n",
            "Epoch 192/200\n",
            "58/58 [==============================] - 1s 11ms/step - loss: 0.1436 - accuracy: 0.8929\n",
            "Epoch 193/200\n",
            "58/58 [==============================] - 1s 10ms/step - loss: 0.1361 - accuracy: 0.8955\n",
            "Epoch 194/200\n",
            "58/58 [==============================] - 1s 9ms/step - loss: 0.1324 - accuracy: 0.8992\n",
            "Epoch 195/200\n",
            "58/58 [==============================] - 1s 9ms/step - loss: 0.1390 - accuracy: 0.8903\n",
            "Epoch 196/200\n",
            "58/58 [==============================] - 1s 9ms/step - loss: 0.1401 - accuracy: 0.8936\n",
            "Epoch 197/200\n",
            "58/58 [==============================] - 1s 10ms/step - loss: 0.1375 - accuracy: 0.8915\n",
            "Epoch 198/200\n",
            "58/58 [==============================] - 1s 11ms/step - loss: 0.1362 - accuracy: 0.8959\n",
            "Epoch 199/200\n",
            "58/58 [==============================] - 1s 11ms/step - loss: 0.1356 - accuracy: 0.9006\n",
            "Epoch 200/200\n",
            "58/58 [==============================] - 1s 11ms/step - loss: 0.1316 - accuracy: 0.8966\n"
          ]
        }
      ]
    },
    {
      "cell_type": "code",
      "source": [
        "import tensorflow.keras as keras\n",
        "\n",
        "model.save(\"basic_model\")\n",
        "saved_model = keras.models.load_model(\"basic_model\")"
      ],
      "metadata": {
        "id": "rCRKAKT9oRpN",
        "outputId": "e623078c-04ac-490f-eb70-bf1e22ebe404",
        "colab": {
          "base_uri": "https://localhost:8080/"
        }
      },
      "execution_count": 263,
      "outputs": [
        {
          "output_type": "stream",
          "name": "stderr",
          "text": [
            "WARNING:absl:Found untraced functions such as leaky_re_lu_8_layer_call_fn, leaky_re_lu_8_layer_call_and_return_conditional_losses while saving (showing 2 of 2). These functions will not be directly callable after loading.\n"
          ]
        }
      ]
    },
    {
      "cell_type": "code",
      "source": [
        "X_Validation_Bag = TF_IDF_Vectorizer.transform(X_validation[\"tweet\"])\n",
        "X_Validation_Bag_df = pd.DataFrame(X_Validation_Bag.toarray(), index = X_validation.index,columns = TF_IDF_Vectorizer.get_feature_names())"
      ],
      "metadata": {
        "id": "40thu1nco6Nu",
        "outputId": "f94a6b14-6219-4d63-95f6-809841ec4c62",
        "colab": {
          "base_uri": "https://localhost:8080/"
        }
      },
      "execution_count": 264,
      "outputs": [
        {
          "output_type": "stream",
          "name": "stderr",
          "text": [
            "/usr/local/lib/python3.8/dist-packages/sklearn/utils/deprecation.py:87: FutureWarning: Function get_feature_names is deprecated; get_feature_names is deprecated in 1.0 and will be removed in 1.2. Please use get_feature_names_out instead.\n",
            "  warnings.warn(msg, category=FutureWarning)\n"
          ]
        }
      ]
    },
    {
      "cell_type": "code",
      "source": [
        "X_Validation_Bag_df['largoDocumento'] = X_validation['largoDocumento']\n",
        "X_Validation_Bag_df['CantidadPalabras'] = X_validation['CantidadPalabras']\n",
        "X_Validation_Bag_df['cantidad de letras'] = X_validation['cantidad de letras']\n",
        "X_Validation_Bag_df['cantidad de covid']  = X_validation['cantidad de covid']\n",
        "X_Validation_Bag_df['cantidad de hashtag'] = X_validation['cantidad de hashtag']\n",
        "X_Validation_Bag_df['cantidad de emojis'] = X_validation['cantidad de emojis']"
      ],
      "metadata": {
        "id": "J91gPkLchKKR"
      },
      "execution_count": 265,
      "outputs": []
    },
    {
      "cell_type": "code",
      "source": [
        "X_Validation_Bag_df_array = np.asarray(X_Validation_Bag_df)\n",
        "Y_Validation_Predict = saved_model.predict(X_Validation_Bag_df_array)"
      ],
      "metadata": {
        "id": "0Fy5rxxbnw3U",
        "outputId": "5ff9764c-1a55-4549-a712-143b8531ac1b",
        "colab": {
          "base_uri": "https://localhost:8080/"
        }
      },
      "execution_count": 266,
      "outputs": [
        {
          "output_type": "stream",
          "name": "stdout",
          "text": [
            "90/90 [==============================] - 0s 3ms/step\n"
          ]
        }
      ]
    },
    {
      "cell_type": "code",
      "source": [
        "def transformPrediction(df, predNumber, predLabel):\n",
        "  copy = df.copy()\n",
        "  for i in range(len(copy)):\n",
        "    if copy[i][0] > 0.5:\n",
        "      predNumber.append([1])\n",
        "      predLabel.append([\"real\"])\n",
        "    else:\n",
        "      predNumber.append([0])\n",
        "      predLabel.append([\"fake\"])\n"
      ],
      "metadata": {
        "id": "EWu5_-xv-smt"
      },
      "execution_count": 267,
      "outputs": []
    },
    {
      "cell_type": "code",
      "source": [
        "predValidationNumbers = []\n",
        "predValidationLabels = []\n",
        "transformPrediction(Y_Validation_Predict, predValidationNumbers, predValidationLabels)"
      ],
      "metadata": {
        "id": "i1hDHEULlcDX"
      },
      "execution_count": 268,
      "outputs": []
    },
    {
      "cell_type": "code",
      "source": [
        "validationNumbers = []\n",
        "validationLabels = []\n",
        "copy = np.asarray(Y_validation).copy()\n",
        "for i in range(len(copy)):\n",
        "  if copy[i] > 0.5:\n",
        "    validationNumbers.append([1])\n",
        "    validationLabels.append([\"real\"])\n",
        "  else:\n",
        "    validationNumbers.append([0])\n",
        "    validationLabels.append([\"fake\"])"
      ],
      "metadata": {
        "id": "ODiTBndqlzWX"
      },
      "execution_count": 269,
      "outputs": []
    },
    {
      "cell_type": "code",
      "source": [
        "np.asarray(Y_validation)"
      ],
      "metadata": {
        "id": "hnmR9lfkk3J1",
        "outputId": "e62c2c66-49f5-4e21-f6cf-efa43e9de3da",
        "colab": {
          "base_uri": "https://localhost:8080/"
        }
      },
      "execution_count": 270,
      "outputs": [
        {
          "output_type": "execute_result",
          "data": {
            "text/plain": [
              "array([1, 1, 1, ..., 0, 1, 0])"
            ]
          },
          "metadata": {},
          "execution_count": 270
        }
      ]
    },
    {
      "cell_type": "markdown",
      "source": [
        "#Accuracy\n"
      ],
      "metadata": {
        "id": "IBWFGDNdNjsG"
      }
    },
    {
      "cell_type": "code",
      "source": [
        "from sklearn.metrics import accuracy_score\n",
        "print(accuracy_score(predValidationLabels,validationLabels))"
      ],
      "metadata": {
        "id": "AhJZ1LxVaC0D",
        "outputId": "de7670ec-be7b-4173-d5e5-d0b6bf89115f",
        "colab": {
          "base_uri": "https://localhost:8080/"
        }
      },
      "execution_count": 271,
      "outputs": [
        {
          "output_type": "stream",
          "name": "stdout",
          "text": [
            "0.9477925718290119\n"
          ]
        }
      ]
    },
    {
      "cell_type": "code",
      "source": [
        "0.9491941135248774"
      ],
      "metadata": {
        "colab": {
          "base_uri": "https://localhost:8080/"
        },
        "id": "FzxbtfNRBtJ6",
        "outputId": "659ff323-b7d1-4147-f4d4-4e6a44331b6c"
      },
      "execution_count": 3,
      "outputs": [
        {
          "output_type": "execute_result",
          "data": {
            "text/plain": [
              "0.9491941135248774"
            ]
          },
          "metadata": {},
          "execution_count": 3
        }
      ]
    },
    {
      "cell_type": "markdown",
      "source": [
        "# K fold"
      ],
      "metadata": {
        "id": "lsp7hcI0Xlx7"
      }
    },
    {
      "cell_type": "code",
      "source": [
        "from sklearn.metrics import accuracy_score"
      ],
      "metadata": {
        "id": "WBbrhQ1qayX_"
      },
      "execution_count": null,
      "outputs": []
    },
    {
      "cell_type": "code",
      "source": [
        "import math\n",
        "k = 5\n",
        "\n",
        "def k_folds(X, y, k):\n",
        "  assert(len(X) == len(y))\n",
        "  folds_X = []\n",
        "  folds_y = []\n",
        "  initial_pos = 0\n",
        "\n",
        "  for i in range(k):\n",
        "    to_pos = min(math.ceil(len(X)/k)*(i+1), len(X))\n",
        "    \n",
        "    x_fold = X[initial_pos:to_pos]\n",
        "    y_fold = y[initial_pos:to_pos]\n",
        "\n",
        "    folds_X.append(x_fold)\n",
        "    folds_y.append(y_fold)\n",
        "    initial_pos = to_pos\n",
        "\n",
        "  return folds_X, folds_y"
      ],
      "metadata": {
        "id": "Mf9ISG6OXlV_"
      },
      "execution_count": null,
      "outputs": []
    },
    {
      "cell_type": "code",
      "source": [
        "def evaluate(model, X_to_eval, Y_to_eval):\n",
        "    Y_Prediction = model.predict(np.asarray(X_to_eval))\n",
        "    numbers = []\n",
        "    prediction_labels = []\n",
        "    transformPrediction(Y_Prediction, numbers, prediction_labels)\n",
        "\n",
        "    validationLabels = []\n",
        "    copy = np.asarray(Y_to_eval).copy()\n",
        "    for i in range(len(copy)):\n",
        "      if copy[i] > 0.5:\n",
        "        validationLabels.append([\"real\"])\n",
        "      else:\n",
        "        validationLabels.append([\"fake\"])\n",
        "\n",
        "    return accuracy_score(validationLabels, prediction_labels)"
      ],
      "metadata": {
        "id": "DAADQdFEYKtZ"
      },
      "execution_count": null,
      "outputs": []
    },
    {
      "cell_type": "code",
      "source": [
        "def k_fold_cross_val(folds_X, folds_y, model):\n",
        "  assert(len(folds_X) == len(folds_y))\n",
        "  X_to_train = []\n",
        "  y_to_train = []\n",
        "  X_to_eval = 0\n",
        "  y_to_eval = 0\n",
        "  scores = []\n",
        "  for i in range(len(folds_X)):\n",
        "    X_to_train = []\n",
        "    y_to_train = []\n",
        "    for j in range(len(folds_X)):\n",
        "      if  i == j:\n",
        "        X_to_eval = folds_X[i]\n",
        "        y_to_eval = folds_y[i]\n",
        "      else:\n",
        "        X_to_train.append(folds_X[j])\n",
        "        y_to_train.append(folds_y[j])\n",
        "    \n",
        "    X_train = np.concatenate(X_to_train)\n",
        "    y_train = np.concatenate(y_to_train)\n",
        "    model.fit(X_train,y_train, epochs=200, batch_size=100, validation_split=0.2)\n",
        "    score = evaluate(model, X_to_eval, y_to_eval)\n",
        "    scores.append(score)\n",
        "  return np.mean(np.array(scores)), scores"
      ],
      "metadata": {
        "id": "iWHnyEvRY_5_"
      },
      "execution_count": null,
      "outputs": []
    },
    {
      "cell_type": "code",
      "source": [
        "folds_X, folds_y = k_folds(np.asarray(bag_of_words), np.asarray(Y_train), 5)\n"
      ],
      "metadata": {
        "id": "iYJyO491ZBgK"
      },
      "execution_count": null,
      "outputs": []
    },
    {
      "cell_type": "code",
      "source": [
        "k_fold_result_mean, k_fold_result_arr = k_fold_cross_val(folds_X, folds_y, model)"
      ],
      "metadata": {
        "id": "1lH1Uz4HbMln"
      },
      "execution_count": null,
      "outputs": []
    },
    {
      "cell_type": "code",
      "source": [
        "k_fold_result_mean"
      ],
      "metadata": {
        "id": "BHDI7I_deLIG",
        "outputId": "308a4edd-8e2e-46d3-d5c9-b1ffe387118b",
        "colab": {
          "base_uri": "https://localhost:8080/"
        }
      },
      "execution_count": null,
      "outputs": [
        {
          "output_type": "execute_result",
          "data": {
            "text/plain": [
              "0.9869947275922671"
            ]
          },
          "metadata": {},
          "execution_count": 38
        }
      ]
    },
    {
      "cell_type": "code",
      "source": [
        "k_fold_result_arr"
      ],
      "metadata": {
        "id": "FOadql0keOYu",
        "outputId": "52fb5c2c-b7c9-45db-fb2b-3ba14be568e1",
        "colab": {
          "base_uri": "https://localhost:8080/"
        }
      },
      "execution_count": null,
      "outputs": [
        {
          "output_type": "execute_result",
          "data": {
            "text/plain": [
              "[1.0, 1.0, 1.0, 1.0, 0.9349736379613357]"
            ]
          },
          "metadata": {},
          "execution_count": 39
        }
      ]
    },
    {
      "cell_type": "markdown",
      "source": [
        "# Test"
      ],
      "metadata": {
        "id": "dQyZTFSjXjir"
      }
    },
    {
      "cell_type": "code",
      "source": [
        "test['id'].astype('str')\n",
        "test['tweet'].astype('str')\n",
        "\n",
        "test_bag = TF_IDF_Vectorizer.transform(test[\"tweet\"])\n",
        "test_bag = pd.DataFrame(test_bag.toarray(), index = test.index, columns = TF_IDF_Vectorizer.get_feature_names())\n",
        "\n",
        "test['largoDocumento'] = test.tweet.str.len()\n",
        "test['CantidadPalabras'] = test.apply(lambda row : len(row['tweet'].split()), axis=1)\n",
        "test['cantidad de letras'] = test.apply(lambda row : contarLetras(row), axis=1)\n",
        "test['cantidad de covid'] = test.apply(lambda row : contarLetras(row), axis=1)\n",
        "test['cantidad de hashtag'] = test.apply(lambda row : contarHashtags(row), axis=1)\n",
        "test['cantidad de emojis'] = test.apply(lambda row : contarEmojis(row), axis=1)\n",
        "\n",
        "test_bag['largoDocumento'] = test['largoDocumento']\n",
        "test_bag['CantidadPalabras'] = test['CantidadPalabras']\n",
        "test_bag['cantidad de letras'] = test['cantidad de letras']\n",
        "test_bag['cantidad de covid']  = test['cantidad de covid']\n",
        "test_bag['cantidad de hashtag'] = test['cantidad de hashtag']\n",
        "test_bag['cantidad de emojis'] = test['cantidad de emojis']\n",
        "\n",
        "test_bag_array = np.asarray(test_bag)\n",
        "test_prediction = saved_model.predict(test_bag_array)\n",
        "\n",
        "copy = test_prediction.copy()\n",
        "predNumber = [];\n",
        "predLabel = [];\n",
        "for i in range(len(copy)):\n",
        "  if copy[i][0] > 0.5:\n",
        "    predNumber.append([1])\n",
        "    predLabel.append([\"real\"])\n",
        "  else:\n",
        "    predNumber.append([0])\n",
        "    predLabel.append([\"fake\"])\n",
        "\n",
        "prediction = pd.DataFrame(predLabel, columns=['label'])\n",
        "prediction.index += 1\n",
        "prediction = prediction.to_csv('prediction.csv')"
      ],
      "metadata": {
        "id": "hZMa_5ZcWMWo",
        "colab": {
          "base_uri": "https://localhost:8080/"
        },
        "outputId": "b3a89792-8c6d-4391-b6ca-f28e4970603f"
      },
      "execution_count": null,
      "outputs": [
        {
          "output_type": "stream",
          "name": "stderr",
          "text": [
            "/usr/local/lib/python3.8/dist-packages/sklearn/utils/deprecation.py:87: FutureWarning: Function get_feature_names is deprecated; get_feature_names is deprecated in 1.0 and will be removed in 1.2. Please use get_feature_names_out instead.\n",
            "  warnings.warn(msg, category=FutureWarning)\n"
          ]
        },
        {
          "output_type": "stream",
          "name": "stdout",
          "text": [
            "67/67 [==============================] - 0s 3ms/step\n"
          ]
        }
      ]
    },
    {
      "cell_type": "code",
      "source": [
        "from google.colab import files\n",
        "\n",
        "files.download('prediction.csv')"
      ],
      "metadata": {
        "id": "odAqKelbXH36",
        "outputId": "de33198e-8c51-4f3f-9d24-14514d7db026",
        "colab": {
          "base_uri": "https://localhost:8080/",
          "height": 17
        }
      },
      "execution_count": null,
      "outputs": [
        {
          "output_type": "display_data",
          "data": {
            "text/plain": [
              "<IPython.core.display.Javascript object>"
            ],
            "application/javascript": [
              "\n",
              "    async function download(id, filename, size) {\n",
              "      if (!google.colab.kernel.accessAllowed) {\n",
              "        return;\n",
              "      }\n",
              "      const div = document.createElement('div');\n",
              "      const label = document.createElement('label');\n",
              "      label.textContent = `Downloading \"${filename}\": `;\n",
              "      div.appendChild(label);\n",
              "      const progress = document.createElement('progress');\n",
              "      progress.max = size;\n",
              "      div.appendChild(progress);\n",
              "      document.body.appendChild(div);\n",
              "\n",
              "      const buffers = [];\n",
              "      let downloaded = 0;\n",
              "\n",
              "      const channel = await google.colab.kernel.comms.open(id);\n",
              "      // Send a message to notify the kernel that we're ready.\n",
              "      channel.send({})\n",
              "\n",
              "      for await (const message of channel.messages) {\n",
              "        // Send a message to notify the kernel that we're ready.\n",
              "        channel.send({})\n",
              "        if (message.buffers) {\n",
              "          for (const buffer of message.buffers) {\n",
              "            buffers.push(buffer);\n",
              "            downloaded += buffer.byteLength;\n",
              "            progress.value = downloaded;\n",
              "          }\n",
              "        }\n",
              "      }\n",
              "      const blob = new Blob(buffers, {type: 'application/binary'});\n",
              "      const a = document.createElement('a');\n",
              "      a.href = window.URL.createObjectURL(blob);\n",
              "      a.download = filename;\n",
              "      div.appendChild(a);\n",
              "      a.click();\n",
              "      div.remove();\n",
              "    }\n",
              "  "
            ]
          },
          "metadata": {}
        },
        {
          "output_type": "display_data",
          "data": {
            "text/plain": [
              "<IPython.core.display.Javascript object>"
            ],
            "application/javascript": [
              "download(\"download_20372093-216e-4cfc-a4f0-702304fe1ac5\", \"prediction.csv\", 20300)"
            ]
          },
          "metadata": {}
        }
      ]
    }
  ],
  "metadata": {
    "colab": {
      "provenance": []
    },
    "kernelspec": {
      "display_name": "Python 3",
      "name": "python3"
    },
    "language_info": {
      "name": "python"
    }
  },
  "nbformat": 4,
  "nbformat_minor": 0
}