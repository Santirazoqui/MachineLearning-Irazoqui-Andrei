{
  "cells": [
    {
      "cell_type": "code",
      "execution_count": 4,
      "metadata": {
        "id": "auJ2yClw527_"
      },
      "outputs": [],
      "source": [
        "import numpy as np\n",
        "import pandas as pd\n",
        "import matplotlib as mpl\n",
        "import matplotlib.pyplot as plt\n",
        "import seaborn as sns\n",
        "from scipy.stats.mstats import winsorize\n",
        "from google.colab import drive, files\n",
        "import io"
      ]
    },
    {
      "cell_type": "markdown",
      "source": [
        "# Cargar datos y dividir dataset"
      ],
      "metadata": {
        "id": "rBFpCmouf3Z9"
      }
    },
    {
      "cell_type": "code",
      "source": [
        "from tensorflow.random import set_seed\n",
        "set_seed(234730)"
      ],
      "metadata": {
        "id": "iRskxHDSvIB1"
      },
      "execution_count": 5,
      "outputs": []
    },
    {
      "cell_type": "code",
      "source": [
        "from google.colab import drive\n",
        "drive.mount('/content/drive')\n",
        "train = pd.read_csv(\"/content/drive/MyDrive/train.csv\")\n",
        "test = pd.read_csv(\"/content/drive/MyDrive/test_without_label.csv\")"
      ],
      "metadata": {
        "id": "EDu6L8kKvMio",
        "colab": {
          "base_uri": "https://localhost:8080/"
        },
        "outputId": "26361e29-eab5-4a92-8f15-d6fbe9899abb"
      },
      "execution_count": 6,
      "outputs": [
        {
          "output_type": "stream",
          "name": "stdout",
          "text": [
            "Drive already mounted at /content/drive; to attempt to forcibly remount, call drive.mount(\"/content/drive\", force_remount=True).\n"
          ]
        }
      ]
    },
    {
      "cell_type": "code",
      "source": [
        "train['id'] = train['id'].astype(str)\n",
        "train['tweet'] = train['tweet'].astype(str)\n",
        "train['label'] = train['label'].astype(str)"
      ],
      "metadata": {
        "id": "8bBGRjnTxdsG"
      },
      "execution_count": 7,
      "outputs": []
    },
    {
      "cell_type": "code",
      "source": [
        "train.drop(['id'], axis=1)\n",
        "train.set_index(\"id\", inplace = True)"
      ],
      "metadata": {
        "id": "XwO2hMspxjLi"
      },
      "execution_count": 8,
      "outputs": []
    },
    {
      "cell_type": "code",
      "source": [
        "from sklearn.preprocessing import LabelEncoder\n",
        "label_encoder = LabelEncoder()\n",
        "# parseo de category\n",
        "train[['label']] = train[['label']].apply(lambda col: label_encoder.fit_transform(col))"
      ],
      "metadata": {
        "id": "yI7GxIR9W6xB"
      },
      "execution_count": 9,
      "outputs": []
    },
    {
      "cell_type": "markdown",
      "source": [
        "# Stopwords, lemmatize, punctuacion\n",
        "Hay muchas palabras que estan repetidas como \"august\", \"august,\", \"august.\", \"august:\", etc. Para resolver esto vamos a sacar la punctuación antes de hacer el lemmatizer. Por ahora vamos a dejar algunos símbolos como los \"#\", quizas los hastags pueden tener información importante.\n",
        "\n",
        "Como en el órden de ejecución del CountVectorizer primero se hace el lemmatizing,  no podemos ponerlo en las stop words. Por lo tanto lo vamos a hacer en el mismo método de lemmatizing."
      ],
      "metadata": {
        "id": "fv52mEwudEkW"
      }
    },
    {
      "cell_type": "code",
      "source": [
        "from sklearn.feature_extraction.text import TfidfVectorizer\n",
        "from nltk.stem import WordNetLemmatizer\n",
        "import nltk\n",
        "\n",
        "nltk.download('wordnet')\n",
        "Lemmatizer = WordNetLemmatizer()\n",
        "#analyzer = CountVectorizer().build_analyzer()\n",
        "\n",
        "from zipfile import ZipFile\n",
        "file_loc = '/root/nltk_data/corpora/wordnet.zip'\n",
        "with ZipFile(file_loc, 'r') as z:\n",
        "  z.extractall('/root/nltk_data/corpora/')"
      ],
      "metadata": {
        "id": "q_vBq9se2qMb",
        "colab": {
          "base_uri": "https://localhost:8080/"
        },
        "outputId": "05fb09e4-97a8-4926-861e-061f7a4a3be2"
      },
      "execution_count": 10,
      "outputs": [
        {
          "output_type": "stream",
          "name": "stderr",
          "text": [
            "[nltk_data] Downloading package wordnet to /root/nltk_data...\n",
            "[nltk_data]   Package wordnet is already up-to-date!\n"
          ]
        }
      ]
    },
    {
      "cell_type": "code",
      "source": [
        "All_punct = '''!()-–—•…[]{};:'\"“”‘’\\,<>./?%^&*_~'''\n",
        "#Separators ='₹$€'\n",
        "#CountVectorizer con stopwords de Natural Language Toolkit\n",
        "nltk.download('stopwords')\n",
        "emojis = \"👐🇦💺🔑💚ℹ️↗️⏺️🔽▪️◾▶️☎️☑☺⚖️⛪✅✈✉️✔️❄️❌❌❗❤️➡➡️�🆕￼🆙🌍🌐🏠🏪🏥🏫👇👉👉🏾👨🧑🧒👩⚕️💉💊📃📈📉📍📏📢📨📺🔰🔴🔹️🕌🕐🕖🕘🕗😷🙏🚶♀️🛡️🟢🤔😖😱😎😢😞😧😣😅😂🙄🤱🏿🥼🧤🧪📱🙊📣🇿🇲🌎🌎🌏🍔🎧💦🐍🐕👀👍👏👦👧👦🙌🚍🚎🚓🚨🚫🟠🟡🥡🥫🦟🧑🧔🧫🧬\"\n",
        "\n",
        "\n",
        "def is_Not_Link(word):\n",
        "  return word[0:4] != \"http\"\n",
        "\n",
        "def remove_Punctuation(doc_split):\n",
        "  for i in range(len(doc_split)):\n",
        "    word = doc_split[i];\n",
        "    for elements in word:\n",
        "      if elements in All_punct:\n",
        "        word = word.replace(elements, \"\")\n",
        "        doc_split[i] = word     \n",
        "  return doc_split\n",
        "\n",
        "def remove_Stopwords(doc_split):\n",
        "  doc_with_Stopwords = doc_split.copy();\n",
        "  for i in range(len(doc_split)):\n",
        "    word = doc_split[i];\n",
        "    if word in nltk.corpus.stopwords.words('english'):\n",
        "      doc_with_Stopwords.remove(word);\n",
        "\n",
        "  return doc_with_Stopwords\n",
        "\n",
        "def separate_Emojis(doc_split):\n",
        "  doc_with_Emojis = doc_split.copy();\n",
        "  for i in range(len(doc_split)):\n",
        "    word = doc_split[i];\n",
        "    for elements in word:\n",
        "        if elements in emojis:\n",
        "          doc_with_Emojis.append(elements)\n",
        "          word = word.replace(elements, \"\")\n",
        "          doc_with_Emojis[i] = word\n",
        "  return doc_with_Emojis"
      ],
      "metadata": {
        "colab": {
          "base_uri": "https://localhost:8080/"
        },
        "id": "XV02dxaTsbyP",
        "outputId": "c9f4508f-3945-4943-94fc-93dcd91ae82b"
      },
      "execution_count": 11,
      "outputs": [
        {
          "output_type": "stream",
          "name": "stderr",
          "text": [
            "[nltk_data] Downloading package stopwords to /root/nltk_data...\n",
            "[nltk_data]   Package stopwords is already up-to-date!\n"
          ]
        }
      ]
    },
    {
      "cell_type": "code",
      "source": [
        "Hindi = ['आँकड़ा', 'इस', 'कर', 'करने', 'के', 'को', 'ख़त्म', 'छोटी', 'जड़', 'ज़रूरी', 'जाएगा।', 'देश', 'पार', 'बहुत', 'में', 'लिए', 'सावधानियाँ', 'सी', 'से', 'हफ़्ते', 'हमारे', 'है']\n",
        "Chinese = ['監獄絕食抗議', '被監視居住']"
      ],
      "metadata": {
        "id": "l_dhgk-eeEjG"
      },
      "execution_count": 12,
      "outputs": []
    },
    {
      "cell_type": "code",
      "source": [
        "def remove_Foreign_Languages(doc_split):\n",
        "  doc_without_Languages = doc_split.copy();\n",
        "  for i in range(len(doc_split)):\n",
        "    word = doc_split[i];\n",
        "    if (word in Hindi) or (word in Chinese):\n",
        "      doc_without_Languages.remove(word);\n",
        "\n",
        "  return doc_without_Languages"
      ],
      "metadata": {
        "id": "NJl_4_Lie_BF"
      },
      "execution_count": 13,
      "outputs": []
    },
    {
      "cell_type": "code",
      "source": [
        "Unicode = ['\\u200d','\\u200b', '\\u2063', '\\u2066', '\\u2069']\n",
        "\n",
        "def remove_Unicode(doc_split):\n",
        "  for i in range(len(doc_split)):\n",
        "    word = doc_split[i];\n",
        "    for j in range(len(word)):\n",
        "      char = word[j];\n",
        "      if char in Unicode:\n",
        "        doc_split[i] = doc_split[i].replace(char, \"\")\n",
        "  return doc_split"
      ],
      "metadata": {
        "id": "l6ghLTm1DmKP"
      },
      "execution_count": 14,
      "outputs": []
    },
    {
      "cell_type": "code",
      "source": [
        "text = \"\\u200dhello world\\u200d this is amazinjajaj\\u200dhola ogla\"\n",
        "#text.replace('\\u200d', \"\")\n",
        "if(text[0] == \"\\u200d\"):\n",
        "  print(\"true 1\")\n",
        "if(text[12] == \"\\u200d\"):\n",
        "  print(\"true 2\")"
      ],
      "metadata": {
        "id": "IAu23iLqD-wf",
        "outputId": "7caa95a3-a021-4fdb-f562-1fed15a2379e",
        "colab": {
          "base_uri": "https://localhost:8080/"
        }
      },
      "execution_count": 15,
      "outputs": [
        {
          "output_type": "stream",
          "name": "stdout",
          "text": [
            "true 1\n",
            "true 2\n"
          ]
        }
      ]
    },
    {
      "cell_type": "code",
      "source": [
        "a = remove_Unicode(text.split())\n",
        "a"
      ],
      "metadata": {
        "id": "Ef2KYcYPO6M5",
        "outputId": "0c276c94-c5d6-4c1a-f331-b4323aa1e5f9",
        "colab": {
          "base_uri": "https://localhost:8080/"
        }
      },
      "execution_count": 16,
      "outputs": [
        {
          "output_type": "execute_result",
          "data": {
            "text/plain": [
              "['hello', 'world', 'this', 'is', 'amazinjajajhola', 'ogla']"
            ]
          },
          "metadata": {},
          "execution_count": 16
        }
      ]
    },
    {
      "cell_type": "code",
      "source": [
        "def remove_Empty_Spaces(doc_split):\n",
        "  doc_split =  [x for x in doc_split if x]\n",
        "  return doc_split"
      ],
      "metadata": {
        "id": "6n2rBbqVXFGL"
      },
      "execution_count": 17,
      "outputs": []
    },
    {
      "cell_type": "code",
      "source": [
        "split = [\"\", \"hola\", \"\", \"mundo\", \"\"]\n",
        "split =  [x for x in split if x]\n",
        "print(split)"
      ],
      "metadata": {
        "id": "lR6ZhHhWWBJZ",
        "outputId": "3af17086-1237-4d2d-cadb-b2be504f4503",
        "colab": {
          "base_uri": "https://localhost:8080/"
        }
      },
      "execution_count": 18,
      "outputs": [
        {
          "output_type": "stream",
          "name": "stdout",
          "text": [
            "['hola', 'mundo']\n"
          ]
        }
      ]
    },
    {
      "cell_type": "code",
      "source": [
        "def remove_Links(doc_split):\n",
        "  doc_without_Links = doc_split.copy();\n",
        "  for i in range(len(doc_split)):\n",
        "    word = doc_split[i];\n",
        "    while (word[0] in All_punct) and (len(word) > 1):\n",
        "      word = word[1:len(word)]\n",
        "    if not(is_Not_Link(word)):\n",
        "      doc_without_Links.remove(word);\n",
        "  return doc_without_Links;"
      ],
      "metadata": {
        "id": "XxjLAXpDey3_"
      },
      "execution_count": 19,
      "outputs": []
    },
    {
      "cell_type": "code",
      "source": [
        "ciudadesNigeria = [\"Lagos\", \"River\", \"FCT\", \"Abia\", \"Borno\", \"Oyo\", \"Rivers\", \"Edo\", \"Gombe\", \"Ogun\", \"Plateau\", \"Delta\", \"Bauchi\", \"Kaduna\", \"Benue\", \"Ondo\", \"Kwara\", \"Nasarawa\", \"Enugu\", \"Sokoto\", \"Niger\", \"Kebbi\", \"Yobe\", \"Kano\"]\n",
        "\n",
        "import re\n",
        "def separate_Numbers(doc_split):\n",
        "  for i in range(len(doc_split)):\n",
        "    word = doc_split[i];\n",
        "    for cities in ciudadesNigeria:\n",
        "      if cities in word:\n",
        "        match = re.match(r\"([a-z]+)([0-9]+)\", word, re.I)\n",
        "        if match:\n",
        "          doc_split[i] = match.groups()[0]\n",
        "          for i in range(len(match.groups())):\n",
        "            if i != 0:\n",
        "              doc_split.append(match.groups()[i])\n",
        "  return doc_split"
      ],
      "metadata": {
        "id": "P6qelguRIuqS"
      },
      "execution_count": 20,
      "outputs": []
    },
    {
      "cell_type": "code",
      "source": [
        "def separate_Arrobas(doc_split):\n",
        "  for i in range(len(doc_split)):\n",
        "    word = doc_split[i];\n",
        "    if word[0] == \"@\": \n",
        "      break\n",
        "    wordSeparated = word.split(\"@\")\n",
        "    doc_split[i] = wordSeparated[0]\n",
        "    aux = 1\n",
        "    while aux < len(wordSeparated):\n",
        "      wordWithArroba = \"@\"\n",
        "      wordWithArroba += wordSeparated[aux]\n",
        "      doc_split.append(wordWithArroba)\n",
        "      aux += 1\n",
        "    \n",
        "  return doc_split"
      ],
      "metadata": {
        "id": "JA6w4zAkgZvT"
      },
      "execution_count": 56,
      "outputs": []
    },
    {
      "cell_type": "code",
      "source": [
        "def new_analyzer(doc):\n",
        "  doc_split = doc.split();\n",
        "  doc_split = remove_Links(doc_split);\n",
        "  doc_split = remove_Punctuation(doc_split);\n",
        "  doc_split = separate_Emojis(doc_split);\n",
        "  doc_split = remove_Stopwords(doc_split);\n",
        "  doc_split = remove_Unicode(doc_split);\n",
        "  doc_split = remove_Foreign_Languages(doc_split);\n",
        "  doc_split = remove_Empty_Spaces(doc_split);\n",
        "  doc_split = separate_Numbers(doc_split);\n",
        "  if (\"@\" in doc):\n",
        "    doc_split = separate_Arrobas(doc_split);\n",
        "  return (Lemmatizer.lemmatize(w.lower()) for w in doc_split);\n",
        "\n",
        "nltk.download('omw-1.4')"
      ],
      "metadata": {
        "colab": {
          "base_uri": "https://localhost:8080/"
        },
        "id": "CmPnRp0XecV9",
        "outputId": "5ee8f0f3-40ff-4d8c-ca2a-203a2fbdba4a"
      },
      "execution_count": 57,
      "outputs": [
        {
          "output_type": "stream",
          "name": "stderr",
          "text": [
            "[nltk_data] Downloading package omw-1.4 to /root/nltk_data...\n",
            "[nltk_data]   Package omw-1.4 is already up-to-date!\n"
          ]
        },
        {
          "output_type": "execute_result",
          "data": {
            "text/plain": [
              "True"
            ]
          },
          "metadata": {},
          "execution_count": 57
        }
      ]
    },
    {
      "cell_type": "code",
      "source": [
        "All_punct[5]"
      ],
      "metadata": {
        "colab": {
          "base_uri": "https://localhost:8080/",
          "height": 35
        },
        "id": "LjwlU1sLVx4e",
        "outputId": "a5bb8e27-6aa4-45d8-89a2-8d5e62d15833"
      },
      "execution_count": 23,
      "outputs": [
        {
          "output_type": "execute_result",
          "data": {
            "text/plain": [
              "'—'"
            ],
            "application/vnd.google.colaboratory.intrinsic+json": {
              "type": "string"
            }
          },
          "metadata": {},
          "execution_count": 23
        }
      ]
    },
    {
      "cell_type": "markdown",
      "source": [
        "# Ingenieria de atributos"
      ],
      "metadata": {
        "id": "sReTyoQ6OFv3"
      }
    },
    {
      "cell_type": "code",
      "source": [
        "letters = \"abcdefghijklmnñopqrstuvwxyz\"\n",
        "def contarLetras(row):\n",
        "  count = 0;\n",
        "  for letter in row['tweet']:\n",
        "    if letter in letters:\n",
        "      count = count +1;\n",
        "  return count\n",
        "\n",
        "def contarCovid(row):\n",
        "  count = 0;\n",
        "  if \"covid\" in row['tweet']:\n",
        "    return 1\n",
        "  return 0\n",
        "\n",
        "def contarHashtags(row):\n",
        "  count = 0;\n",
        "  for letter in row['tweet']:\n",
        "    if letter == \"#\":\n",
        "      count = count +1;\n",
        "  return count * 10\n",
        "\n",
        "emojis = \"👐🇦💺🔑💚ℹ️↗️⏺️🔽▪️◾▶️☎️☑☺⚖️⛪✅✈✉️✔️❄️❌❌❗❤️➡➡️�🆕🆙🌍🌐🏠🏪🏥🏫👇👉👉🏾👨🧑🧒👩⚕️💉💊📃📈📉📍📏📢📨📺🔰🔴🔹️🕌🕐🕖🕘🕗😷🙏🚶♀️🛡️🟢🤔😖😱😎😢😞😧😣😅😂🙄🤱🏿🥼🧤🧪📱🙊📣🇿🇲🌎🌎🌏🍔🎧💦🐍🐕👀👍👏👦👧👦🙌🚍🚎🚓🚨🚫🟠🟡🥡🥫🦟🧑🧔🧫🧬\"\n",
        "def contarEmojis(row):\n",
        "  count = 0;\n",
        "  for letter in row['tweet']:\n",
        "    if letter in emojis:\n",
        "      count = count + 1\n",
        "  return count"
      ],
      "metadata": {
        "id": "71xXnfVT0dKE"
      },
      "execution_count": 58,
      "outputs": []
    },
    {
      "cell_type": "code",
      "source": [
        "train['largoDocumento'] = train.tweet.str.len()\n",
        "train['CantidadPalabras'] = train.apply(lambda row : len(row['tweet'].split()), axis=1)\n",
        "train['cantidad de letras'] = train.apply(lambda row : contarLetras(row), axis=1)\n",
        "train['cantidad de covid'] = train.apply(lambda row : contarLetras(row), axis=1)\n",
        "train['cantidad de hashtag'] = train.apply(lambda row : contarHashtags(row), axis=1)\n",
        "train['cantidad de emojis'] = train.apply(lambda row : contarEmojis(row), axis=1)"
      ],
      "metadata": {
        "id": "3dGgC6kpOX52"
      },
      "execution_count": 59,
      "outputs": []
    },
    {
      "cell_type": "markdown",
      "source": [
        "# Train / Validation\n",
        "Al final de la ingeniería dividimoms en train y validation"
      ],
      "metadata": {
        "id": "lJcxI3B8Pv7c"
      }
    },
    {
      "cell_type": "code",
      "source": [
        "from sklearn.model_selection import train_test_split\n",
        "\n",
        "X_train, X_validation, Y_train, Y_validation = train_test_split(\n",
        "    train.drop('label', axis=1),\n",
        "    train['label'],\n",
        "    test_size=(1.0/3), random_state=42)"
      ],
      "metadata": {
        "id": "FXppDGXJxsy2"
      },
      "execution_count": 60,
      "outputs": []
    },
    {
      "cell_type": "markdown",
      "source": [
        "## Fit"
      ],
      "metadata": {
        "id": "1Sqi2438Ibd5"
      }
    },
    {
      "cell_type": "code",
      "source": [
        "TF_IDF_Vectorizer = TfidfVectorizer(analyzer=new_analyzer, max_features=15000)\n",
        "bag_of_words = TF_IDF_Vectorizer.fit(X_train[\"tweet\"])\n",
        "bag_of_words_fitted = bag_of_words\n",
        "print(bag_of_words.get_feature_names())"
      ],
      "metadata": {
        "colab": {
          "base_uri": "https://localhost:8080/"
        },
        "id": "-aBmH9uJtACD",
        "outputId": "c4814735-0a3a-4336-d383-4d266ad54eb5"
      },
      "execution_count": 61,
      "outputs": [
        {
          "output_type": "stream",
          "name": "stdout",
          "text": [
            "['#', '##3600mg', '#1', '#2', '#2020presidentialelection', '#21dayschallenge', '#21dayslockdown', '#251', '#46', '#a', '#ableg', '#achristmascarol', '#acog2020', '#active', '#activecases', '#actnow', '#acuteflaccidmyelitis', '#afaracare', '#afoolat60', '#ahmedabad', '#airline', '#aliens', '#allergies', '#alllivesmatter', '#alzheimers', '#amazon', '#america', '#amitabhbachchan', '#andhrapradesh', '#anteater', '#antibiotics', '#aoc', '#apocalypse', '#appeal', '#area', '#arrestfauci', '#arrestgates', '#arunachalpradesh', '#arvindkejriwal', '#asco20', '#ashas', '#asians', '#asymptomatic', '#athens', '#auspol', '#autism', '#autoimmune', '#avifavir', '#aworldindisorder', '#azimpremji', '#backtoschool', '#bacteria', '#bailout', '#bankerhaipolicenahi', '#baptism', '#barackobama', '#baseball', '#basketball', '#be', '#beatncds', '#beer', '#bengali', '#berniesanders', '#bharatbiotech', '#bigpharmapuppets', '#bihar', '#binaxnow', '#bioweapon', '#boycottchineseproduct', '#boycottmadeinchina', '#breakfast', '#breakin', '#breaking', '#breakinghot', '#breastfeed', '#bronxzoo', '#brooklyn', '#buddhism', '#bulls', '#burgerking', '#burglars', '#burrgate', '#business', '#c19', '#californ', '#california', '#canada', '#cancelcacsexams', '#cancer', '#cardiotwitter', '#caregivers', '#carona', '#cases', '#cashewchicken', '#ccc19', '#ccp', '#ccpvirus', '#cdc', '#cdcgrandrounds', '#cdctravelnotice', '#cdnpoli', '#cdntv', '#celebrities', '#cerb', '#chandigarh', '#charleslieber', '#cheating', '#chennai', '#chenqiushi', '#children', '#china', '#chinacoronavirus', '#chinaindiafaceoff', '#chinese', '#chinesecommunistparty', '#chinesevirus', '#chloroquine', '#christmas', '#cia', '#classof2020', '#clinicaltrials', '#clinicians', '#codecheck', '#coevolution', '#coexistence', '#colorado', '#computers', '#connecticut', '#conspiracy', '#conspiracytheories', '#contacttracing', '#containmentzones', '#convalescent', '#cornavirusfacts', '#corona', '#coronabeer', '#coronacheck', '#coronainpakistan', '#coronaoutbreak', '#coronaupdate', '#coronaupdates', '#coronaupdatesindia', '#coronaupdatesinindia', '#coronavacccine', '#coronavaccine', '#coronavirus', '#coronaviruscanada', '#coronavirusfacts', '#coronavirusincontext', '#coronavirusindia', '#coronaviruslockdown', '#coronavirusoutbreak', '#coronaviruspandemic', '#coronavirustruth', '#coronavirusupdate', '#coronavirusupdates', '#coronavirususa', '#coronawarriors', '#coronawatch', '#coronil', '#corononavirus', '#coronovirus', '#corruption', '#covax', '#covaxin', '#covaxine', '#covid', '#covid1', '#covid19', '#covid19affected', '#covid19asserts', '#covid19associated', '#covid19india', '#covid19like', '#covid19my', '#covid19nc', '#covid19nigeria', '#covid19nz', '#covid19pakistan', '#covid19pandemic', '#covid19related', '#covid19science', '#covid19toronto', '#covid19updates', '#covid19vaccine', '#covid2019', '#covidactnow', '#covidcanada', '#covidindiaseva', '#covidlockdown', '#covidpandemic', '#covidstopswithme', '#covidtesting', '#covidupdate', '#covidupdates', '#covidview', '#covidwarriors', '#covidwarriortips', '#covidー19', '#cowurinesteambar', '#cpd', '#criminals', '#crook', '#cruise', '#cruiseships', '#cure', '#curfewinindia', '#dallascowboys', '#data', '#datoscoronavirus', '#day2lockdown', '#dearicaitake', '#death', '#defense', '#delhi', '#delhifightscorona', '#dementia', '#democrats', '#denmark', '#dexamethasone', '#dialysis', '#diapers', '#dictatorship', '#disease', '#diseasedetective', '#disinfectant', '#disney', '#dna', '#domesticviolence', '#donaldtrump', '#doortodoordeworming', '#doublingrate', '#doyourpart', '#dranthonyfauci', '#drugs', '#duckdynasty', '#dyk', '#ears', '#easyoff', '#ebolavirus', '#echinacea', '#economy', '#eha2020', '#eidaladha', '#elonmusk', '#endtb', '#epass', '#epidemic', '#erscongress', '#esccongress', '#essentialworker', '#eular2020', '#evin', '#evinindia', '#exercise', '#facebook', '#facecover', '#facemask', '#facemasks', '#factcheck', '#factchecking', '#factsmatter', '#fake', '#fakenews', '#fakenewsalert', '#families', '#family', '#famine', '#fangbin', '#faq', '#fatality', '#fatalityrate', '#fauci', '#favipiravir', '#fbi', '#fda', '#febreeze', '#feelbetter', '#feeling', '#fidelcastro', '#fightagainstcoronavirus', '#fightflu', '#firefighters', '#fitness', '#flattenthecurve', '#flight', '#florida', '#flu', '#foghornleghorn', '#food', '#foodsafety', '#foodshortages', '#footballamerican', '#ford', '#fourthofjuly', '#foxnews', '#freedom', '#friendship', '#fullyimmunizeeverychild', '#fun', '#gandhinagar', '#gaumutrsteaming', '#gautambuddhnagar', '#germs', '#ghaziabad', '#globalwarming', '#god', '#godelhiites', '#goingbust', '#golf', '#government', '#governor', '#goyabeans', '#grafitti', '#great', '#greece🇬🇷', '#groupies', '#gujarat', '#gujaratcoronaupdate', '#gurugram', '#guyana', '#hairstylist', '#hallmark', '#hamburger', '#hands', '#handwashing', '#hantavirus', '#harrymaguire', '#harvarduniversity', '#haryana', '#hcp', '#hcps', '#hcq', '#health', '#healthcare', '#healthequity', '#healthforall', '#healthoverexams', '#healthworkers', '#healthy', '#healthylife', '#heartattacks', '#heat', '#heidiklum', '#heneryhawk', '#himachalpradesh', '#hit2equity', '#hitsolutions', '#hiv', '#hoarding', '#hockey', '#hollywood', '#homeisolation', '#homelessness', '#homemade', '#homeopathic', '#homequarantine', '#hongkongs', '#howwehospitalist', '#huaweiwatchgt2', '#hurricane', '#hurricanelaura', '#hydroxychloroquine', '#hypertension', '#ibs', '#icairespondnow', '#icmrfightscovid19', '#icu', '#igot', '#illegalimmigrants', '#immunesystem', '#immunity', '#immunitybooster', '#immunizationforall', '#impeachment', '#importantinformation', '#incontext', '#india', '#indiafightscirona', '#indiafightscorona', '#indiafightscoronavirus', '#indiafightscovid19', '#indiawillwin', '#indigo', '#infections', '#inflammation', '#ingenuity', '#institutionalquarantine', '#introvert', '#ireland', '#irony', '#istandwithmashpee', '#italy', '#iud', '#jamalkhashoggi', '#japan', '#jaredkushner', '#jarkhand', '#jennymccarthy', '#jharkhand', '#jlo', '#jobs', '#johntravolta', '#josephbiden', '#journalist', '#kag', '#kano', '#karakaxlist', '#karnataka', '#karnatakas', '#kayburley', '#keeppushing', '#keithholdskeytovirusvaccine', '#kerala', '#kidneytransplant', '#kids', '#killingvirus', '#kishanganj', '#kitchen', '#knowthefacts', '#kolkataairport', '#laborday', '#lachupacabra', '#lakshadweep', '#language', '#laura', '#lcsm', '#lego', '#lgbtquarantine', '#lies', '#life', '#list', '#livelife', '#lockdown', '#lockdown2', '#lockdown21', '#lockdown4', '#lockdownextension', '#lockdownnow', '#lockdownquery', '#london', '#louisiana', '#lucknow', '#lysol', '#madhyapradesh', '#maga', '#maharashtra', '#maharastra', '#mailinvoting', '#mainbhinewschecker', '#majorleaguebaseball', '#makhi', '#malaria', '#malnutrition', '#malpractice', '#manafort', '#manipur', '#marchmadness', '#marijuana', '#mascot', '#mask', '#maskingforafriend', '#maskonnaija', '#masks', '#mauritius', '#mayans', '#meat', '#media', '#medical', '#medicaldoctor', '#medicines', '#medtwitter', '#mentalhealth', '#mergecaexamsjulyandnov', '#metformin', '#metro', '#metrobackontrack', '#mexico', '#michigan', '#minnesota', '#miraclesoftrueworship', '#missiles', '#missionkarmayog', '#mitchmcconnell', '#mizoram', '#modicovidaddress', '#modigovtfailed', '#modijipostponejeeneet', '#money', '#moneylaundering', '#morningmotivation', '#mother', '#mouthwash', '#movies', '#mrna', '#msvirtual2020', '#mumbai', '#muradabad', '#n95', '#nagpur', '#nails', '#nancypelosi', '#napoleon', '#nashville', '#nba', '#ncdcinthenews', '#ncdclabnetwork', '#ncdcrrt', '#ncdcteam', '#ncdhhs', '#ncpol', '#nepotism', '#newhampshire', '#news', '#newschecker', '#newsinphoto', '#newssatire', '#newyork', '#newyorkcity', '#newyorktimes', '#newzealand', '#nhl', '#nigeria', '#nigerian', '#nigerians', '#noahsark', '#noida', '#norway', '#notdying4wallstreet', '#notmypresident', '#novel', '#nursinghome', '#nyc', '#obamagate', '#obesewomen', '#oct1stprotest', '#odisha', '#odishafightscorona', '#office', '#officialsecretsact', '#ohio', '#olympicgames', '#online', '#onpoli', '#opthalmology', '#orlando', '#oslo', '#panamacanal', '#pandas', '#pandemic', '#panic', '#panicbuying', '#parasites', '#parent', '#parents', '#patientzero', '#pcrtest', '#peepingtom', '#philrobertson', '#physicaldistance', '#physique', '#pibfactcheck', '#placebopills', '#plandemic', '#plasmatherapy', '#plastic', '#pmqs', '#pmsby', '#poker', '#politicalcorrectness', '#politicians', '#politics', '#pope', '#potsales', '#potus', '#ppe', '#prep', '#prescriptions', '#preventcovid19', '#prevention', '#prioritycovidresearch', '#privacy', '#propaganda', '#property', '#prostatecancer', '#ptfcovid19', '#pti', '#pui', '#qanda', '#quarantine', '#queens', '#rackets', '#rajahthan', '#rajasthan', '#rapidantigentest', '#rc70afro', '#recession', '#recoveryrate', '#religion', '#remdesivir', '#remedy', '#rentfreezenow', '#reopeningsafely', '#reopensafely', '#republicans', '#research', '#revolutionnow', '#rheaarrested', '#rice', '#richardnixon', '#ridge', '#rnc2020', '#roadtrips', '#rockandrollvaccine', '#rollingstones', '#rollingstonevaccineforcv', '#rpharmcoronavir', '#rtpcr', '#russia', '#russiaeverywhere', '#russianvaccine', '#russie', '#sacrifice', '#safe', '#safetyfirst', '#sally', '#sam2020', '#santa', '#sarscov2', '#satire', '#saturdaynightfever', '#saudiarabia', '#school', '#schoolsreopening', '#schwabeindia', '#science', '#seanhannity', '#selfcare', '#selfisolation', '#sens', '#sepsis', '#sex', '#sexyteens', '#share', '#sheep', '#sickness', '#simoncowell', '#sitamarhi', '#slowthespread', '#smallpox', '#smartnews', '#socialdistance', '#socialdistancing', '#sofi2020', '#sofiavergara', '#southcarolina', '#southdelhi', '#spain', '#spokesman', '#sponsors', '#sport', '#sports', '#springst', '#sputnikv', '#stayalert', '#stayathome', '#stayathomesavelives', '#stayhealthy', '#stayhome', '#stayhomestaysafe', '#staysafe', '#staystrong', '#std', '#stds', '#stevenseagal', '#stimuluschecks', '#stop', '#stopthespread', '#stopthespreadofcorona', '#strategicreserve', '#stress', '#strokes', '#suicide', '#summer', '#sunbathing', '#swasthabharat', '#swedish', '#symptomatic', '#t1d', '#takeaction', '#takebreaks', '#takeresponsibility', '#takeresponsibilty', '#tamilnadu', '#tan', '#tb', '#teamoffivemillion', '#tech', '#telangana', '#telemedicine', '#televangelist', '#telugunews', '#teravolt', '#testing', '#tests', '#texas', '#thailand🇹🇭', '#thane', '#thankshealthheroes', '#thedevil', '#thenewnormal', '#thesun', '#thewiderwiserview', '#tigers', '#time', '#tipsadvice', '#togetheralone', '#toilet', '#toiletpaper', '#toiletrollhorders', '#tomhanks', '#travel', '#trinitybellwoodspark', '#tripura', '#trophywife', '#trump2020', '#trumpcouldhavesavedvalet', '#trumppressconf', '#trumpsjealousofobama', '#trumpuniversity', '#tsunami', '#tuberculosis', '#tuesdaylive', '#tuesdaymotivation', '#tulsatrumprally', '#tv', '#tīmarimamiriona', '#ufo', '#uighurs', '#un75', '#unemployment', '#unga', '#unitednations', '#unlock1', '#unlock2', '#unlock3', '#unlock3guidelines', '#unlock4', '#unlock4guidelines', '#update', '#uruguay', '#usa', '#uttarpradesh', '#uva', '#uvc', '#uvdisinfection', '#uvlamp', '#uvled', '#uvlight', '#uvsolution', '#vacation', '#vaccine', '#vaccines', '#vaccineswork', '#vadodara', '#vegan', '#vermont', '#vicepresidentmikepence', '#vicpol', '#viral', '#viralvideo', '#virtualconferenceafrica', '#virus', '#viruses', '#visualabstract', '#vitamind', '#vladimirputin', '#war', '#warcrimes', '#warning', '#warnings', '#washington', '#waterpistols', '#wear', '#wearafacemask', '#wearamask', '#weather', '#weneedthedenominator', '#westbengal', '#westvirginia', '#wha73', '#wha74', '#whatsapp', '#whitehouse', '#whitesupremacy', '#who', '#whoimpact', '#wildfire', '#wildfires', '#williambarr', '#williambryan', '#woodwardtapes', '#wor', '#work', '#workfromhome', '#worldbreastfeedingweek', '#worldmaskweek', '#worldmosquitoday', '#worldzoonosesday', '#worried', '#wtd20', '#wuhan', '#wuhancoronavirus', '#wuhaninstituteofvirologylaboratory', '#wuhanviruspandemic', '#xijinping', '#yavatmal', '#yourviewtv', '#zhangzhan', '#zoodirector', '#張展', '#陳秋實', '$$', '$1', '$1+', '$100', '$1000', '$10000', '$100b', '$1200', '$17', '$17500', '$2000', '$200m', '$225+m', '$2340', '$25', '$26000', '$2m', '$3', '$340', '$37', '$370', '$38', '$3800000', '$4', '$451', '$472', '$5', '$5$100', '$50', '$54', '$61', '$63400', '$700', '$750', '$7trn', '$8', '$abt', '$millions', '+', '+1', '+10000', '+40', '+918507885079', '+ozone', '+ve', '0', '0054', '006', '01', '0106', '01072020', '014', '02', '03', '03323412600', '04', '0400', '05', '0528', '06', '062454254', '0625', '063661060', '06512490104', '07', '0700', '0710', '075', '079', '08', '0800', '0805', '082', '085', '0881911', '09', '0900', '0910', '0920', '0930', '093020408', '0940', '0950', '1', '10', '100', '100+', '1000', '1000+', '10000', '10000+', '100000', '100000+', '1000000', '10001100000', '1000190000', '100046', '1000bed', '1002', '1003299', '100407', '1006615', '1008', '1009976', '100bed', '100k', '101', '1010824', '1011', '1013', '1013964', '1013refund', '101468', '1015', '10162', '1016920', '1017754', '1018', '101951', '102', '1022', '1023', '10238', '1025', '103', '10315', '1037', '10382', '103945', '104', '1040', '1043', '10436', '10456', '1046470', '10487', '10492', '105', '1054', '1055', '10569', '1056am', '1057', '10576', '10578', '105l', '106', '1061', '1064', '1067', '107', '1070', '1073', '1074', '1076', '1078', '108', '10801', '108082', '1088', '109', '1090', '109071', '1091', '10929', '10946', '1095', '1098621', '10am', '10borno', '10days', '10fct', '10k', '10k40k', '10m', '10pm', '10th', '10x', '11', '110', '1100', '11000', '110000', '110000+', '11069', '1107', '11092', '111', '1110', '1115', '1118043', '112', '1120', '112000', '1121', '1125', '1126', '1129756', '113', '1130', '1130pm', '1136', '114', '1141', '1143', '1144', '11458', '1148', '1149', '1149960', '115', '1150', '115000', '115000+', '11516', '1153', '1154', '1155', '1155pm', '1159', '1159pm', '116', '1160', '1165', '1166', '11665', '1169', '117', '1170', '1170000', '1172', '1172179', '1176', '1178', '118', '1180', '118000', '1182', '11828', '1184', '11844', '1186', '118984', '118k', '119', '1190', '1192', '1194', '1195', '1198', '11edo', '11fct', '11katsina', '11ogun', '11oyo', '11pm', '11th', '12', '120', '120+', '1200', '12000', '120000', '1206', '1206806', '1209', '121', '12108', '1212', '1215', '1217', '1218', '1219', '12233', '1225', '122pm', '123', '1236', '12373', '124', '1242020', '1249', '125', '12500', '1252', '1253', '12546', '12547', '1258', '1259', '126', '1261', '1267', '1267658', '127', '1271', '128', '12801', '1282215', '129', '1293', '1299', '12borno', '12fct', '12k+', '12l', '12point', '12sokoto', '12story', '12th', '12yobe', '13', '130', '130000', '130792', '130billion', '131', '1315', '1316', '13175', '131lagos', '132', '1320', '1326', '133', '1339', '133lagos', '134', '1341', '13419', '1344', '13447', '135', '135000+', '1351', '1353', '135k', '1363', '1365', '1366', '13671', '1368', '137', '1371', '137385', '1376', '1378', '137k', '138', '1380', '138521', '138k', '139', '13989', '139lagos', '13borno', '13kaduna', '13m', '13ogun', '13plateau', '13th', '13yobe', '14', '140', '1400', '14000', '140000', '140000+', '1401', '1408', '140k', '141', '1411', '14139', '1416', '142', '1421', '1425', '1427', '1428', '1429', '143', '143000', '1431', '1433', '1441', '1442', '1444', '1447', '144910', '145', '1452', '1455', '1458', '145k', '146', '1461', '1462', '1464', '1465', '14663', '1466918', '1468', '1469', '147', '1472', '148', '1480884', '1481', '1482', '14821', '1485', '1489', '149', '1492', '1494', '1497', '1498', '1499', '14day', '14hour', '14jigawa', '14plateau', '14th', '14yearold', '14zamfara', '15', '15+', '150', '1500', '15000', '150000', '15001100000', '15001110000', '1503', '1504', '15042', '151', '1510', '1519', '152', '152020', '1524', '1529', '152k', '153', '1530', '153118', '153504', '1535743', '154', '155', '15500', '1551', '1556138', '15568', '155k', '156', '15604', '1561', '157', '1573159', '158', '15882', '159', '1594', '15jigawa', '15k', '15kaduna', '15katsina', '15lac', '15minute', '15plateau', '15th', '16', '16+', '160', '160+', '16000', '1600mg', '1604609', '16085', '161', '16151', '162', '163', '164', '1641', '165', '16502', '1651', '16513', '16559', '166', '1668', '167', '16729', '168', '169', '1691', '16947', '1695982', '16jigawa', '16k', '16kafter', '16m', '16rivers', '16th', '16yearold', '17', '170', '17000', '17071', '171', '17123', '17148', '1715', '172', '1726', '1726k', '173', '1734', '17374', '174', '1741', '175', '1751555', '1754', '17583', '176', '177', '17735', '177lagos', '178', '178000', '1782', '179', '179220', '179lagos', '17th', '17x', '18', '1800', '1800+', '18000', '1800313444222', '18009855990', '182', '182020', '1822', '1828', '183', '1831', '18371', '183lagos', '184', '1841', '1844', '18480', '185', '185000', '18521', '18595', '186', '1861', '1864', '18667205721', '187', '1872', '1874', '18744', '18764', '1878', '188', '188k', '189', '18bauchi', '18k', '18kaduna', '18monthold', '18sokoto', '18th', '19', '19+', '190', '19000', '19004', '190326', '19066', '1907', '191', '1911', '19147', '1918', '1919842', '192', '19270', '19295', '193', '19323', '1934', '193k', '194', '19423', '19453', '19476', '195', '1952', '1953', '19565', '196000', '197', '1970', '197084', '1973', '1974', '1977779', '19808', '1981', '1984', '1986', '1988', '199', '1990', '1994', '19bauchi', '19k', '19th', '19zamfara', '1adamawa', '1akwa', '1anambra', '1b', '1bauchi', '1bayelsa', '1benue', '1borno', '1edo', '1enugu', '1fct', '1gombe', '1kaduna', '1kebbi', '1kg', '1m', '1nasarawa', '1niger', '1ondo', '1oyo', '1perpolicy', '1plateau', '1pm', '1rivers', '1sokoto', '1st', '1wear', '1yr', '1zamfara', '1⃣', '2', '2+', '20', '200', '2000', '20000', '200000', '20001115000', '20001135000', '20001140000', '2001', '2003', '2004', '2005', '2007', '2008', '20087', '2009', '200k', '200k+', '2010', '2011', '20111', '2012', '2013', '2014', '201415', '20146', '2015', '2016', '2017', '2018', '2019', '201920', '2019s', '202', '2020', '20200918', '202021', '2020s', '2021', '2022', '2023', '20244', '2027', '20294', '2030', '204', '2042', '2047', '205', '2050', '2057', '206', '20663', '2068', '207', '207000', '2079', '20795', '20801', '209', '20919', '2096', '209613', '20k', '20kaduna', '20th', '21', '210', '21000', '2104', '211', '2116', '211k', '212', '21240', '213', '21371', '214', '215', '21500', '21575', '2159', '215k', '216', '2174', '2182', '219', '2190', '2193', '2194', '2199', '21day', '21fct', '21k', '21st', '22', '2200', '22000', '220k', '221', '22149351', '222', '2224', '223', '22303', '223937', '223k', '224', '225', '2250', '226', '227', '2280566', '228148', '229', '22fct', '22k', '22katsina', '22nd', '23', '230', '2307', '230718', '230pm', '2311', '232', '233', '2338035', '23387171', '2341', '23497', '235', '235374', '2355', '23682', '237', '237k', '238', '2383664', '2385', '239', '2396637', '23k', '23k+', '23ogun', '23rd', '23second', '23yearold', '24', '2400', '2401', '2404585', '24077', '24106535', '242', '2420', '2425', '243838', '244', '245', '2450', '24545', '2461190', '246216', '2467758', '247', '2473', '2481', '249', '2490125', '2490127', '2490128', '2492', '2497', '24h', '24hrs', '24k', '24ogun', '24th', '24x7', '24×7', '25', '250', '2500', '2500+', '25000', '2500000', '252', '2523771', '253', '253190', '254', '2540', '254000', '25574', '2558', '2560', '25694', '257', '2570', '2575', '2583948', '25edo', '25k', '25ogun', '25th', '26', '26000', '260k', '261', '2621', '2627c', '263156', '2635', '2644', '2647663', '2648998', '2649', '265', '265k', '266', '266796', '26685', '267', '267435', '268', '26802', '26845688', '269', '2697', '2699', '26th', '27', '270', '2700', '27000', '270000', '2702742', '2704', '27110', '2713933', '271690', '27287', '273', '2733', '2736', '27450', '2746', '2756', '27564', '275k', '276', '27694416', '2774801', '278872', '2789', '279', '2792', '2794', '279k', '27th', '27with', '28', '280', '28000', '281', '2816', '281609', '282', '282263', '282511', '2839882', '285', '28500', '2856', '28615', '286174', '2867', '2868', '287', '28711', '288', '289', '2893', '28edo', '28k', '28kano', '28oyo', '28th', '28yearold', '29', '2900', '29000', '291994', '292000', '2922', '29286', '294', '294k', '2950', '296', '2964', '29648', '29676', '29687', '2970492', '29879', '299', '29k', '29kano', '29th', '29yearold', '2adamawa', '2akwa', '2anambra', '2bauchi', '2brilliant', '2delta', '2edo', '2enugu', '2gombe', '2if', '2inches', '2k', '2kwara', '2m', '2nasarawa', '2nd', '2ndlowest', '2niger', '2ondo', '2pm', '2rivers', '2stay', '2x', '2yobe', '3', '30', '300', '3000', '30000', '300000', '30004000day', '30041400', '30062020', '3007', '300k', '3015103', '3020', '30249', '302k', '303000', '3035', '3037151', '303k', '3044940', '3048', '3051', '306', '3067', '307', '30748', '30920', '30941264', '30c', '30k', '30kano', '30second', '30th', '31', '31020', '31032021', '3105', '3106348', '3107223', '311', '311121', '31142', '3122', '313', '313000', '3137', '3140', '3145', '315', '31520', '31585', '3167323', '317', '31720', '3172319b1', '318', '3180865', '318k', '3194', '31k', '31oyo', '31st', '32', '3200', '32020', '321', '32165', '322', '323', '32320', '3234474', '324', '32430', '325', '32558', '326971', '328', '329', '32kano', '32yearold', '33', '330', '3300', '3310234', '331146', '33153', '33186', '3319', '332', '333', '3330', '3343', '3354', '3359', '33620', '337', '338', '3387500', '3387948', '339', '3395', '3398844', '33world', '33yr', '34', '340', '34000', '342', '343', '34309', '3445', '345', '34654', '347', '348822', '34k', '34oyo', '35', '350', '3500', '35000', '35001', '3526', '35292220', '3535', '354', '3542663', '355', '3573', '358', '35840', '3590', '35902137', '35998', '35jigawa', '35k', '36', '360000', '360k', '361', '362', '3624196', '363', '364', '366', '36703', '36827520', '36834', '368432', '3691166', '3696', '36985', '36l', '37', '3701', '3702595', '3703', '3704', '371', '371125', '373', '37304', '37651512', '3772', '3778', '3779', '378', '3780107', '37885', '378k', '379', '3793', '379k', '37k', '38', '380', '380k', '381', '382', '3826', '384', '385', '3853406', '38576510', '385936', '3859399', '386', '387', '387435', '389', '38945', '3899', '38k', '39', '3912', '3918', '392', '392756', '393', '3936747', '3942360', '39477848', '39539', '396', '3968', '396k', '3978', '3989', '399', '3991', '3992', '39k', '39lagos', '3abia', '3akwa', '3anambra', '3bauchi', '3borno', '3delta', '3edo', '3fct', '3kaduna', '3katsina', '3kwara', '3m', '3nasarawa', '3niger', '3oyo', '3pointers', '3rd', '3rivers', '3sokoto', '3ts', '3wash', '3x', '3⃣we', '4', '40', '400', '4000', '40000', '400000', '4003', '400500', '4006', '400k', '4014', '4019', '402000', '4023179', '4025079', '403', '404', '4040', '404k', '405000', '40532', '407', '409032', '40k', '41', '410', '4112551', '411932', '41297', '414', '4140', '415283', '41552', '416', '41638', '416924', '417', '41804', '418810', '41k', '42', '420', '4208431', '420k', '421', '4211', '422000', '42208', '4225', '42307914', '4236', '424719', '4249', '425', '4255', '4261', '426776', '42689', '427', '4279', '428', '42922', '429643', '429664', '42k', '43', '430', '4300', '43000', '4303', '4303043', '430700', '43151', '4322', '43231', '43324834', '43334', '433k', '435', '43537', '436', '43610', '4367436', '437', '4370128', '438', '4380', '4384', '438720', '4396', '4396399', '43998', '43k', '43lagos', '44', '44000', '44035', '44088', '44129', '441k', '4420', '4422', '44430', '4453', '4468', '44890', '449', '4497867', '44jigawa', '44k', '45', '450', '4500', '45000', '452', '45244', '4530', '453923', '453k', '454', '4546', '455', '45509380', '4555', '456', '4560', '456227', '4562414', '4563', '457', '457377', '457k', '4587613', '4589', '45k', '46', '460', '4600', '460067', '46121', '46131', '4619', '461k', '462', '462590', '4641', '46577', '4659984', '465k', '46679145', '4674987', '4687', '469', '46kano', '47', '4700', '470469', '4735', '475', '4752', '4754356', '475k', '477909', '47872', '47980', '47k', '48', '48000', '481', '48116', '484', '484068', '48431', '48445', '4845', '4846427', '485', '486', '48674', '486943', '487', '488', '4889', '48900', '48k', '49', '490', '49000', '4911140293', '4926', '4927', '492k', '494481', '49485', '49551507', '496k', '497', '499', '49k', '49katsina', '4adamawa', '4am', '4bauchi', '4borno', '4c', '4ebonyi', '4ekiti', '4imo', '4jigawa', '4kaduna', '4nasarawa', '4niger', '4ogun', '4pm', '4pmet', '4sokoto', '4th', '4x', '5', '50', '500', '5000', '50000', '50000+', '500000', '500k', '500th', '501', '5020', '502705', '503', '504', '50488', '5057', '506', '5064', '5080', '508k', '50k', '51', '510', '51000', '5118253', '511k', '5126', '51304', '5136', '5162', '517', '51706', '5178', '518', '518k', '519', '519388', '5194', '51b', '52', '5214677', '522', '5220', '52227', '523', '524', '5246', '525', '525430', '528', '52934433', '52k', '53', '5300', '5302', '531', '5313', '5321', '533', '53322', '534', '53879', '53k', '54', '5400619', '54008', '541', '5417', '542', '5423', '544', '5445', '54587', '5487580', '54905', '54k', '54m', '55', '550', '55000', '550000', '55160', '553', '5542', '55456', '555', '556', '55632', '558', '55k', '55kano', '56', '560', '56017', '561', '56110', '56177', '5621', '5623', '563000', '56383', '56478', '566', '56604', '567', '568', '569k', '56k', '57', '571', '57145', '572', '57239428', '5731', '5734', '5735', '57437', '575', '57542', '5783', '57937', '57k', '58', '580', '582', '582020', '58390', '584k', '586k', '587', '58lagos', '59', '590', '5900', '591', '591k', '593', '59449', '595', '5955', '5959', '5967', '598778', '59k', '5adamawa', '5day', '5fct', '5g', '5gombe', '5k', '5kaduna', '5katsina', '5kebbi', '5ogun', '5oyo', '5plateau', '5th', '5x', '5years', '6', '6+', '60', '600', '6000', '60000', '60091', '600k', '600pm', '601', '60177', '603k', '60472', '606', '60710', '6077', '609917', '60k', '61', '610', '611', '6113', '6114', '611k', '613', '6136', '614', '61529', '61572343', '616', '61700', '6178', '618k', '619', '619088', '62', '620000', '621', '621400', '62282', '624', '62538', '62550', '626', '626667', '627', '628', '6286', '6297', '62k', '62l', '63', '6307', '631', '63231', '63498', '635', '636', '63631', '637', '6370', '637k', '638', '63k', '64', '640', '640000', '6401', '6423', '643k', '64469', '645', '646400', '648k', '64k', '64kano', '65', '65+', '65000', '65081', '65288', '654', '656', '6568', '657', '6581', '658k', '65k', '66', '661', '663', '6631', '664949', '665', '66500', '66550', '6666', '667', '66746', '6680', '669', '6698', '66k', '67', '6704', '6718', '6730', '67376', '675', '675k', '6762', '677422', '68', '680', '68000', '680000', '681k', '6832', '684', '68584', '6878', '6879', '689', '69', '690', '692k', '6938', '694k', '695', '69561', '696k', '697070', '6borno', '6ft+', '6gombe', '6jigawa', '6k', '6k+', '6months', '6ogun', '6oyo', '6plateau', '6pm', '6th', '6⃣', '7', '70', '700', '7000', '70000', '700000', '700087', '70009000', '700k', '7016', '7038', '7040', '704348', '705am', '70626', '7072', '707267', '7077', '7091', '70cr', '70k', '71', '710', '7103', '710771', '7109', '710am', '7126', '713k', '713this', '714', '7150', '7153', '716', '716k', '717pm', '719320', '719364', '71k', '72', '720', '720362', '720k', '7211', '721k', '723', '724k', '725991', '7261', '7283', '7287', '73', '73000', '7318', '731k', '732835', '733449', '7338', '733k', '735704', '735k', '737', '73890', '73923', '739k', '73k', '74', '740', '740321', '7406', '74082', '740k', '742023', '7421', '74270', '743k', '744', '745', '746', '7485', '7491', '749k', '75', '7500', '75000', '750808', '752424', '7526', '7527', '753', '7534', '7565', '758', '758k', '759', '7592', '75k', '76', '7617', '762', '7624', '76271', '7628', '762k', '763', '7630', '763k', '764', '7647', '765302', '766', '7663', '766626', '766k', '7681', '769', '7694', '7698', '769k', '77', '7707', '7709', '771', '772', '7723', '772k', '7732', '77472', '775', '776', '7765', '7774', '777k', '778', '7788', '779', '779000', '77k', '78', '780', '780000', '781975', '7828', '78343', '7853', '78586', '785996', '786', '7864', '7886', '789', '79', '79000', '791', '7928', '7929', '7950', '796', '7968', '797', '79722', '798k', '7borno', '7day', '7fct', '7k', '7kaduna', '7kwara', '7ogun', '7pm', '7taraba', '7th', '8', '80', '800', '8000', '8000+', '80000', '800000', '800k', '801', '8012', '803552', '8068', '807460', '80776', '80789', '8086', '81', '81000', '8125', '81533', '815538', '818629', '819k', '82', '820', '82066', '821', '82287', '823992', '824', '82961', '82lagos', '83', '8300', '8303', '8316', '83198', '831k', '83311', '83347', '8344', '83600', '836k', '837', '839467', '83and', '84', '840k', '84372', '845', '846278', '846395', '848420', '84k', '85', '85000', '85000+', '852k', '855', '85619', '856k', '857258', '858', '85859', '8592', '8599', '86', '86073', '862320', '8625', '863', '864469', '86508', '867', '8671', '86752', '868', '86927', '86961', '87', '87000', '872', '873', '87374', '87604', '878', '87882', '879', '88', '881', '883', '8838', '884', '889', '88935', '88lagos', '89', '8953', '896', '897', '89706', '897394', '89746', '897k', '89852', '899864', '8am', '8borno', '8gombe', '8kano', '8katsina', '8kwara', '8niger', '8oyo', '8pm6am', '8th', '9', '90', '900', '9000', '90000', '90000+', '9001130', '900185000', '90020', '901', '902', '903k', '909', '91', '910', '910853', '911', '912', '91261', '916', '9172020', '9178', '92', '9210', '924000', '924637', '924998', '925383', '9257', '927', '9286', '93', '930', '9302', '930k', '930pm', '934', '94', '941', '943480', '94352', '944854', '945', '9470', '95', '951', '95735', '958316', '95l', '95lagos', '96', '960', '9628', '963', '966', '966382', '968', '968377', '97', '972', '973', '973175', '9746', '975861', '977', '978500', '97k', '98', '981', '985', '9855', '986598', '986k', '99', '990061', '99031', '990deduction', '99104', '992', '995933', '996', '997', '998', '999', '9991', '9am', '9amp12', '9borno', '9ebonyi', '9fct', '9kaduna', '9katsina', '9ogun', '9oyo', '9rivers', '9th', '9th16th', '=', '=89700000', '@', '@04051952n', '@1000frolly', '@20manny07', '@3ghtweets', '@4523i5', '@aadajoli', '@aaiofficial', '@aajtak', '@aamaadmiparty', '@aamctoday', '@abbottnews', '@abcfactcheck', '@abcmediawatch', '@abledoc', '@abpnews', '@acoss', '@adamjkucharski', '@adammccu', '@africacdc', '@aiimsnewdelhi', '@aintropy', '@airnewsalerts', '@aitonline', '@ajdlinux', '@ajenglish', '@alamerqld', '@alanlcit', '@alaskadhss', '@alcoholchangeuk', '@alexharv074', '@alexismadrigal', '@alexkx3', '@alexmahadevan', '@alikodangotefdn', '@alistairhaimes', '@alykatzz', '@amermedicalassn', '@amtrehan', '@amysherman1', '@anak2422anak', '@andrewlawrence', '@andyspecht', '@angieholan', '@angierasmussen', '@ani', '@anidigital', '@anjan1588', '@anjanaomkashyap', '@annagconnell', '@antonioguterres', '@appalachia100', '@apple', '@aqtime', '@archillect', '@arielbogle', '@ariellesophia', '@arifleischer', '@arisetv', '@arthurcaplan', '@arvindersoin', '@arvindkejriwal', '@asantos24', '@ashishkjha', '@ashishskynews', '@ashokepandit', '@ashoswai', '@ashwinikchoubey', '@aslavitt', '@asxgold', '@atlantic', '@ayushmanhwcs', '@ballouxfrancois', '@bananenrijperij', '@bancheneproduct', '@banjelope', '@bankofamerica', '@barbarajdurkin', '@barda', '@bbcnews', '@belladonamodels', '@bendepear', '@benfordham', '@benzorn', '@bepdelta', '@bethrigby', '@bharatbiotech', '@biharhealthdept', '@billdmccarthy', '@biocomca', '@biomedj', '@bkum2000', '@blackie', '@bloombergquint', '@boomlivein', '@borisjohnson', '@brikeilarcnn', '@brittajewell', '@brknman', '@broomeinwelly', '@brucelambert', '@bsybjp', '@buffalotracedhd', '@butchthorne', '@c4etech', '@caalkeshkasliwa', '@canada', '@captshaktilumba', '@careeningspace', '@carlhan30554840', '@carlosdelrio7', '@carolhakios', '@cassandragoldie', '@cd', '@cdc', '@cdcdirector', '@cdcemergency', '@cdcenvironment', '@cdcflu', '@cdcglobal', '@cdcgov', '@cdcheartstroke', '@cdchivaids', '@cdcinjury', '@cdcmmwr', '@cdctb', '@cdctravel', '@cebmoxford', '@ceccgov', '@cepivaccines', '@cernovich', '@chaddystacksdfs', '@chancine', '@changeorgindia', '@channelstv', '@charliekirk11', '@chicagosmayor', '@chikwei', '@childrensphila', '@chinweochu', '@chrisfairchild', '@chrisgulli', '@chrismartenson', '@chrissytn1', '@cjtjgeol', '@climatekids2', '@cmofficeup', '@cmoguj', '@cmohry', '@cmomaharashtra', '@cmsgov', '@cnbc', '@cnbcafrica', '@cnn', '@cnni', '@cnnnews18', '@coimmunity', '@collectorjamngr', '@colleenkraftmd', '@columbiamed', '@conceptualjames', '@connectgeeta', '@conservvoice', '@contactkdsg', '@couchmaria', '@covid19crusher', '@covid19nccc', '@covid19tracking', '@covidactnow', '@covidactnoworg', '@covidindiaseva', '@covidnewsbymib', '@cre8d', '@cryptowalter', '@csirind', '@csogok', '@ctbergstrom', '@ctrevettnzh', '@cybertiiger', '@cyborgnot', '@dallasbarnett3', '@damienhamilto17', '@dandiemann', '@danforestnc', '@danielandrewsmp', '@danielleiwood', '@danielsierra81', '@dardedar', '@data4blacklives', '@daveman19802', '@davezuckermanvt', '@dawntj90', '@dbaerwald1', '@dbtindiabirac', '@ddindialive', '@ddnewslive', '@deborahzinger', '@deepaltrevedie', '@dekoustav', '@delegatestewart', '@delibrolawrence', '@deplorabledebrn', '@depsechargan', '@dfiduk', '@dgpgujarat', '@dharmen46587056', '@dhscgovuk', '@dhswi', '@digdougftw', '@dlandthebeard', '@dmiliband', '@domsinainyc', '@dougburgum', '@dovmichaeli', '@dpfunke', '@dpkpillay12', '@dralisanders', '@drashwathcn', '@drccostelloe', '@drdoindia', '@drellie', '@dreoehanire', '@drharshvardhan', '@drhvoffice', '@dribram', '@drinkaware', '@drjitendrasingh', '@drjohnm', '@drjohnwhyte', '@drmamora', '@drmikeryan', '@drnancymcdc', '@drsamirbhatt', '@drsanjaygupta', '@drsourabhkp', '@drtedros', '@drtomfrieden', '@dunsanyjack', '@dwagswpb', '@dwildemuth', '@econstandard', '@edconwaysky', '@edinburghuni', '@elijahschaffer', '@ellencutch', '@elsieilori', '@elsieilorifor', '@emmawehipeihana', '@ericcolson', '@esmo', '@eucommission', '@euecho', '@factchecknet', '@factchecknets', '@faheemyounus', '@familiafeeling', '@fao', '@fatherbob', '@fauntleroy1934', '@fema', '@feynmanfreaky', '@flaxter', '@fmohnigeria', '@followlasg', '@fox5atlanta', '@foxnews', '@foxnewssundays', '@frasernelson', '@free67847229', '@ftwrharry', '@g', '@g0leary', '@g20org', '@gaonconnection', '@garnerforest', '@garysaintdooley', '@gavi', '@gavinnewsom', '@georgetown', '@geraintmeysydd', '@ghs', '@github', '@gladysb', '@globalhlthtwit', '@globaltimesnews', '@globuleaks', '@godblsmnymkr', '@govlarryhogan', '@govmurphy', '@govphilscott', '@govricketts', '@govrondesantis', '@govsisolak', '@govtofimostate', '@govwhitmer', '@gracieluann24', '@grahamscooke', '@gretchenwhitmer', '@gtg46338929', '@guardian', '@gunarockya', '@gv9195', '@hackingdata', '@harvardgh', '@harvardmed', '@he11totheno', '@healthwiremedia', '@healthyfla', '@hedgeyedj', '@heymanitshayden', '@hhsash', '@hhsgov', '@hmoindia', '@hollywoodcurry', '@homer4k', '@hopkinscdhs', '@hselive', '@htservadac', '@huntsonmark', '@iamadunnii', '@iammisstrees', '@ianuragthakur', '@ibergwiesel', '@icahnmountsinai', '@icmr', '@icmrdelhi', '@icmrdelhis', '@icmrnirrh', '@icmrniv', '@icphhomeless', '@idorigatti', '@ifad', '@ihstowers', '@imdanthompson', '@imperialcollege', '@imperialem', '@imperialjidea', '@inconvenienttr5', '@independent', '@india', '@indiainguyana', '@indiatv', '@indsupremecourt', '@infointerest', '@ingrahamangle', '@iprnewsradio', '@ismmskidney', '@jabalpursafety', '@jacindaardern', '@jackwestmd', '@jamesdsteinberg', '@jamesgross', '@jbalsich', '@jburnmurdoch', '@jc1381a', '@jcoasco', '@jdeely', '@jdmaresco', '@jennymikakos', '@jhuber', '@jimcramer', '@jimdtweet', '@jjmalina', '@jmcstarbug', '@jninstitute', '@joebiden', '@joewasserman', '@johnabrahamclub', '@johnkubie', '@johnpavlovitz', '@johnshopkinsepi', '@jonashworth', '@joncraig', '@joshtpm', '@joyannreid', '@jsolomonreports', '@jsssms', '@julie34479', '@justinhart', '@justintrudeau', '@kagashley', '@kamathgurudutt', '@kanganateam', '@karluskap', '@kayburley', '@kcpubhealth', '@kctaz', '@kdhauck', '@keirstarmer', '@keirstarmers', '@kenyaphysicians', '@kevinfurr', '@kevinlyfather', '@kff', '@khaleesyd', '@khaliahhh', '@khnews', '@khoneyfordstats', '@kikimarfat', '@kitchencone', '@kitmalthouse', '@kmccready', '@kmedved', '@knsmoh', '@krisbeknowin', '@krisparag1', '@ktwopines', '@kytheanticomguy', '@lastwordwilliam', '@latimeralder', '@lbgoodnessgrows', '@leogov', '@lifescihiggins', '@lolageek', '@lshtm', '@lsmoh', '@lsunder1', '@ltgrusselhonore', '@luvhopecourage', '@lynnrahn1', '@madavidj', '@mahesh10816', '@malarianomoreuk', '@mamataofficial', '@mandilovell', '@mantralayaroom', '@marakont', '@marshablackburn', '@martindaubney', '@marvinbrite', '@mathguy7', '@matthancock', '@mazjobrani', '@mbiegovtnz', '@mbuhari', '@mcuban', '@medbennett', '@medscape', '@methodsmanmd', '@mexiwi', '@mhfwgoup', '@michaelminalab', '@microsoft', '@midorik0a', '@mikedel21893959', '@mikehixenbaugh', '@mikejgallant', '@minhealthnz', '@ministrywcd', '@mkehealth', '@mlasudhakar', '@mmaniac90', '@mmmhappiness1', '@moayush', '@mocagoi', '@modiji', '@moh', '@mohfwindia', '@mohit0175', '@morris1k', '@mountsinairmti', '@mrcoutbreak', '@mrdelvan', '@msisodia', '@mskatemcd', '@mumbaipolice', '@mumbaipolice@rajputramesh', '@mumbaiyb', '@munchbunch87', '@mvankerkhove', '@mybmcs', '@mygovindia', '@myogiadityanath', '@myyogiadityanath', '@n3113n', '@nagatrooper', '@narendramodi', '@narvuntien', '@nastysurf', '@nataleedesotell', '@nataliehats', '@natesilver538', '@nature', '@nbpaustralia', '@ncdcgov', '@ndgov', '@ndmaindia', '@nealkhosla', '@neilferguson', '@nfidvaccines', '@nickapalmer', '@nickcradio', '@nicprnoida', '@nigeducation', '@nigeriafeltp', '@nighealthwatch', '@nih', '@nihrresearchsupported', '@niosh', '@nitiaayog', '@njdeptofhealth', '@nmhheartdoc', '@no2wind', '@noahpinion', '@norcalpunkman', '@normanbrennan', '@novakglobal', '@nresearchnews', '@nsitharaman', '@ntanewsnow', '@nvgovernment', '@nypostより', '@nytimes', '@nytscience', '@odoylecharlotte', '@officeofut', '@officialaitlive', '@officialdmrc', '@officialosgfng', '@omarkelly', '@ons', '@ooaswaho', '@osmosismed', '@osprey0', '@outofthedarkage', '@over400ppm', '@p', '@pabloperguz', '@pallavivedic', '@pantherman45', '@paprikalady', '@pathogenscribe', '@paulmromer', '@paulpauwaert', '@pawan90311', '@peatapann', '@peterjwalker', '@peterwa97559477', '@peterzeihan', '@phillyinquirer', '@piabizlaw', '@pibhomeaffairs', '@pibindia', '@pibmumbai', '@pjpaton', '@pmoindia', '@pnouvellet', '@politifact', '@politifactnc', '@politifacttexas', '@politifactwisc', '@pommylee', '@potus', '@prakashjavdekar', '@pratimbose', '@presssec', '@prisonplanet', '@pritipatel', '@profakinabayomi', '@profbhargava', '@profkarolsikora', '@profsushmagupta', '@projectlincoln', '@ptamom7', '@ptfcovid19', '@ptinews', '@qanda', '@questdiag', '@raffi', '@ranaayyub', '@randpaul', '@ranudhillon', '@rapidtests', '@rashlessdoctor', '@ravenrider2020', '@ravikundurthi', '@realdonaldtrump', '@realdonaldtrumps', '@reckedrik', '@redcross', '@renukajain6', '@rglobalism', '@ribbleboy15', '@riccigeri', '@riccisergienko', '@ricksheatcool', '@ridgeonsunday', '@rightsindia', '@rijpew', '@riktheozfrog', '@rmack2x', '@robchandigarh', '@robertbuckland', '@robertsfinkle', '@roboskis', '@robreiner', '@rosannarago', '@rosnovsky', '@roviir', '@roypentland', '@rspathania', '@rushhourp', '@rustyaway', '@sadhvipragyamp', '@saketgokhale', '@salaambaalakngo', '@saleyhaahsan', '@samarjeetn', '@sangeeta0312', '@sbrown6262', '@scaramangi', '@scclemons', '@sciencemagazine', '@scottgottliebmd', '@senatorkapengas', '@sentomcotton', '@septateneuf', '@shaskell12', '@shelby58617786', '@shevanthin', '@silentdeserts', '@sjforkids', '@skynews', '@skynewsbreak', '@skynewsmichelle', '@smileygirl19683', '@soapituphard', '@sophyridgesky', '@sormasopen', '@spavis', '@speakerpelosi', '@srbachchan', '@sreesub', '@srileyidd', '@ssfarouk', '@statedept', '@statnews', '@stepheneglen', '@stevefda', '@stjeffreystodd', '@stormsignalsa', '@suesensus', '@surgeongeneral', '@susankilfoy', '@suzanneevans1', '@swannyqld', '@tackinfl', '@tamazonx', '@tangerinelaw', '@tatahealth', '@tazyas', '@teamtrump', '@teddysmom1', '@thatamartya', '@theatlantic', '@thecityny', '@thecyberdagger', '@thedisproof', '@thefauxy', '@thehill', '@theicai', '@thejohnabraham', '@thelancet', '@thepolldude', '@therealstoryplz', '@therealtruther', '@thereidout', '@theworrygames', '@thinksaboutit', '@thirdeyeblind9', '@thyrocare', '@tlowdon', '@tomaspueyo', '@tony80554056', '@tonybaldeagle', '@tqmka', '@trvrb', '@tuckercarlson', '@tvcconnect', '@twang0518', '@twt2abhi', '@uklabour', '@undark', '@undiction', '@undp', '@unicef', '@unicefindia', '@unicefmedia', '@uninindia', '@uniofoxford', '@unipadova', '@univcordoba', '@unreliefchief', '@upgovt', '@uressien', '@usaid', '@usatoday', '@usfda', '@usponline', '@vaccineepi', '@veryvirology', '@vetsree', '@vicrollison', '@vijayrupanibjp', '@vinguptamd', '@vinlew', '@viruswatch2021', '@vmaledew', '@vonderleyen', '@vp', '@wacotrib', '@wadepthealth', '@wapflondon', '@washingtonpost', '@wbur', '@weare54gene', '@webmd', '@wevotedtoleave', '@wfp', '@wgrz', '@wh', '@whatsapp', '@whitwyatt', '@who', '@whoafro', '@whophilippines', '@whos', '@whosearo', '@wionews', '@wolfiecindy', '@wordpressdotcom', '@worldhealthorg2', '@wvumediacollege', '@xanderarmstrong', '@xpressbengaluru', '@yahoo', '@yashuahawkeye', '@yatezy84', '@yayitsrob', '@yogrishiramdev', '@yorkshirebri', '@youtube', '@youyanggu', '@ywoga', '@zeenews', '@zevdr', 'a', 'aa', 'aaj', 'aamir', 'aampe', 'aampes', 'aap', 'ab', 'ababa', 'abacha', 'abakaliki', 'abandon', 'abandoned', 'abating', 'abbasi', 'abbott', 'abdicated', 'abdul', 'abdulaziz', 'abhigyan', 'abia', 'abide', 'ability', 'able', 'aboard', 'abortion', 'abound', 'about', 'aboveinflation', 'abraham', 'abruptly', 'abscbn', 'absence', 'absent', 'absentee', 'absolute', 'absolutely', 'absorb', 'abubakar', 'abuja', 'abundantly', 'abused', 'abysmal', 'ac', 'academic', 'academy', 'acalabrutinib', 'acc', 'accelerate', 'accelerates', 'accelerating', 'acceleration', 'accelerator', 'accept', 'acceptable', 'accepted', 'access', 'accessibility', 'accessible', 'accident', 'accidental', 'accidentally', 'accommodation', 'accompanies', 'accompany', 'accompanying', 'according', 'accordingly', 'account', 'accountable', 'accounted', 'accounting', 'accredited', 'accunalysis', 'accuracy', 'accurate', 'accurately', 'accuse', 'accused', 'accusing', 'ace2', 'acetylcysteine', 'ache', 'achievable', 'achieve', 'achievement', 'achieves', 'achieving', 'acid', 'acidosis', 'acknowledge', 'acquire', 'acquired', 'acronym', 'across', 'act', 'actaccelerator', 'acting', 'action', 'activated', 'activates', 'activation', 'active', 'actively', 'activist', 'activity', 'actor', 'actress', 'actual', 'actually', 'acute', 'ad', 'ad5ncov', 'adaab', 'adamawa', 'adamawa1', 'adamawa10', 'adamawa11', 'adamawa2', 'adamawa21', 'adamawa23', 'adamawa25', 'adamawa3', 'adamawa4', 'adamawa5', 'adamawa7', 'adaptable', 'adapted', 'add', 'added', 'adding', 'addis', 'addition', 'additional', 'additionally', 'additive', 'address', 'addressing', 'adeline', 'adequate', 'adequately', 'adf', 'adhaan', 'adhanom', 'adhere', 'adherence', 'adhering', 'adhesive', 'adiabo', 'aditya', 'adjust', 'adjusted', 'adjusting', 'adjustment', 'adjusts', 'admin', 'administer', 'administered', 'administration', 'administrator', 'admins', 'admission', 'admit', 'admited', 'admits', 'admittance', 'admitted', 'admitting', 'adolescent', 'adopted', 'adoption', 'adtd', 'adult', 'advance', 'advanced', 'advantage', 'adventure', 'adverse', 'advertisement', 'advice', 'adviced', 'advise', 'advised', 'adviser', 'advises', 'advising', 'advisor', 'advisory', 'advocacy', 'advocate', 'aerobridges', 'aerosol', 'afaik', 'affair', 'affect', 'affected', 'affecting', 'afffecting', 'affiliated', 'afford', 'affordable', 'afm', 'afp', 'afraid', 'afresh', 'africa', 'african', 'africathe', 'afriglobal', 'after', 'afterhours', 'afternoon', 'afterwards', 'ag', 'again', 'against', 'againtoday', 'agarwal', 'age', 'aged', 'agedcare', 'agency', 'agenda', 'agent', 'agewise', 'aggregate', 'aggregated', 'aggregation', 'aggression', 'aggressive', 'aggressively', 'agniveer', 'ago', 'agowe', 'agra', 'agree', 'agreed', 'agreement', 'agrees', 'aground', 'ahead', 'ahmadu', 'ahmedabad', 'ai', 'aid', 'aide', 'aiding', 'aidthousands', 'aiims', 'ailment', 'aim', 'aimed', 'aimim', 'air', 'airborne', 'aire', 'aired', 'airflow', 'airing', 'airline', 'airport', 'airspace', 'airway', 'ak', 'aka', 'akbar', 'akira', 'akl', 'akwa', 'al', 'ala', 'alabama', 'alaikum', 'alameda', 'alappuzha', 'alarm', 'alarming', 'alaska', 'alassalah', 'alazhar', 'albany', 'albendazole', 'alberta', 'alberto', 'album', 'album30', 'alcohol', 'alcoholbased', 'aldi', 'aled', 'alegre', 'alert', 'alerted', 'alertness', 'alfa', 'alfa2b', 'alfa2b565', 'algeria', 'algerian', 'ali', 'alien', 'alive', 'alkaline', 'all', 'allah', 'allahu', 'alledegedly', 'allegation', 'alleged', 'allegedly', 'allegheny', 'allergic', 'allergy', 'alleviate', 'allhttpstcomufdaoexiq', 'allocation', 'allow', 'allowance', 'allowed', 'allowing', 'allows', 'alltime', 'ally', 'almost', 'alone', 'along', 'alongside', 'alphons', 'already', 'alsalatu', 'also', 'alsolike', 'alsounder', 'alt', 'alter', 'altered', 'alternate', 'alternative', 'although', 'alumnus', 'always', 'alyoubi', 'am', 'amal', 'amatitlán', 'amazing', 'amazon', 'amazona', 'ambiguous', 'ambitious', 'ambulance', 'amd', 'america', 'american', 'americold', 'amid', 'amidst', 'aminu', 'amish', 'amit', 'amitabh', 'among', 'amongst', 'amount', 'amounting', 'amoxi', 'amp', 'amplified', 'amplitude', 'amusement', 'an', 'anaesthesia', 'analyse', 'analysing', 'analysis', 'analyst', 'analytics', 'anambra', 'anambra1', 'anambra13', 'anambra17', 'anambra2', 'anambra20', 'anambra21', 'anambra3', 'anambra7', 'anambra8', 'anand', 'anant', 'anchor', 'and', 'and100', 'anddodge', 'anderson', 'andhra', 'andor', 'andrew', 'andrey', 'android', 'andry', 'andré', 'andy', 'angel', 'angela', 'angeles', 'anger', 'angiotensinconverting', 'angry', 'anil', 'animal', 'anistons', 'announce', 'announced', 'announcement', 'announces', 'announcing', 'annoying', 'annoyingly', 'annual', 'annually', 'anonymously', 'another', 'ansari', 'answer', 'answered', 'antenna', 'anthem', 'anthony', 'anti', 'antibiotic', 'antiblackness', 'antibody', 'antichinese', 'anticipated', 'anticoagulant', 'anticorona', 'anticoronavirus', 'anticovid', 'antidote', 'antifa', 'antigen', 'antihistamine', 'antiinflammatories', 'antimalaria', 'antimalarial', 'antipandemic', 'antiparasitic', 'antiracist', 'antiseptic', 'antivaccine', 'antivaxxers', 'antiviral', 'antivirus', 'antonio', 'anttibiotics', 'anxiety', 'anxiousness', 'any', 'anybody', 'anymore', 'anyone', 'anything', 'anytime', 'anyway', 'anyways', 'anywhere', 'aoc', 'apa', 'apart', 'api', 'apocalyptic', 'apolog', 'apologise', 'apologises', 'apologising', 'apologizes', 'apology', 'app', 'appalling', 'apparently', 'appeal', 'appealed', 'appear', 'appeared', 'appearing', 'appears', 'appendix', 'applaud', 'applauded', 'applause', 'apple', 'application', 'applied', 'applies', 'apply', 'applying', 'appointed', 'appointment', 'appoints', 'appraisal', 'appreciate', 'apprises', 'approach', 'approached', 'approaching', 'appropriate', 'approval', 'approved', 'approves', 'approx', 'approximately', 'apps', 'apr', 'april', 'aprilearly', 'apron', 'apronax', 'apturi', 'aquino', 'ar', 'arab', 'arabia', 'arbidol', 'archie', 'archived', 'ardern', 'ards', 'are', 'are341', 'area', 'arent', 'argar', 'argentina', 'argentine', 'argentinian', 'arguably', 'argue', 'argued', 'argues', 'arif', 'arise', 'arisen', 'ariseswhere', 'arizona', 'arizonan', 'arkansas', 'arlene', 'arm', 'armed', 'army', 'arogya', 'aroha', 'arora', 'around', 'arrange', 'arranged', 'arrangement', 'arrest', 'arrested', 'arresting', 'arrival', 'arrive', 'arrived', 'arriving', 'arse', 'arsehole', 'arsenicum', 'art', 'arthritis', 'article', 'artifact', 'artificial', 'artificially', 'artiste', 'artois', 'arvind', 'as', 'asaduddin', 'ash', 'asha', 'ashamed', 'ashley', 'ashworth', 'asia', 'asian', 'aside', 'ask', 'askd', 'asked', 'asking', 'asks', 'asleep', 'aspect', 'aspirin', 'aspirine', 'asprin', 'ass', 'assalamu', 'assam', 'assaulting', 'assemble', 'assembly', 'assertion', 'asserts', 'assessment', 'assign', 'assigned', 'assigning', 'assigns', 'assist', 'assistance', 'assistant', 'assisted', 'assisting', 'assoc', 'associate', 'associated', 'association', 'assume', 'assuming', 'assumption', 'assured', 'assures', 'assuring', 'asthma', 'astonishingly', 'astounding', 'astrazeneca', 'astrologer', 'astute', 'asunción', 'asymmetry', 'asympt', 'asymptomatic', 'at', 'atampt', 'athlete', 'athome', 'atishi', 'atlanta', 'ator', 'atrisk', 'attack', 'attacked', 'attacking', 'attempt', 'attempted', 'attempting', 'attend', 'attendance', 'attended', 'attendee', 'attending', 'attention', 'attitude', 'attorney', 'attract', 'attractive', 'attributable', 'attribute', 'attributed', 'atul', 'auckland', 'aucklandbased', 'auckland⠀', 'audi', 'audience', 'audio', 'aug', 'augmentation', 'august', 'augusto', 'aung', 'aunt', 'aurangaba', 'aurangabad', 'aussie', 'australia', 'australian', 'authenticity', 'author', 'authoritarian', 'authoritie', 'authority', 'authorization', 'authorized', 'authorizes', 'autism', 'autohemotherapy', 'autoimmunity', 'automated', 'automatically', 'autopsy', 'avail', 'availability', 'available', 'availing', 'avenue', 'average', 'averaged', 'averaging', 'avg', 'avian', 'avifavir', 'avigan', 'aviganfavipiravir', 'avoid', 'avoidable', 'avoiding', 'aw', 'await', 'awaiting', 'award', 'awarded', 'aware', 'awareness', 'away', 'awho', 'axel', 'ayodhya', 'aytac', 'aytu', 'ayurveda', 'ayurvedic', 'ayush', 'ayushman', 'az', 'azcafltx', 'azim', 'azithromycin', 'azithromycindoxycycline', 'b', 'b1', 'baap', 'baba', 'baby', 'bacchan', 'bachchan', 'back', 'backbone', 'backdate', 'backend', 'backfill', 'backhand', 'backlog', 'backlogged', 'backlogit', 'backtoback', 'backtrack', 'backtracked', 'backwards', 'bacon', 'bacteria', 'bacteriaeating', 'bacterial', 'bacterium', 'bad', 'badly', 'badminton', 'badusha', 'bag', 'bagh', 'bahia', 'baijal', 'bail', 'bailed', 'bailout', 'bajaav', 'bajao', 'bakersfield', 'bakery', 'baking', 'bakker', 'balance', 'balanced', 'balancing', 'balasubrahmanyams', 'ball', 'ballisticmissile', 'balloon', 'bame', 'ban', 'bandhugan', 'bandwagon', 'bangalore', 'bangladesh', 'banish', 'bank', 'banknote', 'bankrupt', 'banned', 'banner', 'banning', 'banwarilal', 'baptism', 'bar', 'barack', 'barak', 'barcelona', 'bardhaman', 'bare', 'barely', 'bargain', 'barmer', 'baroda', 'baroness', 'barotrauma', 'barr', 'barranquilla', 'barrier', 'barsclubs', 'base', 'baseball', 'based', 'baseless', 'baseline', 'bashed', 'basic', 'basically', 'basis', 'basketball', 'bat', 'batching', 'bath', 'batman', 'batspangolins', 'battle', 'battled', 'bauchi', 'bay', 'bayelsa1', 'bayelsa11', 'bayelsa13', 'bayelsa14', 'bayelsa17', 'bayelsa23', 'bayelsa25', 'bayelsa27', 'bayelsa3', 'bayelsa54', 'bayelsa6', 'bayelsa7', 'bayelsa8', 'bayelsa9', 'bayero', 'bazar', 'bbc', 'bbibpcorv', 'bc', 'bcg', 'bcoz', 'bd', 'be', 'beach', 'bean', 'bear', 'beard', 'bearing', 'beast', 'beat', 'beaten', 'beating', 'beautician', 'beautiful', 'became', 'because', 'become', 'becomes', 'becoming', 'becoz', 'bed', 'bedroom', 'beef', 'been', 'beer', 'beet', 'before', 'began', 'begin', 'beginning', 'begun', 'behavior', 'behaviour', 'behind', 'beijing', 'being', 'belarus', 'belgian', 'belgium', 'belief', 'believe', 'believed', 'believing', 'belize', 'bellends', 'bello', 'belong', 'belongs', 'below', 'belsky', 'belt', 'ben', 'benchmark', 'bendigo', 'beneath', 'beneficiary', 'benefit', 'benefited', 'bengal', 'bengali', 'bent', 'benue', 'benzalkonium', 'bereaved', 'bereavement', 'berejiklians', 'berger', 'berlin', 'berry', 'bersani', 'beshear', 'besides', 'best', 'bet', 'betacoronaviruses', 'betadine', 'better', 'bettiah', 'between', 'beverage', 'beware', 'beyond', 'bezgate', 'bfast', 'bhabhi', 'bhagalpur', 'bhagwants', 'bhan', 'bharat', 'bharath', 'bhi', 'bhima', 'bhopal', 'bhopals', 'bicarbonate', 'bidding', 'biden', 'bidens', 'bidensoetoro', 'bidensooetoro', 'bidhuri', 'big', 'bigger', 'biggest', 'bihar', 'biil', 'bilateral', 'biliary', 'bill', 'billiion', 'billion', 'billionaire', 'bima', 'binaxnow', 'bind', 'binding', 'bio', 'bioengineered', 'biological', 'biologist', 'biology', 'biomagnetism', 'biomedical', 'biopharma', 'biosafety', 'bioscience', 'biosecurity', 'bioshield', 'biotech', 'bioweapon', 'bird', 'birnin', 'birth', 'birthday', 'birx', 'biscuit', 'bit', 'bite', 'bitter', 'bizarre', 'bjp', 'bjprun', 'bjps', 'black', 'blackled', 'blackpool', 'bladder', 'blame', 'blamed', 'blarney', 'blasio', 'blatantly', 'bleach', 'bleachbased', 'bleak', 'bless', 'blessed', 'blindingly', 'blindly', 'blindlyfollowing', 'block', 'blocked', 'blocking', 'blog', 'blogger', 'blood', 'bloodbrain', 'blooded', 'bloodletting', 'bloomfield', 'blow', 'blowing', 'blue', 'bluff', 'bmc', 'bmj', 'bo', 'board', 'boast', 'boasting', 'boat', 'bob', 'bobby', 'body', 'bogotá', 'bogy', 'boiled', 'boiling', 'bolivar', 'bolivia', 'bolivian', 'bollywood', 'bollywoof', 'bolsonaro', 'bolton', 'bomb', 'bombed', 'bon', 'bone', 'bong', 'bonhomme', 'bonus', 'book', 'booking', 'bookmark', 'boom', 'boone', 'boost', 'boosted', 'booster', 'bootsontheground', 'border', 'boris', 'born', 'borne', 'borno', 'borrowed', 'bos', 'bossle', 'boston', 'bosé', 'botafogos', 'botch', 'both', 'bother', 'bothso', 'bottle', 'bottled', 'bottleneck', 'bottom', 'bottomed', 'boucher', 'bought', 'bounce', 'bound', 'boundary', 'bowl', 'box', 'boy', 'boyacá', 'brace', 'braced', 'brad', 'brahman', 'brahmin', 'brain', 'branch', 'brand', 'brandnew', 'brandolino', 'brave', 'brazailian', 'brazil', 'brazilian', 'brazilnow', 'breached', 'bread', 'break', 'breakdown', 'breaker', 'breakfast', 'breaking', 'breakthroug', 'breakthrough', 'breast', 'breastfeed', 'breastfeeding', 'breath', 'breathe', 'breathing', 'breathlessness', 'breed', 'brewed', 'brexit', 'brian', 'bribe', 'bribed', 'brick', 'bridge', 'briefed', 'briefing', 'bright', 'brighten', 'brilliant', 'bring', 'bringing', 'brings', 'brink', 'briones', 'brisbane', 'brit', 'britain', 'british', 'briton', 'brl', 'broad', 'broad10', 'broadcast', 'broaden', 'broader', 'broadest', 'broadly', 'broadscale', 'broiler', 'broke', 'broken', 'broking', 'bronx', 'brooklyn', 'brother', 'brought', 'brownsville', 'bruno', 'brush', 'brute', 'btk', 'bu', 'bubble', 'bubonic', 'bucaramanga', 'buck', 'buddhist', 'budget', 'buenaventura', 'buenos', 'buffet', 'bug', 'buhari', 'build', 'building', 'built', 'bulgaria', 'bulk', 'bull', 'bullet', 'bulletin', 'bullfight', 'bullfighter', 'bullshit', 'bump', 'bumper', 'bunch', 'bundle', 'bunker', 'bunkum', 'burden', 'bureau', 'burecrat', 'burger', 'burglar', 'burial', 'buried', 'burka', 'burn', 'burned', 'burnham', 'burning', 'burr', 'bury', 'burying', 'bus', 'busey', 'business', 'businessman', 'buster', 'busy', 'but', 'butand', 'butbecause', 'buttar', 'buy', 'buyer', 'buying', 'buyutikum', 'by', 'byer', 'byoblu', 'bypass', 'bypassed', 'byrti', 'c', 'c19', 'ca', 'caba', 'caballero', 'cabbage', 'cabellos', 'cabinet', 'cable', 'cached', 'cadila', 'caesarean', 'cahill', 'cain', 'cake', 'calahorra', 'calculate', 'calculating', 'calendar', 'cali', 'calibrated', 'calif', 'california', 'californiavirginia', 'call', 'called', 'caller', 'calling', 'calm', 'calmly', 'cambridge', 'came', 'camel', 'camila', 'camilla', 'camp', 'campaign', 'camper', 'campos', 'campus', 'can', 'canada', 'canadian', 'canal', 'cancel', 'canceled', 'cancellation', 'cancelled', 'cancer', 'candidate', 'candidates@drtedros', 'candle', 'cane', 'canedsupport', 'canine', 'cannon', 'cannot', 'cansinos', 'cant', 'capacity', 'capital', 'capitalism', 'capsule', 'captain', 'caption', 'captivity', 'capture', 'captured', 'capturing', 'caput', 'car', 'carabinieri', 'carbon', 'card', 'cardboard', 'cardiac', 'cardio', 'cardiology', 'cardiovascular', 'care', 'career', 'careful', 'carefully', 'caregiver', 'careless', 'caretaker', 'cargo', 'caring', 'carl', 'carlos', 'carlson', 'carlsons', 'carolina', 'carona', 'carpet', 'carping', 'carrefour', 'carried', 'carrier', 'carry', 'carrying', 'cart', 'cartagena', 'cartel', 'casaulty', 'case', 'casebycase', 'casefatality', 'caseload', 'casemanagement', 'cases+cureddischargedmigrated+deaths', 'cases+deaths', 'cases19', 'casesstill', 'casestill', 'cash', 'cashew', 'cast', 'caste', 'casteism', 'casting', 'casual', 'casualty', 'cat', 'catalyst', 'catastrophe', 'catc', 'catch', 'catching', 'categorically', 'category', 'catfish', 'cattle', 'cauca', 'caught', 'cause', 'caused', 'causing', 'caution', 'cautioning', 'cautious', 'cautious@drtedros', 'caveat', 'caveated', 'cavity', 'cbac', 'cbc', 'cbse', 'cc', 'cccs', 'ccp', 'ccpamp', 'ccps', 'cctv', 'cdc', 'cdcapproved', 'cdu', 'ce', 'ceará', 'cease', 'cede', 'ceiling', 'celaá', 'celcius', 'celebrate', 'celebrated', 'celebrating', 'celebration', 'celebratory', 'celebrity', 'cell', 'cemetery', 'censor', 'censored', 'census', 'cent', 'center', 'centerstage', 'central', 'centre', 'centreled', 'century', 'ceo', 'cerebral', 'ceremonial', 'ceremony', 'certain', 'certainly', 'certificate', 'certified', 'cessation', 'cfr', 'cghs', 'chaand', 'chain', 'chair', 'chairman', 'chairmant', 'chalisa', 'challenge', 'challenging', 'chamber', 'championing', 'chan', 'chanakya', 'chance', 'chancellor', 'chandigarh', 'chandrabhaga', 'chang', 'change', 'changed', 'changeover', 'changer', 'changing', 'channel', 'channelled', 'chant', 'chaos', 'chaotic', 'character', 'characterised', 'characteristic', 'charge', 'charged', 'charging', 'charity', 'charles', 'charm', 'chart', 'charter', 'chase', 'chat', 'chatbot', 'chatbots', 'cheap', 'cheaper', 'cheat', 'cheated', 'cheb', 'check', 'checked', 'checken', 'checker', 'checking', 'checkout', 'checkup', 'cheek', 'cheer', 'cheering', 'cheesburger', 'chemical', 'chemicalwarfare', 'chemist', 'chemistry', 'chemo', 'chemotherapy', 'chen', 'cheque', 'cherrypicked', 'cherrypicks', 'chest', 'chhattisgarh', 'chicago', 'chicken', 'chicomvirus', 'chidambaram', 'chief', 'child', 'childcare', 'childhood', 'childrens', 'childshealth', 'chile', 'chill', 'chin', 'china', 'chinatown', 'chinda', 'chinese', 'chip', 'chiquitos', 'chirayu', 'chlorhexidine', 'chloride', 'chlorine', 'chlorite', 'chloroquine', 'chloroquinehydroxychloroquine', 'chloroxylenol', 'chmp', 'choice', 'choke', 'cholera', 'choose', 'choosing', 'chopped', 'chorley', 'chose', 'chosen', 'chouhan', 'chow', 'chris', 'christ', 'christchurch', 'christian', 'christine', 'christopher', 'chromolaena', 'chronic', 'chuck', 'chunk', 'chupacabra', 'church', 'chyna', 'cientists', 'cigar', 'cigarette', 'cinema', 'circle', 'circuit', 'circulate', 'circulated', 'circulates', 'circulating', 'circulation', 'circumstance', 'circus', 'cite', 'cited', 'citing', 'citizen', 'citrus', 'city', 'citylevel', 'citywide', 'civil', 'civilization', 'ciyal', 'clad', 'claim', 'claimed', 'claiming', 'claire', 'clara', 'clarification', 'clarified', 'clarifies', 'clarify', 'clarity', 'clashed', 'class', 'classic', 'classified', 'classroom', 'clause', 'clean', 'cleaner', 'cleanest', 'cleaning', 'clear', 'clearance', 'cleared', 'clearly', 'clemson', 'clever', 'click', 'clicking', 'client', 'climate', 'climb', 'climbing', 'clinic', 'clinical', 'clinically', 'clinician', 'clinton', 'clip', 'clipon', 'clique', 'clive', 'clo2', 'clock', 'clooney', 'clorox', 'close', 'closed', 'closely', 'closer', 'closest', 'closing', 'closure', 'clot', 'cloth', 'clothes', 'clothesline', 'club', 'clue', 'cluster', 'clutching', 'clínicas', 'cm', 'cn', 'cnbc', 'cnn', 'cnns', 'cns', 'cnt', 'co', 'coa', 'coach', 'coaching', 'coagulopathy', 'coast', 'coat', 'coauthor', 'cobas', 'cobbled', 'cobey', 'cobr', 'cobra', 'coca', 'cocaine', 'code', 'codechecking', 'coded', 'codelevel', 'coffee', 'coffin', 'cohen', 'cohort', 'coin', 'coincidence', 'coinfected', 'coinfection', 'cointrirs', 'cola', 'cold', 'colder', 'coldlike', 'coleen', 'colfax', 'collaboration', 'collaborative', 'collapse', 'collapsed', 'collapsing', 'collated', 'collates', 'colleague', 'collect', 'collected', 'collecting', 'collection', 'collective', 'collectively', 'collector', 'college', 'collegerelated', 'collide', 'collins', 'colloidal', 'colombia', 'colombian', 'colombo', 'colony', 'color', 'colorado', 'colored', 'colour', 'columbia', 'column', 'comatose', 'combat', 'combating', 'combination', 'combine', 'combined', 'combo', 'come', 'comeback', 'comedian', 'comedk', 'coming', 'command', 'commemorate', 'commemorative', 'commenced', 'commensurate', 'comment', 'commercial', 'commission', 'commissioner', 'commit', 'commitment', 'commits', 'committed', 'committee', 'committing', 'commodity', 'commodore', 'common', 'commonly', 'comms', 'communal', 'communicate', 'communicated', 'communicating', 'communication', 'communist', 'communitiesis', 'community', 'communitybased', 'communitywide', 'commute', 'comorbidities', 'company', 'companybranded', 'comparable', 'comparatively', 'compare', 'compared', 'comparing', 'comparison', 'compassionate', 'compatible', 'compelling', 'compensated', 'competition', 'competitive', 'competitor', 'compilation', 'compile', 'compiled', 'compiles', 'complacent', 'complain', 'complaint', 'complete', 'completed', 'completely', 'completes', 'completing', 'completion', 'complex', 'complexity', 'compliance', 'compliant', 'complicated', 'complication', 'complicit', 'comply', 'complying', 'component', 'compose', 'compound', 'comprehensive', 'comprehensively', 'comprehensiveness', 'comprising', 'compromise', 'compromising', 'compulsory', 'compute', 'computer', 'computing', 'concentrated', 'concentrating', 'concentration', 'concern', 'concerned', 'concerning', 'concert', 'concerted', 'concluded', 'conclusion', 'conclusive', 'concoction', 'concordance', 'concrete', 'condemned', 'condition', 'conditioner', 'conditioning', 'conduct', 'conducted', 'conducting', 'conestyle', 'confederate', 'conference', 'confers', 'confidence', 'confident', 'confinement', 'confirm', 'confirmation', 'confirmed', 'confirming', 'confirms', 'confiscated', 'confiscating', 'confiscation', 'confounding', 'confuse', 'confused', 'confusing', 'confusion', 'congestion', 'congolese', 'congrats', 'congratulating', 'congregate', 'congregation', 'congress', 'congressman', 'conjecture', 'connect', 'connected', 'connecticut', 'connecting', 'connection', 'connived2defendthemselves', 'consecutive', 'consensus', 'consent', 'consequence', 'conservative', 'conserve', 'conserved', 'consider', 'considerable', 'considerably', 'consideration', 'considered', 'considering', 'considers', 'consist', 'consistency', 'consistent', 'consistently', 'consisting', 'consists', 'consortium', 'conspiraciesfake', 'conspiracy', 'constant', 'constantly', 'constituent', 'constitute', 'constituted', 'constitutes', 'constrained', 'constraint', 'constructed', 'construction', 'consult', 'consultant', 'consultation', 'consulted', 'consume', 'consumed', 'consumer', 'consuming', 'consumption', 'cont', 'contact', 'contacted', 'contacting', 'contagion', 'contagious', 'contain', 'container', 'containing', 'containment', 'contains', 'contaminated', 'conte', 'contempl', 'content', 'contest', 'context', 'contin', 'continent', 'continue', 'continued', 'continues', 'continuing', 'continuity', 'continuous', 'continuously', 'contr', 'contraception', 'contract', 'contracted', 'contracting', 'contradiction', 'contrary', 'contribute', 'contributed', 'contributes', 'contributing', 'contribution', 'control', 'controllable', 'controlled', 'controller', 'controlling', 'controllingtracking', 'controversial', 'controversy', 'convalescent', 'convened', 'convention', 'converge', 'conversation', 'conversion', 'convert', 'converted', 'converting', 'convicted', 'convince', 'cook', 'cooking', 'cooky', 'cool', 'cooling', 'cooly', 'cooper', 'cooperation', 'coordinate', 'coordinated', 'coordination', 'coordinator', 'cop', 'copayment', 'cope', 'copied', 'coping', 'coranavirus', 'core', 'corinavirus', 'corned', 'cornoavirus', 'coroanvirus', 'corona', 'coronacalled', 'coronacheck', 'coronacorner', 'coronary', 'coronation', 'coronavac', 'coronavirua', 'coronavirus', 'coronaviruses', 'coronavirusfree', 'coronavirusinduced', 'coronavirusinfected', 'coronavirusinfested', 'coronaviruslike', 'coronaviruspositive', 'coronavirusrelated', 'coronavirusthemed', 'coronavrus', 'coronawatch', 'coronil', 'coronilpost', 'coronilvati', 'corporate', 'corporation', 'corps', 'corpse', 'correct', 'corrected', 'correction', 'correctional', 'correctly', 'correctness', 'corrector', 'correlation', 'correspond', 'correspondent', 'corridor', 'corrientes', 'corticosteroid', 'cosara', 'cost', 'costco', 'costing', 'costly', 'cotton', 'couch', 'cough', 'coughing', 'could', 'couldnt', 'couldshould', 'couldve', 'council', 'counsel', 'count', 'count426is', 'counted', 'counter', 'counterpart', 'counting', 'countries@drtedros', 'country', 'countryrandomized', 'countryside', 'countrywide', 'county', 'countybycounty', 'couple', 'coupled', 'courage', 'courageous', 'course', 'court', 'courtroom', 'cov', 'cov2', 'covas', 'covax', 'covaxin', 'covd19', 'cove', 'cover', 'coverage', 'covered', 'covering', 'coverup', 'covid', 'covid1', 'covid19', 'covid19associated', 'covid19coronavirus', 'covid19httpstcojgwgoj6z8b', 'covid19like', 'covid19related', 'covid19s', 'covid19surge', 'covidactnoworghttpstcoymdcwfq4uh', 'covidiot', 'covidiots', 'covidlike', 'covidlinked', 'covidnet', 'covidol', 'covidorganics', 'covidrelated', 'covids', 'covidsafe', 'covidzero', 'covishield', 'cow', 'cowboy', 'cowdung', 'coworkers', 'cowurine', 'coy', 'cpap', 'cqhcq', 'cr', 'crack', 'crackdown', 'cracking', 'crap', 'crash', 'crazy', 'cream', 'create', 'created', 'creates', 'creatical', 'creating', 'credit', 'credited', 'creep', 'creeping', 'cremated', 'crematorium', 'crescent', 'creted', 'crew', 'cricket', 'crime', 'criminal', 'criminalized', 'criminalizes', 'crises@drtedros', 'crisis', 'crisisand', 'cristiano', 'criterion', 'critic', 'critical', 'critically', 'criticised', 'criticize', 'criticized', 'criticizing', 'critiqued', 'croatian', 'crocin', 'crocodile', 'crore', 'cross', 'crossed', 'crossing', 'crowd', 'crowded', 'crowding', 'crowe', 'crown', 'crowona', 'cru', 'crucial', 'cruelty', 'cruise', 'cry', 'cryill', 'ct', 'cuba', 'cucumber', 'cudnt', 'cuff', 'cult', 'cultural', 'cummings', 'cumulative', 'cumulatively', 'cunial', 'cuomo', 'cup', 'cupboard', 'curable', 'curative', 'curb', 'curbside', 'cure', 'cured', 'cureddischargedmigrated', 'cureddischargedmigrated+active', 'curedrecovered', 'curfew', 'curing', 'currency', 'current', 'currently', 'curse', 'cursor', 'curve', 'custo', 'custody', 'custom', 'customer', 'cut', 'cutlery', 'cutoff', 'cutout', 'cutting', 'cv', 'cv19', 'cyber', 'cylindersbriefs', 'cynon', 'cynthia', 'cypress', 'cystic', 'cytokine', 'd', 'd3', 'da', 'dacheng', 'dad', 'dadar', 'daily', 'dailyclick', 'dakota', 'dallas', 'damage', 'damascus', 'damn', 'dana', 'dancefloor', 'dancing', 'danfodio', 'danger', 'dangerous', 'daniel', 'danielle', 'danzig', 'dargah', 'darin', 'dark', 'darker', 'darkness', 'dart', 'dashboard', 'data', 'database', 'datadriven', 'dataset', 'date', 'datestamped', 'datetimeline', 'dating', 'daughter', 'daughterinlaw', 'daunting', 'dave', 'david', 'dawood', 'dawson', 'day', 'dayand', 'dayshow', 'daytime', 'daytoday', 'dc', 'dcgi', 'de', 'dea', 'dead', 'deadlier', 'deadline', 'deadly', 'deal', 'dealer', 'dealing', 'dealt', 'dean', 'dear', 'death', 'deaths1564', 'deathsmillion', 'deathsthe', 'debacle', 'debate', 'debt', 'debunk', 'debunked', 'debunking', 'debunks', 'decade', 'deceased', 'decedent', 'deceive', 'deceived', 'december', 'decency', 'decent', 'decently', 'decide', 'decided', 'decides', 'deciding', 'decision', 'decisionafter', 'decisive', 'decisively', 'deck', 'declaration', 'declared', 'declares', 'decline', 'declined', 'declining', 'decoction', 'decontamination', 'decorum', 'decrease', 'decreased', 'decreasing', 'dedicated', 'deemed', 'deep', 'deeper', 'deepinder', 'deeply', 'deepswabbing', 'default', 'defeat', 'defeated', 'defeating', 'defence', 'defend', 'defended', 'defense', 'defensible', 'defer', 'deferral', 'defiance', 'deficiency', 'deficient', 'deficit', 'defied', 'defined', 'definitely', 'definition', 'deflated', 'deformity', 'degree', 'dehradun', 'deity', 'dejectedly', 'del', 'delaware', 'delay', 'delayed', 'delaying', 'deleted', 'delhi', 'delhiite', 'deliberating', 'delighted', 'delighting', 'delive', 'deliver', 'delivered', 'delivering', 'delivers', 'delivery', 'delta', 'demand', 'demanded', 'demanding', 'demarcate', 'demi', 'demise', 'democrat', 'democratic', 'demographic', 'demolished', 'demonize', 'demonstrate', 'demonstrated', 'demonstrates', 'demonstrating', 'demonstration', 'demonstrator', 'demystifying', 'denial', 'denied', 'denies', 'denis', 'denmark', 'denominator', 'denounce', 'denounces', 'dense', 'densely', 'density', 'dent', 'dental', 'dentist', 'deny', 'deoria', 'depart', 'departed', 'departing', 'department', 'departure', 'depend', 'depended', 'dependent', 'depending', 'depends', 'depict', 'depicts', 'depleted', 'depleting', 'deploy', 'deployed', 'deployment', 'deploys', 'depopulate', 'deposited', 'depressed', 'depressing', 'depression', 'deprived', 'dept', 'depth', 'depts', 'deputy', 'derailed', 'derivative', 'derived', 'dermatitis', 'dermatologic', 'dermatology', 'desai', 'desantis', 'described', 'describes', 'describing', 'description', 'deserve', 'deserves', 'design', 'designates', 'designed', 'designer', 'desired', 'desperately', 'despite', 'destination', 'destiny', 'destroy', 'destroyed', 'destroying', 'destroys', 'destruction', 'detail', 'detailed', 'detain', 'detained', 'detaining', 'detect', 'detected', 'detecting', 'detection', 'detective', 'detention', 'deteriorates', 'determine', 'determined', 'determining', 'detroit', 'dettol', 'dev', 'devastated', 'devastating', 'devastation', 'develop', 'developed', 'developer', 'developing', 'development', 'develops', 'devender', 'devi', 'devised', 'devising', 'dewine', 'dewormed', 'deworming', 'dexamethasone', 'dexamethsaone', 'dg', 'dgta', 'dhanbad', 'dharavi', 'dharmendra', 'dharmis', 'dhb', 'dhbs', 'dhebron', 'dhhs', 'diabetes', 'diagnose', 'diagnosed', 'diagnosing', 'diagnosis', 'diagnostic', 'diagnostics', 'diameter', 'diamond', 'diaper', 'diarrhoea', 'diary', 'dicenso', 'did', 'didier', 'didnt', 'dido', 'die', 'died', 'diego', 'dieing', 'diet', 'dietary', 'differ', 'differe', 'difference', 'different', 'differential', 'differently', 'difficult', 'difficulty', 'diffies', 'digestive', 'digital', 'digitizable', 'dilemma', 'diligence', 'dilution', 'dimension', 'dimsighted', 'dined', 'dinner', 'dioxide', 'dip', 'dipand', 'diphtheria', 'dire', 'direct', 'directed', 'directing', 'direction', 'directive', 'directly', 'director', 'directorgeneral', 'directs', 'dirty', 'dis', 'dis2', 'disadvantaged', 'disagreed', 'disappear', 'disappeared', 'disappointing', 'disaster', 'disastrously', 'discard', 'discarded', 'discharge', 'discharged', 'discipline', 'discontinue', 'discontinued', 'discourage', 'discover', 'discovered', 'discovers', 'discovery', 'discredited', 'discrepancy', 'discus', 'discussed', 'discussing', 'discussion', 'discussionis', 'disease', 'disestablish', 'disguised', 'disgusting', 'disharmony', 'disheveled', 'disinfect', 'disinfectant', 'disinfected', 'disinfectent', 'disinfecting', 'disinfection', 'dismal', 'dismissal', 'dismissed', 'disney', 'disobeyed', 'disobeying', 'disorder', 'disparity', 'dispelled', 'dispels', 'display', 'displayed', 'displaying', 'disposable', 'disposal', 'dispose', 'disproportionate', 'disproportionately', 'disproven', 'disregard', 'disrupt', 'disrupted', 'disrupting', 'disruption', 'disrupts', 'dissect', 'disseminating', 'dissented', 'dissimilar', 'dissolved', 'dist', 'distanc', 'distance', 'distancing', 'distant', 'distinguish', 'distinguishing', 'distracting', 'distraction', 'distribute', 'distributed', 'distributing', 'distribution', 'district', 'ditch', 'dive', 'diverse', 'divert', 'diverted', 'division', 'divorced', 'divulges', 'diy', 'dj', 'dk', 'dka', 'dma', 'dmk', 'dna', 'dnanudge', 'dnc', 'do', 'dobbs', 'doc', 'doctor', 'doctored', 'doctorswhat', 'document', 'documentary', 'documentation', 'documented', 'dodge', 'doe', 'doesnt', 'dog', 'doh', 'doha', 'doing', 'dollar', 'dolores', 'domestic', 'domestically', 'dominate', 'dominated', 'dominates', 'dominic', 'dominion', 'domínguez', 'don', 'donald', 'donate', 'donated', 'donates', 'donation', 'doncaster', 'done', 'dong', 'donor', 'dont', 'don´t', 'doomed', 'doomsday', 'door', 'doorstep', 'doorway', 'doria', 'doritos', 'dos', 'dose', 'dosed', 'dosing', 'dot', 'double', 'doublechecking', 'doubled', 'doubling', 'doubt', 'doubter', 'doug', 'doused', 'down', 'downed', 'downfall', 'download', 'downloaded', 'downloading', 'downloads', 'downplayed', 'downplays', 'downside', 'downturn', 'downward', 'downwards', 'doxycycline', 'doyle', 'dozen', 'dph', 'dpp', 'dr', 'dr@mvankerkhove', 'drain', 'drakeford', 'dramatically', 'drastically', 'draw', 'dreaded', 'dressed', 'drew', 'dried', 'drift', 'drifting', 'drink', 'drinker', 'drinking', 'dripping', 'drive', 'driven', 'driver', 'driversinvisible', 'driving', 'drone', 'drop', 'droplet', 'dropped', 'dropping', 'droppings', 'drove', 'drowned', 'drug', 'drum', 'drunk', 'dry', 'dryer', 'dstv', 'dtp3', 'dua', 'dub', 'dubai', 'dubious', 'dublin', 'ducey', 'duchess', 'duchy', 'duck', 'dude', 'due', 'duein', 'dump', 'dumped', 'duncan', 'dundee', 'dung', 'dungurine', 'dunk', 'dunnogyna', 'dupe', 'duration', 'dure', 'durham', 'during', 'dust', 'dutch', 'duterte', 'dutertes', 'duty', 'dwarf', 'dweller', 'dy', 'dying', 'dyk', 'dynamic', 'dynasty', 'dysfunctional', 'dáil', 'e', 'ea', 'each', 'eager', 'eamc', 'ear', 'earlier', 'early', 'earmarked', 'earn', 'earned', 'earring', 'earth', 'eas', 'ease', 'eased', 'easier', 'easily', 'easing', 'east', 'eastern', 'easy', 'eat', 'eating', 'eats', 'ebola', 'ebonyi', 'ebonyi10', 'ebonyi108', 'ebonyi11', 'ebonyi17', 'ebonyi19', 'ebonyi23', 'ebonyi24', 'ebonyi3', 'ebonyi30', 'ebonyi4', 'ebonyi42', 'ebonyi49', 'ebonyi65', 'ebonyi72', 'ebonyi9', 'ecmo', 'economic', 'economically', 'economics', 'economist', 'economy', 'ecuador', 'ecuadorian', 'ed', 'edged', 'edited', 'edition', 'editor', 'editorial', 'edmunds', 'edo', 'educate', 'educated', 'education', 'educational', 'edward', 'eerily', 'effec', 'effect', 'effective', 'effectively', 'effectiveness', 'efficacious', 'efficacy', 'efficiency', 'efficient', 'efficiently', 'effort', 'eg', 'egg', 'egypt', 'egyptian', 'ei', 'eicus', 'eight', 'eighth', 'eightysix', 'eileen', 'either', 'ekiti', 'ekiti1', 'ekiti10', 'ekiti13', 'ekiti14', 'ekiti17', 'ekiti2', 'ekiti3', 'ekiti4', 'ekiti6', 'ekiti7', 'ekiti8', 'ekiti9', 'el', 'elago', 'elbow', 'elder', 'elderberry', 'elderly', 'elected', 'election', 'elective', 'electoral', 'electric', 'electrician', 'electrification', 'electromagnetic', 'electronic', 'electronics', 'elevated', 'eleventybillion', 'eligibility', 'eligible', 'eliminate', 'eliminated', 'eliminates', 'elimination', 'elisa', 'elite', 'elizabeth', 'elkin', 'ella', 'ellerslie', 'elon', 'else', 'elsewhere', 'elucidate', 'ema', 'email', 'emailing', 'emas', 'embassy', 'embedded', 'embezzle', 'emboldened', 'embrace', 'embracing', 'eme', 'emeka', 'emerge', 'emerged', 'emergency', 'emerges', 'emerging', 'eminent', 'emirate', 'emission', 'emotion', 'emotional', 'emotionally', 'empanelled', 'emphasis', 'emphasize', 'emphasizes', 'employed', 'employee', 'employer', 'employersponsored', 'employment', 'empowered', 'empowering', 'empress', 'empty', 'enable', 'enabled', 'enables', 'enabling', 'enacted', 'encephalitis', 'encephalomyelitischronic', 'encourage', 'encouraged', 'encourages', 'encouraging', 'end', 'endall', 'ended', 'endemic', 'ending', 'endless', 'endorses', 'endothelial', 'endure', 'enema', 'enemy', 'energetic+', 'enforce', 'enforced', 'enforcement', 'enforcing', 'engage', 'engaged', 'engagement', 'engaging', 'engine', 'engineer', 'engineered', 'engineering', 'england', 'english', 'enhance', 'enhanced', 'enhancement', 'enjoy', 'enjoyed', 'enlarged', 'enough', 'enrolled', 'enrollment', 'ensure', 'ensured', 'ensures', 'ensuring', 'enter', 'entered', 'entering', 'enterovirus', 'enters', 'entertaining', 'entire', 'entirely', 'entitled', 'entitlement', 'entity', 'entrance', 'entrepreneursauto', 'entrusted', 'entry', 'enugu', 'environment', 'environmental', 'envoy', 'enzyme', 'epic', 'epicenter', 'epidemic', 'epidemiological', 'epidemiologically', 'epidemiologist', 'episode', 'equal', 'equality', 'equating', 'equation', 'equipment', 'equitable', 'equitably', 'equity', 'equivalent', 'er', 'era', 'eradicate', 'eradicated', 'eradicating', 'eradication', 'erased', 'eric', 'ernakulam', 'erratic', 'erratically', 'erroneously', 'error', 'erupting', 'escalated', 'escape', 'escaped', 'eschews', 'eshe', 'especially', 'essay', 'essential', 'essex', 'established', 'establishes', 'establishing', 'establishment', 'estate', 'estero', 'estimate', 'estimated', 'et', 'etc', 'ethiopia', 'ethiopian', 'ethnic', 'ethnicity', 'ethnicracial', 'etymology', 'eu', 'eua', 'eucalyptus', 'euro', 'europe', 'european', 'euskadi', 'evacuation', 'evaluate', 'evaluated', 'evaluation', 'evander', 'evangelical', 'evangelicals', 'even', 'evening', 'event', 'eventually', 'ever', 'everight', 'evers', 'eversmaller', 'every', 'every1', 'everybody', 'everyday', 'everyone', 'everyones', 'everything', 'everythingonly', 'everywhere', 'evict', 'eviction', 'evidence', 'evidencethough', 'evil', 'evoke', 'evolution', 'evolutionary', 'evolve', 'evolves', 'evolving', 'ex', 'exacerbated', 'exact', 'exactly', 'exaggerated', 'exam', 'examination', 'examined', 'examiner', 'examines', 'example', 'exceed', 'exceeded', 'exceeding', 'exceeds', 'excellent', 'except', 'exception', 'exceptional', 'excerpt', 'excess', 'excessive', 'excited', 'exclude', 'excluded', 'excluding', 'exclusion', 'exclusive', 'excoriated', 'excuse', 'execution', 'executive', 'exemplar', 'exempt', 'exemption', 'exemptions1010', 'exercise', 'exhausted', 'exhaustion', 'exhaustive', 'exhibit', 'exhibited', 'exhibiting', 'exhorted', 'exist', 'existed', 'existence', 'existing', 'exists', 'exiting', 'exosome', 'exotic', 'exp', 'expand', 'expanded', 'expanding', 'expands', 'expansion', 'expect', 'expected', 'expecting', 'expedite', 'expel', 'expelled', 'expend', 'expenditure', 'expense', 'expensive', 'exper', 'experience', 'experienced', 'experiencing', 'experiment', 'experimentation', 'expert', 'expertise', 'expired', 'explain', 'explained', 'explainer', 'explaining', 'explains', 'explanation', 'explicable', 'explicit', 'explicitly', 'explode', 'exploded', 'exploit', 'exploratory', 'explored', 'explores', 'exploring', 'explosion', 'explosive', 'exponential', 'exponentially', 'export', 'exporting', 'expose', 'exposed', 'exposing', 'exposure', 'expresident', 'expressing', 'expression', 'expressly', 'extend', 'extended', 'extending', 'extends', 'extension', 'extensive', 'extent', 'exterminated', 'extra', 'extraordinary', 'extreme', 'extremely', 'extremist', 'eye', 'eyesight', 'f', 'fabiflu', 'fabiflufavipiravir', 'fabricate', 'fabunan', 'face', 'facebook', 'faced', 'facemask', 'facemasks', 'facewine', 'facial', 'facilitate', 'facilitates', 'facilitating', 'facilitation', 'facilitiesnursing', 'facility', 'facing', 'facinglets', 'fact', 'factcheck', 'factchecked', 'factchecking', 'factchecks', 'factor', 'factorie', 'factory', 'faculty', 'fad', 'fade', 'fadnavis', 'fail', 'failed', 'failing', 'fails', 'failure', 'fainted', 'fair', 'fairly', 'faith', 'fake', 'fall', 'fallen', 'falling', 'fallout', 'false', 'falsehood', 'falsely', 'falsenegatives', 'falsepositive', 'falsification', 'falsified', 'fami', 'family', 'familysized', 'famous', 'fampg', 'fan', 'fanfic', 'fantastic', 'faq', 'far', 'far@drtedros', 'farage', 'farcical', 'farmer', 'fart', 'far⠀', 'fascinating', 'fascist', 'fashion', 'fast', 'fastacting', 'faster', 'fastest', 'fasting', 'fasttracked', 'fasttracking', 'fat', 'fatal', 'fatali', 'fatality', 'father', 'fatigue', 'fatigued', 'faucciamp', 'fauccis', 'fauci', 'faucian', 'faucis', 'faulty', 'favipiravir', 'favipiravir#dcgi', 'favipiravirbased', 'favor', 'favorite', 'favourably', 'favourite', 'fbi', 'fck', 'fckin', 'fckingup', 'fct', 'fda', 'fear', 'feared', 'fearmongering', 'feat', 'feature', 'featuring', 'feb', 'february', 'februaryearly', 'federal', 'federation', 'fee', 'feedback', 'feel', 'feeling', 'fell', 'fellow', 'fellowship', 'felony', 'felt', 'fema', 'female', 'fennel', 'ferguson', 'fergusons', 'fernández', 'festival', 'festivity', 'feud', 'fever', 'feverinside', 'few', 'fewer', 'fewest', 'fewflorida', 'fi', 'fibre', 'fibrinolysis', 'fibrosis', 'fiction', 'field', 'fifth', 'fifthhighest', 'fifty', 'fiftyone', 'fight', 'fighting', 'figure', 'figureshould', 'figuring', 'fiji', 'file', 'filed', 'filgotinib', 'filing', 'filipce', 'filipino', 'filled', 'fillfinish', 'filling', 'film', 'filmed', 'filming', 'filmmaker', 'filtered', 'filtermax', 'final', 'finalising', 'finally', 'finance', 'financial', 'financially', 'financing', 'find', 'finding', 'fine', 'fined', 'finger', 'finish', 'finished', 'finland', 'fire', 'firearm', 'fired', 'firewood', 'firework', 'firing', 'firm', 'firmly', 'first', 'firstever', 'firstknown', 'fiscal', 'fish', 'fistbump', 'fit', 'fitness', 'five', 'fiveday', 'fivefold', 'fiveyear', 'fix', 'fixed', 'fixing', 'fkups', 'fl', 'fla', 'flaccid', 'flag', 'flame', 'flameforce', 'flareup', 'flash', 'flat', 'flatten', 'flattened', 'flattening', 'flatter', 'flaunt', 'flavor', 'flawed', 'fled', 'fledged', 'fleeing', 'flees', 'fletcher', 'flew', 'flight', 'flipflops', 'floating', 'flood', 'flooded', 'floor', 'florence', 'florida', 'flour', 'flouting', 'flow', 'flower', 'flown', 'floyds', 'flu', 'fluent', 'fluid', 'flulike', 'fly', 'flyer', 'flying', 'fo', 'focus', 'focused', 'focusing', 'focussed', 'focussing', 'foe', 'fog', 'folic', 'folk', 'follow', 'followed', 'follower', 'following', 'follows', 'followup', 'fom', 'food', 'fooling', 'foot', 'footage', 'football', 'footballer', 'footing', 'footpath', 'for', 'forbade', 'forbidding', 'forbids', 'force', 'forced', 'forcing', 'ford', 'forecast', 'forecasting', 'forehead', 'foreign', 'foreigner', 'foremost', 'foreseeable', 'foretold', 'forever', 'forged', 'forget', 'forging', 'forgive', 'forgotten', 'form', 'formal', 'formation', 'former', 'formula', 'fortaleza', 'forthcoming', 'fortune', 'forty', 'forward', 'foster', 'fought', 'found', 'foundation', 'founded', 'founder', 'four', 'fourmonth', 'fourteen', 'fourth', 'fourthlargest', 'fox', 'fraction', 'framework', 'france', 'francis', 'franco', 'franklin', 'frankly', 'fraud', 'fraudulent', 'freak', 'free', 'freedom', 'freefall', 'freely', 'freeview', 'freeze', 'freezing', 'freight', 'french', 'frenzy', 'frequency', 'frequently', 'fresh', 'freshly', 'friday', 'fridge', 'friend', 'friendly', 'friston', 'frm', 'from', 'fromcovid19', 'fromi', 'front', 'frontline', 'frontlines', 'froze', 'frozen', 'fruit', 'frustration', 'ft', 'ftse', 'fucini', 'fuck', 'fucked', 'fucking', 'fuel', 'fuelled', 'full', 'fully', 'fun', 'function', 'functional', 'functioning', 'fund', 'fundamental', 'fundamentally', 'funded', 'funding', 'funeral', 'fungal', 'fungus', 'funk', 'funneled', 'funny', 'funrun', 'furious', 'furlough', 'furloughing', 'fury', 'future', 'fwd', 'fwiw', 'féin', 'ga', 'gaddafi', 'gain', 'gained', 'gainesville', 'gainoffunction', 'gaiter', 'galicia', 'gallagher', 'gallera', 'gallup', 'gamcovidvac', 'game', 'gamechanger', 'gamechanging', 'gaming', 'gandhi', 'ganga', 'gangaram', 'gap', 'garbage', 'gardaí', 'garden', 'garg', 'gargle', 'gargled', 'gargling', 'garib', 'garlic', 'gary', 'gas', 'gaslighted', 'gate', 'gateshead', 'gather', 'gathered', 'gathering', 'gaumutra', 'gaushala', 'gave', 'gavin', 'gay', 'gazolla', 'gdp', 'gear', 'geeta', 'gemma', 'gender', 'genderwise', 'gene', 'general', 'generally', 'generate', 'generated', 'generating', 'generation', 'generous', 'genetic', 'genetically', 'genexpert', 'genius', 'genocide', 'genome', 'genomic', 'gentleman', 'gently', 'genuine', 'genuinely', 'geographic', 'geographical', 'geography', 'george', 'georgia', 'georgian', 'georgina', 'geotv', 'gerais', 'germ', 'germain', 'german', 'germany', 'germaphobe', 'get', 'getting', 'ghana', 'ghanamade', 'ghazibad', 'ghislaine', 'ghiyatoriroti', 'ghrp', 'gift', 'gifted', 'gilead', 'gileads', 'ginger', 'ginsburg', 'girl', 'giuliani', 'giulio', 'giuseppe', 'give', 'given', 'giving', 'glad', 'glance', 'glare', 'glass', 'glastonbury', 'glaswegian', 'glenmarks', 'glittering', 'global', 'globally', 'globallycoordinated', 'globe', 'globo', 'gloriously', 'glove', 'glycoprotein', 'gm', 'go', 'goal', 'gobar', 'god', 'godi', 'gof', 'goi', 'going', 'gold', 'golf', 'gom', 'gombe', 'gomez', 'gone', 'gonna', 'goo', 'good', 'goodbye', 'goodness', 'goodnight', 'goodwill', 'google', 'goombalini', 'gop', 'gossiping', 'got', 'gotten', 'gourd', 'gouty', 'gov', 'gove', 'goverment', 'governador', 'government', 'governmentbureaucracts', 'governmentfunded', 'governmentimposed', 'governmentnow', 'governor', 'govt', 'govts', 'gowdy', 'gown', 'goya', 'gp', 'gps', 'grab', 'grabbed', 'grace', 'grad', 'grade', 'graded', 'grading', 'gradually', 'graduate', 'graduated', 'graf', 'grafton', 'granato', 'grand', 'grandparent', 'grant', 'granted', 'graph', 'graphic', 'graphical', 'grapple', 'grasp', 'grassroot', 'grateful', 'gratitude', 'grave', 'graveyard', 'great', 'greater', 'greatest', 'greatly', 'greece', 'greek', 'green', 'greet', 'gregorio', 'gregory', 'grenons', 'gretchen', 'grieve', 'grieving', 'grim', 'grime', 'gripped', 'grocery', 'grodzisk', 'grossly', 'ground', 'groundbreaking', 'grounded', 'group', 'groupie', 'grow', 'growing', 'growingbut', 'grown', 'growth', 'grueling', 'gt', 'gt3000day', 'gt60', 'gt65', 'gt70', 'gtgtgt', 'guam', 'guarantee', 'guard', 'guardian', 'guatemala', 'guatemalan', 'guayaquil', 'guees', 'guess', 'guesstimate', 'guest', 'guidance', 'guide', 'guided', 'guideline', 'guidelinesnotifications', 'guillermo', 'guilt', 'guinean', 'guinness', 'guitar', 'gujarat', 'gujarati', 'gun', 'gunes', 'gung', 'gunna', 'gunsupplies', 'gurbani', 'gurgaon', 'guru', 'gut', 'guterres', 'gutierrez', 'guwahati', 'guy', 'gym', 'gymnasium', 'h', 'h1n1', 'h2o', 'h5n1', 'ha', 'habit', 'hack', 'had', 'hadfield', 'hadio', 'hadnt', 'hafeez', 'hail', 'hailed', 'hair', 'haircut', 'hairdresser', 'hairdryer', 'hairstylist', 'hairy', 'haji', 'hajipur', 'haldwani', 'half', 'halfmast', 'halfmeasures', 'hall', 'hallmark', 'hallway', 'halt', 'halted', 'hampering', 'hampshire', 'hamster', 'hancock', 'hand', 'handcuff', 'handed', 'handful', 'handgun', 'handing', 'handle', 'handling', 'handrespiratory', 'handshake', 'handson', 'hands🧼💧', 'handwashing', 'handy', 'hang', 'hanging', 'hangover', 'hank', 'hannity', 'hanson', 'hansons', 'hantavirus', 'hanuman', 'hapless', 'happen', 'happened', 'happening', 'happens', 'happy', 'harassment', 'harcourt', 'hard', 'harder', 'hardest', 'hardesthit', 'hardhit', 'harding', 'hardship', 'hardworking', 'hardy', 'hare', 'haribo', 'haripriya', 'harm', 'harmful', 'harmless', 'harris', 'harry', 'hart', 'harvard', 'haryana', 'hashtag', 'hasnt', 'hat', 'hate', 'hating', 'haults', 'hauora', 'hav', 'havana', 'havard', 'have', 'havent', 'having', 'havoc', 'hawaii', 'hayya', 'hazipur', 'hazmat', 'hcpcollected', 'hcpm', 'hcps', 'hcq', 'hdfc', 'he', 'head', 'headache', 'headed', 'heading', 'headline', 'headquarters', 'headroom', 'headteacher', 'headthis', 'heal', 'health', 'healthcare', 'healthline', 'healthy', 'hear', 'heard', 'hearing', 'heart', 'heartening', 'heartless', 'heartrelated', 'heat', 'heath', 'heatvery', 'heaven', 'heavily', 'heavy', 'heberon', 'heck', 'hed', 'height', 'held', 'heleno', 'helicopter', 'hell', 'hello', 'helm', 'helmet', 'help', 'helped', 'helpful', 'helping', 'helpless', 'helplessness', 'helpline', 'helsinki', 'hemant', 'hematoencephalitic', 'hemorrhage', 'hence', 'henderson', 'heneghan', 'henry', 'her', 'heralded', 'herb', 'herbal', 'herd', 'here', 'herman', 'hero', 'heroin', 'herself', 'heshe', 'hhs', 'hi', 'hidden', 'hide', 'hideo', 'hiding', 'hidroxychloroquine', 'hig', 'high', 'highend', 'higher', 'highest', 'highincome', 'highlight', 'highlighted', 'highlighting', 'highly', 'highpressure', 'highquality', 'highrisk', 'highthroughput', 'hightouch', 'highway', 'hildreth', 'hill', 'hillary', 'hilt', 'him', 'himbeing', 'himself', 'hindered', 'hindi', 'hindu', 'hint', 'hinted', 'hinting', 'hippocratic', 'hipster', 'hired', 'his', 'hispanic', 'historic', 'historical', 'history', 'hit', 'hitech', 'hitting', 'hiv', 'hivaids', 'hmh', 'hmsh', 'ho', 'hoard', 'hoarding', 'hoax', 'hockey', 'hod', 'hokum', 'hold', 'holding', 'hole', 'holiday', 'holland', 'hollywood', 'holyfield', 'home', 'homebased', 'homefacility', 'homeless', 'homelessness', 'homemade', 'homeopath', 'homeopathic', 'homeopathy', 'homesand', 'homeschooling', 'homicide', 'homoeopathic', 'hon', 'honble', 'honduras', 'honey', 'hong', 'honjo', 'honorable', 'honourable', 'honoured', 'hontiveros', 'hood', 'hope', 'hoped', 'hopeful', 'hopefully', 'hoping', 'hopkins', 'horizon', 'horny', 'horrified', 'horror', 'horse', 'hosp', 'hospital', 'hospitalbased', 'hospitalisation', 'hospitalists', 'hospitality', 'hospitalization', 'hospitalizationsicu', 'hospitalize', 'hospitalized', 'hospitallevel', 'hospitalthey', 'hossain', 'host', 'hosted', 'hosting', 'hot', 'hota', 'hotel', 'hotline', 'hotspot', 'hour', 'hoursnumber', 'house', 'housed', 'household', 'houseslpg', 'housing', 'hovering', 'how', 'however', 'howie', 'hows', 'hpv', 'hr', 'hrd', 'hrh', 'httpstco0sw9dsfsim', 'httpstcocpnzytjslz', 'httpstcocvscc6s2mq', 'httpstcofxhntoslvr', 'httpstcog5dqhjvyu7', 'httpstcogjisuk6g4w', 'httpstcohssghajmuk', 'httpstcom7dmn1umpe', 'httpstcon6olbbadbh', 'httpstconfy2lhilkz', 'httpstcooc56svri2p', 'httpstcoociqwdbtdu', 'httpstcopax5gvmukf', 'httpstcopz2dhnrve1', 'httpstcor5ssfz6cdl', 'httpstcotdkogmwrir', 'httpstcowgabah5com', 'httpstcoyccw7laqeo', 'httpstcoyvzbe0v24m', 'httpstcozph7hdrboq', 'huawei', 'hub', 'hubei', 'huckabee', 'huddled', 'huge', 'hugely', 'hugging', 'hugo', 'human', 'humanitarian', 'humanity', 'humanly', 'humanmade', 'humidity', 'humor', 'hundred', 'hunger', 'hungry', 'hunting', 'huoshenshan', 'hurricane', 'hurt', 'husband', 'hussain', 'hussein', 'hut', 'hv', 'hy', 'hyde', 'hyderabad', 'hyderbad', 'hydrochloroquine', 'hydrogen', 'hydroquinone', 'hydroxichloroquine', 'hydroxy', 'hydroxychloroqen', 'hydroxychloroquin', 'hydroxychloroquine', 'hydroxychloroquineis', 'hydroxydhloroquine', 'hygiene', 'hyped', 'hypercapnia', 'hypermarket', 'hypochlorite', 'hypochondria', 'hypoxia', 'hysteria', 'i', 'ia', 'iampii', 'ians', 'ibadan', 'ibd', 'ibom', 'ibom1', 'ibom10', 'ibom11', 'ibom12', 'ibom13', 'ibom17', 'ibom18', 'ibom2', 'ibom22', 'ibom5', 'ibom8', 'ibom9', 'ibrahim', 'ibuprofen', 'icai', 'ice', 'iceberg', 'ickes', 'icmr', 'icu', 'icymi', 'id', 'id2020', 'idaho', 'idea', 'identification', 'identified', 'identify', 'identifying', 'identity', 'idh', 'idiocy', 'idlisdosasmeals', 'idol', 'ie', 'iea', 'iebc', 'if', 'iffy', 'iga', 'igg', 'igm', 'ignorance', 'ignore', 'ignored', 'ignores', 'ignoring', 'ihipidsp', 'ihme', 'ihr', 'ii', 'iii', 'iit', 'il', 'ill', 'illa', 'illegal', 'illegally', 'illinformed', 'illinois', 'illinoisan', 'illness', 'illogical', 'illprepared', 'illustrate', 'illustration', 'im', 'image', 'imagine', 'imagined', 'imam', 'imf', 'imitating', 'immanuel', 'immediate', 'immediately', 'immigrant', 'immigration', 'immobilizing', 'immune', 'immunisation', 'immunity', 'immunization', 'immunize', 'immunogenic', 'immunoglobulin', 'immunologist', 'immunoresponse', 'immunosuppression', 'immuntiy', 'imo', 'imo1', 'imo12', 'imo13', 'imo14', 'imo15', 'imo2', 'imo23', 'imo26', 'imo29', 'imo3', 'imo4', 'imo46', 'imo5', 'imo8', 'imo9', 'imp', 'impact', 'impacted', 'impacting', 'impassioned', 'impeachment', 'imperative', 'imperial', 'implant', 'implanted', 'implanting', 'implement', 'implementation', 'implemented', 'implemention', 'implication', 'implicitly', 'implies', 'imply', 'implying', 'import', 'importance', 'important', 'importantand', 'importantly', 'importanttesting', 'imported', 'impose', 'imposed', 'impossible', 'imposter', 'impressed', 'impression', 'impressive', 'imprisonment', 'improperly', 'improve', 'improved', 'improvement', 'improves', 'improving', 'impt', 'imran', 'in', 'inability', 'inaccessible', 'inaccurate', 'inactivated', 'inactive', 'inadequate', 'inarguable', 'inaugural', 'inauguration', 'inc', 'incentive', 'inch', 'inching', 'incidence', 'incident', 'incinerated', 'incl', 'include', 'included', 'includes', 'including', 'inclusion', 'income', 'incompetence', 'incomplete', 'inconvenient', 'incorporated', 'incorporates', 'incorrect', 'incorrectly', 'increas', 'increase', 'increased', 'increasing', 'incubation', 'incurred', 'indecipherable', 'indefinite', 'indefinitely', 'independent', 'index', 'india', 'indiaas', 'indian', 'indiana', 'indiansv', 'indiantelecommunication', 'indicate', 'indicated', 'indicates', 'indicating', 'indication', 'indicative', 'indicator', 'indictment', 'indifferent', 'indigenous', 'indigenously', 'indirect', 'indirectly', 'individual', 'individually', 'indoctornation', 'indonesia', 'indonesian', 'indoor', 'indoors', 'indore', 'induced', 'induction', 'indus', 'industrial', 'industrialist', 'industry', 'ineffective', 'inefficiency', 'inept', 'inequality', 'inequity', 'inevitable', 'inevitably', 'inexplicable', 'infant', 'infanta', 'infect', 'infected', 'infected1', 'infected2', 'infectedmild', 'infecting', 'infection', 'infectionsthe', 'infectious', 'infectivity', 'infects', 'inference', 'inferring', 'infertility', 'infinity', 'infirm', 'inflammation', 'inflammatory', 'inflating', 'influence', 'influenced', 'influenza', 'influenzalike', 'info', 'infodemic', 'infographic', 'inform', 'information', 'informed', 'informs', 'infra', 'infrastructure', 'infrequent', 'infusing', 'ingesting', 'inhabitant', 'inhalation', 'inhale', 'inhaler', 'inhaling', 'inherited', 'inhibitor', 'inhibits', 'inhome', 'inhospital', 'initial', 'initiate', 'initiated', 'initiation', 'initiative', 'inject', 'injectable', 'injected', 'injecting', 'injection', 'injured', 'injury', 'ink', 'inkalonji', 'inmate', 'innocence', 'innovation', 'innowner', 'inoculation', 'inperson', 'inquiry', 'inr', 'insecticide', 'inserted', 'insertion', 'inside', 'insider', 'insight', 'insightful', 'insilico', 'insist', 'insisting', 'insists', 'insolvency', 'inspect', 'inspector', 'inspirational', 'inspire', 'instagram', 'install', 'installed', 'installing', 'instalment', 'instance', 'instant', 'instead', 'institute', 'institutelabs', 'instituting', 'institution', 'institutional', 'instructed', 'instructing', 'instruction', 'instructive', 'instructs', 'instrument', 'instuctions', 'insufficient', 'insurance', 'insurgency', 'intact', 'intake', 'integral', 'integrate', 'integrated', 'integration', 'intel', 'intelligence', 'intelligent', 'intended', 'intense', 'intensified', 'intensify', 'intensity', 'intensive', 'intentional', 'intentionally', 'inter', 'interact', 'interactive', 'interconnectedness', 'interesante', 'interest', 'interested', 'interfere', 'interferon', 'interim', 'interior', 'intermediate', 'intern', 'internal', 'international', 'internet', 'interpret', 'interpretation', 'interrupted', 'interruption', 'interstate', 'interval', 'intervention', 'interview', 'inthe', 'intially', 'into', 'intra', 'intrastate', 'intravenous', 'intriguing', 'introduce', 'introduced', 'introduces', 'introducing', 'introduction', 'introvert', 'intrusion', 'intubated', 'inundated', 'invalid', 'invented', 'inventing', 'invention', 'inventor', 'invest', 'invested', 'investigate', 'investigated', 'investigates', 'investigating', 'investigation', 'investigator', 'investment', 'investor', 'invisible', 'invite', 'invited', 'invoking', 'involve', 'involved', 'involvement', 'involving', 'ioannidis', 'iodine', 'iowa', 'ipc', 'iphone', 'iq', 'iran', 'iranian', 'ireland', 'irene', 'irish', 'irrefutable', 'irrefutably', 'irregular', 'irresponsible', 'irritation', 'irs', 'is', 'isa', 'isabel', 'ischemic', 'isi', 'islam', 'islamabad', 'islamic', 'islamist', 'island', 'islander', 'isnt', 'isolate', 'isolated', 'isolating', 'isolation', 'isolationhospitalisation', 'isolationquarantine', 'isolation⠀', 'israel', 'israeli', 'issue', 'issued', 'issuing', 'istanbul', 'isto', 'it', 'italian', 'itally', 'italy', 'item', 'itly', 'iv', 'ive', 'ivermectin', 'j1', 'jacinda', 'jackie', 'jackinthebox', 'jacksonville', 'jacob', 'jagan', 'jail', 'jain', 'jains', 'jaipur', 'jair', 'jam', 'jamaat', 'jamaatis', 'jamal', 'jamat', 'jamati', 'james', 'jammu', 'jampks', 'jan', 'janata', 'janeiro', 'janmabhoomi', 'janta', 'january', 'japan', 'japanese', 'jaroslav', 'jason', 'jazz', 'jb', 'jean', 'jeanine', 'jeanroger', 'jedi', 'jedward', 'jee', 'jeevan', 'jenkinson', 'jennifer', 'jennifersmith', 'jenny', 'jersey', 'jesus', 'jesús', 'jet', 'jetpark', 'jewellry', 'jewish', 'jhalawar', 'jharkhand', 'jhu', 'ji', 'jigawa', 'jigawa1', 'jigawa2', 'jigawa24', 'jigawa26', 'jigawa5', 'jigawa8', 'jihadi', 'jihadis', 'jim', 'jinping', 'jio', 'jitendra', 'jkuat', 'job', 'jobless', 'jobwork', 'joe', 'jogger', 'john', 'johnson', 'join', 'joined', 'joining', 'joint', 'joke', 'jokowis', 'jonathan', 'jones', 'jordanian', 'jos', 'jose', 'josé', 'journal', 'journalist', 'journey', 'jovis', 'joyalukkas', 'joão', 'jr', 'juan', 'juba', 'judaism', 'judge', 'judith', 'judy', 'juice', 'julia', 'julius', 'july', 'july2020', 'jump', 'jumped', 'jumping', 'juna', 'june', 'jurisdiction', 'just', 'justi', 'justice', 'justify', 'justin', 'jyoti', 'k', 'k12', 'k8', 'ka', 'kabataan', 'kaczynski', 'kadhas', 'kaduna', 'kalka', 'kalma', 'kalonji', 'kalyan', 'kamal', 'kamala', 'kamia', 'kanika', 'kannanthanam', 'kano', 'kanpur', 'kansa', 'kansasdo', 'kapoor', 'karachi', 'karaoke', 'karimganj', 'karl', 'karnataka', 'karol', 'karti', 'kate', 'kathua', 'katsina', 'katsina1', 'katsina10', 'katsina12', 'katsina14', 'katsina17', 'katsina18', 'katsina2', 'katsina21', 'katsina24', 'katsina25', 'katsina27', 'katsina3', 'katsina30', 'katsina4', 'katsina5', 'katsina6', 'katsina7', 'katsina8', 'katsina9', 'kawasakilike', 'kayleigh', 'kaziranga', 'kdu', 'keanu', 'keating', 'kebbi', 'keeling', 'keenly', 'keep', 'keeping', 'keir', 'kejriwal', 'kem', 'kemp', 'kennedy', 'kent', 'kentucky', 'kenya', 'kenyan', 'kept', 'keqiang', 'kerala', 'keralas', 'ketamine', 'ketchup', 'kettle', 'kevan', 'kevin', 'key', 'keyboard', 'kg', 'khaled', 'khan', 'khargone', 'khashoggi', 'kia', 'kicillof', 'kick', 'kicked', 'kid', 'kidnapped', 'kidney', 'kill', 'killed', 'killer', 'killing', 'kilo', 'kin', 'kind', 'kindly', 'kindness', 'king', 'kingdom', 'kingswood', 'kirklandwa', 'kirtan', 'kiss', 'kissing', 'kissinger', 'kit', 'kitchen', 'kiwi', 'kmag', 'knell', 'knew', 'knock', 'know', 'knowing', 'knowledge', 'known', 'knowns', 'ko', 'kochi', 'kogi', 'kogi1', 'kolhapur', 'komal', 'konark', 'kong', 'koolaid', 'koolfee', 'korea', 'korean', 'koregaon', 'korona', 'kota', 'kothapet', 'kowheori19', 'kris', 'krishna', 'kroger', 'kudos', 'kumar', 'kung', 'kunj', 'kurnool', 'kushner', 'kuwait', 'kwara', 'ky', 'kyi', 'kylie', 'l', 'la', 'lab', 'labconfirmed', 'label', 'labeled', 'labor', 'laboratory', 'laboratorygrade', 'laborer', 'labour', 'labourer', 'labshospitals', 'lack', 'lactate', 'lady', 'lag', 'lagarde', 'lager', 'lagging', 'lagos', 'lagsthe', 'lahood', 'laid', 'lakh', 'laminar', 'lamp', 'lampedusa', 'lancashire', 'lancaster', 'land', 'landlord', 'landmark', 'langres', 'language', 'lanka', 'lankan', 'lankas', 'lapse', 'laptop', 'laredo', 'large', 'largely', 'larger', 'largest', 'last', 'lasting', 'lastmile', 'late', 'later', 'latest', 'latex', 'lathi', 'latin', 'latino', 'latitude', 'latter', 'latvia', 'latvian', 'lauded', 'lauds', 'laugh', 'launch', 'launched', 'launching', 'laureate', 'law', 'lawmaker', 'lawn', 'lawsuit', 'lawyer', 'lax', 'lay', 'layer', 'laying', 'layoff', 'layoffed', 'lazy', 'ldf', 'le', 'lea', 'lead', 'leader', 'leadership', 'leading', 'leaf', 'league', 'leakage', 'leaked', 'leaking', 'leaning', 'leapfrogged', 'learn', 'learned', 'learning', 'learns', 'learnt', 'least', 'leave', 'leaving', 'lebanon', 'led', 'left', 'leftover', 'leg', 'legal', 'legend', 'legionnaire', 'legislative', 'legislator', 'legislature', 'legitfundcom', 'legitimate', 'leh', 'leicester', 'lemon', 'length', 'lengthy', 'leni', 'lennon', 'lenox', 'lentil', 'leonardo', 'leonor', 'lesion', 'leslie', 'lesotho', 'lesser', 'lesserknown', 'lesson', 'let', 'lethal', 'letter', 'letting', 'level', 'level3', 'lewd', 'lewis', 'lg', 'lga', 'lgas', 'lgte', 'li', 'liable', 'liaison', 'libertarian', 'liberty', 'library', 'libs', 'license', 'licensed', 'licking', 'lid', 'lie', 'lieber', 'lied', 'life', 'lifecamp', 'lifesaver', 'lifesaving', 'lifestyle', 'lifethreatening', 'lift', 'lifted', 'light', 'lighting', 'like', 'likely', 'limaye', 'lime', 'limeng', 'limit', 'limitation', 'limited', 'limiting', 'line', 'linger', 'lingering', 'lining', 'link', 'linked', 'linking', 'lion', 'lionel', 'liquefies', 'liquid', 'liquor', 'lisa', 'list', 'listed', 'listen', 'listening', 'listerine', 'listing', 'lit', 'literally', 'litigation', 'little', 'live', 'livelihood', 'liver', 'liverpool', 'livestream', 'living', 'llano', 'lnjp', 'load', 'loaf', 'lob', 'local', 'localised', 'locality', 'localized', 'locally', 'located', 'locating', 'location', 'lock', 'lockdown', 'lockdown2', 'lockdownera', 'lockdownish', 'locked', 'log', 'logged', 'logic', 'logically', 'logistics', 'logo', 'lokckdown', 'lol', 'lombardy', 'london', 'londonbased', 'londoner', 'loneliness', 'long', 'longer', 'longest', 'longfeared', 'longhaulers', 'longlasting', 'longstanding', 'longterm', 'longtime', 'look', 'lookalike', 'looked', 'looking', 'looting', 'lopez', 'lord', 'lorry', 'los', 'lose', 'loser', 'loses', 'losing', 'loss', 'lost', 'lot', 'lotus', 'louisiana', 'louisianadue', 'lovato', 'love', 'loved', 'lovin', 'low', 'low979as', 'lowabout', 'lowamp', 'lowcock', 'lower', 'lowerincome', 'lowering', 'lowest', 'lowincome', 'lpc', 'lt1', 'ltc', 'ltd', 'luck', 'lucknow', 'lucky', 'luckyu', 'lucía', 'luigi', 'luke', 'lull', 'lumped', 'lumping', 'lung', 'lupus', 'luque', 'luxury', 'lying', 'lyme', 'lymphocyte', 'lymphocytopenia', 'lysol', 'm', 'ma', 'macarthur', 'macedonia', 'macedonian', 'machine', 'mackinaw', 'macrolide', 'macron', 'madagascan', 'madagascar', 'maddow', 'made', 'madhav', 'madhya', 'madness', 'madrid', 'maduro', 'maduros', 'magazine', 'maggie', 'magic', 'magickly', 'magne', 'magnitude', 'mahal', 'maharashtra', 'maharasthra', 'mahila', 'mahinda', 'maia', 'maiduguri', 'mail', 'main', 'maine', 'mainland', 'mainly', 'maintain', 'maintained', 'maintaining', 'maintains', 'maintenance', 'majid', 'major', 'majority', 'mak', 'makati', 'make', 'maker', 'makeshift', 'makeup', 'making', 'malaga', 'malaria', 'malarial', 'malaysia', 'malaysian', 'maldives', 'male', 'mali', 'malignancy', 'mall', 'malnourished', 'malunggay', 'mama', 'man', 'manafort', 'manage', 'managed', 'management', 'manager', 'managing', 'manara', 'manatū', 'manaus', 'manchester', 'mandal', 'mandaluyong', 'mandate', 'mandated', 'mandatorily', 'mandatory', 'mandel', 'maneesha', 'manhours', 'manifest', 'manila', 'manipulated', 'manipulating', 'manipulation', 'manipur', 'manir', 'manish', 'manmade', 'mannequin', 'manner', 'manori', 'mantova', 'mantri', 'mantua', 'manual', 'manuel', 'manufacture', 'manufactured', 'manufacturer', 'manufacturing', 'many', 'map', 'mar', 'marapr', 'marañón', 'march', 'marchapril', 'marcos', 'margaret', 'margarets', 'margarita', 'margin', 'marginally', 'marie', 'marijuana', 'marine', 'marist', 'mark', 'marked', 'market', 'marketed', 'marketplace', 'markle', 'marlena', 'marlin', 'marred', 'marriage', 'married', 'marseille', 'martial', 'martin', 'martinelli', 'martín', 'mary', 'maryland', 'mascot', 'mashpee', 'mashrafe', 'masjid', 'mask', 'masked', 'maskface', 'maskfacecover', 'maskfor', 'masking', 'maskwearing', 'mass', 'massachusetts', 'massive', 'massproduce', 'mast', 'master', 'masterstroke', 'masturbate', 'mat', 'matador', 'matamata', 'matarratn', 'match', 'mate', 'matelots', 'material', 'maternity', 'mathematically', 'matt', 'matter', 'matterhorn', 'maulana', 'mawe', 'maximize', 'maximum', 'maxwell', 'may', 'mayan', 'mayand', 'maybe', 'mayor', 'mazowiecki', 'mccarthy', 'mcconnell', 'mcenany', 'mcmichael', 'md', 'me', 'mean', 'meaneydelman', 'meaning', 'meaningless', 'meanssilicon', 'meant', 'meantime', 'meanwhile', 'measle', 'measles', 'measure', 'measurement', 'measuring', 'meat', 'meatpacking', 'mecfs', 'mechanical', 'mechanism', 'medcure', 'median', 'medias', 'mediaservices', 'medic', 'medica', 'medicaid', 'medical', 'medically', 'medicare', 'medicate', 'medication', 'medicine', 'medium', 'medscape', 'meerut', 'meet', 'meeting', 'megha', 'meghalaya', 'meghan', 'meharrys', 'mehdipatnam', 'melaninabsorbs', 'melbourne', 'melburnians', 'melinda', 'member', 'membrane', 'meme', 'memo', 'memorial', 'memory', 'men', 'meng', 'mental', 'mentally', 'mention', 'mentioned', 'mercury', 'mercy', 'merit', 'merkel', 'mers', 'mess', 'message', 'messaging', 'messed', 'messejana', 'messonnier', 'messy', 'met', 'metal', 'metastatic', 'meter', 'metformin', 'method', 'methodological', 'methylxanthine', 'meto', 'metre', 'metric', 'metro', 'mexico', 'mg', 'mha', 'mi', 'mi6', 'mic', 'michael', 'micheál', 'michigan', 'micro', 'microbiologist', 'microchip', 'microphase', 'microscope', 'microsoft', 'microsofts', 'mid', 'mid2021', 'midapril', 'midatlantic', 'midcourse', 'midday', 'middle', 'middleincome', 'middlemore', 'middleton', 'midjune', 'midland', 'midmay', 'midnight', 'midnovember', 'midoctober', 'midst', 'midtolate', 'midwest', 'midwinter', 'might', 'migrant', 'migrating', 'miguel', 'mihigo', 'mikakoss', 'mike', 'mikovits', 'mil', 'milan', 'mild', 'milder', 'mildpresymptomatic', 'mildvery', 'mile', 'milestone', 'military', 'milk', 'milking', 'milkshake', 'millennials', 'millennium', 'million', 'milliondollar', 'milwaukee', 'min', 'mina', 'mind', 'mine', 'mineral', 'mingfang', 'mingling', 'minimise', 'minimum', 'minister', 'ministry', 'minnesota', 'minogue', 'minority', 'minorityowned', 'minster', 'minute', 'miq', 'miracle', 'misbehaving', 'misbehavior', 'misc', 'misconstrue', 'misdiagnosed', 'miserably', 'mishra', 'misinfo', 'misinformation', 'misinformationdisinformation', 'misinformationfearmongering', 'mislabeled', 'misleading', 'mismanagement', 'miss', 'missed', 'missing', 'mission', 'mississippi', 'missouri', 'mistake', 'mistaking', 'mistook', 'mistreating', 'misuse', 'misusing', 'mit', 'mitch', 'mitigate', 'mitigation', 'mix', 'mixed', 'mixing', 'mixture', 'ml', 'mla', 'mm', 'mn', 'mny', 'mo', 'mob', 'mobile', 'mobileand', 'mobility', 'mobilization', 'mobilize', 'mobilized', 'mock', 'mode', 'model', 'modeling', 'modeller', 'modelling', 'moderate', 'moderatehigh', 'moderateish', 'modern', 'moderna', 'modestly', 'modi', 'modifiable', 'modified', 'modify', 'modis', 'modulators', 'moh', 'mohammed', 'mohan', 'mohoddin', 'moinhos', 'moist', 'moisture', 'molecular', 'molecule', 'mombasa', 'moment', 'momentarily', 'mon', 'monday', 'money', 'monitor', 'monitoring', 'monkey', 'montanari', 'montero', 'month', 'monthly', 'moonshot', 'mooted', 'mor', 'morally', 'moratalaz', 'morbidity', 'morbidityas', 'morbidly', 'more', 'moreover', 'morgue', 'morguescrematoriums', 'morning', 'morningnight', 'moron', 'morrinsville', 'morrison', 'mortality', 'mortaza', 'mortgage', 'mortuary', 'moscow', 'mosh', 'mosinee', 'mosque', 'mosquito', 'most', 'mostaffected', 'mostly', 'mother', 'motherstobe', 'mothertochild', 'motivating', 'motivation', 'motor', 'motorbiked', 'motorway', 'mountain', 'mourn', 'mouse', 'mouth', 'mouthwash', 'move', 'moved', 'movement', 'movie', 'moving', 'mow', 'mp', 'mr', 'mri', 'mrna', 'mrna1273', 'msg', 'msm', 'msnbc', 'mt', 'muammar', 'much', 'muchpoor', 'mucus', 'mud', 'muhamed', 'muhammadu', 'mujahid', 'mukwege', 'multicentric', 'multiple', 'multiplies', 'multisystem', 'multiweek', 'mumbai', 'municipal', 'municipality', 'muradnagar', 'mural', 'murcia', 'murder', 'murdeshwar', 'murs', 'musck', 'muscle', 'musculoskeletal', 'museveni', 'music', 'muslim', 'muslimstyle', 'mussel', 'must', 'mustapha', 'mustard', 'mutate', 'mutated', 'mutation', 'mutiny', 'muy', 'muñíz', 'my', 'myalgic', 'myanmar', 'myelitis', 'myeloma', 'myocarditis', 'myriad', 'mysore', 'mysterious', 'mystery', 'myth', 'n', 'n95', 'n95s', 'na', 'naaaa', 'nabarro', 'nabl', 'nac', 'nadda', 'nadu', 'nadus', 'nagar', 'nagpaul', 'nagpur', 'nagpurs', 'nahar', 'nahi', 'nahuw', 'naik', 'nail', 'nairobi', 'naked', 'namaha', 'naman', 'namaskar', 'namaz', 'name', 'named', 'namo', 'nanavathi', 'nanavati', 'nancy', 'nanopathologist', 'nanshan', 'nap', 'napkin', 'narendra', 'naresh', 'narrative', 'narrow', 'narrowly', 'nasa', 'nasal', 'nasaldropsgargle', 'nasarawa', 'nascent', 'nashville', 'nasser', 'nasty', 'nation', 'national', 'nationalism', 'nationalist', 'nationality', 'nationally', 'nationwide', 'native', 'natl', 'natural', 'nature', 'naturopathy', 'navajo', 'navi', 'navigate', 'navigating', 'navsari', 'navy', 'nayak', 'nazi', 'nba', 'nbas', 'nc', 'ncaa', 'ncd', 'ncdc', 'nci', 'ncov', 'nd', 'ne', 'near', 'nearest', 'nearing', 'nearl', 'nearly', 'nearrecord', 'nears', 'nebraska', 'necessarily', 'necessary', 'necessity', 'need', 'needed', 'needylesson', 'neem', 'neet', 'nefarious', 'negative', 'negatively', 'neglecting', 'negligence', 'negligent', 'negotiating', 'neighbor', 'neighbour', 'neighbourhood', 'neil', 'neilson', 'neither', 'nejm', 'nelson', 'nervous', 'net', 'netflix', 'netherlands', 'netogly', 'network', 'neurological', 'neuroscientist', 'neutralize', 'neutron', 'neutropenic', 'nevada', 'never', 'new', 'newborn', 'newcase', 'newcastleupontyne', 'newer', 'newest', 'newkirks', 'newly', 'newlyupdated', 'news', 'news#', 'newsletter', 'newsom', 'newspaper', 'newsthump', 'newtest', 'next', 'nfeltp', 'nfl', 'nh', 'nhk', 'nicaragua', 'nicely', 'nick', 'nickname', 'nicola', 'nicolás', 'nicotine', 'niece', 'nigel', 'nigella', 'niger', 'nigeria', 'nigerian', 'nigh', 'night', 'nightclub', 'nightingale', 'nih', 'nine', 'nineteen', 'ninety', 'nipah', 'nirt', 'nites', 'nitish', 'nitp', 'niv', 'nizamuddin', 'niño', 'nj', 'no', 'no1', 'nobel', 'nobody', 'nod', 'nodal', 'noel', 'noguchi', 'noia', 'nominate', 'non#covid19', 'nonbinding', 'nonbravery', 'noncommunicable', 'noncovid', 'noncovid19', 'nondominant', 'none', 'nonessential', 'nonestablished', 'nonexistent', 'nonfatal', 'nonhispanic', 'noninvasive', 'nonmedical', 'nonmuslims', 'nonnas', 'nonnews', 'nonofficial', 'nonpharmaceutical', 'nonpregnant', 'nonsevere', 'nonsmoker', 'nonteaching', 'nonvegetarian', 'nonwhite', 'noon', 'nor', 'norm', 'normal', 'normality', 'normally', 'norris', 'north', 'northcote', 'northeast', 'northeastern', 'northern', 'northshore', 'northumberland', 'northwest', 'northwestern', 'norway', 'nose', 'nostradamus', 'nostril', 'not', 'note', 'noted', 'nothing', 'notice', 'noticed', 'notification', 'notified', 'notify', 'noting', 'notion', 'nouri', 'novartis', 'novel', 'novelist', 'november', 'novotel', 'now', 'nowhttpsbitly3emukei', 'npis', 'nrl', 'nsci', 'nsw', 'nude', 'nudged', 'number', 'numerous', 'nurse', 'nursing', 'nutrient', 'nutrition', 'nutritional', 'nuñez', 'nv', 'nwajiuba', 'ny', 'nyc', 'nyers', 'nynjct', 'nyt', 'nz', 'nz5', 'nzs', 'oath', 'obama', 'obamacare', 'obamas', 'obese', 'obesity', 'obey', 'object', 'obscure', 'obscures', 'observation', 'observational', 'observe', 'observed', 'observer', 'observes', 'observing', 'obtain', 'obvious', 'obviously', 'occasionally', 'occupancy', 'occupational', 'occupies', 'occur', 'occurred', 'occurring', 'occurs', 'ocd', 'oct', 'october', 'ocular', 'odd', 'odds', 'odia', 'odisha', 'odorata', 'oecd', 'of', 'off', 'offence', 'offending', 'offense', 'offer', 'offered', 'offering', 'office', 'officer', 'official', 'officially', 'offlabel', 'offline', 'offloaded', 'offset', 'offsetting', 'ofin', 'often', 'ogden', 'ogun', 'oh', 'ohio', 'ohomai', 'oil', 'ok', 'okay', 'oklahoma', 'okthen', 'old', 'older', 'olive', 'olly', 'oluwaniyi', 'olympic', 'olympics', 'on', 'onboard', 'once', 'onceinacentury', 'ondo', 'one', 'oneday', 'onefifth', 'oneself', 'onestop', 'onethird', 'onetime', 'onetwo', 'ongoing', 'onion', 'onitsha', 'online', 'onlinedistance', 'only', 'ons', 'onset', 'onto', 'open', 'opened', 'opening', 'operate', 'operating', 'operation', 'operational', 'ophthalmologist', 'opinion', 'opponent', 'opportunity', 'oppose', 'opposes', 'opposite', 'opposition', 'ops', 'opt', 'optimal', 'optimisation', 'optimistic', 'optimistically', 'optimization', 'option', 'or', 'oral', 'orana', 'orange', 'orangutan', 'order', 'ordered', 'ordering', 'ordinary', 'oregon', 'organ', 'organic', 'organisation', 'organisationhelp', 'organising', 'organism', 'organization', 'organized', 'organizing', 'orgy', 'origin', 'original', 'originally', 'originate', 'originated', 'originator', 'orleans', 'ormoc', 'ormore', 'orwell', 'os', 'osama', 'oscillococcinum', 'osha', 'osmania', 'osmar', 'osun', 'osun1', 'osun10', 'osun12', 'osun13', 'osun14', 'osun15', 'osun17', 'osun2', 'osun20', 'osun21', 'osun23', 'osun26', 'osun27', 'osun29', 'osun3', 'osun32', 'osun37', 'osun41', 'osun6', 'osun7', 'osun8', 'otc', 'othe', 'other', 'others', 'otherwise', 'otoh', 'ottawa', 'ou', 'ought', 'our', 'ous', 'out', 'outage', 'outbid', 'outbreak', 'outbreakhas', 'outbreaksbut', 'outburst', 'outcome', 'outdated', 'outdoor', 'outdoors', 'outlawing', 'outlet', 'outlier', 'outline', 'outlined', 'outofarea', 'outpaced', 'outpacing', 'outpatient', 'output', 'outrage', 'outset', 'outside', 'outsider', 'outstanding', 'outwards', 'outweigh', 'over', 'overall', 'overarching', 'overblown', 'overcome', 'overcrowding', 'overdoses', 'overflow', 'overheard', 'overlaid', 'overload', 'overloaded', 'overloading', 'overly', 'overnight', 'overreaction', 'overseas', 'overseeing', 'oversight', 'oversold', 'overstated', 'overtaken', 'overtakes', 'overtaking', 'overtime', 'overturned', 'overwhelmed', 'overwhelming', 'owaisi', 'owe', 'own', 'owned', 'owner', 'owning', 'owns', 'oxford', 'oxfordastrazeneca', 'oxygen', 'oxygenation', 'oyo', 'p', 'pa', 'pacaembu', 'pace', 'pacific', 'pack', 'package', 'packaging', 'packed', 'packet', 'page', 'paid', 'pain', 'painful', 'painted', 'pair', 'pak', 'pakistan', 'pakistani', 'pakisthan', 'palermo', 'palliative', 'palm', 'palmer', 'pamphlet', 'panama', 'panchagavya', 'panda', 'pandem', 'pandemic', 'pandemic@drtedros', 'pandemicdriven', 'pandemicno', 'pandemicrelated', 'pandeyji', 'panel', 'pangolin', 'panic', 'panicbuying', 'panicked', 'panicking', 'pant', 'pantin', 'papad', 'paper', 'pappu', 'paracetamol', 'paragraph', 'paraguay', 'paraguayan', 'paralyzed', 'parameter', 'paramilitary', 'parasite', 'parent', 'parental', 'paris', 'parisien', 'park', 'parker', 'parliament', 'parliamentary', 'parmeshwar', 'part', 'partial', 'partially', 'participant', 'participate', 'participating', 'participation', 'particle', 'particular', 'particularly', 'partner', 'partnership', 'partto', 'party', 'partylist', 'parviz', 'pará', 'pas', 'paschim', 'pass', 'passage', 'passed', 'passenger', 'passengerexpress', 'passing', 'past', 'pasted', 'pastits', 'pastor', 'patanjali', 'patarroyo', 'patch', 'patel', 'patent', 'patented', 'path', 'pathogenesis', 'pathology', 'patience', 'patient', 'patiently', 'patientswho', 'patientswhose', 'patil', 'patio', 'patna', 'patrick', 'patriotic', 'patron', 'patronize', 'pattern', 'patting', 'pattinson', 'paul', 'pauline', 'paulo', 'paulos', 'pause', 'paused', 'paved', 'paw', 'pawars', 'pay', 'payback', 'payer', 'paying', 'payment', 'payroll', 'pbcom', 'pcr', 'pcrtest', 'pcrtested', 'peace', 'peacock', 'peak', 'peaked', 'pearl', 'pedestrian', 'pediatric', 'pediatrician', 'pedophile', 'peel', 'peeling', 'peeping', 'peer', 'pegged', 'pelican', 'pelosi', 'pelosis', 'pelted', 'pelting', 'penalised', 'penalty', 'pences', 'pending', 'penetrate', 'penis', 'pennsylvania', 'penny', 'pension', 'pentagon', 'people', 'peoplehe', 'pepper', 'peptide', 'per', 'perambra', 'percapita', 'percent', 'percentage', 'percentpositive', 'perfect', 'perfected', 'perform', 'performance', 'performed', 'performer', 'performing', 'perfume', 'perhaps', 'perilous', 'perinatal', 'period', 'periodic', 'permanent', 'permanently', 'permission', 'permit', 'permitted', 'peroxide', 'perpetrated', 'persisted', 'persistent', 'persists', 'person', 'personal', 'personalised', 'personality', 'personally', 'personnel', 'persontoperson', 'personvia', 'perspective', 'pertains', 'pertussis', 'peruvian', 'pet', 'petal', 'petas', 'petrol', 'pfms', 'pgimer', 'ph', 'pharma', 'pharmaceutical', 'pharmacist', 'pharmacological', 'pharmacy', 'phase', 'phased', 'phe', 'phenolic', 'phenomenal', 'phenomenon', 'pheoc', 'pheocs', 'philadelphia', 'philanthropy', 'philippine', 'phone', 'phoneserted', 'phoning', 'photo', 'photograph', 'photographer', 'physic', 'physical', 'physically', 'physician', 'pib', 'pick', 'picked', 'picking', 'pickup', 'picture', 'pictwittercom4uovmnkvey', 'pie', 'piece', 'pier', 'pig', 'pigeon', 'pile', 'piling', 'pill', 'pillow', 'pilot', 'piltdown', 'pin', 'pinal', 'pinch', 'pinol', 'pioneer', 'pipe', 'piss', 'pissed', 'pisspoor', 'pistol', 'pitanga', 'pitching', 'pitt', 'pivot', 'placard', 'place', 'placebo', 'placed', 'placement', 'placing', 'plague', 'plain', 'plamsarelated', 'plan', 'plandemia', 'plandemic', 'plane', 'planet', 'planned', 'planning', 'plant', 'planting', 'plaque', 'plasma', 'plastic', 'plasticwrapped', 'plasvirec', 'plate', 'plateau', 'plateaued', 'platform', 'play', 'playbook', 'played', 'player', 'playing', 'plaza', 'plea', 'pleads', 'please', 'pleased', 'pledge', 'plenty', 'pleurisy', 'plight', 'plot', 'pls', 'plug', 'plummeting', 'plunge', 'plus', 'pluscoronil', 'plz', 'pm', 'pmay', 'pmjjby', 'pmnrf', 'pmo', 'pmsby', 'pna', 'pneumococcal', 'pneumonia', 'pns', 'pocket', 'podcast', 'poe', 'poem', 'poet', 'point', 'pointed', 'pointing', 'pointless', 'poised', 'poison', 'poisonous', 'pokhriyal', 'pole', 'poleaxed', 'police', 'policed', 'policeman', 'policing', 'policy', 'polio', 'poliolike', 'polish', 'political', 'politically', 'politician', 'politiciansdont', 'politicized', 'politics', 'politifact', 'poll', 'pollen', 'polling', 'pollutant', 'pollution', 'pollutionwhich', 'polymerase', 'pompeo', 'pondicherry', 'pool', 'pooled', 'pooling', 'poor', 'poorly', 'poorselders', 'pope', 'popped', 'popping', 'popular', 'populated', 'population', 'populous', 'port', 'portal', 'portend', 'portfolio', 'portion', 'porto', 'portraying', 'portrays', 'portsmouth', 'portugal', 'portuguese', 'pose', 'posed', 'posing', 'position', 'positioned', 'positive', 'positive+negative', 'positively', 'positivity', 'possession', 'possibility', 'possible', 'possibly', 'post', 'postbrexit', 'postcovid', 'posted', 'poster', 'posting', 'postintensive', 'postlockdown', 'postpone', 'postponed', 'postponement', 'postponing', 'postregistration', 'postventilation', 'pot', 'potency', 'potent', 'potential', 'potentially', 'pothole', 'poultry', 'pound', 'pour', 'poverty', 'powder', 'power', 'powerful', 'powerpoint', 'pp', 'ppe', 'ppes', 'ppi', 'ppl', 'practice', 'practiced', 'practicing', 'practise', 'practitioner', 'pradesh', 'pradeshs', 'pradhan', 'pragya', 'praise', 'praised', 'praising', 'prasad', 'prattle', 'pray', 'prayed', 'prayer', 'praying', 'precaution', 'precautionary', 'preceding', 'precious', 'precipitously', 'precise', 'preclinical', 'predator', 'predicament', 'predict', 'predicted', 'predicting', 'prediction', 'predictive', 'predicts', 'preexisting', 'prefect', 'prefectural', 'prefer', 'preference', 'preferred', 'pregnancy', 'pregnant', 'prejuly', 'preliminary', 'prelockdown', 'premature', 'premier', 'premji', 'prenatal', 'prepair', 'prepandemic', 'preparation', 'prepare', 'prepared', 'preparedness', 'prepares', 'preparing', 'prequalified', 'preregister', 'pres', 'prescribe', 'prescribed', 'prescribing', 'prescription', 'presence', 'present', 'presentation', 'presented', 'presenter', 'presenting', 'presently', 'preserve', 'preserved', 'presidency', 'president', 'presidential', 'press', 'presser', 'pressure', 'presumably', 'presumed', 'presumptive', 'presumptively', 'presymptomatic', 'pretence', 'pretend', 'pretended', 'pretending', 'preterm', 'pretty', 'prevalence', 'prevent', 'prevented', 'preventing', 'prevention', 'preventive', 'prevents', 'preview', 'previewed', 'previous', 'previously', 'prexisting', 'price', 'priest', 'primarily', 'primary', 'primate', 'prime', 'prince', 'princess', 'principal', 'prior', 'prioritise', 'prioritised', 'prioritize', 'priority', 'prison', 'prisoner', 'priti', 'pritzker', 'privacy', 'private', 'priyanka', 'prize', 'prizewinning', 'proactively', 'probability', 'probable', 'probably', 'probiden', 'problem', 'procedure', 'proceed', 'proceeding', 'process', 'processed', 'processing', 'procession', 'proclaim', 'procovid', 'procurement', 'produce', 'produced', 'producing', 'product', 'production', 'prof', 'professional', 'professor', 'professorso', 'profile', 'profit', 'profitable', 'program', 'programme', 'progress', 'progressed', 'progression', 'progressive', 'progressively', 'prohibit', 'prohibited', 'prohibiting', 'prohibits', 'project', 'projected', 'projecting', 'projection', 'prolonged', 'promise', 'promised', 'promising', 'promote', 'promoted', 'promoting', 'promotion', 'prompt', 'promptly', 'prone', 'prong', 'pronounced', 'proof', 'propaganda', 'proper', 'properly', 'properly565', 'property', 'prophesied', 'prophet', 'prophetess', 'prophylactic', 'prophylaxis', 'proportion', 'proportional', 'proposal', 'proposed', 'proposes', 'prospect', 'prostata', 'prostatitis', 'prostrate', 'protect', 'protected', 'protecting', 'protection', 'protective', 'protects', 'protein', 'protest', 'protester', 'protesting', 'protestors', 'protocol', 'protocolampprocedure', 'protocolprocedure', 'proud', 'prounited', 'prove', 'proved', 'proven', 'provide', 'provided', 'provider', 'provides', 'providing', 'province', 'proving', 'provision', 'provisional', 'psa', 'psychological', 'ptf', 'pub', 'publi', 'public', 'publication', 'publicly', 'publish', 'published', 'publishes', 'publishing', 'puducherry', 'puebla', 'puerto', 'pulaski', 'pull', 'pulled', 'pulling', 'pullman', 'pulmonologists', 'pulp', 'pump', 'punch', 'pundit', 'pune', 'punishable', 'punished', 'punishing', 'punishment', 'punjab', 'pupil', 'pur', 'purchase', 'purchasing', 'pure', 'puri', 'purnima', 'puro', 'purohit', 'purple', 'purported', 'purportedly', 'purpose', 'purposefully', 'push', 'pushed', 'pushing', 'pushpa', 'pussy', 'put', 'putin', 'putting', 'puzzled', 'pvt', 'q', 'qampa', 'qanon', 'qatar', 'qd', 'qq', 'qr', 'quadruple', 'quadrupled', 'quality', 'quantify', 'quantitative', 'quantity', 'quarantine', 'quarantined', 'quarantining', 'quarter', 'quaver', 'quebec', 'queen', 'queenstown', 'quercetin', 'query', 'question', 'questionable', 'questioned', 'queue', 'queuing', 'quick', 'quickly', 'quicktake', 'quietly', 'quinine', 'quintero', 'quit', 'quite', 'quito', 'quits', 'quitting', 'quiz', 'quote', 'quoted', 'quoting', 'quran', 'r', 'r$', 'r0', 'ra', 'raab', 'raam', 'raccoon', 'race', 'raceethnicity', 'rachael', 'rachel', 'raches', 'racial', 'racing', 'racism', 'racist', 'radcliffe', 'radiation', 'radio', 'rahman', 'rahul', 'rai', 'raid', 'raided', 'rail', 'railway', 'rain', 'raina', 'raise', 'raised', 'raising', 'raj', 'rajapaksa', 'rajasthan', 'rajasthans', 'rajkot', 'rajoelina', 'rajpura', 'rally', 'ram', 'rama', 'ramadan', 'ramakrishna', 'ramaphosa', 'ramdev', 'ramdevs', 'ramesh', 'ramp', 'rampd', 'ramped', 'ramping', 'rampup', 'ramu', 'ran', 'randomized', 'randomly', 'range', 'rank', 'ranking', 'rao', 'raoult', 'rape', 'rapid', 'rapidly', 'rare', 'rasam', 'rash', 'rashid', 'rashtriya', 'rat', 'ratan', 'rate', 'rated', 'rather', 'rating', 'ratio', 'ration', 'ravi', 'ravindra', 'raw', 'ray', 'raymond', 'rayner', 'rayners', 'rbi', 'rdrp', 're', 'reach', 'reached', 'reaching', 'reacting', 'reaction', 'reactivated', 'reacts', 'read', 'reader', 'readily', 'reading', 'ready', 'reagent', 'reais', 'real', 'realised', 'realistic', 'reality', 'realize', 'realized', 'really', 'realtime', 'reappraisal', 'reason', 'reasonable', 'reassurance', 'reassured', 'reassuring', 'rebirth', 'rebound', 'rebounded', 'rebuild', 'rebuilt', 'rebuking', 'rec', 'recall', 'recalling', 'recast', 'receive', 'received', 'receiver', 'receives', 'receiving', 'recent', 'recently', 'reception', 'recession', 'recieved', 'recipe', 'recipient', 'recirculated', 'recital', 'recite', 'reciting', 'reckoning', 'reclassified', 'reco', 'recognise', 'recognition', 'recognize', 'recognized', 'recognizing', 'recommend', 'recommendation', 'recommended', 'recommends', 'reconfigure', 'reconvening', 'record', 'recorded', 'recording', 'recover', 'recovered', 'recoveredrecovered', 'recovering', 'recovers', 'recovery', 'recreated', 'rectifying', 'red', 'reddit', 'reddy', 'redefined', 'redeployed', 'redfield', 'redistributing', 'redraws', 'reduce', 'reduced', 'reduces', 'reducing', 'reduction', 'reeducation', 'reef', 'reelected', 'reelection', 'reesmogg', 'refactor', 'refer', 'reference', 'referencing', 'referral', 'referred', 'referring', 'refers', 'reff', 'reffective', 'reflect', 'reflected', 'reflection', 'reflects', 'reformats', 'refrigerator1800ice', 'refund', 'refuse', 'refused', 'refusing', 'regard', 'regarding', 'regardless', 'regime', 'region', 'regional', 'register', 'registered', 'registering', 'registration', 'registry', 'regret', 'regular', 'regularly', 'regulation', 'rehabilitation', 'reicher', 'reignite', 'reimbursement', 'reimplementation', 'reimposed', 'reimposing', 'reina', 'reinfected', 'reinfection', 'reinforce', 'reinforced', 'reiterate', 'reiterated', 'reiterates', 'reject', 'rejecting', 'rejoice', 'relactation', 'related', 'relating', 'relationship', 'relative', 'relatively', 'relax', 'relaxation', 'relaxed', 'relaxing', 'release', 'released', 'releasing', 'relevance', 'relevant', 'reliable', 'reliably', 'reliance', 'relief', 'relieved', 'religion', 'religious', 'reluctance', 'reluctantly', 'rely', 'relying', 'remain', 'remained', 'remaining', 'remains', 'remark', 'remarkable', 'remarkably', 'remdesivir', 'remedy', 'remember', 'remembering', 'remind', 'reminded', 'reminder', 'reminds', 'removal', 'remove', 'removed', 'renata', 'rendesiver', 'renew', 'renewed', 'renovation', 'renowned', 'rent', 'renter', 'reoccupation', 'reopen', 'reopened', 'reopening', 'reopenings', 'reopens', 'rep', 'repairer', 'repatriated', 'repeat', 'repeatable', 'repeated', 'repeatedly', 'replace', 'replaced', 'replicant', 'replication', 'repo', 'report', 'report@alexismadrigal', 'reportage', 'reported', 'reportedly', 'reporter', 'reporting', 'repositioning', 'repository', 'reposting', 'reprehensible', 'represent', 'representation', 'representative', 'represented', 'representing', 'represents', 'repression', 'reprinted', 'reproducible', 'reproduction', 'reproductive', 'republic', 'republican', 'repurposed', 'reqest', 'request', 'requested', 'requesting', 'require', 'required', 'requirement', 'requires', 'requiring', 'rerun', 'rescue', 'rescued', 'rescuing', 'research', 'researcher', 'reservation', 'reserve', 'reserved', 'reservoir', 'residence', 'resident', 'residual', 'residue', 'resign', 'resigned', 'resigns', 'resist', 'resistiré', 'resists', 'resolutely', 'resolution', 'resolve', 'resolved', 'resolving', 'resort', 'resorting', 'resource', 'respect', 'respected', 'respecting', 'respective', 'respectively', 'respirator', 'respiratory', 'respond', 'responded', 'responder', 'responding', 'responds', 'response', 'responsibility', 'responsible', 'responsive', 'responsiveness', 'rest', 'restart', 'restaurant', 'restored', 'restrict', 'restricted', 'restricting', 'restriction', 'restrictive', 'result', 'resulted', 'resulting', 'resume', 'resumed', 'resuming', 'resumption', 'resurgence', 'retail', 'retested', 'rethink', 'retitling', 'retracted', 'retrieved', 'retroactively', 'retrovirus', 'return', 'returned', 'returnee', 'returnees', 'returning', 'retweet', 'retweeted', 'reused', 'reusing', 'revalidation', 'reveal', 'revealed', 'revealing', 'reveals', 'revenuethink', 'reversal', 'reverse', 'reversed', 'reversegenetic', 'reversible', 'review', 'reviewed', 'reviewing', 'revise', 'revised', 'revived', 'revoke', 'revoked', 'revoking', 'reward', 'rfid', 'rhesus', 'rheumatoid', 'rhinovirus', 'rhode', 'rhondda', 'ri', 'riaz', 'riazs', 'ribbon', 'rice', 'richard', 'richest', 'richie', 'rico', 'rid', 'ride', 'ridiculous', 'rife', 'riga', 'right', 'rightbold', 'righthand', 'rightwing', 'rigorous', 'rink', 'rinse', 'rinsing', 'rio', 'rioja', 'riot', 'rioting', 'rip', 'risa', 'rise', 'risen', 'rishi', 'rishte', 'rising', 'risk', 'riskbased', 'risking', 'riskreward', 'risky', 'rita', 'rivaled', 'river', 'riyaz', 'rizwan', 'rmds', 'rna', 'rnadependent', 'rnaught', 'rnc', 'road', 'roadblock', 'roadmap', 'roaming', 'rob', 'robbery', 'robert', 'roberto', 'robin', 'robredo', 'roche', 'rock', 'rodrigo', 'rohingya', 'rohtak', 'role', 'roll', 'rollback', 'rolled', 'rolling', 'rollout', 'rome', 'ron', 'ronaldo', 'ronan', 'roof', 'roofer', 'room', 'rooney', 'roosevelt', 'rose', 'rosewood', 'roskill', 'rotorua', 'rough', 'roughly', 'round', 'roundup', 'route', 'routine', 'routinely', 'row', 'roy', 'royal', 'royce', 'rrt', 'rs15000', 'rs3900000', 'rs5000', 'rsv', 'rt', 'rtpcr', 'rtve', 'rubber', 'ruby', 'rudakovbloomberg', 'rudd', 'rudimentary', 'rudy', 'ruin', 'rukh', 'rule', 'ruled', 'ruling', 'rumor', 'rumour', 'run', 'rundown', 'runni', 'running', 'runny', 'rupee', 'rural', 'rurmeric', 'rush', 'rushed', 'russell', 'russia', 'russian', 'rvsv', 'rw', 'ryanair', 'rydges', 's', 's1s2', 'saad', 'sack', 'sacred', 'sacrifice', 'saddam', 'saddened', 'sadiq', 'sadly', 'sadness', 'saeed', 'saf', 'safe', 'safely', 'safety', 'sage', 'sahel', 'sai', 'said', 'sail', 'sailed', 'saint', 'sake', 'salad', 'salariesluxury', 'salary', 'sale', 'saleh', 'saline', 'saliva', 'salivabased', 'sallah', 'salt', 'salute', 'saluting', 'salvador', 'salvatore', 'salwar', 'sam', 'same', 'samitis', 'sample', 'samplesday', 'sampling', 'sampoerna', 'samuel', 'san', 'sanatan', 'sanchez', 'sanctuary', 'sander', 'sang', 'sangh', 'sani', 'sanitiser', 'sanitize', 'sanitized', 'sanitizer', 'sanitizers', 'sanitizing', 'sanskrit', 'santa', 'santiago', 'santo', 'santojanni', 'sao', 'sara', 'sarah', 'sarcastic', 'sard', 'sars', 'sarscov', 'sarscov2', 'sat', 'satellite', 'sathosa', 'satire', 'saturation', 'saturday', 'satyendar', 'satyendra', 'saudi', 'saurab', 'savarkar', 'save', 'saved', 'saving', 'saw', 'say', 'sayardaw', 'sayha', 'saying', 'sbi', 'sc', 'scale', 'scaled', 'scaleup', 'scaling', 'scam', 'scan', 'scanned', 'scanner', 'scapegoat', 'scare', 'scared', 'scarf', 'scary', 'scathing', 'scattered', 'scenario', 'scenario#coronavirus', 'scene', 'scenery', 'schedule', 'scheduled', 'scheduling', 'scheme', 'schizophrenia', 'school', 'schoolchildren', 'schooling', 'schoolkids', 'schwabe', 'science', 'scientific', 'scientifically', 'scientist', 'sclerosis', 'scoffed', 'scope', 'score', 'scorecard', 'scotland', 'scott', 'scramble', 'scraper', 'scream', 'screaming', 'screen', 'screened', 'screening', 'screenshot', 'scripps', 'script', 'scrub', 'scrutiny', 'sd', 'sdsm', 'sea', 'sealed', 'seamless', 'sean', 'search', 'searching', 'seashore', 'season', 'seasonal', 'seat', 'seated', 'seattle', 'seawater', 'sec', 'secession', 'sechenov', 'secluedo', 'secon', 'second', 'secondary', 'secondhighest', 'secondly', 'secret', 'secretary', 'secretarygeneral', 'secretion', 'secretly', 'section', 'sector', 'secure', 'secured', 'secures', 'securing', 'security', 'sedated', 'see', 'seed', 'seedso', 'seeing', 'seek', 'seeker', 'seeking', 'seem', 'seemingly', 'seems', 'seen', 'segment', 'seldom', 'selected', 'selecting', 'selectively', 'self', 'selfadministered', 'selfcare', 'selfcheck', 'selfchecker', 'selfcheckup', 'selfdiagnostic', 'selffinancing', 'selfie', 'selfish', 'selfisolate', 'selfisolating', 'selfisolation', 'selfless', 'selflessly', 'selfmedicate', 'selfmonitor', 'selfmonitoring', 'selfquarantine', 'selfquarantined', 'selftest', 'sell', 'seller', 'selling', 'selva', 'sen', 'senate', 'senator', 'send', 'sender', 'sending', 'sends', 'senegal', 'senegalese', 'senior', 'sensational', 'sense', 'sensible', 'sensitisation', 'sensitivity', 'sensor', 'sent', 'sentence', 'seoul', 'sep', 'separate', 'separated', 'separately', 'sepsis', 'sept', 'september', 'septum', 'sequel', 'sequence', 'sequencing', 'serbia', 'serf', 'sergio', 'serial', 'series', 'serious', 'seriously', 'seriousness', 'sero', 'serology', 'seroprevalence', 'serum', 'servant', 'serve', 'served', 'server', 'service', 'sesame', 'set', 'setting', 'settle', 'setup', 'seva', 'seven', 'sevenday', 'seventeen', 'seventh', 'several', 'severe', 'severely', 'severity', 'sex', 'sexual', 'sgrh', 'shadab', 'shade', 'shadow', 'shah', 'shaheed', 'shaheen', 'shahrukh', 'shake', 'shakespeare', 'shakeup', 'shaking', 'shall', 'sham', 'shamble', 'shame', 'shameful', 'shands', 'shangrila', 'shape', 'shapps', 'sharad', 'sharda', 'share', 'shared', 'sharepic', 'sharing', 'sharma', 'sharp', 'sharply', 'shashi', 'shattock', 'shave', 'shaving', 'she', 'shea', 'shed', 'sheep', 'sheeran', 'sheet', 'shelf', 'shell', 'shelter', 'shelteringinplace', 'shelterinplace', 'shenzhen', 'shetty', 'shi', 'shield', 'shift', 'shifting', 'shijian', 'shincheonji', 'ship', 'shipped', 'shipping', 'shipwreck', 'shirt', 'shit', 'shiva', 'shivaya', 'shivraj', 'shocked', 'shocking', 'shockingly', 'shoe', 'shook', 'shoot', 'shooter', 'shooting', 'shop', 'shopper', 'shopping', 'shore', 'short', 'shortage', 'shortest', 'shortly', 'shortness', 'shortsighted', 'shortterm', 'shot', 'should', 'shouldering', 'shouldnt', 'shout', 'shouting', 'shoutout', 'show', 'showcasing', 'showed', 'shower', 'showing', 'shown', 'showrunner', 'shri', 'shrime', 'shrinking', 'shripad', 'shut', 'shutdown', 'shuts', 'shutting', 'si', 'siam', 'sibling', 'sic', 'sick', 'sicker', 'sickness', 'siddaramaiah', 'side', 'sidewalk', 'sight', 'sign', 'signage', 'signal', 'signed', 'significant', 'significantly', 'signing', 'sii', 'sikora', 'silent', 'silently', 'silver', 'similar', 'similarity', 'similarly', 'simple', 'simply', 'simpson', 'simulated', 'simulation', 'simultaneously', 'since', 'sindh', 'singapore', 'singer', 'singh', 'singing', 'single', 'singleday', 'singleserver', 'sinha', 'sinn', 'sinopharms', 'sinovac', 'sinovacs', 'sip', 'sir', 'sisi', 'sister', 'sit', 'site', 'sitting', 'situation', 'six', 'sixth', 'sizable', 'size', 'sizeable', 'skill', 'skilled', 'skin', 'skintoskin', 'skip', 'skull', 'sky', 'skyrocket', 'slack', 'slacker', 'slang', 'slaughter', 'slavery', 'sleep', 'sleepless', 'slice', 'slide', 'slight', 'slightly', 'slippery', 'slovakia', 'slow', 'slowdown', 'slowed', 'slowing', 'slowly', 'slows', 'slpp', 'sluggish', 'slum', 'slurry', 'sm', 'small', 'smaller', 'smart', 'smartphone', 'smartphones', 'smell', 'smelltaste', 'smile', 'smith', 'smoke', 'smoked', 'smoker', 'smoking', 'smoky', 'smooth', 'smt', 'smugly', 'snake', 'snap', 'snapchat', 'snapped', 'snapshot', 'sneeze', 'sneezecough', 'sneezescoughs', 'sneezing', 'sniff', 'snitch', 'snow', 'snowdon', 'snuck', 'snugly', 'so', 'soap', 'soar', 'soared', 'socalled', 'soccer', 'social', 'socialism', 'society', 'sociopathic', 'soda', 'sodium', 'sodont', 'soft', 'software', 'sofía', 'sokoto', 'sold', 'soldier', 'sole', 'solid', 'solidarity', 'solution', 'solve', 'solved', 'solvent', 'somalia', 'some', 'some1nd2findout', 'somebody', 'somehow', 'someone', 'something', 'sometime', 'sometimes', 'somewhat', 'somewhere', 'son', 'song', 'sonko', 'sony', 'soon', 'sooner', 'sop', 'sophisticated', 'sore', 'soren', 'soros', 'sorosglobalistsdem', 'sorrow', 'sorrowful', 'sorry', 'sort', 'sosa', 'sound', 'soup', 'souplike', 'source', 'sourcing', 'south', 'southcentral', 'southeast', 'southern', 'southwest', 'southwestcoast', 'sp', 'space', 'spaghetti', 'spain', 'spanish', 'spanishlanguage', 'spanning', 'spared', 'spark', 'sparked', 'spate', 'spawned', 'speak', 'speaker', 'speaking', 'speaks', 'special', 'specialist', 'specialized', 'specie', 'specific', 'specifically', 'specified', 'specifies', 'specifying', 'specimen', 'spectre', 'spectrum', 'speech', 'speed', 'speedy', 'spelled', 'spend', 'spending', 'spends', 'spent', 'sperm', 'spice', 'spicy', 'spike', 'spiked', 'spiky', 'spilled', 'spin', 'spirit', 'spiritual', 'spit', 'spitalongadon', 'spite', 'spitting', 'spoil', 'spoke', 'spoken', 'spokesman', 'spokesperson', 'sponsor', 'sponsored', 'spoon', 'spoonful', 'sport', 'spot', 'sprawled', 'spray', 'sprayed', 'spraying', 'sprea', 'spread', 'spreader', 'spreaderlow', 'spreading', 'spreadsheet', 'spreadsheetbased', 'spree', 'spring', 'sprinklr', 'spur', 'sputnik', 'sputum', 'square', 'squash', 'squeezed', 'sri', 'sridhar', 'srinivas', 'st', 'sta', 'stabbed', 'stabilise', 'stable', 'stably', 'stacked', 'stadium', 'staff', 'staffing', 'stafford', 'stage', 'stage3', 'staggered', 'staggering', 'stake', 'stakeholder', 'stalling', 'stamford', 'stamping', 'stance', 'stand', 'standard', 'standardised', 'standardize', 'standardized', 'standby', 'standing', 'stanford', 'staphylococcus', 'star', 'stared', 'starmer', 'start', 'started', 'starting', 'startup', 'starving', 'stat', 'state', 'statebystate', 'stated', 'statelevel', 'statemandated', 'statement', 'stateoftheart', 'stateowned', 'staterun', 'statesmaharashtra', 'statesman', 'statesmanship', 'statesterritories', 'statesthey', 'statesut', 'statesuts', 'stateuts', 'statewide', 'statewise', 'stating', 'station', 'statistic', 'statistically', 'statisticslink', 'stats', 'statue', 'status', 'statutory', 'stay', 'stayathome', 'stayed', 'staying', 'std', 'steadily', 'steady', 'steal', 'stealth', 'steam', 'steamgaraare', 'steep', 'steer', 'stefano', 'stella', 'stemi', 'stemming', 'step', 'stephen', 'stepping', 'sterility', 'sterilization', 'sterilized', 'steroid', 'stethoscope', 'stevensville', 'stick', 'sticker', 'sticking', 'stigma', 'still', 'stillbirth', 'stimulate', 'stimulus', 'stir', 'stock', 'stocked', 'stockpile', 'stockton', 'stoked', 'stoking', 'stomach', 'stomped', 'stone', 'stoner', 'stood', 'stool', 'stop', 'stoping', 'stopped', 'stopping', 'storage', 'store', 'storehouse', 'storm', 'storming', 'story', 'stoush', 'stove', 'straight', 'straightforward', 'strain', 'strand', 'stranded', 'strange', 'strapped', 'strategic', 'strategy', 'stream', 'streamlining', 'street', 'strength', 'strengthen', 'strengthening', 'stress', 'stressed', 'stressful', 'stressing', 'stretched', 'strewn', 'strict', 'stricter', 'strictest', 'strictly', 'strike', 'stripped', 'stripper', 'stroke', 'strong', 'stronger', 'strongest', 'structure', 'structured', 'struggle', 'struggled', 'struggling', 'strung', 'stubbornly', 'stuck', 'student', 'studied', 'study', 'stuff', 'stumbling', 'stunning', 'stupid', 'sturgeon', 'stuttering', 'style', 'sub1000', 'suba', 'subcategories', 'subcluster', 'subject', 'subjected', 'subjecting', 'submarine', 'submit', 'submitted', 'subnational', 'subscribe', 'subsequently', 'subsided', 'substance', 'substantial', 'substantially', 'substantiallynearly', 'substitute', 'subtle', 'subtracting', 'suburban', 'succeed', 'success', 'successful', 'successfully', 'successive', 'successively', 'successor', 'successorbarack', 'succumbed', 'such', 'suck', 'sudan', 'sudden', 'suddenly', 'sudima', 'suffer', 'suffered', 'sufferer', 'suffering', 'sufficient', 'sugarcreek', 'suggest', 'suggested', 'suggesting', 'suggestion', 'suggests', 'suicidal', 'suicide', 'suit', 'suitable', 'suite', 'sulfur', 'sultanpuri', 'sum', 'sumac', 'suman', 'summarizes', 'summary', 'summer', 'summon', 'sun', 'sunak', 'sunday', 'sunderland', 'sunk', 'sunlight', 'sunmon', 'suntan', 'super', 'superimposed', 'superintendent', 'supermarket', 'superspreaders', 'superstar', 'supervised', 'supervision', 'supervisor', 'superwealthy', 'supplement', 'supplementary', 'supplementation', 'supplier', 'supply', 'supplying', 'support', 'supported', 'supporter', 'supporting', 'suppose', 'supposed', 'supposedly', 'suppress', 'suppressed', 'suppressing', 'supremacist', 'supreme', 'sur', 'surabaya', 'suraksha', 'surat', 'sure', 'surely', 'surest', 'surface', 'surge', 'surged', 'surgeon', 'surgery', 'surgical', 'surpass', 'surpassed', 'surpasses', 'surprise', 'surprised', 'surprising', 'surrender', 'surrendered', 'surreptitiously', 'surveillance', 'survey', 'surveyed', 'survival', 'survive', 'survived', 'survivers', 'survives', 'surviving', 'survivor', 'suspect', 'suspected', 'suspended', 'suspending', 'suspends', 'suspension', 'sustain', 'sustainability', 'sustainable', 'sustained', 'suu', 'swab', 'swabbing', 'swamp', 'swamped', 'swanston', 'swastika', 'swat', 'swatantra', 'swayamsevak', 'swears', 'sweat', 'sweden', 'sweep', 'sweeping', 'sweet', 'swept', 'swift', 'swiftly', 'swimming', 'swine', 'switched', 'switching', 'switzerland', 'swung', 'sydney', 'symbol', 'symptom', 'symptomatic', 'symptombased', 'symptomfree', 'synchronised', 'synchronized', 'syncytial', 'syndrome', 'syria', 'system', 'systematic', 'systematically', 'systemic', 'são', 't', 'tab', 'table', 'tablespoon', 'tablet', 'tablighi', 'tabligi', 'tablik', 'tabloid', 'tackle', 'tackled', 'tackling', 'tactic', 'taf', 'tag', 'taht', 'tainted', 'taipei', 'taiwan', 'taiwanese', 'taj', 'tak', 'take', 'takeaway', 'takedown', 'taken', 'takeout', 'takeover', 'taki', 'taking', 'talavera', 'talented', 'talk', 'talked', 'talker', 'talking', 'talkwithus', 'tally', 'tallying', 'taluk', 'tamarind', 'tamil', 'tamilnadu', 'tamped', 'tanda', 'tangihanga', 'tank', 'tanzania', 'tanzanian', 'tap', 'tape', 'taraba3', 'taraba4', 'taraba5', 'target', 'targeting', 'task', 'taskforce', 'taste', 'tasuku', 'tata', 'tatas', 'tax', 'taxi', 'taxpayer', 'tb', 'tchotchke', 'te', 'tea', 'teach', 'teacher', 'teaching', 'team', 'tear', 'tearing', 'teaspoon', 'tech', 'techbiotechbig', 'technical', 'technically', 'technician', 'technique', 'technology', 'tectonic', 'ted', 'tedros', 'teen', 'teenager', 'teething', 'teich', 'telangana', 'telecast', 'telecom', 'telecommunication', 'telecounselling', 'telehealth', 'telemedicine', 'telephone', 'televangelist', 'television', 'tell', 'telling', 'temp', 'temperature', 'template', 'temple', 'temporary', 'ten', 'tenant', 'tend', 'tends', 'tennessee', 'tension', 'tent', 'tenyear', 'term', 'terminate', 'terminated', 'terminator', 'terra', 'terrassa', 'terrible', 'terrified', 'terrifying', 'territorial', 'territory', 'terrius', 'terrorist', 'tertiary', 'tesco', 'tesla', 'test', 'tested', 'tester', 'testi', 'testifying', 'testing', 'testingconfirmed', 'testsa', 'testsday', 'testsdaymillion', 'testssecond', 'teststhat', 'teststhe', 'testtracktreat', 'tetanus', 'texas', 'text', 'textile', 'th', 'thaali', 'thackeray', 'thailand', 'thali', 'than', 'than17', 'thane', 'thank', 'thankfully', 'thanks', 'tharoor', 'that', 'thathttpstcorbznvpwlhr', 'thatll', 'thats', 'the', 'theatre', 'thecoronavirus', 'theft', 'their', 'theirafterward', 'them', 'themcases', 'theme', 'then', 'thenpresident', 'theobromine', 'theophylline', 'theorist', 'theory', 'therapeutic', 'therapy', 'there', 'therefore', 'therell', 'thereof', 'thermal', 'thermometer', 'these', 'they', 'theyd', 'theyll', 'theyre', 'theyve', 'thick', 'thing', 'think', 'thinkin', 'thinking', 'thinner', 'third', 'thirdhighest', 'thirteen', 'thirty', 'thirtyeight', 'thirtyfive', 'thirtyfour', 'thirtynine', 'thirtythree', 'this', 'thissome', 'thoracic', 'thorough', 'thoroughbred', 'thoroughly', 'those', 'though', 'thought', 'thousand', 'thousandbed', 'thrashed', 'thread', 'threat', 'threatened', 'threatening', 'threatens', 'three', 'threefourths', 'threw', 'thrice', 'thriller', 'thrive', 'thrives', 'throat', 'thrombocytopenia', 'thrombosis', 'throne', 'through', 'throughout', 'throughwe', 'throw', 'throwing', 'thrown', 'thru', 'thulped', 'thumb', 'thursday', 'thus', 'thwarting', 'thyrocare', 'thyrotoxicosis', 'tick', 'ticked', 'ticket', 'ticketdebit', 'tidbit', 'tie', 'tied', 'tiffany', 'tiger', 'tightened', 'tighter', 'tightly', 'tightness', 'tijuana', 'tik', 'tiktok', 'tilak', 'till', 'time', 'timeline', 'timely', 'timing', 'timothy', 'timothyhallett', 'tinapa', 'tincture', 'tiny', 'tip', 'tipping', 'tire', 'tired', 'tireless', 'tissue', 'title', 'tn', 'to', 'tobacco', 'tobacconist', 'today', 'todayclose', 'todaywe', 'together', 'togetherness', 'toi', 'toil', 'toilet', 'tok', 'token', 'tokoroa', 'tokyo', 'told', 'toll', 'tom', 'tomato', 'tomb', 'tommy', 'tomorrow', 'ton', 'tone', 'tongue', 'tonight', 'tony', 'too', 'took', 'tool', 'toolkit', 'toothpaste', 'top', 'top5', 'topic', 'topped', 'toronto', 'tortuous', 'tory', 'tota', 'total', 'totally', 'totaltestresults', 'touch', 'touched', 'touching', 'tough', 'tougher', 'toulouse', 'tour', 'tourist', 'tout', 'touted', 'touting', 'toward', 'towards', 'tower', 'town', 'toxin', 'toy', 'tpm', 'trace', 'traced', 'tracer', 'tracing', 'tracingappfeedback@healthgovtnz', 'track', 'tracked', 'tracker', 'trackerthe', 'tracking', 'trade', 'tradition', 'traditional', 'traffic', 'tragedy', 'tragic', 'trail', 'trailing', 'train', 'trained', 'trainee', 'training', 'trajectory', 'tranche', 'transcript', 'transferred', 'transform', 'transformational', 'transformed', 'transfusion', 'transited', 'transitional', 'translated', 'translates', 'transmission', 'transmit', 'transmitted', 'transmitting', 'transparency', 'transparent', 'transparently', 'transport', 'transportation', 'trap', 'trauma', 'travel', 'traveled', 'traveler', 'traveling', 'travelled', 'traveller', 'travelling', 'travolta', 'tray', 'trchnology', 'treasury', 'treat', 'treated', 'treating', 'treatment', 'tree', 'trehan', 'tremend', 'tremendous', 'trend', 'trended', 'trending', 'trey', 'triaging', 'trial', 'trial#', 'tribal', 'tribe', 'tribute', 'trick', 'tried', 'triggered', 'triggering', 'trillanes', 'trillion', 'trip', 'triple', 'tripled', 'tripping', 'tripura', 'triump', 'trolley', 'troop', 'trophy', 'trouble', 'troubling', 'truck', 'trudeau', 'trudeaus', 'true', 'truenat', 'truenatantigen', 'truly', 'trump', 'trupti', 'trust', 'trusted', 'truth', 'truthdonald', 'try', 'trying', 'tsa', 'tshirt', 'tsunami', 'ttsi', 'tube', 'tuberculosis', 'tuberville', 'tucked', 'tucker', 'tues', 'tuesday', 'tuesdayfriday', 'tulsa', 'tumbleweed', 'tumor', 'tune', 'tunisia', 'tunisian', 'turd', 'turkey', 'turkish', 'turkmenistan', 'turmeric', 'turn', 'turnaround', 'turnaroundtime', 'turned', 'turning', 'tuscaloosa', 'tv', 'tv9news', 'tw', 'twatty', 'tweet', 'tweeted', 'tweeting', 'twenty', 'twentyone', 'twentyseven', 'twentythree', 'twice', 'twilight', 'twin', 'twitter', 'two', 'twofold', 'twothirds', 'twoweek', 'tx', 'tycoon', 'tyneside', 'type', 'typically', 'typing', 'typo', 'u', 'uae', 'uber', 'ucla', 'uddhav', 'ufc', 'uganda', 'ugandan', 'uighur', 'uk', 'ukgovernment', 'ukrainian', 'ukusa', 'ulsan', 'ultimate', 'ultimately', 'ultrarich', 'ultraviolet', 'uma', 'umbrella', 'un', 'unable', 'unacceptable', 'unanimously', 'unattended', 'unauthorized', 'unavailability', 'unbelievable', 'uncaptured', 'uncertainty', 'unchanged', 'uncle', 'unclear', 'uncomfortable', 'unconfirmed', 'unconscionable', 'uncut', 'under', 'undercount', 'undercounting', 'undergo', 'undergoing', 'underground', 'underlying', 'underrated', 'underscore', 'understand', 'understanding', 'understands', 'understood', 'undertaken', 'undertaking', 'underutilised', 'underway', 'undetected', 'undoubtedly', 'unemployed', 'unemployment', 'unequally', 'unequivocal', 'unequivocally', 'unessential', 'unethical', 'uneven', 'unevenly', 'unexpected', 'unfair', 'unfolds', 'unforeseen', 'unfortunate', 'unfortunately', 'unfrozen', 'unfulfilled', 'uni', 'unicef', 'unidentified', 'unimaginable', 'unimed', 'uninterested', 'union', 'unique', 'unison', 'unisted', 'unit', 'unite', 'united', 'unity', 'univeristy', 'universal', 'universitario', 'university', 'unjustifiable', 'unknown', 'unless', 'unlike', 'unlikely', 'unnamed', 'unnecessarily', 'unofficial', 'unprecedented', 'unproven', 'unrecognized', 'unrestricted', 'unrestrictive', 'unsafe', 'unsafely', 'unseat', 'unstable', 'unstoppable', 'unsung', 'unsurprisingly', 'until', 'unto', 'untoward', 'untreated', 'unused', 'unusual', 'unusually', 'unveils', 'unverified', 'unwarranted', 'unwashed', 'unwell', 'unwind', 'unwittingly', 'up', 'upcoming', 'update', 'updated', 'update⠀', 'updating', 'upfront', 'upgrade', 'upgraded', 'uphold', 'uplifted', 'upload', 'uploaded', 'upon', 'upper', 'uppermiddle', 'upside', 'upsurge', 'uptake', 'uptick', 'upto', 'uptodate', 'uptrend', 'upward', 'upwards', 'urban', 'urge', 'urged', 'urgency', 'urgent', 'urgently', 'urging', 'urine', 'urinedung', 'urologist', 'uruguay', 'us', 'us$2', 'usa', 'usable', 'usage', 'usama', 'usb', 'uschinese', 'usd', 'usd35', 'use', 'used', 'useful', 'usefulness', 'useless', 'user', 'username', 'usfda', 'usgovernment', 'using', 'usman', 'usual', 'usually', 'usurped', 'ut', 'utah', 'utilisation', 'utilise', 'utilitising', 'utilized', 'uttar', 'uttarakhand', 'uv', 'uw', 'v', 'va', 'vacancy', 'vacationing', 'vaccinate', 'vaccinated', 'vaccinating', 'vaccination', 'vaccine', 'vaccinepreventable', 'vadra', 'valet', 'valid', 'validated', 'validation', 'vall', 'vallance', 'valle', 'valley', 'valuable', 'value', 'valuedetriment', 'van', 'vandalizing', 'vann', 'vapor', 'vaporized', 'varadkar', 'vargas', 'variability', 'variable', 'variation', 'varies', 'variety', 'various', 'varvara', 'vary', 'vasant', 'vasconcellos', 'vast', 'vastly', 'vati', 'vatican', 'vax', 'vcs', 'vector', 'vegetable', 'vegetarian', 'vehicle', 'veil', 'vendor', 'venezuela', 'venezuelan', 'venko', 'ventilated', 'ventilation', 'ventilator', 'vento', 'venue', 'verge', 'verification', 'verified', 'verify', 'verity', 'vermont', 'verse', 'version', 'versus', 'vertical', 'very', 'veteran', 'veterinarian', 'veterinary', 'via', 'viability', 'viable', 'vial', 'viamed', 'vic', 'vice', 'vicepresident', 'viciously', 'victim', 'victoria', 'victorian', 'vidal', 'video', 'videoconferencing', 'vienna', 'viennetta', 'vietnam', 'view', 'viewed', 'viewer', 'vigil', 'vigilant', 'vigilants', 'village', 'villavicencio', 'vincent', 'vincenzo', 'vinci', 'vinegar', 'vinod', 'violate', 'violated', 'violating', 'violation', 'violence', 'violent', 'violently', 'vip', 'viral', 'virality', 'viralogys', 'virgin', 'virginia', 'virologist', 'virology', 'virtual', 'virtually', 'virus', 'virusinfected', 'virusno', 'visa', 'visible', 'visit', 'visited', 'visiting', 'visitor', 'visor', 'visual', 'visualization', 'visualize', 'viswabharathi', 'vit', 'vital', 'vitamin', 'viz', 'vk', 'vladimir', 'vo', 'vocal', 'vodka', 'voice', 'volleyball', 'volume', 'voluntarily', 'voluntary', 'volunteer', 'vote', 'voted', 'voting', 'voucher', 'vow', 'voyage', 'vp', 'vte', 'vulnerability', 'vulnerable', 'vulnerablefacing', 'vvip', 'vyas', 'víctor', 'vò', 'w', 'wa', 'wage', 'waikato', 'wait', 'waitakere', 'waited', 'waitemata', 'waiter', 'waiting', 'wake', 'wakeup', 'wale', 'walker', 'walkin', 'walking', 'wall', 'wallace', 'walmart', 'wampanoag', 'wand', 'wandering', 'wane', 'wang', 'wank', 'want', 'wanted', 'wanting', 'war', 'ward', 'warded', 'warehouse', 'warfare', 'warm', 'warn', 'warnapp', 'warned', 'warning', 'warns', 'warp', 'warrant', 'warrior', 'wash', 'washable', 'washing', 'washington', 'wasnt', 'wastage', 'wasted', 'wasting', 'watch', 'watched', 'watching', 'watchlist', 'water', 'waterford', 'watery', 'watford', 'watsapp', 'wave', 'way', 'wayne', 'wcvb', 'we', 'weak', 'weakened', 'weaker', 'weakness', 'weakthat', 'wealthy', 'weapon', 'wear', 'wearer', 'wearing', 'weather', 'webinar', 'webinars', 'webpage', 'website', 'wed', 'wedding', 'wedge', 'wednesday', 'weed', 'week', 'weekday', 'weekend', 'weekly', 'weekthe', 'weeping', 'wef', 'weighed', 'weighing', 'weight', 'welcome', 'welcoming', 'welfare', 'well', 'wellbeing', 'wellchild', 'wellconnected', 'wellington', 'wellness', 'welsh', 'wenliang', 'went', 'wept', 'were', 'west', 'westcoast', 'western', 'westminster', 'wet', 'wetherspoons', 'weve', 'what', 'whatever', 'whatmasks', 'whats', 'whatsapp', 'wheat', 'wheelchair', 'wheeled', 'when', 'where', 'where2', 'whereas', 'wherein', 'wheres', 'whether', 'which', 'while', 'whistleblower', 'whistling', 'whitbread', 'whitcomb', 'white', 'whitepaper', 'whitmer', 'whitmers', 'whitty', 'who', 'whole', 'whose', 'why', 'wi', 'wichita', 'wide', 'widely', 'widen', 'widening', 'widens', 'wider', 'widespread', 'widow', 'wife', 'wikipedia', 'wild', 'wildfire', 'wildflower', 'wildland', 'wildly', 'will', 'willbe', 'william', 'willing', 'willto', 'wilson', 'win', 'wind', 'window', 'wine', 'wing', 'winner', 'winning', 'winter', 'wipe', 'wiped', 'wire', 'wiri', 'wisconsin', 'wise', 'wish', 'wishing', 'with', 'withdraw', 'withdrawn', 'within', 'without', 'witness', 'witnessed', 'wlou', 'wo', 'woke', 'woman', 'wonder', 'wondered', 'wonderful', 'wondering', 'wondrous', 'wont', 'woodward', 'word', 'wore', 'worest', 'work', 'work@alexismadrigal', 'worked', 'worker', 'workflow', 'workforce', 'working', 'workout', 'workplace', 'world', 'worldis', 'worldoutside', 'worldwide', 'worn', 'worried', 'worrisome', 'worry', 'worrying', 'worse', 'worsen', 'worship', 'worst', 'worstcase', 'worsthit', 'worth', 'would', 'wouldnt', 'wound', 'wreaked', 'wring', 'wrinkle', 'write', 'writer', 'writing', 'written', 'wrong', 'wrongly', 'wrote', 'wth', 'wuflu', 'wuhan', 'wv', 'wwii', 'wwn', 'wy', 'x', 'xenophobic', 'xi', 'y', 'y+', 'yacht', 'yale', 'yall', 'yalman', 'yan', 'yangon', 'ye', 'yeah', 'year', 'yearold', 'yedikule', 'yediyurappa', 'yelling', 'yellow', 'yemen', 'yen', 'yes', 'yesterday', 'yesterdaywere', 'yet', 'yield', 'yobe', 'yoga', 'yojana', 'yojanapmjjby', 'yojanapmsby', 'york', 'yorkand', 'yorkers', 'yorkshire', 'you', 'youll', 'young', 'younger', 'your', 'youre', 'youtc', 'youth', 'youtube', 'youve', 'yr', 'yumzers', 'yvonne', 'zacks', 'zambales', 'zambia', 'zamfara2', 'zanzibar', 'zaria', 'zealand', 'zealander', 'zee', 'zekiri', 'zero', 'zhong', 'ziberi', 'zika', 'zillionaire', 'zinc', 'zip', 'zithromax', 'zomatos', 'zone', 'zonecityspecific', 'zoo', 'zookeepers', 'zoology', 'zoom', 'zoonotic', 'zydus', 'zyphr', '|', '£1000', '£10000', '£130', '£150', '£225', '£315', '£500', '£95', 'à', 'áñez', '€1', '€15', '€30bn', '₹120000', '₹4000test', 'ℹ', '↗', '⏺', '▪', '▶', '◾', '☎', '☑', '☺', '♀', '⚕', '⚖', '⛪', '✅', '✈', '✉', '✔', '❄', '❌', '❗', '❤', '➡', '⠀', '⬇', '️', '￼207538', '�', '𝗰𝗼𝗺𝗽𝗹𝗲𝘁𝗲𝗹𝘆', '𝗶𝗻𝗮𝗰𝘁𝗶𝘃𝗮𝘁𝗲', '🆕', '🆙', '🇦', '🇧', '🇮🇪', '🇮🇳', '🇰🇷', '🇲', '🇺🇬', '🇻', '🇻🇳🇰🇭🇹🇭🇳🇮🇹🇪🇸', '🇿', '🌍', '🌎', '🌏', '🌐', '🍔', '🎉', '🎧', '🏠', '🏥', '🏪', '🏫', '🏼', '🏽', '🏾', '🏿', '🐍', '🐕', '👀', '👇', '👉', '👍', '👏', '👐', '👦', '👧', '👨', '👩', '💉', '💊', '💚', '💦', '💺', '📃', '📈', '📉', '📍', '📏', '📢', '📣', '📨', '📱', '📺', '🔑', '🔰', '🔴', '🔹', '🔽', '🕌', '🕐', '🕖', '🕗', '🕘', '🕤', '🗒', '😂', '😅', '😎', '😖', '😞', '😠', '😢', '😣', '😧', '😭', '😱', '😷', '🙂', '🙄', '🙊', '🙌', '🙏', '🚍', '🚎', '🚓', '🚨', '🚫', '🚶', '🛡', '🟠', '🟡', '🟢', '🤔', '🤱', '🥡', '🥫', '🥼', '🦟', '🧑', '🧒', '🧔', '🧤', '🧪', '🧫', '🧬', '🧰more', '\\U0001fa9f']\n"
          ]
        },
        {
          "output_type": "stream",
          "name": "stderr",
          "text": [
            "/usr/local/lib/python3.8/dist-packages/sklearn/utils/deprecation.py:87: FutureWarning: Function get_feature_names is deprecated; get_feature_names is deprecated in 1.0 and will be removed in 1.2. Please use get_feature_names_out instead.\n",
            "  warnings.warn(msg, category=FutureWarning)\n"
          ]
        }
      ]
    },
    {
      "cell_type": "markdown",
      "source": [
        "## Transform"
      ],
      "metadata": {
        "id": "l7IRYu7XtBRS"
      }
    },
    {
      "cell_type": "code",
      "source": [
        "bag_of_words = TF_IDF_Vectorizer.transform(X_train[\"tweet\"])\n",
        "bag_of_words = pd.DataFrame(bag_of_words.toarray(), index = X_train.index, columns = TF_IDF_Vectorizer.get_feature_names())"
      ],
      "metadata": {
        "id": "laKfx_8Fx4Nb"
      },
      "execution_count": 62,
      "outputs": []
    },
    {
      "cell_type": "code",
      "source": [
        "bag_of_words.shape"
      ],
      "metadata": {
        "id": "NtDUDLfyOlzG",
        "outputId": "dda4e188-f96a-456e-dfa9-93a6cce01013",
        "colab": {
          "base_uri": "https://localhost:8080/"
        }
      },
      "execution_count": 63,
      "outputs": [
        {
          "output_type": "execute_result",
          "data": {
            "text/plain": [
              "(5706, 13855)"
            ]
          },
          "metadata": {},
          "execution_count": 63
        }
      ]
    },
    {
      "cell_type": "markdown",
      "source": [
        "## Añadir atributos al nuevo dataframe de TFIDF"
      ],
      "metadata": {
        "id": "aP8B8t9KZaie"
      }
    },
    {
      "cell_type": "code",
      "source": [
        "bag_of_words['largoDocumento'] = X_train['largoDocumento']\n",
        "bag_of_words['CantidadPalabras'] = X_train['CantidadPalabras']\n",
        "bag_of_words['cantidad de letras'] = X_train['cantidad de letras']\n",
        "bag_of_words['cantidad de covid']  = X_train['cantidad de covid'] \n",
        "bag_of_words['cantidad de hashtag'] = X_train['cantidad de hashtag']\n",
        "bag_of_words['cantidad de emojis'] = X_train['cantidad de emojis']"
      ],
      "metadata": {
        "id": "BmRkiQpXZZ5w"
      },
      "execution_count": 64,
      "outputs": []
    },
    {
      "cell_type": "code",
      "source": [
        "bag_of_words.shape[0]"
      ],
      "metadata": {
        "colab": {
          "base_uri": "https://localhost:8080/"
        },
        "id": "opJG0dcgRUN-",
        "outputId": "b4783aa4-6354-4c0e-bec8-3c5a74cd22bc"
      },
      "execution_count": 65,
      "outputs": [
        {
          "output_type": "execute_result",
          "data": {
            "text/plain": [
              "5706"
            ]
          },
          "metadata": {},
          "execution_count": 65
        }
      ]
    },
    {
      "cell_type": "markdown",
      "source": [
        "## Add Weights"
      ],
      "metadata": {
        "id": "fIxB7BVQLNg7"
      }
    },
    {
      "cell_type": "code",
      "source": [
        "#for i in range(5706):\n",
        "#  if bag_of_words['trump'][i] > 0:\n",
        "#    print(i)"
      ],
      "metadata": {
        "id": "CvcQuv9ZITIb"
      },
      "execution_count": 66,
      "outputs": []
    },
    {
      "cell_type": "code",
      "source": [
        "#position = bag_of_words_fitted.vocabulary_['trump']\n",
        "#position"
      ],
      "metadata": {
        "id": "YcWqS5S6H1W2"
      },
      "execution_count": 67,
      "outputs": []
    },
    {
      "cell_type": "code",
      "source": [
        "#for i in range(bag_of_words.shape[0]):\n",
        "#  bag_of_words['trump'][i] = bag_of_words['trump'][i] * 2"
      ],
      "metadata": {
        "id": "O5MI1RXeLBgp"
      },
      "execution_count": 68,
      "outputs": []
    },
    {
      "cell_type": "markdown",
      "source": [
        "### Important columns\n"
      ],
      "metadata": {
        "id": "7tlLYeMpXTWn"
      }
    },
    {
      "cell_type": "code",
      "source": [
        "columns = ['#trump2020', 'trump', '@realdonaldtrump']"
      ],
      "metadata": {
        "id": "7e1RwizsXrSJ"
      },
      "execution_count": 69,
      "outputs": []
    },
    {
      "cell_type": "code",
      "source": [
        "#for i in range(len(columns)):\n",
        "#  column = columns[i];\n",
        "#  for row in range(bag_of_words.shape[0]):\n",
        "#    bag_of_words[column][row] = bag_of_words[column][row] * 1.2"
      ],
      "metadata": {
        "id": "lzKJkKnLX71_"
      },
      "execution_count": 70,
      "outputs": []
    },
    {
      "cell_type": "markdown",
      "source": [
        "### All Hashtags\n"
      ],
      "metadata": {
        "id": "3CgI_tKSgTRi"
      }
    },
    {
      "cell_type": "markdown",
      "source": [
        "#### List"
      ],
      "metadata": {
        "id": "fS5m-72hiu-h"
      }
    },
    {
      "cell_type": "code",
      "source": [
        "hashtags = ['#', '##3600mg', '#1', '#2', '#2020presidentialelection', '#21dayschallenge', '#21dayslockdown', '#251', '#46', '#a', '#ableg', '#achristmascarol', '#acog2020', '#active', '#activecases', '#actnow', '#acuteflaccidmyelitis', '#afaracare', '#afoolat60', '#ahmedabad', '#airline', '#aliens', '#allergies', '#alllivesmatter', '#alzheimers', '#amazon', '#america', '#amitabhbachchan', '#andhrapradesh', '#anteater', '#antibiotics', '#aoc', '#apocalypse', '#appeal', '#area', '#arrestfauci', '#arrestgates', '#arunachalpradesh', '#arvindkejriwal', '#asco20', '#ashas', '#asians', '#asymptomatic', '#athens', '#auspol', '#autism', '#autoimmune', '#avifavir', '#aworldindisorder', '#azimpremji', '#backtoschool', '#bacteria', '#bailout', '#bankerhaipolicenahi', '#baptism', '#barackobama', '#baseball', '#basketball', '#beatncds', '#beer', '#bengali', '#berniesanders', '#be…', '#bharatbiotech', '#bigpharmapuppets', '#bihar', '#binaxnow', '#bioweapon', '#boycottchineseproduct', '#boycottmadeinchina', '#breakfast', '#breakin', '#breaking', '#breakinghot', '#breastfeed', '#bronxzoo', '#brooklyn', '#buddhism', '#bulls', '#burgerking', '#burglars', '#burrgate', '#business', '#c19', '#california', '#californ…', '#canada', '#cancelcacsexams', '#cancer', '#cardiotwitter', '#caregivers', '#carona', '#cases', '#cashewchicken', '#ccc19', '#ccp', '#ccpvirus', '#cdc', '#cdcgrandrounds', '#cdctravelnotice', '#cdnpoli', '#cdntv', '#celebrities', '#cerb', '#chandigarh', '#charleslieber', '#cheating', '#chennai', '#chenqiushi', '#children', '#china', '#china@drtedros', '#chinacoronavirus', '#chinaindiafaceoff', '#chinese', '#chinesecommunistparty', '#chinesevirus', '#chloroquine', '#christmas', '#cia', '#classof2020', '#clinicaltrials', '#clinicians', '#codecheck', '#coevolution', '#coexistence', '#colorado', '#computers', '#connecticut', '#conspiracy', '#conspiracytheories', '#contacttracing', '#containmentzones', '#convalescent', '#cornavirusfacts', '#corona', '#coronabeer', '#coronacheck', '#coronainpakistan', '#coronaoutbreak', '#coronaupdate', '#coronaupdates', '#coronaupdatesindia', '#coronaupdatesinindia', '#coronavacccine', '#coronavaccine', '#coronavirus', '#coronaviruscanada', '#coronavirusfacts', '#coronavirusincontext', '#coronavirusindia', '#coronaviruslockdown', '#coronavirusoutbreak', '#coronaviruspandemic', '#coronavirustruth', '#coronavirusupdate', '#coronavirusupdates', '#coronavirususa', '#coronavirus…', '#coronawarriors', '#coronawatch', '#coronil', '#corononavirus', '#coronovirus', '#corruption', '#covax', '#covaxin', '#covaxine', '#covid', '#covid19', '#covid19@drtedros', '#covid19affected', '#covid19asserts', '#covid19associated', '#covid19india', '#covid19like', '#covid19my', '#covid19nc', '#covid19nigeria', '#covid19nz', '#covid19pakistan', '#covid19pandemic', '#covid19related', '#covid19science', '#covid19toronto', '#covid19updates', '#covid19vaccine', '#covid19…', '#covid1…', '#covid2019', '#covidactnow', '#covidcanada', '#covidindiaseva', '#covidlockdown', '#covidpandemic', '#covidstopswithme', '#covidtesting', '#covidupdate', '#covidupdates', '#covidview', '#covidwarriors', '#covidwarriortips', '#covid…', '#covidー19', '#covidー19…', '#cowurinesteambar', '#cpd', '#criminals', '#crook', '#cruise', '#cruiseships', '#cure', '#curfewinindia', '#dallascowboys', '#data', '#datoscoronavirus', '#day2lockdown', '#dearicaitake', '#death', '#defense', '#delhi', '#delhifightscorona', '#dementia', '#democrats', '#denmark', '#dexamethasone', '#dialysis', '#diapers', '#dictatorship', '#disease', '#diseasedetective', '#disinfectant', '#disney', '#dna', '#domesticviolence', '#donaldtrump', '#doortodoordeworming', '#doublingrate', '#doyourpart', '#dranthonyfauci', '#drugs', '#duckdynasty', '#dyk', '#ears', '#easyoff', '#ebolavirus', '#echinacea', '#economy', '#eha2020', '#eidaladha', '#elonmusk', '#endtb', '#epass', '#epidemic', '#erscongress', '#esccongress', '#essentialworker', '#eular2020', '#evin', '#evinindia', '#exercise', '#facebook', '#facecover', '#facemask', '#facemasks', '#factcheck', '#factchecking', '#factsmatter', '#fake', '#fakenews', '#fakenewsalert', '#families', '#family', '#famine', '#fangbin', '#faq', '#fatality', '#fatalityrate', '#fauci', '#favipiravir', '#fbi', '#fda', '#febreeze', '#feelbetter', '#feeling', '#fidelcastro', '#fightagainstcoronavirus', '#fightflu', '#firefighters', '#fitness', '#flattenthecurve', '#flight', '#florida', '#flu', '#foghornleghorn', '#food', '#foodsafety', '#foodshortages', '#footballamerican', '#ford', '#fourthofjuly', '#foxnews', '#freedom', '#friendship', '#fullyimmunizeeverychild', '#fun', '#gandhinagar', '#gaumutrsteaming', '#gautambuddhnagar', '#germs', '#ghaziabad', '#globalwarming', '#god', '#godelhiites', '#goingbust', '#golf', '#government', '#governor', '#goyabeans', '#grafitti', '#great', '#greece🇬🇷', '#groupies', '#gujarat', '#gujaratcoronaupdate', '#gurugram', '#guyana', '#hairstylist', '#hallmark', '#hamburger', '#hands', '#handwashing', '#hantavirus', '#harrymaguire', '#harvarduniversity', '#haryana', '#hcp', '#hcps', '#hcq', '#health', '#healthcare', '#healthequity', '#healthforall', '#healthoverexams', '#healthworkers', '#healthy', '#healthylife', '#heartattacks', '#heat', '#heidiklum', '#heneryhawk', '#himachalpradesh', '#hit2equity', '#hitsolutions', '#hiv', '#hoarding', '#hockey', '#hollywood', '#homeisolation', '#homelessness', '#homemade', '#homeopathic', '#homequarantine', '#hongkongs', '#howwehospitalist', '#huaweiwatchgt2', '#hurricane', '#hurricanelaura', '#hydroxychloroquine', '#hypertension', '#ibs', '#icairespondnow', '#icmrfightscovid19', '#icu', '#igot', '#illegalimmigrants', '#immunesystem', '#immunity', '#immunitybooster', '#immunizationforall', '#impeachment', '#importantinformation', '#incontext', '#india', '#indiafightscirona', '#indiafightscorona', '#indiafightscoronavirus', '#indiafightscovid19', '#indiawillwin', '#india…', '#indigo', '#infections', '#inflammation', '#ingenuity', '#institutionalquarantine', '#introvert', '#ireland', '#irony', '#istandwithmashpee', '#italy', '#iud', '#jamalkhashoggi', '#japan', '#jaredkushner', '#jarkhand', '#jennymccarthy', '#jharkhand', '#jlo', '#jobs', '#johntravolta', '#josephbiden', '#journalist', '#kag', '#kano', '#karakaxlist', '#karnataka', '#karnatakas', '#kayburley', '#keeppushing', '#keithholdskeytovirusvaccine', '#kerala', '#kidneytransplant', '#kids', '#killingvirus', '#kishanganj', '#kitchen', '#knowthefacts', '#kolkataairport', '#laborday', '#lachupacabra', '#lakshadweep', '#language', '#laura', '#lcsm', '#lego', '#lgbtquarantine', '#lies', '#life', '#list', '#livelife', '#lockdown', '#lockdown2', '#lockdown21', '#lockdown4', '#lockdownextension', '#lockdownnow', '#lockdownquery', '#london', '#louisiana', '#lucknow', '#lysol', '#madhyapradesh', '#maga', '#maharashtra', '#maharastra', '#mailinvoting', '#mainbhinewschecker', '#majorleaguebaseball', '#makhi', '#malaria', '#malnutrition', '#malpractice', '#manafort', '#manipur', '#marchmadness', '#marijuana', '#mascot', '#mask', '#maskingforafriend', '#maskonnaija', '#masks', '#mauritius', '#mayans', '#meat', '#media', '#medical', '#medicaldoctor', '#medicines', '#medtwitter', '#mentalhealth', '#mergecaexamsjulyandnov', '#metformin', '#metro', '#metrobackontrack', '#mexico', '#michigan', '#minnesota', '#miraclesoftrueworship', '#missiles', '#missionkarmayog…', '#mitchmcconnell', '#mizoram', '#modicovidaddress', '#modigovtfailed', '#modijipostponejeeneet', '#money', '#moneylaundering', '#morningmotivation', '#mother', '#mouthwash', '#movies', '#mrna', '#msvirtual2020', '#mumbai', '#muradabad', '#n95', '#nagpur', '#nails', '#nancypelosi', '#napoleon', '#nashville', '#nba', '#ncdcinthenews', '#ncdclabnetwork', '#ncdcrrt', '#ncdcteam', '#ncdhhs', '#ncpol', '#nepotism', '#newhampshire', '#news', '#newschecker', '#newsinphoto', '#newssatire', '#newyork', '#newyorkcity', '#newyorktimes', '#newzealand', '#nhl', '#nigeria', '#nigerian', '#nigerians', '#noahsark', '#noida', '#norway', '#notdying4wallstreet', '#notmypresident', '#novel', '#nursinghome', '#nyc', '#obamagate', '#obesewomen', '#oct1stprotest', '#odisha', '#odishafightscorona', '#office', '#officialsecretsact', '#ohio', '#olympicgames', '#online', '#onpoli', '#opthalmology', '#orlando', '#oslo', '#panamacanal', '#pandas', '#pandemic', '#panic', '#panicbuying', '#parasites', '#parent', '#parents', '#patientzero', '#pcrtest', '#peepingtom', '#philrobertson', '#physicaldistance', '#physique', '#pibfactcheck', '#placebopills', '#plandemic', '#plasmatherapy', '#plastic', '#pmqs', '#pmsby', '#poker', '#politicalcorrectness', '#politicians', '#politics', '#pope', '#potsales', '#potus', '#ppe', '#prep', '#prescriptions', '#preventcovid19', '#prevention', '#prioritycovidresearch', '#privacy', '#propaganda', '#property', '#prostatecancer', '#ptfcovid19', '#pti', '#pui', '#qanda', '#quarantine', '#queens', '#rackets', '#rajahthan', '#rajasthan', '#rapidantigentest', '#rc70afro', '#recession', '#recoveryrate', '#religion', '#remdesivir', '#remedy', '#rentfreezenow', '#reopeningsafely', '#reopensafely', '#republicans', '#research', '#revolutionnow', '#rheaarrested', '#rice', '#richardnixon', '#ridge', '#rnc2020', '#roadtrips', '#rockandrollvaccine', '#rollingstones', '#rollingstonevaccineforcv', '#rpharmcoronavir', '#rtpcr', '#russia', '#russiaeverywhere', '#russianvaccine', '#russie', '#sacrifice', '#safe', '#safetyfirst', '#sally', '#sam2020', '#santa', '#sarscov2', '#satire', '#saturdaynightfever', '#saudiarabia', '#school', '#schoolsreopening', '#schwabeindia', '#science', '#seanhannity', '#selfcare', '#selfisolation', '#sens', '#sepsis', '#sex', '#sexyteens', '#share', '#sheep', '#sickness', '#simoncowell', '#sitamarhi', '#slowthespread', '#smallpox', '#smartnews', '#socialdistance', '#socialdistancing', '#sofi2020', '#sofiavergara', '#southcarolina', '#southdelhi', '#spain', '#spokesman', '#sponsors', '#sport', '#sports', '#springst', '#sputnikv', '#stayalert', '#stayathome', '#stayathomesavelives', '#stayhealthy', '#stayhome', '#stayhomestaysafe', '#staysafe', '#staystrong', '#std', '#stds', '#stevenseagal', '#stimuluschecks', '#stop', '#stopthespread', '#stopthespreadofcorona', '#strategicreserve', '#stress', '#strokes', '#suicide', '#summer', '#sunbathing', '#swasthabharat', '#swedish', '#symptomatic', '#t1d', '#takeaction', '#takebreaks', '#takeresponsibility', '#takeresponsibilty', '#tamilnadu', '#tan', '#tb', '#teamoffivemillion', '#tech', '#telangana', '#telemedicine', '#televangelist', '#telugunews', '#teravolt', '#testing', '#tests', '#texas', '#thailand🇹🇭', '#thane', '#thankshealthheroes', '#thedevil', '#thenewnormal', '#thesun', '#thewiderwiserview', '#tigers', '#time', '#tipsadvice', '#togetheralone', '#toilet', '#toiletpaper', '#toiletrollhorders', '#tomhanks', '#travel', '#trinitybellwoodspark', '#tripura', '#trophywife', '#trump2020', '#trumpcouldhavesavedvalet', '#trumppressconf', '#trumpsjealousofobama', '#trumpuniversity', '#tsunami', '#tuberculosis', '#tuesdaylive', '#tuesdaymotivation', '#tulsatrumprally', '#tv', '#tīmarimamiriona', '#ufo', '#uighurs', '#un75', '#unemployment', '#unga', '#unitednations', '#unlock1', '#unlock2', '#unlock3', '#unlock3guidelines', '#unlock4', '#unlock4guidelines', '#update', '#uruguay', '#usa', '#uttarpradesh', '#uva', '#uvc', '#uvdisinfection', '#uvlamp', '#uvled', '#uvlight', '#uvsolution', '#vacation', '#vaccine', '#vaccines', '#vaccineswork', '#vadodara', '#vegan', '#vermont', '#vicepresidentmikepence', '#vicpol', '#viral', '#viralvideo', '#virtualconferenceafrica', '#virus', '#viruses', '#visualabstract', '#vitamind', '#vladimirputin', '#war', '#warcrimes', '#warning', '#warnings', '#washington', '#waterpistols', '#wear', '#wearafacemask', '#wearamask', '#wearamask…', '#weather', '#weneedthedenominator', '#westbengal', '#westvirginia', '#wha73', '#wha74', '#whatsapp', '#whitehouse', '#whitesupremacy', '#who', '#whoimpact', '#wildfire', '#wildfires', '#williambarr', '#williambryan', '#woodwardtapes', '#work', '#workfromhome', '#worldbreastfeedingweek', '#worldmaskweek', '#worldmosquitoday', '#worldzoonosesday', '#worried', '#wor…', '#wtd20', '#wuhan', '#wuhancoronavirus', '#wuhaninstituteofvirologylaboratory', '#wuhanviruspandemic', '#xijinping', '#yavatmal', '#yourviewtv', '#zhangzhan', '#zoodirector']"
      ],
      "metadata": {
        "id": "iYOJ14o1hhhC"
      },
      "execution_count": 71,
      "outputs": []
    },
    {
      "cell_type": "markdown",
      "source": [
        "#### Code"
      ],
      "metadata": {
        "id": "uSYpmZNaixJx"
      }
    },
    {
      "cell_type": "code",
      "source": [
        "#for i in range(len(hashtags)):\n",
        "#  print(i)\n",
        "#  hashtag = hashtags[i];\n",
        "#  for row in range(bag_of_words.shape[0]):\n",
        "#    bag_of_words[hashtag][row] = bag_of_words[hashtag][row] * 1.5"
      ],
      "metadata": {
        "id": "H2eWrllxgVTi"
      },
      "execution_count": 72,
      "outputs": []
    },
    {
      "cell_type": "markdown",
      "source": [
        "# Red Neuronal"
      ],
      "metadata": {
        "id": "ilGGPtUT0xFO"
      }
    },
    {
      "cell_type": "code",
      "source": [
        "from tensorflow.keras.models import Sequential\n",
        "from tensorflow.keras.layers import Dense, Dropout, Activation, Bidirectional, Conv1D\n",
        "from tensorflow.keras.layers import LeakyReLU"
      ],
      "metadata": {
        "id": "e8pMorDV1DI9"
      },
      "execution_count": 73,
      "outputs": []
    },
    {
      "cell_type": "code",
      "source": [
        "#mejor densas: 20 - 50 - 40 -> 0.9432375613174492\n",
        "  # 30-50-40 dio lo mismo\n",
        "  # 30-60-50 --> NO\n",
        "  # 20-50-30 --> NO\n",
        "  # 20-30-40 --> NO - 0.940084092501752\n",
        "\n",
        "#Activaciones\n",
        "  #Leaky-Relu x2-Sigmoid --> 0.9432375613174492\n",
        "  #Leaky-relu-Sigmoidx2 --> 0.9470918009810791 --> Mejor\n",
        "  #Leaky-Sigmoid-relu-Sigmoid --> 0.9397337070777856\n",
        "  #Sigmoid-relu-Sigmoidx2 --> 0.9442887175893483\n",
        "  #relu-Leaky-Sigmoidx2 -->  0.9425367904695164\n",
        "  #relux2-Sigmoidx2 --> 0.933426769446391\n",
        "  #Leaky-relu-Leaky-Sigmoid --> 0.9418360196215837"
      ],
      "metadata": {
        "id": "VBKx_4CNRclX"
      },
      "execution_count": 74,
      "outputs": []
    },
    {
      "cell_type": "code",
      "source": [
        "adam_optimizer='Adam'\n",
        "loss='binary_crossentropy'\n",
        "metric='accuracy'\n",
        "#sqrt(inputlayers * outputlayer) = sqrt(15000) = 122\n",
        "#model.add(GRU(1, input_shape=(20,1)))\n",
        "\n",
        "model = Sequential()\n",
        "model.add(Dense(30, input_shape=(bag_of_words.shape[1],)))\n",
        "model.add(Activation(LeakyReLU(alpha=0.3)))\n",
        "model.add(Dense(50, use_bias=True))\n",
        "model.add(Activation('relu'))\n",
        "model.add(Dense(40, use_bias=True))\n",
        "model.add(Activation('sigmoid'))\n",
        "model.add(Dense(1, use_bias=True))\n",
        "model.add(Dropout(0.2))\n",
        "model.add(Activation('sigmoid'))\n",
        "model.compile(loss=loss, optimizer=adam_optimizer, metrics=[metric])"
      ],
      "metadata": {
        "id": "lW8SiL-t01M0"
      },
      "execution_count": 75,
      "outputs": []
    },
    {
      "cell_type": "code",
      "source": [
        "X_train_array = np.asarray(bag_of_words)\n",
        "Y_train_array = np.asarray(Y_train)\n",
        "\n",
        "training = model.fit(X_train_array, Y_train_array, epochs=200, batch_size=100)"
      ],
      "metadata": {
        "id": "gY0iDNOLDG88",
        "colab": {
          "base_uri": "https://localhost:8080/"
        },
        "outputId": "0f962586-c803-4d36-e57e-542be58ae079"
      },
      "execution_count": 76,
      "outputs": [
        {
          "output_type": "stream",
          "name": "stdout",
          "text": [
            "Epoch 1/200\n",
            "58/58 [==============================] - 2s 14ms/step - loss: 0.6567 - accuracy: 0.6073\n",
            "Epoch 2/200\n",
            "58/58 [==============================] - 1s 18ms/step - loss: 0.6029 - accuracy: 0.6851\n",
            "Epoch 3/200\n",
            "58/58 [==============================] - 1s 13ms/step - loss: 0.5749 - accuracy: 0.6966\n",
            "Epoch 4/200\n",
            "58/58 [==============================] - 1s 16ms/step - loss: 0.5356 - accuracy: 0.7170\n",
            "Epoch 5/200\n",
            "58/58 [==============================] - 1s 18ms/step - loss: 0.5090 - accuracy: 0.7327\n",
            "Epoch 6/200\n",
            "58/58 [==============================] - 1s 19ms/step - loss: 0.4278 - accuracy: 0.7836\n",
            "Epoch 7/200\n",
            "58/58 [==============================] - 1s 15ms/step - loss: 0.3700 - accuracy: 0.8109\n",
            "Epoch 8/200\n",
            "58/58 [==============================] - 1s 14ms/step - loss: 0.3090 - accuracy: 0.8400\n",
            "Epoch 9/200\n",
            "58/58 [==============================] - 1s 13ms/step - loss: 0.2846 - accuracy: 0.8470\n",
            "Epoch 10/200\n",
            "58/58 [==============================] - 1s 14ms/step - loss: 0.2252 - accuracy: 0.8728\n",
            "Epoch 11/200\n",
            "58/58 [==============================] - 1s 13ms/step - loss: 0.2298 - accuracy: 0.8701\n",
            "Epoch 12/200\n",
            "58/58 [==============================] - 1s 13ms/step - loss: 0.1893 - accuracy: 0.8807\n",
            "Epoch 13/200\n",
            "58/58 [==============================] - 1s 13ms/step - loss: 0.2029 - accuracy: 0.8750\n",
            "Epoch 14/200\n",
            "58/58 [==============================] - 1s 13ms/step - loss: 0.1908 - accuracy: 0.8803\n",
            "Epoch 15/200\n",
            "58/58 [==============================] - 1s 13ms/step - loss: 0.1750 - accuracy: 0.8896\n",
            "Epoch 16/200\n",
            "58/58 [==============================] - 1s 13ms/step - loss: 0.1685 - accuracy: 0.8877\n",
            "Epoch 17/200\n",
            "58/58 [==============================] - 1s 13ms/step - loss: 0.1561 - accuracy: 0.8920\n",
            "Epoch 18/200\n",
            "58/58 [==============================] - 1s 13ms/step - loss: 0.1770 - accuracy: 0.8842\n",
            "Epoch 19/200\n",
            "58/58 [==============================] - 1s 13ms/step - loss: 0.1710 - accuracy: 0.8792\n",
            "Epoch 20/200\n",
            "58/58 [==============================] - 1s 13ms/step - loss: 0.1492 - accuracy: 0.8970\n",
            "Epoch 21/200\n",
            "58/58 [==============================] - 1s 13ms/step - loss: 0.1562 - accuracy: 0.8898\n",
            "Epoch 22/200\n",
            "58/58 [==============================] - 1s 14ms/step - loss: 0.1529 - accuracy: 0.8894\n",
            "Epoch 23/200\n",
            "58/58 [==============================] - 1s 13ms/step - loss: 0.1541 - accuracy: 0.8929\n",
            "Epoch 24/200\n",
            "58/58 [==============================] - 1s 16ms/step - loss: 0.2007 - accuracy: 0.8773\n",
            "Epoch 25/200\n",
            "58/58 [==============================] - 1s 18ms/step - loss: 0.2243 - accuracy: 0.8594\n",
            "Epoch 26/200\n",
            "58/58 [==============================] - 1s 18ms/step - loss: 0.1509 - accuracy: 0.8929\n",
            "Epoch 27/200\n",
            "58/58 [==============================] - 1s 15ms/step - loss: 0.1409 - accuracy: 0.8926\n",
            "Epoch 28/200\n",
            "58/58 [==============================] - 1s 13ms/step - loss: 0.1532 - accuracy: 0.8906\n",
            "Epoch 29/200\n",
            "58/58 [==============================] - 1s 13ms/step - loss: 0.1466 - accuracy: 0.8943\n",
            "Epoch 30/200\n",
            "58/58 [==============================] - 1s 13ms/step - loss: 0.1430 - accuracy: 0.8880\n",
            "Epoch 31/200\n",
            "58/58 [==============================] - 1s 13ms/step - loss: 0.1423 - accuracy: 0.8973\n",
            "Epoch 32/200\n",
            "58/58 [==============================] - 1s 16ms/step - loss: 0.1453 - accuracy: 0.8933\n",
            "Epoch 33/200\n",
            "58/58 [==============================] - 1s 18ms/step - loss: 0.1414 - accuracy: 0.8934\n",
            "Epoch 34/200\n",
            "58/58 [==============================] - 1s 18ms/step - loss: 0.1382 - accuracy: 0.8948\n",
            "Epoch 35/200\n",
            "58/58 [==============================] - 1s 16ms/step - loss: 0.1415 - accuracy: 0.8964\n",
            "Epoch 36/200\n",
            "58/58 [==============================] - 2s 27ms/step - loss: 0.1408 - accuracy: 0.8968\n",
            "Epoch 37/200\n",
            "58/58 [==============================] - 1s 18ms/step - loss: 0.1374 - accuracy: 0.8982\n",
            "Epoch 38/200\n",
            "58/58 [==============================] - 1s 14ms/step - loss: 0.1362 - accuracy: 0.8977\n",
            "Epoch 39/200\n",
            "58/58 [==============================] - 1s 13ms/step - loss: 0.1417 - accuracy: 0.8971\n",
            "Epoch 40/200\n",
            "58/58 [==============================] - 1s 14ms/step - loss: 0.1441 - accuracy: 0.8936\n",
            "Epoch 41/200\n",
            "58/58 [==============================] - 1s 17ms/step - loss: 0.1376 - accuracy: 0.8984\n",
            "Epoch 42/200\n",
            "58/58 [==============================] - 1s 13ms/step - loss: 0.1470 - accuracy: 0.8908\n",
            "Epoch 43/200\n",
            "58/58 [==============================] - 1s 18ms/step - loss: 0.1454 - accuracy: 0.8885\n",
            "Epoch 44/200\n",
            "58/58 [==============================] - 1s 14ms/step - loss: 0.1343 - accuracy: 0.8971\n",
            "Epoch 45/200\n",
            "58/58 [==============================] - 1s 19ms/step - loss: 0.1369 - accuracy: 0.8985\n",
            "Epoch 46/200\n",
            "58/58 [==============================] - 2s 27ms/step - loss: 0.1367 - accuracy: 0.8936\n",
            "Epoch 47/200\n",
            "58/58 [==============================] - 1s 23ms/step - loss: 0.1454 - accuracy: 0.8901\n",
            "Epoch 48/200\n",
            "58/58 [==============================] - 1s 17ms/step - loss: 0.1428 - accuracy: 0.8878\n",
            "Epoch 49/200\n",
            "58/58 [==============================] - 1s 15ms/step - loss: 0.1351 - accuracy: 0.8989\n",
            "Epoch 50/200\n",
            "58/58 [==============================] - 1s 16ms/step - loss: 0.1414 - accuracy: 0.8892\n",
            "Epoch 51/200\n",
            "58/58 [==============================] - 1s 16ms/step - loss: 0.1394 - accuracy: 0.8973\n",
            "Epoch 52/200\n",
            "58/58 [==============================] - 1s 14ms/step - loss: 0.1393 - accuracy: 0.8940\n",
            "Epoch 53/200\n",
            "58/58 [==============================] - 1s 14ms/step - loss: 0.1461 - accuracy: 0.8929\n",
            "Epoch 54/200\n",
            "58/58 [==============================] - 1s 13ms/step - loss: 0.1403 - accuracy: 0.8941\n",
            "Epoch 55/200\n",
            "58/58 [==============================] - 1s 13ms/step - loss: 0.1379 - accuracy: 0.9006\n",
            "Epoch 56/200\n",
            "58/58 [==============================] - 1s 13ms/step - loss: 0.1313 - accuracy: 0.9010\n",
            "Epoch 57/200\n",
            "58/58 [==============================] - 1s 13ms/step - loss: 0.1325 - accuracy: 0.9048\n",
            "Epoch 58/200\n",
            "58/58 [==============================] - 1s 14ms/step - loss: 0.1441 - accuracy: 0.8917\n",
            "Epoch 59/200\n",
            "58/58 [==============================] - 1s 13ms/step - loss: 0.1371 - accuracy: 0.8922\n",
            "Epoch 60/200\n",
            "58/58 [==============================] - 1s 15ms/step - loss: 0.1416 - accuracy: 0.8938\n",
            "Epoch 61/200\n",
            "58/58 [==============================] - 1s 19ms/step - loss: 0.1349 - accuracy: 0.8978\n",
            "Epoch 62/200\n",
            "58/58 [==============================] - 1s 18ms/step - loss: 0.1373 - accuracy: 0.9010\n",
            "Epoch 63/200\n",
            "58/58 [==============================] - 1s 18ms/step - loss: 0.1388 - accuracy: 0.8933\n",
            "Epoch 64/200\n",
            "58/58 [==============================] - 1s 16ms/step - loss: 0.1328 - accuracy: 0.9048\n",
            "Epoch 65/200\n",
            "58/58 [==============================] - 1s 15ms/step - loss: 0.1375 - accuracy: 0.8991\n",
            "Epoch 66/200\n",
            "58/58 [==============================] - 1s 19ms/step - loss: 0.1403 - accuracy: 0.8962\n",
            "Epoch 67/200\n",
            "58/58 [==============================] - 1s 18ms/step - loss: 0.1426 - accuracy: 0.8961\n",
            "Epoch 68/200\n",
            "58/58 [==============================] - 1s 17ms/step - loss: 0.1371 - accuracy: 0.8950\n",
            "Epoch 69/200\n",
            "58/58 [==============================] - 1s 15ms/step - loss: 0.1380 - accuracy: 0.8941\n",
            "Epoch 70/200\n",
            "58/58 [==============================] - 1s 17ms/step - loss: 0.1373 - accuracy: 0.8924\n",
            "Epoch 71/200\n",
            "58/58 [==============================] - 1s 14ms/step - loss: 0.1389 - accuracy: 0.8950\n",
            "Epoch 72/200\n",
            "58/58 [==============================] - 1s 14ms/step - loss: 0.1401 - accuracy: 0.8929\n",
            "Epoch 73/200\n",
            "58/58 [==============================] - 1s 14ms/step - loss: 0.1403 - accuracy: 0.8940\n",
            "Epoch 74/200\n",
            "58/58 [==============================] - 1s 13ms/step - loss: 0.1392 - accuracy: 0.8971\n",
            "Epoch 75/200\n",
            "58/58 [==============================] - 1s 14ms/step - loss: 0.1377 - accuracy: 0.8994\n",
            "Epoch 76/200\n",
            "58/58 [==============================] - 1s 18ms/step - loss: 0.1434 - accuracy: 0.8934\n",
            "Epoch 77/200\n",
            "58/58 [==============================] - 1s 14ms/step - loss: 0.1387 - accuracy: 0.8919\n",
            "Epoch 78/200\n",
            "58/58 [==============================] - 1s 18ms/step - loss: 0.1389 - accuracy: 0.8964\n",
            "Epoch 79/200\n",
            "58/58 [==============================] - 1s 18ms/step - loss: 0.1371 - accuracy: 0.8999\n",
            "Epoch 80/200\n",
            "58/58 [==============================] - 1s 14ms/step - loss: 0.1408 - accuracy: 0.8903\n",
            "Epoch 81/200\n",
            "58/58 [==============================] - 1s 17ms/step - loss: 0.1380 - accuracy: 0.8947\n",
            "Epoch 82/200\n",
            "58/58 [==============================] - 1s 18ms/step - loss: 0.1370 - accuracy: 0.8973\n",
            "Epoch 83/200\n",
            "58/58 [==============================] - 1s 14ms/step - loss: 0.1459 - accuracy: 0.8905\n",
            "Epoch 84/200\n",
            "58/58 [==============================] - 1s 16ms/step - loss: 0.1373 - accuracy: 0.8927\n",
            "Epoch 85/200\n",
            "58/58 [==============================] - 1s 16ms/step - loss: 0.1398 - accuracy: 0.8945\n",
            "Epoch 86/200\n",
            "58/58 [==============================] - 1s 15ms/step - loss: 0.1359 - accuracy: 0.8980\n",
            "Epoch 87/200\n",
            "58/58 [==============================] - 1s 18ms/step - loss: 0.1359 - accuracy: 0.8989\n",
            "Epoch 88/200\n",
            "58/58 [==============================] - 1s 18ms/step - loss: 0.1411 - accuracy: 0.8933\n",
            "Epoch 89/200\n",
            "58/58 [==============================] - 1s 18ms/step - loss: 0.1382 - accuracy: 0.8968\n",
            "Epoch 90/200\n",
            "58/58 [==============================] - 1s 18ms/step - loss: 0.1365 - accuracy: 0.8920\n",
            "Epoch 91/200\n",
            "58/58 [==============================] - 1s 19ms/step - loss: 0.1432 - accuracy: 0.8924\n",
            "Epoch 92/200\n",
            "58/58 [==============================] - 1s 18ms/step - loss: 0.1336 - accuracy: 0.8971\n",
            "Epoch 93/200\n",
            "58/58 [==============================] - 1s 19ms/step - loss: 0.1458 - accuracy: 0.8885\n",
            "Epoch 94/200\n",
            "58/58 [==============================] - 1s 18ms/step - loss: 0.1402 - accuracy: 0.8940\n",
            "Epoch 95/200\n",
            "58/58 [==============================] - 1s 15ms/step - loss: 0.1441 - accuracy: 0.8889\n",
            "Epoch 96/200\n",
            "58/58 [==============================] - 1s 13ms/step - loss: 0.1326 - accuracy: 0.8991\n",
            "Epoch 97/200\n",
            "58/58 [==============================] - 1s 14ms/step - loss: 0.1425 - accuracy: 0.8899\n",
            "Epoch 98/200\n",
            "58/58 [==============================] - 1s 18ms/step - loss: 0.1409 - accuracy: 0.8929\n",
            "Epoch 99/200\n",
            "58/58 [==============================] - 1s 19ms/step - loss: 0.1374 - accuracy: 0.8987\n",
            "Epoch 100/200\n",
            "58/58 [==============================] - 1s 17ms/step - loss: 0.1379 - accuracy: 0.8961\n",
            "Epoch 101/200\n",
            "58/58 [==============================] - 1s 14ms/step - loss: 0.1369 - accuracy: 0.8931\n",
            "Epoch 102/200\n",
            "58/58 [==============================] - 1s 19ms/step - loss: 0.1373 - accuracy: 0.8952\n",
            "Epoch 103/200\n",
            "58/58 [==============================] - 1s 18ms/step - loss: 0.1346 - accuracy: 0.8989\n",
            "Epoch 104/200\n",
            "58/58 [==============================] - 1s 18ms/step - loss: 0.1397 - accuracy: 0.8898\n",
            "Epoch 105/200\n",
            "58/58 [==============================] - 1s 20ms/step - loss: 0.1365 - accuracy: 0.8971\n",
            "Epoch 106/200\n",
            "58/58 [==============================] - 1s 22ms/step - loss: 0.1432 - accuracy: 0.8924\n",
            "Epoch 107/200\n",
            "58/58 [==============================] - 1s 21ms/step - loss: 0.1399 - accuracy: 0.8971\n",
            "Epoch 108/200\n",
            "58/58 [==============================] - 1s 22ms/step - loss: 0.1402 - accuracy: 0.8927\n",
            "Epoch 109/200\n",
            "58/58 [==============================] - 1s 15ms/step - loss: 0.1375 - accuracy: 0.8959\n",
            "Epoch 110/200\n",
            "58/58 [==============================] - 1s 14ms/step - loss: 0.1368 - accuracy: 0.8959\n",
            "Epoch 111/200\n",
            "58/58 [==============================] - 1s 14ms/step - loss: 0.1353 - accuracy: 0.8961\n",
            "Epoch 112/200\n",
            "58/58 [==============================] - 1s 14ms/step - loss: 0.1420 - accuracy: 0.8938\n",
            "Epoch 113/200\n",
            "58/58 [==============================] - 1s 14ms/step - loss: 0.1385 - accuracy: 0.8962\n",
            "Epoch 114/200\n",
            "58/58 [==============================] - 1s 18ms/step - loss: 0.1376 - accuracy: 0.8952\n",
            "Epoch 115/200\n",
            "58/58 [==============================] - 1s 14ms/step - loss: 0.1412 - accuracy: 0.8936\n",
            "Epoch 116/200\n",
            "58/58 [==============================] - 1s 13ms/step - loss: 0.1423 - accuracy: 0.8938\n",
            "Epoch 117/200\n",
            "58/58 [==============================] - 1s 14ms/step - loss: 0.1366 - accuracy: 0.8970\n",
            "Epoch 118/200\n",
            "58/58 [==============================] - 1s 13ms/step - loss: 0.1341 - accuracy: 0.8941\n",
            "Epoch 119/200\n",
            "58/58 [==============================] - 1s 13ms/step - loss: 0.1421 - accuracy: 0.8929\n",
            "Epoch 120/200\n",
            "58/58 [==============================] - 1s 18ms/step - loss: 0.1375 - accuracy: 0.8941\n",
            "Epoch 121/200\n",
            "58/58 [==============================] - 1s 15ms/step - loss: 0.1373 - accuracy: 0.8968\n",
            "Epoch 122/200\n",
            "58/58 [==============================] - 1s 17ms/step - loss: 0.1350 - accuracy: 0.8947\n",
            "Epoch 123/200\n",
            "58/58 [==============================] - 1s 15ms/step - loss: 0.1361 - accuracy: 0.8991\n",
            "Epoch 124/200\n",
            "58/58 [==============================] - 1s 14ms/step - loss: 0.1388 - accuracy: 0.8996\n",
            "Epoch 125/200\n",
            "58/58 [==============================] - 1s 14ms/step - loss: 0.1393 - accuracy: 0.9006\n",
            "Epoch 126/200\n",
            "58/58 [==============================] - 1s 13ms/step - loss: 0.1353 - accuracy: 0.8927\n",
            "Epoch 127/200\n",
            "58/58 [==============================] - 1s 14ms/step - loss: 0.1475 - accuracy: 0.8912\n",
            "Epoch 128/200\n",
            "58/58 [==============================] - 1s 16ms/step - loss: 0.1387 - accuracy: 0.8947\n",
            "Epoch 129/200\n",
            "58/58 [==============================] - 1s 16ms/step - loss: 0.1343 - accuracy: 0.8998\n",
            "Epoch 130/200\n",
            "58/58 [==============================] - 1s 14ms/step - loss: 0.1450 - accuracy: 0.8903\n",
            "Epoch 131/200\n",
            "58/58 [==============================] - 1s 13ms/step - loss: 0.1382 - accuracy: 0.8936\n",
            "Epoch 132/200\n",
            "58/58 [==============================] - 1s 18ms/step - loss: 0.1469 - accuracy: 0.8896\n",
            "Epoch 133/200\n",
            "58/58 [==============================] - 1s 14ms/step - loss: 0.1408 - accuracy: 0.8908\n",
            "Epoch 134/200\n",
            "58/58 [==============================] - 1s 14ms/step - loss: 0.1404 - accuracy: 0.8940\n",
            "Epoch 135/200\n",
            "58/58 [==============================] - 1s 16ms/step - loss: 0.1376 - accuracy: 0.8980\n",
            "Epoch 136/200\n",
            "58/58 [==============================] - 1s 15ms/step - loss: 0.1340 - accuracy: 0.8975\n",
            "Epoch 137/200\n",
            "58/58 [==============================] - 1s 15ms/step - loss: 0.1450 - accuracy: 0.8887\n",
            "Epoch 138/200\n",
            "58/58 [==============================] - 1s 17ms/step - loss: 0.1447 - accuracy: 0.8936\n",
            "Epoch 139/200\n",
            "58/58 [==============================] - 1s 14ms/step - loss: 0.1354 - accuracy: 0.8999\n",
            "Epoch 140/200\n",
            "58/58 [==============================] - 1s 14ms/step - loss: 0.1504 - accuracy: 0.8884\n",
            "Epoch 141/200\n",
            "58/58 [==============================] - 1s 17ms/step - loss: 0.1354 - accuracy: 0.8982\n",
            "Epoch 142/200\n",
            "58/58 [==============================] - 1s 19ms/step - loss: 0.1431 - accuracy: 0.8941\n",
            "Epoch 143/200\n",
            "58/58 [==============================] - 1s 19ms/step - loss: 0.1430 - accuracy: 0.8938\n",
            "Epoch 144/200\n",
            "58/58 [==============================] - 1s 14ms/step - loss: 0.1348 - accuracy: 0.9005\n",
            "Epoch 145/200\n",
            "58/58 [==============================] - 1s 13ms/step - loss: 0.1351 - accuracy: 0.8938\n",
            "Epoch 146/200\n",
            "58/58 [==============================] - 1s 15ms/step - loss: 0.1427 - accuracy: 0.8870\n",
            "Epoch 147/200\n",
            "58/58 [==============================] - 1s 14ms/step - loss: 0.1344 - accuracy: 0.8940\n",
            "Epoch 148/200\n",
            "58/58 [==============================] - 1s 14ms/step - loss: 0.1378 - accuracy: 0.8970\n",
            "Epoch 149/200\n",
            "58/58 [==============================] - 1s 14ms/step - loss: 0.1369 - accuracy: 0.8917\n",
            "Epoch 150/200\n",
            "58/58 [==============================] - 1s 17ms/step - loss: 0.1433 - accuracy: 0.8880\n",
            "Epoch 151/200\n",
            "58/58 [==============================] - 1s 19ms/step - loss: 0.1474 - accuracy: 0.8891\n",
            "Epoch 152/200\n",
            "58/58 [==============================] - 1s 22ms/step - loss: 0.1351 - accuracy: 0.8973\n",
            "Epoch 153/200\n",
            "58/58 [==============================] - 2s 27ms/step - loss: 0.1392 - accuracy: 0.8943\n",
            "Epoch 154/200\n",
            "58/58 [==============================] - 2s 27ms/step - loss: 0.1374 - accuracy: 0.8985\n",
            "Epoch 155/200\n",
            "58/58 [==============================] - 2s 34ms/step - loss: 0.1371 - accuracy: 0.8952\n",
            "Epoch 156/200\n",
            "58/58 [==============================] - 1s 15ms/step - loss: 0.1392 - accuracy: 0.8922\n",
            "Epoch 157/200\n",
            "58/58 [==============================] - 1s 18ms/step - loss: 0.1375 - accuracy: 0.8959\n",
            "Epoch 158/200\n",
            "58/58 [==============================] - 2s 28ms/step - loss: 0.1385 - accuracy: 0.8954\n",
            "Epoch 159/200\n",
            "58/58 [==============================] - 1s 25ms/step - loss: 2.9951 - accuracy: 0.5096\n",
            "Epoch 160/200\n",
            "58/58 [==============================] - 1s 25ms/step - loss: 1.3252 - accuracy: 0.4744\n",
            "Epoch 161/200\n",
            "58/58 [==============================] - 1s 15ms/step - loss: 0.7121 - accuracy: 0.4946\n",
            "Epoch 162/200\n",
            "58/58 [==============================] - 1s 19ms/step - loss: 0.6913 - accuracy: 0.5261\n",
            "Epoch 163/200\n",
            "58/58 [==============================] - 1s 18ms/step - loss: 0.6791 - accuracy: 0.6120\n",
            "Epoch 164/200\n",
            "58/58 [==============================] - 1s 17ms/step - loss: 0.6163 - accuracy: 0.7150\n",
            "Epoch 165/200\n",
            "58/58 [==============================] - 1s 15ms/step - loss: 0.4494 - accuracy: 0.8256\n",
            "Epoch 166/200\n",
            "58/58 [==============================] - 1s 14ms/step - loss: 0.3359 - accuracy: 0.8785\n",
            "Epoch 167/200\n",
            "58/58 [==============================] - 1s 19ms/step - loss: 0.2972 - accuracy: 0.8901\n",
            "Epoch 168/200\n",
            "58/58 [==============================] - 1s 19ms/step - loss: 0.2812 - accuracy: 0.8919\n",
            "Epoch 169/200\n",
            "58/58 [==============================] - 1s 14ms/step - loss: 0.2592 - accuracy: 0.8941\n",
            "Epoch 170/200\n",
            "58/58 [==============================] - 1s 18ms/step - loss: 0.2431 - accuracy: 0.8947\n",
            "Epoch 171/200\n",
            "58/58 [==============================] - 1s 16ms/step - loss: 0.2265 - accuracy: 0.8948\n",
            "Epoch 172/200\n",
            "58/58 [==============================] - 1s 19ms/step - loss: 0.2307 - accuracy: 0.8819\n",
            "Epoch 173/200\n",
            "58/58 [==============================] - 1s 20ms/step - loss: 0.2148 - accuracy: 0.8887\n",
            "Epoch 174/200\n",
            "58/58 [==============================] - 1s 19ms/step - loss: 0.2044 - accuracy: 0.8962\n",
            "Epoch 175/200\n",
            "58/58 [==============================] - 1s 19ms/step - loss: 0.1956 - accuracy: 0.8955\n",
            "Epoch 176/200\n",
            "58/58 [==============================] - 1s 18ms/step - loss: 0.2271 - accuracy: 0.8808\n",
            "Epoch 177/200\n",
            "58/58 [==============================] - 1s 19ms/step - loss: 0.2033 - accuracy: 0.8912\n",
            "Epoch 178/200\n",
            "58/58 [==============================] - 1s 16ms/step - loss: 0.1860 - accuracy: 0.8952\n",
            "Epoch 179/200\n",
            "58/58 [==============================] - 1s 14ms/step - loss: 0.1863 - accuracy: 0.8978\n",
            "Epoch 180/200\n",
            "58/58 [==============================] - 1s 14ms/step - loss: 0.1775 - accuracy: 0.9031\n",
            "Epoch 181/200\n",
            "58/58 [==============================] - 1s 19ms/step - loss: 0.1799 - accuracy: 0.8950\n",
            "Epoch 182/200\n",
            "58/58 [==============================] - 1s 19ms/step - loss: 0.1802 - accuracy: 0.8896\n",
            "Epoch 183/200\n",
            "58/58 [==============================] - 1s 18ms/step - loss: 0.1728 - accuracy: 0.8971\n",
            "Epoch 184/200\n",
            "58/58 [==============================] - 1s 14ms/step - loss: 0.1715 - accuracy: 0.8943\n",
            "Epoch 185/200\n",
            "58/58 [==============================] - 1s 14ms/step - loss: 0.1743 - accuracy: 0.8903\n",
            "Epoch 186/200\n",
            "58/58 [==============================] - 1s 17ms/step - loss: 0.1879 - accuracy: 0.8866\n",
            "Epoch 187/200\n",
            "58/58 [==============================] - 1s 16ms/step - loss: 0.1660 - accuracy: 0.9017\n",
            "Epoch 188/200\n",
            "58/58 [==============================] - 1s 16ms/step - loss: 0.1629 - accuracy: 0.8998\n",
            "Epoch 189/200\n",
            "58/58 [==============================] - 1s 16ms/step - loss: 0.1679 - accuracy: 0.8943\n",
            "Epoch 190/200\n",
            "58/58 [==============================] - 1s 15ms/step - loss: 0.1629 - accuracy: 0.8975\n",
            "Epoch 191/200\n",
            "58/58 [==============================] - 1s 19ms/step - loss: 0.1658 - accuracy: 0.8924\n",
            "Epoch 192/200\n",
            "58/58 [==============================] - 1s 18ms/step - loss: 0.1675 - accuracy: 0.8929\n",
            "Epoch 193/200\n",
            "58/58 [==============================] - 1s 17ms/step - loss: 0.1592 - accuracy: 0.8955\n",
            "Epoch 194/200\n",
            "58/58 [==============================] - 1s 15ms/step - loss: 0.1547 - accuracy: 0.8992\n",
            "Epoch 195/200\n",
            "58/58 [==============================] - 1s 19ms/step - loss: 0.1601 - accuracy: 0.8903\n",
            "Epoch 196/200\n",
            "58/58 [==============================] - 1s 17ms/step - loss: 0.1603 - accuracy: 0.8936\n",
            "Epoch 197/200\n",
            "58/58 [==============================] - 1s 15ms/step - loss: 0.1570 - accuracy: 0.8915\n",
            "Epoch 198/200\n",
            "58/58 [==============================] - 1s 14ms/step - loss: 0.1549 - accuracy: 0.8959\n",
            "Epoch 199/200\n",
            "58/58 [==============================] - 1s 14ms/step - loss: 0.1535 - accuracy: 0.9006\n",
            "Epoch 200/200\n",
            "58/58 [==============================] - 1s 14ms/step - loss: 0.1490 - accuracy: 0.8966\n"
          ]
        }
      ]
    },
    {
      "cell_type": "code",
      "source": [
        "import tensorflow.keras as keras\n",
        "\n",
        "model.save(\"basic_model\")\n",
        "saved_model = keras.models.load_model(\"basic_model\")"
      ],
      "metadata": {
        "id": "rCRKAKT9oRpN",
        "outputId": "22c4b347-78ee-4bdc-8b7e-452feb0f6626",
        "colab": {
          "base_uri": "https://localhost:8080/"
        }
      },
      "execution_count": 77,
      "outputs": [
        {
          "output_type": "stream",
          "name": "stderr",
          "text": [
            "WARNING:absl:Found untraced functions such as leaky_re_lu_layer_call_fn, leaky_re_lu_layer_call_and_return_conditional_losses while saving (showing 2 of 2). These functions will not be directly callable after loading.\n"
          ]
        }
      ]
    },
    {
      "cell_type": "code",
      "source": [
        "X_Validation_Bag = TF_IDF_Vectorizer.transform(X_validation[\"tweet\"])\n",
        "X_Validation_Bag_df = pd.DataFrame(X_Validation_Bag.toarray(), index = X_validation.index,columns = TF_IDF_Vectorizer.get_feature_names())"
      ],
      "metadata": {
        "id": "40thu1nco6Nu",
        "outputId": "6cd0cc22-aa50-4cea-f9e6-aba2daca73e2",
        "colab": {
          "base_uri": "https://localhost:8080/"
        }
      },
      "execution_count": 78,
      "outputs": [
        {
          "output_type": "stream",
          "name": "stderr",
          "text": [
            "/usr/local/lib/python3.8/dist-packages/sklearn/utils/deprecation.py:87: FutureWarning: Function get_feature_names is deprecated; get_feature_names is deprecated in 1.0 and will be removed in 1.2. Please use get_feature_names_out instead.\n",
            "  warnings.warn(msg, category=FutureWarning)\n"
          ]
        }
      ]
    },
    {
      "cell_type": "code",
      "source": [
        "X_Validation_Bag_df['largoDocumento'] = X_validation['largoDocumento']\n",
        "X_Validation_Bag_df['CantidadPalabras'] = X_validation['CantidadPalabras']\n",
        "X_Validation_Bag_df['cantidad de letras'] = X_validation['cantidad de letras']\n",
        "X_Validation_Bag_df['cantidad de covid']  = X_validation['cantidad de covid']\n",
        "X_Validation_Bag_df['cantidad de hashtag'] = X_validation['cantidad de hashtag']\n",
        "X_Validation_Bag_df['cantidad de emojis'] = X_validation['cantidad de emojis']"
      ],
      "metadata": {
        "id": "J91gPkLchKKR"
      },
      "execution_count": 79,
      "outputs": []
    },
    {
      "cell_type": "code",
      "source": [
        "X_Validation_Bag_df_array = np.asarray(X_Validation_Bag_df)\n",
        "Y_Validation_Predict = saved_model.predict(X_Validation_Bag_df_array)"
      ],
      "metadata": {
        "id": "0Fy5rxxbnw3U",
        "outputId": "759546f5-e405-41eb-e89f-f85064b8dc4d",
        "colab": {
          "base_uri": "https://localhost:8080/"
        }
      },
      "execution_count": 80,
      "outputs": [
        {
          "output_type": "stream",
          "name": "stdout",
          "text": [
            "90/90 [==============================] - 0s 3ms/step\n"
          ]
        }
      ]
    },
    {
      "cell_type": "code",
      "source": [
        "def transformPrediction(df, predNumber, predLabel):\n",
        "  copy = df.copy()\n",
        "  for i in range(len(copy)):\n",
        "    if copy[i][0] > 0.5:\n",
        "      predNumber.append([1])\n",
        "      predLabel.append([\"real\"])\n",
        "    else:\n",
        "      predNumber.append([0])\n",
        "      predLabel.append([\"fake\"])\n"
      ],
      "metadata": {
        "id": "EWu5_-xv-smt"
      },
      "execution_count": 81,
      "outputs": []
    },
    {
      "cell_type": "code",
      "source": [
        "predValidationNumbers = []\n",
        "predValidationLabels = []\n",
        "transformPrediction(Y_Validation_Predict, predValidationNumbers, predValidationLabels)"
      ],
      "metadata": {
        "id": "i1hDHEULlcDX"
      },
      "execution_count": 82,
      "outputs": []
    },
    {
      "cell_type": "code",
      "source": [
        "validationNumbers = []\n",
        "validationLabels = []\n",
        "copy = np.asarray(Y_validation).copy()\n",
        "for i in range(len(copy)):\n",
        "  if copy[i] > 0.5:\n",
        "    validationNumbers.append([1])\n",
        "    validationLabels.append([\"real\"])\n",
        "  else:\n",
        "    validationNumbers.append([0])\n",
        "    validationLabels.append([\"fake\"])"
      ],
      "metadata": {
        "id": "ODiTBndqlzWX"
      },
      "execution_count": 83,
      "outputs": []
    },
    {
      "cell_type": "code",
      "source": [
        "np.asarray(Y_validation)"
      ],
      "metadata": {
        "id": "hnmR9lfkk3J1",
        "outputId": "21b6b863-60ca-4446-d3f1-bea4f072215a",
        "colab": {
          "base_uri": "https://localhost:8080/"
        }
      },
      "execution_count": 84,
      "outputs": [
        {
          "output_type": "execute_result",
          "data": {
            "text/plain": [
              "array([1, 1, 1, ..., 0, 1, 0])"
            ]
          },
          "metadata": {},
          "execution_count": 84
        }
      ]
    },
    {
      "cell_type": "markdown",
      "source": [
        "#Accuracy\n"
      ],
      "metadata": {
        "id": "IBWFGDNdNjsG"
      }
    },
    {
      "cell_type": "code",
      "source": [
        "from sklearn.metrics import accuracy_score\n",
        "print(accuracy_score(predValidationLabels,validationLabels))"
      ],
      "metadata": {
        "id": "AhJZ1LxVaC0D",
        "outputId": "0b00f5c0-e5a4-459b-d254-14a846248eaa",
        "colab": {
          "base_uri": "https://localhost:8080/"
        }
      },
      "execution_count": 86,
      "outputs": [
        {
          "output_type": "stream",
          "name": "stdout",
          "text": [
            "0.9467414155571128\n"
          ]
        }
      ]
    },
    {
      "cell_type": "code",
      "source": [
        "0.9463910301331465"
      ],
      "metadata": {
        "id": "bg92amDzN0nI",
        "outputId": "ea9ed99d-809f-4694-e52c-f3d79974fd65",
        "colab": {
          "base_uri": "https://localhost:8080/"
        }
      },
      "execution_count": null,
      "outputs": [
        {
          "output_type": "execute_result",
          "data": {
            "text/plain": [
              "0.9463910301331465"
            ]
          },
          "metadata": {},
          "execution_count": 551
        }
      ]
    },
    {
      "cell_type": "code",
      "source": [
        "0.9491941135248774"
      ],
      "metadata": {
        "colab": {
          "base_uri": "https://localhost:8080/"
        },
        "id": "FzxbtfNRBtJ6",
        "outputId": "659ff323-b7d1-4147-f4d4-4e6a44331b6c"
      },
      "execution_count": null,
      "outputs": [
        {
          "output_type": "execute_result",
          "data": {
            "text/plain": [
              "0.9491941135248774"
            ]
          },
          "metadata": {},
          "execution_count": 3
        }
      ]
    },
    {
      "cell_type": "markdown",
      "source": [
        "# K fold"
      ],
      "metadata": {
        "id": "lsp7hcI0Xlx7"
      }
    },
    {
      "cell_type": "code",
      "source": [
        "from sklearn.metrics import accuracy_score"
      ],
      "metadata": {
        "id": "WBbrhQ1qayX_"
      },
      "execution_count": null,
      "outputs": []
    },
    {
      "cell_type": "code",
      "source": [
        "import math\n",
        "k = 5\n",
        "\n",
        "def k_folds(X, y, k):\n",
        "  assert(len(X) == len(y))\n",
        "  folds_X = []\n",
        "  folds_y = []\n",
        "  initial_pos = 0\n",
        "\n",
        "  for i in range(k):\n",
        "    to_pos = min(math.ceil(len(X)/k)*(i+1), len(X))\n",
        "    \n",
        "    x_fold = X[initial_pos:to_pos]\n",
        "    y_fold = y[initial_pos:to_pos]\n",
        "\n",
        "    folds_X.append(x_fold)\n",
        "    folds_y.append(y_fold)\n",
        "    initial_pos = to_pos\n",
        "\n",
        "  return folds_X, folds_y"
      ],
      "metadata": {
        "id": "Mf9ISG6OXlV_"
      },
      "execution_count": null,
      "outputs": []
    },
    {
      "cell_type": "code",
      "source": [
        "def evaluate(model, X_to_eval, Y_to_eval):\n",
        "    Y_Prediction = model.predict(np.asarray(X_to_eval))\n",
        "    numbers = []\n",
        "    prediction_labels = []\n",
        "    transformPrediction(Y_Prediction, numbers, prediction_labels)\n",
        "\n",
        "    validationLabels = []\n",
        "    copy = np.asarray(Y_to_eval).copy()\n",
        "    for i in range(len(copy)):\n",
        "      if copy[i] > 0.5:\n",
        "        validationLabels.append([\"real\"])\n",
        "      else:\n",
        "        validationLabels.append([\"fake\"])\n",
        "\n",
        "    return accuracy_score(validationLabels, prediction_labels)"
      ],
      "metadata": {
        "id": "DAADQdFEYKtZ"
      },
      "execution_count": null,
      "outputs": []
    },
    {
      "cell_type": "code",
      "source": [
        "def k_fold_cross_val(folds_X, folds_y, model):\n",
        "  assert(len(folds_X) == len(folds_y))\n",
        "  X_to_train = []\n",
        "  y_to_train = []\n",
        "  X_to_eval = 0\n",
        "  y_to_eval = 0\n",
        "  scores = []\n",
        "  for i in range(len(folds_X)):\n",
        "    X_to_train = []\n",
        "    y_to_train = []\n",
        "    for j in range(len(folds_X)):\n",
        "      if  i == j:\n",
        "        X_to_eval = folds_X[i]\n",
        "        y_to_eval = folds_y[i]\n",
        "      else:\n",
        "        X_to_train.append(folds_X[j])\n",
        "        y_to_train.append(folds_y[j])\n",
        "    \n",
        "    X_train = np.concatenate(X_to_train)\n",
        "    y_train = np.concatenate(y_to_train)\n",
        "    model.fit(X_train,y_train, epochs=200, batch_size=100, validation_split=0.2)\n",
        "    score = evaluate(model, X_to_eval, y_to_eval)\n",
        "    scores.append(score)\n",
        "  return np.mean(np.array(scores)), scores"
      ],
      "metadata": {
        "id": "iWHnyEvRY_5_"
      },
      "execution_count": null,
      "outputs": []
    },
    {
      "cell_type": "code",
      "source": [
        "folds_X, folds_y = k_folds(np.asarray(bag_of_words), np.asarray(Y_train), 5)\n"
      ],
      "metadata": {
        "id": "iYJyO491ZBgK"
      },
      "execution_count": null,
      "outputs": []
    },
    {
      "cell_type": "code",
      "source": [
        "k_fold_result_mean, k_fold_result_arr = k_fold_cross_val(folds_X, folds_y, model)"
      ],
      "metadata": {
        "id": "1lH1Uz4HbMln"
      },
      "execution_count": null,
      "outputs": []
    },
    {
      "cell_type": "code",
      "source": [
        "k_fold_result_mean"
      ],
      "metadata": {
        "id": "BHDI7I_deLIG",
        "outputId": "308a4edd-8e2e-46d3-d5c9-b1ffe387118b",
        "colab": {
          "base_uri": "https://localhost:8080/"
        }
      },
      "execution_count": null,
      "outputs": [
        {
          "output_type": "execute_result",
          "data": {
            "text/plain": [
              "0.9869947275922671"
            ]
          },
          "metadata": {},
          "execution_count": 38
        }
      ]
    },
    {
      "cell_type": "code",
      "source": [
        "k_fold_result_arr"
      ],
      "metadata": {
        "id": "FOadql0keOYu",
        "outputId": "52fb5c2c-b7c9-45db-fb2b-3ba14be568e1",
        "colab": {
          "base_uri": "https://localhost:8080/"
        }
      },
      "execution_count": null,
      "outputs": [
        {
          "output_type": "execute_result",
          "data": {
            "text/plain": [
              "[1.0, 1.0, 1.0, 1.0, 0.9349736379613357]"
            ]
          },
          "metadata": {},
          "execution_count": 39
        }
      ]
    },
    {
      "cell_type": "markdown",
      "source": [
        "# Test"
      ],
      "metadata": {
        "id": "dQyZTFSjXjir"
      }
    },
    {
      "cell_type": "code",
      "source": [
        "test['id'].astype('str')\n",
        "test['tweet'].astype('str')\n",
        "\n",
        "test_bag = TF_IDF_Vectorizer.transform(test[\"tweet\"])\n",
        "test_bag = pd.DataFrame(test_bag.toarray(), index = test.index, columns = TF_IDF_Vectorizer.get_feature_names())\n",
        "\n",
        "test['largoDocumento'] = test.tweet.str.len()\n",
        "test['CantidadPalabras'] = test.apply(lambda row : len(row['tweet'].split()), axis=1)\n",
        "test['cantidad de letras'] = test.apply(lambda row : contarLetras(row), axis=1)\n",
        "test['cantidad de covid'] = test.apply(lambda row : contarLetras(row), axis=1)\n",
        "test['cantidad de hashtag'] = test.apply(lambda row : contarHashtags(row), axis=1)\n",
        "test['cantidad de emojis'] = test.apply(lambda row : contarEmojis(row), axis=1)\n",
        "\n",
        "test_bag['largoDocumento'] = test['largoDocumento']\n",
        "test_bag['CantidadPalabras'] = test['CantidadPalabras']\n",
        "test_bag['cantidad de letras'] = test['cantidad de letras']\n",
        "test_bag['cantidad de covid']  = test['cantidad de covid']\n",
        "test_bag['cantidad de hashtag'] = test['cantidad de hashtag']\n",
        "test_bag['cantidad de emojis'] = test['cantidad de emojis']\n",
        "\n",
        "test_bag_array = np.asarray(test_bag)\n",
        "test_prediction = saved_model.predict(test_bag_array)\n",
        "\n",
        "copy = test_prediction.copy()\n",
        "predNumber = [];\n",
        "predLabel = [];\n",
        "for i in range(len(copy)):\n",
        "  if copy[i][0] > 0.5:\n",
        "    predNumber.append([1])\n",
        "    predLabel.append([\"real\"])\n",
        "  else:\n",
        "    predNumber.append([0])\n",
        "    predLabel.append([\"fake\"])\n",
        "\n",
        "prediction = pd.DataFrame(predLabel, columns=['label'])\n",
        "prediction.index += 1\n",
        "prediction = prediction.to_csv('prediction.csv')"
      ],
      "metadata": {
        "id": "hZMa_5ZcWMWo",
        "colab": {
          "base_uri": "https://localhost:8080/"
        },
        "outputId": "b3a89792-8c6d-4391-b6ca-f28e4970603f"
      },
      "execution_count": null,
      "outputs": [
        {
          "output_type": "stream",
          "name": "stderr",
          "text": [
            "/usr/local/lib/python3.8/dist-packages/sklearn/utils/deprecation.py:87: FutureWarning: Function get_feature_names is deprecated; get_feature_names is deprecated in 1.0 and will be removed in 1.2. Please use get_feature_names_out instead.\n",
            "  warnings.warn(msg, category=FutureWarning)\n"
          ]
        },
        {
          "output_type": "stream",
          "name": "stdout",
          "text": [
            "67/67 [==============================] - 0s 3ms/step\n"
          ]
        }
      ]
    },
    {
      "cell_type": "code",
      "source": [
        "from google.colab import files\n",
        "\n",
        "files.download('prediction.csv')"
      ],
      "metadata": {
        "id": "odAqKelbXH36",
        "outputId": "de33198e-8c51-4f3f-9d24-14514d7db026",
        "colab": {
          "base_uri": "https://localhost:8080/",
          "height": 17
        }
      },
      "execution_count": null,
      "outputs": [
        {
          "output_type": "display_data",
          "data": {
            "text/plain": [
              "<IPython.core.display.Javascript object>"
            ],
            "application/javascript": [
              "\n",
              "    async function download(id, filename, size) {\n",
              "      if (!google.colab.kernel.accessAllowed) {\n",
              "        return;\n",
              "      }\n",
              "      const div = document.createElement('div');\n",
              "      const label = document.createElement('label');\n",
              "      label.textContent = `Downloading \"${filename}\": `;\n",
              "      div.appendChild(label);\n",
              "      const progress = document.createElement('progress');\n",
              "      progress.max = size;\n",
              "      div.appendChild(progress);\n",
              "      document.body.appendChild(div);\n",
              "\n",
              "      const buffers = [];\n",
              "      let downloaded = 0;\n",
              "\n",
              "      const channel = await google.colab.kernel.comms.open(id);\n",
              "      // Send a message to notify the kernel that we're ready.\n",
              "      channel.send({})\n",
              "\n",
              "      for await (const message of channel.messages) {\n",
              "        // Send a message to notify the kernel that we're ready.\n",
              "        channel.send({})\n",
              "        if (message.buffers) {\n",
              "          for (const buffer of message.buffers) {\n",
              "            buffers.push(buffer);\n",
              "            downloaded += buffer.byteLength;\n",
              "            progress.value = downloaded;\n",
              "          }\n",
              "        }\n",
              "      }\n",
              "      const blob = new Blob(buffers, {type: 'application/binary'});\n",
              "      const a = document.createElement('a');\n",
              "      a.href = window.URL.createObjectURL(blob);\n",
              "      a.download = filename;\n",
              "      div.appendChild(a);\n",
              "      a.click();\n",
              "      div.remove();\n",
              "    }\n",
              "  "
            ]
          },
          "metadata": {}
        },
        {
          "output_type": "display_data",
          "data": {
            "text/plain": [
              "<IPython.core.display.Javascript object>"
            ],
            "application/javascript": [
              "download(\"download_20372093-216e-4cfc-a4f0-702304fe1ac5\", \"prediction.csv\", 20300)"
            ]
          },
          "metadata": {}
        }
      ]
    }
  ],
  "metadata": {
    "colab": {
      "provenance": []
    },
    "kernelspec": {
      "display_name": "Python 3",
      "name": "python3"
    },
    "language_info": {
      "name": "python"
    }
  },
  "nbformat": 4,
  "nbformat_minor": 0
}